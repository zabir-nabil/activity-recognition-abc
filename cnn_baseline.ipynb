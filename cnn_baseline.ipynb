{
 "cells": [
  {
   "cell_type": "code",
   "execution_count": 1,
   "metadata": {},
   "outputs": [
    {
     "name": "stdout",
     "output_type": "stream",
     "text": [
      "C:\\Projects\\activity-recognition-abc\n",
      "C:\\Projects\\activity-recognition-abc\\train\\train\n"
     ]
    }
   ],
   "source": [
    "import pandas as pd\n",
    "import glob\n",
    "import numpy as np\n",
    "%matplotlib inline\n",
    "\n",
    "import os\n",
    "cdir = os.getcwd()\n",
    "print(cdir)\n",
    "os.chdir(cdir + '/train/train')\n",
    "print(os.getcwd())"
   ]
  },
  {
   "cell_type": "code",
   "execution_count": 2,
   "metadata": {},
   "outputs": [],
   "source": [
    "# Multi-head CNN–RNN for multi-time series anomaly detection: An industrial case study"
   ]
  },
  {
   "cell_type": "code",
   "execution_count": 3,
   "metadata": {},
   "outputs": [],
   "source": [
    "lenX = []"
   ]
  },
  {
   "cell_type": "code",
   "execution_count": 4,
   "metadata": {},
   "outputs": [],
   "source": [
    "def process(sensordata, timestamps):\n",
    "    # process\n",
    "    lenX.append(len(sensordata))\n",
    "    return sensordata\n",
    "    \n",
    "    if len(sensordata) == 0:\n",
    "        return sensordata\n",
    "    \n",
    "    a = np.array(sensordata)\n",
    "    \n",
    "    a = (a - np.min(a))/(np.max(a) - np.min(a))\n",
    "    \n",
    "    return list(a) # sensordata"
   ]
  },
  {
   "cell_type": "code",
   "execution_count": 5,
   "metadata": {},
   "outputs": [
    {
     "name": "stderr",
     "output_type": "stream",
     "text": [
      "TensorFlow version 2.0.0 has been patched using tfdeterminism version 0.3.0\n"
     ]
    },
    {
     "name": "stdout",
     "output_type": "stream",
     "text": [
      "1 Physical GPUs, 1 Logical GPUs\n"
     ]
    }
   ],
   "source": [
    "import tensorflow as tf\n",
    "\n",
    "from tfdeterminism import patch\n",
    "patch()\n",
    "gpu_devices = tf.config.experimental.list_physical_devices('GPU')\n",
    "for device in gpu_devices:\n",
    "    tf.config.experimental.set_memory_growth(device, True)\n",
    "import random\n",
    "import numpy as np\n",
    "os.environ['PYTHONHASHSEED']=str(1997)\n",
    "\n",
    "random.seed(1997)\n",
    "np.random.seed(1997)\n",
    "tf.random.set_seed(1997)\n",
    "\n",
    "gpus = tf.config.experimental.list_physical_devices('GPU')\n",
    "if gpus:\n",
    "    try:\n",
    "        # Restrict TensorFlow to only use the fourth GPU\n",
    "        tf.config.experimental.set_visible_devices(gpus[0], 'GPU')\n",
    "\n",
    "        # Currently, memory growth needs to be the same across GPUs\n",
    "        for gpu in gpus:\n",
    "            tf.config.experimental.set_memory_growth(gpu, True)\n",
    "        logical_gpus = tf.config.experimental.list_logical_devices('GPU')\n",
    "        print(len(gpus), \"Physical GPUs,\", len(logical_gpus), \"Logical GPUs\")\n",
    "    except RuntimeError as e:\n",
    "        # Memory growth must be set before GPUs have been initialized\n",
    "        print(e)"
   ]
  },
  {
   "cell_type": "code",
   "execution_count": 6,
   "metadata": {},
   "outputs": [
    {
     "data": {
      "text/plain": [
       "True"
      ]
     },
     "execution_count": 6,
     "metadata": {},
     "output_type": "execute_result"
    }
   ],
   "source": [
    "tf.test.is_gpu_available()"
   ]
  },
  {
   "cell_type": "code",
   "execution_count": 7,
   "metadata": {},
   "outputs": [
    {
     "data": {
      "text/plain": [
       "[array([1, 1, 1]), array([54, 53]), array([24, 25])]"
      ]
     },
     "execution_count": 7,
     "metadata": {},
     "output_type": "execute_result"
    }
   ],
   "source": [
    "def diff(x, y):\n",
    "    return np.abs(x-y) > 2\n",
    "\n",
    "ary = np.array([1,1,1,54,53,24,25])\n",
    "np.split(ary, np.argwhere(diff(ary[1:], ary[:-1])).T[0] + 1)"
   ]
  },
  {
   "cell_type": "code",
   "execution_count": 8,
   "metadata": {},
   "outputs": [
    {
     "name": "stdout",
     "output_type": "stream",
     "text": [
      "['right_arm/*.csv', 'right_wrist/*.csv', 'left_hip/*.csv', 'left_wrist/*.csv']\n",
      "                                           0\n",
      "0           subject2_file_457,sandwich,Take,\n",
      "1      subject2_file_679,sandwich,Wash,Take,\n",
      "2        subject2_file_95,sandwich,Cut,Wash,\n",
      "3  subject2_file_899,sandwich,other,Cut,Put,\n",
      "4            subject2_file_368,sandwich,Put,\n",
      "                             file_id     macro           micro\n",
      "file_id                                                       \n",
      "subject2_file_457  subject2_file_457  sandwich           Take,\n",
      "subject2_file_679  subject2_file_679  sandwich      Wash,Take,\n",
      "subject2_file_95    subject2_file_95  sandwich       Cut,Wash,\n",
      "subject2_file_899  subject2_file_899  sandwich  other,Cut,Put,\n",
      "subject2_file_368  subject2_file_368  sandwich            Put,\n"
     ]
    }
   ],
   "source": [
    "# there are 3 subjects\n",
    "subject1 = {}\n",
    "subject2 = {}\n",
    "subject3 = {}\n",
    "\n",
    "# we will load every single right arm data, separate based on subject id, do feature extraction, run t-SNE\n",
    "\n",
    "all_sensors = ['right_arm', 'right_wrist', 'left_hip', 'left_wrist'] #, 'mocap']\n",
    "\n",
    "data_folder = [f'{sensor}/*.csv' for sensor in all_sensors]\n",
    "\n",
    "print(data_folder)\n",
    "\n",
    "files = glob.glob(data_folder[0])\n",
    "\n",
    "# processing will be done as numpy array\n",
    "\n",
    "subject1['data'] = []\n",
    "subject2['data'] = []\n",
    "subject3['data'] = []\n",
    " \n",
    "# data format : data -> id, process(timeseries, timestamps) : right_arm as numpy array (missing data will be imputed)\n",
    "\n",
    "\n",
    "# id is generated by concatenating INT(subject+trial)\n",
    "\n",
    "for f in files:\n",
    "    #print(f)\n",
    "    c_sub = {} # current subject\n",
    "    if f.split(os.sep)[1].split('_')[0] == 'subject1':\n",
    "        \n",
    "        c_sub['id'] = int(f.split(os.sep)[1].split('_')[0][-1] + f.split(os.sep)[1].split('_')[2].split('.')[0])\n",
    "        #print(ra['id'])\n",
    "        \n",
    "        for sensor in all_sensors:\n",
    "            #print(sensor)\n",
    "            ra = pd.read_csv(sensor + os.sep + f.split(os.sep)[1])\n",
    "            #print(ra)\n",
    "            ra.sort_values(by=['timestamp'], inplace = True)\n",
    "            c_sub[sensor] = {}\n",
    "            if sensor == 'mocap':\n",
    "                for axis in mocap_axis:\n",
    "                    c_sub[sensor][axis] = process(ra[axis], ra['timestamp'])\n",
    "            else:\n",
    "                for axis in ['X', 'Y', 'Z']:\n",
    "                    c_sub[sensor][axis] = process(ra[axis], ra['timestamp'])\n",
    "                \n",
    "        subject1['data'].append(c_sub)\n",
    "\n",
    "            \n",
    "    elif f.split(os.sep)[1].split('_')[0] == 'subject2':\n",
    "        \n",
    "        c_sub['id'] = int(f.split(os.sep)[1].split('_')[0][-1] + f.split(os.sep)[1].split('_')[2].split('.')[0])\n",
    "        #print(ra['id'])\n",
    "        \n",
    "        for sensor in all_sensors:\n",
    "            ra = pd.read_csv(sensor + os.sep + f.split(os.sep)[1])\n",
    "            #print(ra)\n",
    "            ra.sort_values(by=['timestamp'], inplace = True)\n",
    "            c_sub[sensor] = {}\n",
    "            if sensor == 'mocap':\n",
    "                for axis in mocap_axis:\n",
    "                    c_sub[sensor][axis] = process(ra[axis], ra['timestamp'])\n",
    "            else:\n",
    "                for axis in ['X', 'Y', 'Z']:\n",
    "                    c_sub[sensor][axis] = process(ra[axis], ra['timestamp'])\n",
    "                \n",
    "        subject2['data'].append(c_sub)\n",
    "            \n",
    "    elif f.split(os.sep)[1].split('_')[0] == 'subject3':\n",
    "        \n",
    "        c_sub['id'] = int(f.split(os.sep)[1].split('_')[0][-1] + f.split(os.sep)[1].split('_')[2].split('.')[0])\n",
    "        #print(ra['id'])\n",
    "        \n",
    "        for sensor in all_sensors:\n",
    "            ra = pd.read_csv(sensor + os.sep + f.split(os.sep)[1])\n",
    "            #print(ra)\n",
    "            ra.sort_values(by=['timestamp'], inplace = True)\n",
    "            c_sub[sensor] = {}\n",
    "            if sensor == 'mocap':\n",
    "                for axis in mocap_axis:\n",
    "                    try:\n",
    "                        c_sub[sensor][axis] = process(ra[axis], ra['timestamp'])\n",
    "                    except:\n",
    "                        c_sub[sensor][axis] = [0]\n",
    "            else:\n",
    "                for axis in ['X', 'Y', 'Z']:\n",
    "                    c_sub[sensor][axis] = process(ra[axis], ra['timestamp'])\n",
    "        \n",
    "        subject3['data'].append(c_sub)\n",
    "    else:\n",
    "        print('either new subject or a bug')\n",
    "        \n",
    "        \n",
    "labels = pd.read_csv(\"labels.txt\", sep=' ', header=None)\n",
    "print(labels.head())\n",
    "labels = labels[0].str.split(\",\", n=2, expand=True)\n",
    "labels.columns = ['file_id', 'macro', 'micro'] #give names to the columns\n",
    "labels.index = labels['file_id'] #use the file id as index to make it searchable by file_id\n",
    "print(labels.head())\n",
    "\n",
    "# label generation\n",
    "subject1['label_mac'] = {}\n",
    "subject2['label_mac'] = {}\n",
    "subject3['label_mac'] = {}\n",
    "\n",
    "subject1['label_mic'] = {}\n",
    "subject2['label_mic'] = {}\n",
    "subject3['label_mic'] = {}\n",
    "\n",
    "for i in range(len(labels)):\n",
    "    #print(labels.iloc[i]['file_id'])\n",
    "    #print(labels.iloc[i]['file_id'].split('_')[0][-1])\n",
    "    tid = int(labels.iloc[i]['file_id'].split('_')[0][-1] + labels.iloc[i]['file_id'].split('_')[-1])\n",
    "    #print(tid)\n",
    "    label = labels.iloc[i]['macro']\n",
    "    label_mic = labels.iloc[i]['micro'].split(',')[:-1]\n",
    "    #print(label)\n",
    "    if labels.iloc[i]['file_id'].split('_')[0][-1] == '1':\n",
    "        subject1['label_mac'][tid] = label\n",
    "        subject1['label_mic'][tid] = label_mic\n",
    "    elif labels.iloc[i]['file_id'].split('_')[0][-1] == '2':\n",
    "        subject2['label_mac'][tid] = label\n",
    "        subject2['label_mic'][tid] = label_mic\n",
    "    elif labels.iloc[i]['file_id'].split('_')[0][-1] == '3':\n",
    "        subject3['label_mac'][tid] = label\n",
    "        subject3['label_mic'][tid] = label_mic\n",
    "    else:\n",
    "        print('some bug')\n",
    "        \n",
    "        \n",
    "# re-formatting dataset for training\n",
    "\n",
    "X = []\n",
    "y = []\n",
    "y_ml = []  # multi-label\n",
    "\n",
    "for i in range(len(subject1['data'])):\n",
    "    tid = subject1['data'][i]['id']\n",
    "    y.append(subject1['label_mac'][tid])\n",
    "    y_ml.append(subject1['label_mic'][tid])\n",
    "    # X shape -> [ip1, ip2, ip3, ip4] ip1 = (80, len, channel) -> 4, 80, len\n",
    "\n",
    "for sensor in all_sensors:\n",
    "    cs_data = []\n",
    "    for i in range(len(subject1['data'])):\n",
    "        sub_data = []\n",
    "        if sensor == 'mocap':\n",
    "            for sig in mocap_axis:\n",
    "                sub_data.append(np.array(subject1['data'][i][sensor][sig]))\n",
    "        else:\n",
    "            for sig in ['X', 'Y', 'Z']:\n",
    "                sub_data.append(np.array(subject1['data'][i][sensor][sig]))\n",
    "        sub_data = np.array(sub_data)\n",
    "        # print(sub_data.shape)\n",
    "        sub_data = np.swapaxes(sub_data, 0, 1)\n",
    "        cs_data.append(sub_data)\n",
    "    X.append(cs_data)\n",
    "    \n",
    "    \n",
    "from tensorflow.keras.utils import to_categorical\n",
    "from sklearn.preprocessing import LabelEncoder\n",
    "import numpy as np\n",
    "\n",
    "label_encoder = LabelEncoder()\n",
    "vec = label_encoder.fit_transform(y)\n",
    "\n",
    "y_ohe = to_categorical(vec,len(set(vec)))\n",
    "\n",
    "from sklearn.preprocessing import MultiLabelBinarizer\n",
    "\n",
    "mlb = MultiLabelBinarizer()\n",
    "y_ml_ohe = mlb.fit_transform(y_ml)\n",
    "\n",
    "# validatin on subject2, 3\n",
    "\n",
    "# re-formatting dataset for training\n",
    "\n",
    "X2 = []\n",
    "y2 = []\n",
    "y_ml2 = []\n",
    "\n",
    "for i in range(len(subject2['data'])):\n",
    "    tid = subject2['data'][i]['id']\n",
    "    y2.append(subject2['label_mac'][tid])\n",
    "    y_ml2.append(subject2['label_mic'][tid])\n",
    "    # X shape -> [ip1, ip2, ip3, ip4] ip1 = (80, len, channel) -> 4, 80, len\n",
    "\n",
    "for sensor in all_sensors:\n",
    "    cs_data = []\n",
    "    for i in range(len(subject2['data'])):\n",
    "        sub_data = []\n",
    "        if sensor == 'mocap':\n",
    "            for sig in mocap_axis:\n",
    "                sub_data.append(np.array(subject2['data'][i][sensor][sig]))\n",
    "        else:\n",
    "            for sig in ['X', 'Y', 'Z']:\n",
    "                sub_data.append(np.array(subject2['data'][i][sensor][sig]))\n",
    "        sub_data = np.array(sub_data)\n",
    "        # print(sub_data.shape)\n",
    "        sub_data = np.swapaxes(sub_data, 0, 1)\n",
    "        cs_data.append(sub_data)\n",
    "    X2.append(cs_data)\n",
    "    \n",
    "label_encoder = LabelEncoder()\n",
    "vec = label_encoder.fit_transform(y2)\n",
    "\n",
    "y2_ohe = to_categorical(vec,len(set(vec)))\n",
    "\n",
    "mlb = MultiLabelBinarizer()\n",
    "y_ml2_ohe = mlb.fit_transform(y_ml2)\n",
    "\n",
    "# validatin on subject2, 3\n",
    "\n",
    "# re-formatting dataset for training\n",
    "\n",
    "X3 = []\n",
    "y3 = []\n",
    "y_ml3 = []\n",
    "\n",
    "for i in range(len(subject3['data'])):\n",
    "    tid = subject3['data'][i]['id']\n",
    "    y3.append(subject3['label_mac'][tid])\n",
    "    y_ml3.append(subject3['label_mic'][tid])\n",
    "    # X shape -> [ip1, ip2, ip3, ip4] ip1 = (80, len, channel) -> 4, 80, len\n",
    "\n",
    "for sensor in all_sensors:\n",
    "    cs_data = []\n",
    "    for i in range(len(subject3['data'])):\n",
    "        sub_data = []\n",
    "        if sensor == 'mocap':\n",
    "            for sig in mocap_axis:\n",
    "                sub_data.append(np.array(subject3['data'][i][sensor][sig]))\n",
    "        else:\n",
    "            for sig in ['X', 'Y', 'Z']:\n",
    "                sub_data.append(np.array(subject3['data'][i][sensor][sig]))\n",
    "        sub_data = np.array(sub_data)\n",
    "        # print(sub_data.shape)\n",
    "        sub_data = np.swapaxes(sub_data, 0, 1)\n",
    "        cs_data.append(sub_data)\n",
    "    X3.append(cs_data)\n",
    "    \n",
    "\n",
    "label_encoder = LabelEncoder()\n",
    "vec = label_encoder.fit_transform(y3)\n",
    "\n",
    "y3_ohe = to_categorical(vec,len(set(vec)))\n",
    "\n",
    "mlb = MultiLabelBinarizer()\n",
    "y_ml3_ohe = mlb.fit_transform(y_ml3)"
   ]
  },
  {
   "cell_type": "code",
   "execution_count": 124,
   "metadata": {},
   "outputs": [
    {
     "data": {
      "image/png": "[encoded data removed]",
      "text/plain": [
       "<Figure size 432x288 with 1 Axes>"
      ]
     },
     "metadata": {
      "needs_background": "light"
     },
     "output_type": "display_data"
    }
   ],
   "source": [
    "import matplotlib.pyplot as plt\n",
    "plt.hist(lenX, bins = 200, color = \"skyblue\", ec=\"gray\")\n",
    "plt.xlabel('timeseries length')\n",
    "plt.ylabel('frequency')\n",
    "plt.savefig('length_var.png', dpi = 300)"
   ]
  },
  {
   "cell_type": "code",
   "execution_count": 9,
   "metadata": {
    "scrolled": true
   },
   "outputs": [
    {
     "data": {
      "text/plain": [
       "array(['cereal', 'fruitsalad', 'sandwich'], dtype='<U10')"
      ]
     },
     "execution_count": 9,
     "metadata": {},
     "output_type": "execute_result"
    }
   ],
   "source": [
    "label_encoder.classes_"
   ]
  },
  {
   "cell_type": "code",
   "execution_count": 10,
   "metadata": {},
   "outputs": [
    {
     "data": {
      "text/plain": [
       "array(['Add', 'Cut', 'Mix', 'Open', 'Peel', 'Pour', 'Put', 'Take', 'Wash',\n",
       "       'other'], dtype=object)"
      ]
     },
     "execution_count": 10,
     "metadata": {},
     "output_type": "execute_result"
    }
   ],
   "source": [
    "mlb.classes_"
   ]
  },
  {
   "cell_type": "code",
   "execution_count": 9,
   "metadata": {},
   "outputs": [
    {
     "data": {
      "text/plain": [
       "4"
      ]
     },
     "execution_count": 9,
     "metadata": {},
     "output_type": "execute_result"
    }
   ],
   "source": [
    "len(X2)"
   ]
  },
  {
   "cell_type": "code",
   "execution_count": 10,
   "metadata": {},
   "outputs": [],
   "source": [
    "# 4, 80, len, 3"
   ]
  },
  {
   "cell_type": "code",
   "execution_count": 11,
   "metadata": {},
   "outputs": [],
   "source": [
    "import tensorflow as tf\n",
    "from tensorflow.keras.layers import Add, Activation, Conv1D, Dense, LSTM, Bidirectional, Input, GlobalMaxPooling1D, Concatenate, BatchNormalization\n",
    "from tensorflow.keras.optimizers import Adam\n",
    "from tensorflow.keras.models import Model"
   ]
  },
  {
   "cell_type": "code",
   "execution_count": 12,
   "metadata": {},
   "outputs": [],
   "source": [
    "from tensorflow.keras.layers import LeakyReLU"
   ]
  },
  {
   "cell_type": "code",
   "execution_count": 12,
   "metadata": {},
   "outputs": [],
   "source": [
    "# CNN-head\n",
    "import tensorflow.keras as keras\n",
    "def create_model():\n",
    "\n",
    "    n_sensors = 4\n",
    "    n_filters = [3, 3, 3, 3] # X, Y, Z\n",
    "\n",
    "\n",
    "    # make the input layers\n",
    "    ips = []\n",
    "\n",
    "    n_f = 0\n",
    "    for sensor in all_sensors:\n",
    "        ips.append(Input(shape = (None, n_filters[n_f]), name = sensor + '_ipX'))\n",
    "        n_f += 1\n",
    "\n",
    "    print(f'Input tensors: {ips}')\n",
    "    \n",
    "    # kernel size = 1 == embedding layer\n",
    "\n",
    "    convs = []\n",
    "    for ip in ips:\n",
    "        conv = Conv1D(filters = 32, kernel_size = 1, padding = 'same', activation = None, name = ip.name.split(':')[0] + '_conv')(ip)\n",
    "        convs.append(conv)\n",
    "        \n",
    "    # batch-normalization\n",
    "    bns = []\n",
    "    for conv in convs:\n",
    "        bn = BatchNormalization()(conv)\n",
    "        bns.append(bn)\n",
    "\n",
    "    convs2 = []\n",
    "    for bn in bns:\n",
    "        conv2 = Conv1D(filters = 16, kernel_size = 3, dilation_rate = 2, \n",
    "                       kernel_regularizer = keras.regularizers.l1_l2(l1=0.01, l2=0.002),\n",
    "                       bias_regularizer = keras.regularizers.l1_l2(l1=0.01, l2=0.002), \n",
    "                       padding = 'same', activation = 'relu')(bn)\n",
    "        convs2.append(conv2)\n",
    "        \n",
    "    # batch-normalization\n",
    "    bns2 = []\n",
    "    for conv2 in convs2:\n",
    "        bn2 = BatchNormalization()(conv2)\n",
    "        bns2.append(bn2)\n",
    "        \n",
    "    # residual\n",
    "    \n",
    "    res = []\n",
    "    cnt_i = 0\n",
    "    for bn2 in bns2:\n",
    "        rs = bn2 #Add()([bn2, bns[cnt_i]])\n",
    "        rs = LeakyReLU(alpha=0.3)(rs)\n",
    "        cnt_i += 1\n",
    "        res.append(rs)\n",
    "\n",
    "\n",
    "\n",
    "    # concatenation\n",
    "\n",
    "    concat = Concatenate(axis=1, name = 'concat')(res)\n",
    "\n",
    "    concat_conv = Conv1D(filters = 16, kernel_size = 1, padding = 'same', dilation_rate = 2,\n",
    "                        kernel_regularizer = keras.regularizers.l1_l2(l1=0.01, l2=0.002),\n",
    "                        bias_regularizer = keras.regularizers.l1_l2(l1=0.01, l2=0.002),\n",
    "                        activation = 'relu', name = 'concat_conv')(concat)\n",
    "    \n",
    "    bn3 = BatchNormalization()(concat_conv)\n",
    "    con_conv2 = Conv1D(filters = 32, kernel_size = 3, padding = 'same', activation = None, name = 'con_conv2')(bn3)\n",
    "    bn4 = BatchNormalization()(con_conv2)\n",
    "    \n",
    "    #res2 = Add()([bn4, bn3])\n",
    "    res2 = LeakyReLU(alpha=0.3)(bn4)\n",
    "    \n",
    "    gmp = GlobalMaxPooling1D()(res2)\n",
    "\n",
    "    # simple FC\n",
    "    final_softmax = Dense(3, activation = 'sigmoid')(gmp)\n",
    "    simple_conv = Model(ips, final_softmax)\n",
    "    return simple_conv"
   ]
  },
  {
   "cell_type": "code",
   "execution_count": 13,
   "metadata": {},
   "outputs": [
    {
     "name": "stdout",
     "output_type": "stream",
     "text": [
      "Input tensors: [<tf.Tensor 'right_arm_ipX:0' shape=(None, None, 3) dtype=float32>, <tf.Tensor 'right_wrist_ipX:0' shape=(None, None, 3) dtype=float32>, <tf.Tensor 'left_hip_ipX:0' shape=(None, None, 3) dtype=float32>, <tf.Tensor 'left_wrist_ipX:0' shape=(None, None, 3) dtype=float32>]\n"
     ]
    }
   ],
   "source": [
    "simple_conv = create_model()"
   ]
  },
  {
   "cell_type": "code",
   "execution_count": 14,
   "metadata": {
    "scrolled": true
   },
   "outputs": [
    {
     "name": "stdout",
     "output_type": "stream",
     "text": [
      "Model: \"model\"\n",
      "__________________________________________________________________________________________________\n",
      "Layer (type)                    Output Shape         Param #     Connected to                     \n",
      "==================================================================================================\n",
      "right_arm_ipX (InputLayer)      [(None, None, 3)]    0                                            \n",
      "__________________________________________________________________________________________________\n",
      "right_wrist_ipX (InputLayer)    [(None, None, 3)]    0                                            \n",
      "__________________________________________________________________________________________________\n",
      "left_hip_ipX (InputLayer)       [(None, None, 3)]    0                                            \n",
      "__________________________________________________________________________________________________\n",
      "left_wrist_ipX (InputLayer)     [(None, None, 3)]    0                                            \n",
      "__________________________________________________________________________________________________\n",
      "right_arm_ipX_conv (Conv1D)     (None, None, 32)     128         right_arm_ipX[0][0]              \n",
      "__________________________________________________________________________________________________\n",
      "right_wrist_ipX_conv (Conv1D)   (None, None, 32)     128         right_wrist_ipX[0][0]            \n",
      "__________________________________________________________________________________________________\n",
      "left_hip_ipX_conv (Conv1D)      (None, None, 32)     128         left_hip_ipX[0][0]               \n",
      "__________________________________________________________________________________________________\n",
      "left_wrist_ipX_conv (Conv1D)    (None, None, 32)     128         left_wrist_ipX[0][0]             \n",
      "__________________________________________________________________________________________________\n",
      "batch_normalization (BatchNorma (None, None, 32)     128         right_arm_ipX_conv[0][0]         \n",
      "__________________________________________________________________________________________________\n",
      "batch_normalization_1 (BatchNor (None, None, 32)     128         right_wrist_ipX_conv[0][0]       \n",
      "__________________________________________________________________________________________________\n",
      "batch_normalization_2 (BatchNor (None, None, 32)     128         left_hip_ipX_conv[0][0]          \n",
      "__________________________________________________________________________________________________\n",
      "batch_normalization_3 (BatchNor (None, None, 32)     128         left_wrist_ipX_conv[0][0]        \n",
      "__________________________________________________________________________________________________\n",
      "conv1d (Conv1D)                 (None, None, 16)     1552        batch_normalization[0][0]        \n",
      "__________________________________________________________________________________________________\n",
      "conv1d_1 (Conv1D)               (None, None, 16)     1552        batch_normalization_1[0][0]      \n",
      "__________________________________________________________________________________________________\n",
      "conv1d_2 (Conv1D)               (None, None, 16)     1552        batch_normalization_2[0][0]      \n",
      "__________________________________________________________________________________________________\n",
      "conv1d_3 (Conv1D)               (None, None, 16)     1552        batch_normalization_3[0][0]      \n",
      "__________________________________________________________________________________________________\n",
      "batch_normalization_4 (BatchNor (None, None, 16)     64          conv1d[0][0]                     \n",
      "__________________________________________________________________________________________________\n",
      "batch_normalization_5 (BatchNor (None, None, 16)     64          conv1d_1[0][0]                   \n",
      "__________________________________________________________________________________________________\n",
      "batch_normalization_6 (BatchNor (None, None, 16)     64          conv1d_2[0][0]                   \n",
      "__________________________________________________________________________________________________\n",
      "batch_normalization_7 (BatchNor (None, None, 16)     64          conv1d_3[0][0]                   \n",
      "__________________________________________________________________________________________________\n",
      "leaky_re_lu (LeakyReLU)         (None, None, 16)     0           batch_normalization_4[0][0]      \n",
      "__________________________________________________________________________________________________\n",
      "leaky_re_lu_1 (LeakyReLU)       (None, None, 16)     0           batch_normalization_5[0][0]      \n",
      "__________________________________________________________________________________________________\n",
      "leaky_re_lu_2 (LeakyReLU)       (None, None, 16)     0           batch_normalization_6[0][0]      \n",
      "__________________________________________________________________________________________________\n",
      "leaky_re_lu_3 (LeakyReLU)       (None, None, 16)     0           batch_normalization_7[0][0]      \n",
      "__________________________________________________________________________________________________\n",
      "concat (Concatenate)            (None, None, 16)     0           leaky_re_lu[0][0]                \n",
      "                                                                 leaky_re_lu_1[0][0]              \n",
      "                                                                 leaky_re_lu_2[0][0]              \n",
      "                                                                 leaky_re_lu_3[0][0]              \n",
      "__________________________________________________________________________________________________\n",
      "concat_conv (Conv1D)            (None, None, 16)     272         concat[0][0]                     \n",
      "__________________________________________________________________________________________________\n",
      "batch_normalization_8 (BatchNor (None, None, 16)     64          concat_conv[0][0]                \n",
      "__________________________________________________________________________________________________\n",
      "con_conv2 (Conv1D)              (None, None, 32)     1568        batch_normalization_8[0][0]      \n",
      "__________________________________________________________________________________________________\n",
      "batch_normalization_9 (BatchNor (None, None, 32)     128         con_conv2[0][0]                  \n",
      "__________________________________________________________________________________________________\n",
      "leaky_re_lu_4 (LeakyReLU)       (None, None, 32)     0           batch_normalization_9[0][0]      \n",
      "__________________________________________________________________________________________________\n",
      "global_max_pooling1d (GlobalMax (None, 32)           0           leaky_re_lu_4[0][0]              \n",
      "__________________________________________________________________________________________________\n",
      "dense (Dense)                   (None, 3)            99          global_max_pooling1d[0][0]       \n",
      "==================================================================================================\n",
      "Total params: 9,619\n",
      "Trainable params: 9,139\n",
      "Non-trainable params: 480\n",
      "__________________________________________________________________________________________________\n"
     ]
    }
   ],
   "source": [
    "simple_conv.summary()"
   ]
  },
  {
   "cell_type": "code",
   "execution_count": 15,
   "metadata": {},
   "outputs": [],
   "source": [
    "simple_conv.compile(loss='binary_crossentropy', metrics=['acc', 'mae'], optimizer=Adam(lr=0.001))"
   ]
  },
  {
   "cell_type": "code",
   "execution_count": 110,
   "metadata": {},
   "outputs": [
    {
     "name": "stdout",
     "output_type": "stream",
     "text": [
      "Failed to import pydot. You must install pydot and graphviz for `pydotprint` to work.\n"
     ]
    }
   ],
   "source": [
    "tf.keras.utils.plot_model(\n",
    "    simple_conv, to_file='model1.png', show_shapes=False, show_layer_names=True,\n",
    "    rankdir='TB', expand_nested=False, dpi=300\n",
    ")"
   ]
  },
  {
   "cell_type": "code",
   "execution_count": 21,
   "metadata": {},
   "outputs": [
    {
     "data": {
      "text/plain": [
       "(1399, 3)"
      ]
     },
     "execution_count": 21,
     "metadata": {},
     "output_type": "execute_result"
    }
   ],
   "source": [
    "X[0][0].shape"
   ]
  },
  {
   "cell_type": "code",
   "execution_count": 22,
   "metadata": {},
   "outputs": [
    {
     "data": {
      "text/plain": [
       "80"
      ]
     },
     "execution_count": 22,
     "metadata": {},
     "output_type": "execute_result"
    }
   ],
   "source": [
    "len(X[0])"
   ]
  },
  {
   "cell_type": "code",
   "execution_count": 23,
   "metadata": {},
   "outputs": [
    {
     "data": {
      "text/plain": [
       "80"
      ]
     },
     "execution_count": 23,
     "metadata": {},
     "output_type": "execute_result"
    }
   ],
   "source": [
    "len(X[0])"
   ]
  },
  {
   "cell_type": "code",
   "execution_count": 24,
   "metadata": {},
   "outputs": [
    {
     "data": {
      "text/plain": [
       "(1, 3)"
      ]
     },
     "execution_count": 24,
     "metadata": {},
     "output_type": "execute_result"
    }
   ],
   "source": [
    "np.array([[0, 0, 0]]).shape"
   ]
  },
  {
   "cell_type": "code",
   "execution_count": 16,
   "metadata": {},
   "outputs": [],
   "source": [
    "def train(simple_conv, X, y_ohe, EPOCH, train_split=1.0):\n",
    "    # single zero padding for NULL datas\n",
    "\n",
    "    for i in range(len(X)):\n",
    "        for j in range(len(X[0])):\n",
    "            if len(X) == 5 and i == len(X)-1: # assuming mocap always comes in the last index\n",
    "                if len(X[i][j]) == 0:\n",
    "                    X[i][j] = np.zeros((1, 87))\n",
    "            else:\n",
    "                if len(X[i][j]) == 0:\n",
    "                    X[i][j] = np.array([[0., 0., 0.]], dtype = np.float32)\n",
    "\n",
    "    report_acc = 0.0\n",
    "    for epoch in range(EPOCH):\n",
    "        print(f'Training epoch {epoch} ...')\n",
    "        avg_loss = 0.0\n",
    "        avg_acc = 0.0\n",
    "        avg_mae = 0.0\n",
    "\n",
    "        for sample_i in tqdm(range(int(len(X[0])*train_split))):\n",
    "            [train_loss, acc, mae]   =  simple_conv.train_on_batch([X[0][sample_i].reshape(1,len(X[0][sample_i]),3), \n",
    "                                        X[1][sample_i].reshape(1,len(X[1][sample_i]),3), \n",
    "                                        X[2][sample_i].reshape(1,len(X[2][sample_i]),3), \n",
    "                                        X[3][sample_i].reshape(1,len(X[3][sample_i]),3)],\n",
    "                                        #X[4][sample_i].reshape(1,len(X[4][sample_i]),3*29)], \n",
    "                                        y_ohe[sample_i].reshape(1,3))\n",
    "            avg_loss += train_loss/(len(X[0])*train_split)\n",
    "            avg_acc += acc/(len(X[0])*train_split)\n",
    "            avg_mae += mae/(len(X[0])*train_split)\n",
    "        report_acc = avg_acc\n",
    "        print(f'acc: {avg_acc} mae: {avg_mae} loss: {avg_loss}')\n",
    "        #print('Running validation ...')\n",
    "        avg_loss = 0.0\n",
    "        avg_acc = 0.0\n",
    "        avg_mae = 0.0\n",
    "        for sample_i in tqdm(range(int(len(X[0])*train_split), len(X[0]))):\n",
    "            [test_loss, acc, mae]   =  simple_conv.test_on_batch([X[0][sample_i].reshape(1,len(X[0][sample_i]),3), \n",
    "                                        X[1][sample_i].reshape(1,len(X[1][sample_i]),3), \n",
    "                                        X[2][sample_i].reshape(1,len(X[2][sample_i]),3), \n",
    "                                        X[3][sample_i].reshape(1,len(X[3][sample_i]),3)],\n",
    "                                        #X[4][sample_i].reshape(1,len(X[4][sample_i]),3*29)], \n",
    "                                        y_ohe[sample_i].reshape(1,3))\n",
    "            avg_loss += test_loss/(len(X[0])*(1-train_split))\n",
    "            avg_acc += acc/(len(X[0])*(1-train_split))\n",
    "            avg_mae += mae/(len(X[0])*(1-train_split))\n",
    "            \n",
    "        #print(f'test acc: {avg_acc} mae: {avg_mae} loss: {avg_loss}')\n",
    "        \n",
    "    return simple_conv, report_acc"
   ]
  },
  {
   "cell_type": "code",
   "execution_count": 17,
   "metadata": {},
   "outputs": [],
   "source": [
    "def test(simple_conv, X2, y2_ohe):\n",
    "    for i in range(len(X2)):\n",
    "        for j in range(len(X2[0])):\n",
    "            if len(X2) == 5 and i == len(X2)-1: # assuming mocap always comes in the last index\n",
    "                if len(X2[i][j]) == 0:\n",
    "                    X2[i][j] = np.zeros((1, 87))\n",
    "            else:\n",
    "                if len(X2[i][j]) == 0:\n",
    "                    X2[i][j] = np.array([[0., 0., 0.]], dtype=np.float32)\n",
    "\n",
    "    print('Running test on subject ...')\n",
    "    avg_loss = 0.0\n",
    "    avg_acc = 0.0\n",
    "    avg_mae = 0.0\n",
    "    for sample_i in tqdm(range(int(len(X2[0])))):\n",
    "        [test_loss, acc, mae]   =  simple_conv.test_on_batch([X2[0][sample_i].reshape(1,len(X2[0][sample_i]),3), \n",
    "                                    X2[1][sample_i].reshape(1,len(X2[1][sample_i]),3), \n",
    "                                    X2[2][sample_i].reshape(1,len(X2[2][sample_i]),3), \n",
    "                                    X2[3][sample_i].reshape(1,len(X2[3][sample_i]),3)],\n",
    "                                    #X2[4][sample_i].reshape(1,len(X2[4][sample_i]),3*29)], \n",
    "                                    y2_ohe[sample_i].reshape(1,3))\n",
    "        avg_loss += test_loss/(len(X2[0]))\n",
    "        avg_acc += acc/(len(X2[0]))\n",
    "        avg_mae += mae/(len(X2[0]))\n",
    "    print(f'test acc: {avg_acc} mae: {avg_mae} loss: {avg_loss}')\n",
    "    return avg_acc"
   ]
  },
  {
   "cell_type": "code",
   "execution_count": 13,
   "metadata": {},
   "outputs": [],
   "source": [
    "from tensorflow.keras.activations import *"
   ]
  },
  {
   "cell_type": "code",
   "execution_count": 22,
   "metadata": {},
   "outputs": [
    {
     "name": "stdout",
     "output_type": "stream",
     "text": [
      "Input tensors: [<tf.Tensor 'right_arm_ipX_4:0' shape=(None, None, 3) dtype=float32>, <tf.Tensor 'right_wrist_ipX_4:0' shape=(None, None, 3) dtype=float32>, <tf.Tensor 'left_hip_ipX_4:0' shape=(None, None, 3) dtype=float32>, <tf.Tensor 'left_wrist_ipX_4:0' shape=(None, None, 3) dtype=float32>]\n",
      "Training epoch 0 ...\n"
     ]
    },
    {
     "name": "stderr",
     "output_type": "stream",
     "text": [
      "100%|████████████████████████████████████████████████████████████████████████████████| 105/105 [00:10<00:00, 10.30it/s]\n"
     ]
    },
    {
     "name": "stdout",
     "output_type": "stream",
     "text": [
      "acc: 0.6158730279831658 mae: 0.4063949664079007 loss: 7.871441759381979\n"
     ]
    },
    {
     "name": "stderr",
     "output_type": "stream",
     "text": [
      "0it [00:00, ?it/s]\n"
     ]
    },
    {
     "name": "stdout",
     "output_type": "stream",
     "text": [
      "Training epoch 0 ...\n"
     ]
    },
    {
     "name": "stderr",
     "output_type": "stream",
     "text": [
      "100%|████████████████████████████████████████████████████████████████████████████████| 103/103 [00:10<00:00, 10.09it/s]\n"
     ]
    },
    {
     "name": "stdout",
     "output_type": "stream",
     "text": [
      "acc: 0.6957928908681407 mae: 0.3479910422256667 loss: 7.217523829450885\n"
     ]
    },
    {
     "name": "stderr",
     "output_type": "stream",
     "text": [
      "0it [00:00, ?it/s]\n"
     ]
    },
    {
     "name": "stdout",
     "output_type": "stream",
     "text": [
      "Training epoch 0 ...\n"
     ]
    },
    {
     "name": "stderr",
     "output_type": "stream",
     "text": [
      "100%|████████████████████████████████████████████████████████████████████████████████| 105/105 [00:10<00:00, 10.26it/s]\n"
     ]
    },
    {
     "name": "stdout",
     "output_type": "stream",
     "text": [
      "acc: 0.653968264943077 mae: 0.3666460505553654 loss: 6.843003141312375\n"
     ]
    },
    {
     "name": "stderr",
     "output_type": "stream",
     "text": [
      "0it [00:00, ?it/s]\n"
     ]
    },
    {
     "name": "stdout",
     "output_type": "stream",
     "text": [
      "Training epoch 0 ...\n"
     ]
    },
    {
     "name": "stderr",
     "output_type": "stream",
     "text": [
      "100%|████████████████████████████████████████████████████████████████████████████████| 103/103 [00:09<00:00, 10.55it/s]\n"
     ]
    },
    {
     "name": "stdout",
     "output_type": "stream",
     "text": [
      "acc: 0.8381877093060504 mae: 0.21694136324798624 loss: 6.257785352688389\n"
     ]
    },
    {
     "name": "stderr",
     "output_type": "stream",
     "text": [
      "0it [00:00, ?it/s]\n"
     ]
    },
    {
     "name": "stdout",
     "output_type": "stream",
     "text": [
      "Training epoch 0 ...\n"
     ]
    },
    {
     "name": "stderr",
     "output_type": "stream",
     "text": [
      "100%|████████████████████████████████████████████████████████████████████████████████| 105/105 [00:10<00:00, 10.40it/s]\n"
     ]
    },
    {
     "name": "stdout",
     "output_type": "stream",
     "text": [
      "acc: 0.7746031832127337 mae: 0.2960581030785327 loss: 6.241385409945533\n"
     ]
    },
    {
     "name": "stderr",
     "output_type": "stream",
     "text": [
      "0it [00:00, ?it/s]\n"
     ]
    },
    {
     "name": "stdout",
     "output_type": "stream",
     "text": [
      "Training epoch 0 ...\n"
     ]
    },
    {
     "name": "stderr",
     "output_type": "stream",
     "text": [
      "100%|████████████████████████████████████████████████████████████████████████████████| 103/103 [00:10<00:00,  9.82it/s]\n"
     ]
    },
    {
     "name": "stdout",
     "output_type": "stream",
     "text": [
      "acc: 0.9255663457426052 mae: 0.1799481676633468 loss: 5.925602477731057\n"
     ]
    },
    {
     "name": "stderr",
     "output_type": "stream",
     "text": [
      "0it [00:00, ?it/s]\n"
     ]
    },
    {
     "name": "stdout",
     "output_type": "stream",
     "text": [
      "-------------------------------------------------\n",
      "Test phase\n",
      "Testing X1\n",
      "Running test on subject ...\n"
     ]
    },
    {
     "name": "stderr",
     "output_type": "stream",
     "text": [
      "100%|██████████████████████████████████████████████████████████████████████████████████| 80/80 [00:03<00:00, 25.32it/s]\n"
     ]
    },
    {
     "name": "stdout",
     "output_type": "stream",
     "text": [
      "test acc: 0.5125000089406965 mae: 0.5013030202186202 loss: 7.978852862119674\n",
      "Input tensors: [<tf.Tensor 'right_arm_ipX_5:0' shape=(None, None, 3) dtype=float32>, <tf.Tensor 'right_wrist_ipX_5:0' shape=(None, None, 3) dtype=float32>, <tf.Tensor 'left_hip_ipX_5:0' shape=(None, None, 3) dtype=float32>, <tf.Tensor 'left_wrist_ipX_5:0' shape=(None, None, 3) dtype=float32>]\n",
      "Training epoch 0 ...\n"
     ]
    },
    {
     "name": "stderr",
     "output_type": "stream",
     "text": [
      "100%|██████████████████████████████████████████████████████████████████████████████████| 80/80 [00:07<00:00, 10.16it/s]\n"
     ]
    },
    {
     "name": "stdout",
     "output_type": "stream",
     "text": [
      "acc: 0.5916666768491262 mae: 0.40299423623364405 loss: 8.094076949357987\n"
     ]
    },
    {
     "name": "stderr",
     "output_type": "stream",
     "text": [
      "0it [00:00, ?it/s]\n"
     ]
    },
    {
     "name": "stdout",
     "output_type": "stream",
     "text": [
      "Training epoch 0 ...\n"
     ]
    },
    {
     "name": "stderr",
     "output_type": "stream",
     "text": [
      "100%|████████████████████████████████████████████████████████████████████████████████| 103/103 [00:09<00:00, 10.54it/s]\n"
     ]
    },
    {
     "name": "stdout",
     "output_type": "stream",
     "text": [
      "acc: 0.7281553487754564 mae: 0.3053182032758874 loss: 7.146400877572958\n"
     ]
    },
    {
     "name": "stderr",
     "output_type": "stream",
     "text": [
      "0it [00:00, ?it/s]\n"
     ]
    },
    {
     "name": "stdout",
     "output_type": "stream",
     "text": [
      "Training epoch 0 ...\n"
     ]
    },
    {
     "name": "stderr",
     "output_type": "stream",
     "text": [
      "100%|██████████████████████████████████████████████████████████████████████████████████| 80/80 [00:07<00:00, 10.35it/s]\n"
     ]
    },
    {
     "name": "stdout",
     "output_type": "stream",
     "text": [
      "acc: 0.7250000093132251 mae: 0.3416592527064495 loss: 6.868500697612765\n"
     ]
    },
    {
     "name": "stderr",
     "output_type": "stream",
     "text": [
      "0it [00:00, ?it/s]\n"
     ]
    },
    {
     "name": "stdout",
     "output_type": "stream",
     "text": [
      "Training epoch 0 ...\n"
     ]
    },
    {
     "name": "stderr",
     "output_type": "stream",
     "text": [
      "100%|████████████████████████████████████████████████████████████████████████████████| 103/103 [00:09<00:00, 10.62it/s]\n"
     ]
    },
    {
     "name": "stdout",
     "output_type": "stream",
     "text": [
      "acc: 0.8511326911958677 mae: 0.19213611112027842 loss: 6.231597400406031\n"
     ]
    },
    {
     "name": "stderr",
     "output_type": "stream",
     "text": [
      "0it [00:00, ?it/s]\n"
     ]
    },
    {
     "name": "stdout",
     "output_type": "stream",
     "text": [
      "Training epoch 0 ...\n"
     ]
    },
    {
     "name": "stderr",
     "output_type": "stream",
     "text": [
      "100%|██████████████████████████████████████████████████████████████████████████████████| 80/80 [00:07<00:00, 10.43it/s]\n"
     ]
    },
    {
     "name": "stdout",
     "output_type": "stream",
     "text": [
      "acc: 0.7750000089406959 mae: 0.295021641603671 loss: 6.314360362291335\n"
     ]
    },
    {
     "name": "stderr",
     "output_type": "stream",
     "text": [
      "0it [00:00, ?it/s]\n"
     ]
    },
    {
     "name": "stdout",
     "output_type": "stream",
     "text": [
      "Training epoch 0 ...\n"
     ]
    },
    {
     "name": "stderr",
     "output_type": "stream",
     "text": [
      "100%|████████████████████████████████████████████████████████████████████████████████| 103/103 [00:09<00:00, 10.69it/s]\n"
     ]
    },
    {
     "name": "stdout",
     "output_type": "stream",
     "text": [
      "acc: 0.9158576087465563 mae: 0.15626447112816064 loss: 5.8973407328707514\n"
     ]
    },
    {
     "name": "stderr",
     "output_type": "stream",
     "text": [
      "0it [00:00, ?it/s]\n"
     ]
    },
    {
     "name": "stdout",
     "output_type": "stream",
     "text": [
      "-------------------------------------------------\n",
      "Test phase\n",
      "Testing X2\n",
      "Running test on subject ...\n"
     ]
    },
    {
     "name": "stderr",
     "output_type": "stream",
     "text": [
      "100%|████████████████████████████████████████████████████████████████████████████████| 105/105 [00:03<00:00, 28.41it/s]\n"
     ]
    },
    {
     "name": "stdout",
     "output_type": "stream",
     "text": [
      "test acc: 0.5809523894673301 mae: 0.43376664019971417 loss: 7.750833638509111\n",
      "Input tensors: [<tf.Tensor 'right_arm_ipX_6:0' shape=(None, None, 3) dtype=float32>, <tf.Tensor 'right_wrist_ipX_6:0' shape=(None, None, 3) dtype=float32>, <tf.Tensor 'left_hip_ipX_6:0' shape=(None, None, 3) dtype=float32>, <tf.Tensor 'left_wrist_ipX_6:0' shape=(None, None, 3) dtype=float32>]\n",
      "Training epoch 0 ...\n"
     ]
    },
    {
     "name": "stderr",
     "output_type": "stream",
     "text": [
      "100%|██████████████████████████████████████████████████████████████████████████████████| 80/80 [00:07<00:00, 10.39it/s]\n"
     ]
    },
    {
     "name": "stdout",
     "output_type": "stream",
     "text": [
      "acc: 0.6375000100582833 mae: 0.37942148300353434 loss: 8.079330956935884\n"
     ]
    },
    {
     "name": "stderr",
     "output_type": "stream",
     "text": [
      "0it [00:00, ?it/s]\n"
     ]
    },
    {
     "name": "stdout",
     "output_type": "stream",
     "text": [
      "Training epoch 0 ...\n"
     ]
    },
    {
     "name": "stderr",
     "output_type": "stream",
     "text": [
      "100%|████████████████████████████████████████████████████████████████████████████████| 105/105 [00:10<00:00, 10.46it/s]\n"
     ]
    },
    {
     "name": "stdout",
     "output_type": "stream",
     "text": [
      "acc: 0.577777788752601 mae: 0.42808404038881964 loss: 7.265181028275267\n"
     ]
    },
    {
     "name": "stderr",
     "output_type": "stream",
     "text": [
      "0it [00:00, ?it/s]\n"
     ]
    },
    {
     "name": "stdout",
     "output_type": "stream",
     "text": [
      "Training epoch 0 ...\n"
     ]
    },
    {
     "name": "stderr",
     "output_type": "stream",
     "text": [
      "100%|██████████████████████████████████████████████████████████████████████████████████| 80/80 [00:07<00:00, 10.44it/s]\n"
     ]
    },
    {
     "name": "stdout",
     "output_type": "stream",
     "text": [
      "acc: 0.7125000096857541 mae: 0.35057753929868346 loss: 6.6756746649742125\n"
     ]
    },
    {
     "name": "stderr",
     "output_type": "stream",
     "text": [
      "0it [00:00, ?it/s]\n"
     ]
    },
    {
     "name": "stdout",
     "output_type": "stream",
     "text": [
      "Training epoch 0 ...\n"
     ]
    },
    {
     "name": "stderr",
     "output_type": "stream",
     "text": [
      "100%|████████████████████████████████████████████████████████████████████████████████| 105/105 [00:09<00:00, 10.53it/s]\n"
     ]
    },
    {
     "name": "stdout",
     "output_type": "stream",
     "text": [
      "acc: 0.7269841367290129 mae: 0.32436825162952854 loss: 6.450872689201719\n"
     ]
    },
    {
     "name": "stderr",
     "output_type": "stream",
     "text": [
      "0it [00:00, ?it/s]\n"
     ]
    },
    {
     "name": "stdout",
     "output_type": "stream",
     "text": [
      "Training epoch 0 ...\n"
     ]
    },
    {
     "name": "stderr",
     "output_type": "stream",
     "text": [
      "100%|██████████████████████████████████████████████████████████████████████████████████| 80/80 [00:07<00:00, 10.44it/s]\n"
     ]
    },
    {
     "name": "stdout",
     "output_type": "stream",
     "text": [
      "acc: 0.7583333421498529 mae: 0.3146011668723075 loss: 6.271782767772675\n"
     ]
    },
    {
     "name": "stderr",
     "output_type": "stream",
     "text": [
      "0it [00:00, ?it/s]\n"
     ]
    },
    {
     "name": "stdout",
     "output_type": "stream",
     "text": [
      "Training epoch 0 ...\n"
     ]
    },
    {
     "name": "stderr",
     "output_type": "stream",
     "text": [
      "100%|████████████████████████████████████████████████████████████████████████████████| 105/105 [00:10<00:00, 10.37it/s]\n"
     ]
    },
    {
     "name": "stdout",
     "output_type": "stream",
     "text": [
      "acc: 0.8000000082311168 mae: 0.2877171883625644 loss: 6.172029240926106\n"
     ]
    },
    {
     "name": "stderr",
     "output_type": "stream",
     "text": [
      "0it [00:00, ?it/s]\n"
     ]
    },
    {
     "name": "stdout",
     "output_type": "stream",
     "text": [
      "-------------------------------------------------\n",
      "Test phase\n",
      "Testing X3\n",
      "Running test on subject ...\n"
     ]
    },
    {
     "name": "stderr",
     "output_type": "stream",
     "text": [
      "100%|████████████████████████████████████████████████████████████████████████████████| 103/103 [00:03<00:00, 29.00it/s]\n"
     ]
    },
    {
     "name": "stdout",
     "output_type": "stream",
     "text": [
      "test acc: 0.5210356090253997 mae: 0.48485157559218917 loss: 6.964460576622234\n",
      "--------------------report----------------------\n",
      "TR: ['X2', 'X3']   TS: X1 acc1: 0.7746031832127337 acc2: 0.9255663457426052 test_acc: 0.5125000089406965\n",
      "TR: ['X1', 'X3']   TS: X2 acc1: 0.7750000089406959 acc2: 0.9158576087465563 test_acc: 0.5809523894673301\n",
      "TR: ['X1', 'X2']   TS: X3 acc1: 0.7583333421498529 acc2: 0.8000000082311168 test_acc: 0.5210356090253997\n"
     ]
    }
   ],
   "source": [
    "# train on subject1\n",
    "# validate on subject2, 3\n",
    "\n",
    "from tqdm import tqdm\n",
    "from tensorflow.keras.optimizers import RMSprop\n",
    "\n",
    "report = []\n",
    "\n",
    "for xytst in [(X, y_ohe, 'X1'), (X2, y2_ohe, 'X2'), (X3, y3_ohe, 'X3')]:\n",
    "    \n",
    "    simple_conv = create_model()\n",
    "    \n",
    "    xytr = [a for a in [(X, y_ohe, 'X1'), (X2, y2_ohe, 'X2'), (X3, y3_ohe, 'X3')] if a!=xytst]\n",
    "\n",
    "    EPOCH = 3\n",
    "    train_split = 1.0\n",
    "    lr = 0.001\n",
    "\n",
    "    for e in range(EPOCH):\n",
    "        simple_conv.compile(loss='binary_crossentropy', metrics=['acc', 'mae'], optimizer=Adam(learning_rate=lr))\n",
    "        simple_conv, acc = train(simple_conv, xytr[0][0], xytr[0][1], 1, train_split)\n",
    "        lr /= 1.5\n",
    "        simple_conv.compile(loss='binary_crossentropy', metrics=['acc', 'mae'], optimizer=Adam(learning_rate=lr))\n",
    "        simple_conv, acc2 = train(simple_conv, xytr[1][0], xytr[1][1], 1, train_split)\n",
    "        lr /= 2.0\n",
    "    \n",
    "\n",
    "    print('-------------------------------------------------')\n",
    "    print('Test phase')\n",
    "    print(f'Testing {xytst[2]}')\n",
    "\n",
    "    t_acc = test(simple_conv, xytst[0], xytst[1])\n",
    "    report.append(f'TR: {[a[2] for a in xytr]}   TS: {xytst[2]} acc1: {acc} acc2: {acc2} test_acc: {t_acc}')\n",
    "\n",
    "\n",
    "print('--------------------report----------------------')\n",
    "for ta in report:\n",
    "    print(ta)"
   ]
  },
  {
   "cell_type": "code",
   "execution_count": 104,
   "metadata": {},
   "outputs": [
    {
     "data": {
      "text/plain": [
       "0.5379666666666667"
      ]
     },
     "execution_count": 104,
     "metadata": {},
     "output_type": "execute_result"
    }
   ],
   "source": [
    "(0.512 + 0.5809 + 0.521)/3.0"
   ]
  },
  {
   "cell_type": "code",
   "execution_count": 126,
   "metadata": {},
   "outputs": [],
   "source": [
    "X_all = [\n",
    "    X[0] + X2[0] + X3[0],\n",
    "    X[1] + X2[1] + X3[1],\n",
    "    X[2] + X2[2] + X3[2],\n",
    "    X[3] + X2[3] + X3[3]\n",
    "]"
   ]
  },
  {
   "cell_type": "code",
   "execution_count": 127,
   "metadata": {},
   "outputs": [],
   "source": [
    "X_all_p = list(map(list, zip(*X_all)))"
   ]
  },
  {
   "cell_type": "code",
   "execution_count": 128,
   "metadata": {},
   "outputs": [
    {
     "data": {
      "text/plain": [
       "288"
      ]
     },
     "execution_count": 128,
     "metadata": {},
     "output_type": "execute_result"
    }
   ],
   "source": [
    "len(X_all_p)"
   ]
  },
  {
   "cell_type": "code",
   "execution_count": 133,
   "metadata": {},
   "outputs": [],
   "source": [
    "y_all = np.concatenate((y_ml_ohe, y_ml2_ohe, y_ml3_ohe), axis = 0)"
   ]
  },
  {
   "cell_type": "code",
   "execution_count": 134,
   "metadata": {},
   "outputs": [
    {
     "data": {
      "text/plain": [
       "(288, 10)"
      ]
     },
     "execution_count": 134,
     "metadata": {},
     "output_type": "execute_result"
    }
   ],
   "source": [
    "y_all.shape"
   ]
  },
  {
   "cell_type": "code",
   "execution_count": 135,
   "metadata": {},
   "outputs": [],
   "source": [
    "z = list(zip(X_all_p, y_all))\n",
    "random.shuffle(z)\n",
    "X_all = [a[0] for a in z]\n",
    "y_all = [a[1] for a in z]"
   ]
  },
  {
   "cell_type": "code",
   "execution_count": 136,
   "metadata": {},
   "outputs": [
    {
     "data": {
      "text/plain": [
       "288"
      ]
     },
     "execution_count": 136,
     "metadata": {},
     "output_type": "execute_result"
    }
   ],
   "source": [
    "len(X_all)"
   ]
  },
  {
   "cell_type": "code",
   "execution_count": 137,
   "metadata": {},
   "outputs": [
    {
     "data": {
      "text/plain": [
       "[array([0, 1, 0, 0, 0, 0, 0, 1, 1, 0]),\n",
       " array([0, 1, 0, 0, 0, 0, 0, 0, 1, 0]),\n",
       " array([0, 0, 0, 0, 0, 0, 1, 0, 0, 1]),\n",
       " array([0, 1, 0, 0, 1, 0, 1, 0, 0, 0]),\n",
       " array([0, 0, 0, 0, 1, 0, 0, 1, 0, 0])]"
      ]
     },
     "execution_count": 137,
     "metadata": {},
     "output_type": "execute_result"
    }
   ],
   "source": [
    "y_all[:5]"
   ]
  },
  {
   "cell_type": "code",
   "execution_count": 138,
   "metadata": {},
   "outputs": [],
   "source": [
    "X_all = list(map(list, zip(*X_all)))"
   ]
  },
  {
   "cell_type": "code",
   "execution_count": 139,
   "metadata": {},
   "outputs": [
    {
     "data": {
      "text/plain": [
       "4"
      ]
     },
     "execution_count": 139,
     "metadata": {},
     "output_type": "execute_result"
    }
   ],
   "source": [
    "len(X_all)"
   ]
  },
  {
   "cell_type": "code",
   "execution_count": 67,
   "metadata": {},
   "outputs": [
    {
     "name": "stdout",
     "output_type": "stream",
     "text": [
      "Input tensors: [<tf.Tensor 'right_arm_ipX_8:0' shape=(None, None, 3) dtype=float32>, <tf.Tensor 'right_wrist_ipX_8:0' shape=(None, None, 3) dtype=float32>, <tf.Tensor 'left_hip_ipX_8:0' shape=(None, None, 3) dtype=float32>, <tf.Tensor 'left_wrist_ipX_8:0' shape=(None, None, 3) dtype=float32>]\n",
      "Training epoch 0 ...\n"
     ]
    },
    {
     "name": "stderr",
     "output_type": "stream",
     "text": [
      "100%|██████████████████████████████████████████████████████████████████████████████████| 80/80 [00:07<00:00, 10.02it/s]\n"
     ]
    },
    {
     "name": "stdout",
     "output_type": "stream",
     "text": [
      "acc: 0.6458333458751435 mae: 0.38997064910363405 loss: 8.220000702142718\n"
     ]
    },
    {
     "name": "stderr",
     "output_type": "stream",
     "text": [
      "0it [00:00, ?it/s]\n"
     ]
    },
    {
     "name": "stdout",
     "output_type": "stream",
     "text": [
      "Training epoch 0 ...\n"
     ]
    },
    {
     "name": "stderr",
     "output_type": "stream",
     "text": [
      "100%|████████████████████████████████████████████████████████████████████████████████| 105/105 [00:11<00:00,  9.49it/s]\n"
     ]
    },
    {
     "name": "stdout",
     "output_type": "stream",
     "text": [
      "acc: 0.644444455986931 mae: 0.38366225187977165 loss: 7.1689556939261285\n"
     ]
    },
    {
     "name": "stderr",
     "output_type": "stream",
     "text": [
      "0it [00:00, ?it/s]\n"
     ]
    },
    {
     "name": "stdout",
     "output_type": "stream",
     "text": [
      "Training epoch 0 ...\n"
     ]
    },
    {
     "name": "stderr",
     "output_type": "stream",
     "text": [
      "100%|████████████████████████████████████████████████████████████████████████████████| 103/103 [00:10<00:00,  9.81it/s]\n"
     ]
    },
    {
     "name": "stdout",
     "output_type": "stream",
     "text": [
      "acc: 0.6310679730281091 mae: 0.3984322998044307 loss: 7.046789331343569\n"
     ]
    },
    {
     "name": "stderr",
     "output_type": "stream",
     "text": [
      "0it [00:00, ?it/s]\n"
     ]
    },
    {
     "name": "stdout",
     "output_type": "stream",
     "text": [
      "Training epoch 0 ...\n"
     ]
    },
    {
     "name": "stderr",
     "output_type": "stream",
     "text": [
      "100%|██████████████████████████████████████████████████████████████████████████████████| 80/80 [00:07<00:00, 10.01it/s]\n"
     ]
    },
    {
     "name": "stdout",
     "output_type": "stream",
     "text": [
      "acc: 0.6750000104308123 mae: 0.3546131191600579 loss: 6.639132088422775\n"
     ]
    },
    {
     "name": "stderr",
     "output_type": "stream",
     "text": [
      "0it [00:00, ?it/s]\n"
     ]
    },
    {
     "name": "stdout",
     "output_type": "stream",
     "text": [
      "Training epoch 0 ...\n"
     ]
    },
    {
     "name": "stderr",
     "output_type": "stream",
     "text": [
      "100%|████████████████████████████████████████████████████████████████████████████████| 105/105 [00:10<00:00, 10.36it/s]\n"
     ]
    },
    {
     "name": "stdout",
     "output_type": "stream",
     "text": [
      "acc: 0.7269841378643394 mae: 0.3116041126882746 loss: 6.476493671962194\n"
     ]
    },
    {
     "name": "stderr",
     "output_type": "stream",
     "text": [
      "0it [00:00, ?it/s]\n"
     ]
    },
    {
     "name": "stdout",
     "output_type": "stream",
     "text": [
      "Training epoch 0 ...\n"
     ]
    },
    {
     "name": "stderr",
     "output_type": "stream",
     "text": [
      "100%|████████████████████████████████████████████████████████████████████████████████| 103/103 [00:09<00:00, 10.41it/s]\n"
     ]
    },
    {
     "name": "stdout",
     "output_type": "stream",
     "text": [
      "acc: 0.8122977429223291 mae: 0.2721151079828805 loss: 6.302491164901883\n"
     ]
    },
    {
     "name": "stderr",
     "output_type": "stream",
     "text": [
      "0it [00:00, ?it/s]\n"
     ]
    },
    {
     "name": "stdout",
     "output_type": "stream",
     "text": [
      "Training epoch 0 ...\n"
     ]
    },
    {
     "name": "stderr",
     "output_type": "stream",
     "text": [
      "100%|██████████████████████████████████████████████████████████████████████████████████| 80/80 [00:07<00:00, 10.19it/s]\n"
     ]
    },
    {
     "name": "stdout",
     "output_type": "stream",
     "text": [
      "acc: 0.750000010058283 mae: 0.3201453694491646 loss: 6.34494128227234\n"
     ]
    },
    {
     "name": "stderr",
     "output_type": "stream",
     "text": [
      "0it [00:00, ?it/s]\n"
     ]
    },
    {
     "name": "stdout",
     "output_type": "stream",
     "text": [
      "Training epoch 0 ...\n"
     ]
    },
    {
     "name": "stderr",
     "output_type": "stream",
     "text": [
      "100%|████████████████████████████████████████████████████████████████████████████████| 105/105 [00:11<00:00,  9.51it/s]\n"
     ]
    },
    {
     "name": "stdout",
     "output_type": "stream",
     "text": [
      "acc: 0.7968254063810615 mae: 0.28430644422769547 loss: 6.299780237107049\n"
     ]
    },
    {
     "name": "stderr",
     "output_type": "stream",
     "text": [
      "0it [00:00, ?it/s]\n"
     ]
    },
    {
     "name": "stdout",
     "output_type": "stream",
     "text": [
      "Training epoch 0 ...\n"
     ]
    },
    {
     "name": "stderr",
     "output_type": "stream",
     "text": [
      "100%|████████████████████████████████████████████████████████████████████████████████| 103/103 [00:10<00:00,  9.94it/s]\n"
     ]
    },
    {
     "name": "stdout",
     "output_type": "stream",
     "text": [
      "acc: 0.8576051853235483 mae: 0.24472648909686193 loss: 6.184087369048477\n"
     ]
    },
    {
     "name": "stderr",
     "output_type": "stream",
     "text": [
      "0it [00:00, ?it/s]\n"
     ]
    }
   ],
   "source": [
    "# final training for submission\n",
    "\n",
    "simple_conv = create_model()\n",
    "\n",
    "EPOCH = 3\n",
    "train_split = 1.0\n",
    "lr = 0.001\n",
    "\n",
    "for e in range(EPOCH):\n",
    "    simple_conv.compile(loss='binary_crossentropy', metrics=['acc', 'mae'], optimizer=Adam(learning_rate=lr))\n",
    "    simple_conv, acc = train(simple_conv, X, y_ohe, 1, train_split)\n",
    "    lr /= 1.5\n",
    "    simple_conv.compile(loss='binary_crossentropy', metrics=['acc', 'mae'], optimizer=Adam(learning_rate=lr))\n",
    "    simple_conv, acc2 = train(simple_conv, X2, y2_ohe, 1, train_split)\n",
    "    lr /= 2.0\n",
    "    \n",
    "    simple_conv.compile(loss='binary_crossentropy', metrics=['acc', 'mae'], optimizer=Adam(learning_rate=lr))\n",
    "    simple_conv, acc2 = train(simple_conv, X3, y3_ohe, 1, train_split)\n",
    "    lr /= 2.0"
   ]
  },
  {
   "cell_type": "code",
   "execution_count": 68,
   "metadata": {},
   "outputs": [
    {
     "name": "stdout",
     "output_type": "stream",
     "text": [
      "Training epoch 0 ...\n"
     ]
    },
    {
     "name": "stderr",
     "output_type": "stream",
     "text": [
      "100%|████████████████████████████████████████████████████████████████████████████████| 288/288 [00:32<00:00,  8.83it/s]\n"
     ]
    },
    {
     "name": "stdout",
     "output_type": "stream",
     "text": [
      "acc: 0.8043981570129598 mae: 0.2792873050705872 loss: 6.211085337731571\n"
     ]
    },
    {
     "name": "stderr",
     "output_type": "stream",
     "text": [
      "0it [00:00, ?it/s]\n"
     ]
    },
    {
     "name": "stdout",
     "output_type": "stream",
     "text": [
      "Training epoch 0 ...\n"
     ]
    },
    {
     "name": "stderr",
     "output_type": "stream",
     "text": [
      "100%|████████████████████████████████████████████████████████████████████████████████| 288/288 [00:30<00:00,  9.57it/s]\n"
     ]
    },
    {
     "name": "stdout",
     "output_type": "stream",
     "text": [
      "acc: 0.8263888971673119 mae: 0.26580752829462057 loss: 6.11138095789485\n"
     ]
    },
    {
     "name": "stderr",
     "output_type": "stream",
     "text": [
      "0it [00:00, ?it/s]\n"
     ]
    }
   ],
   "source": [
    "# mixed low learning rate training\n",
    "lr = 0.00005\n",
    "EPOCH = 2\n",
    "for e in range(EPOCH):\n",
    "    simple_conv.compile(loss='binary_crossentropy', metrics=['acc', 'mae'], optimizer=Adam(learning_rate=lr))\n",
    "    simple_conv, acc = train(simple_conv, X_all, y_all, 1, train_split)\n",
    "    lr /= 1.5"
   ]
  },
  {
   "cell_type": "code",
   "execution_count": 69,
   "metadata": {},
   "outputs": [],
   "source": [
    "simple_conv.save('loss_6_11.h5')"
   ]
  },
  {
   "cell_type": "code",
   "execution_count": 25,
   "metadata": {
    "scrolled": true
   },
   "outputs": [
    {
     "data": {
      "text/plain": [
       "10"
      ]
     },
     "execution_count": 25,
     "metadata": {},
     "output_type": "execute_result"
    }
   ],
   "source": [
    "len(mlb.classes_)"
   ]
  },
  {
   "cell_type": "code",
   "execution_count": 14,
   "metadata": {},
   "outputs": [],
   "source": [
    "from tensorflow.keras import backend as K\n",
    "def get_f1(y_true, y_pred): #taken from old keras source code\n",
    "    true_positives = K.sum(K.round(K.clip(y_true * y_pred, 0, 1)))\n",
    "    possible_positives = K.sum(K.round(K.clip(y_true, 0, 1)))\n",
    "    predicted_positives = K.sum(K.round(K.clip(y_pred, 0, 1)))\n",
    "    precision = true_positives / (predicted_positives + K.epsilon())\n",
    "    recall = true_positives / (possible_positives + K.epsilon())\n",
    "    f1_val = 2*(precision*recall)/(precision+recall+K.epsilon())\n",
    "    return f1_val"
   ]
  },
  {
   "cell_type": "code",
   "execution_count": 105,
   "metadata": {},
   "outputs": [],
   "source": [
    "# task 2, micro-activity\n",
    "\n",
    "# CNN-head\n",
    "\n",
    "def create_model_task2():\n",
    "    n_sensors = 4\n",
    "    n_filters = [3, 3, 3, 3] # X, Y, Z\n",
    "\n",
    "\n",
    "    # make the input layers\n",
    "    ips = []\n",
    "\n",
    "    n_f = 0\n",
    "    for sensor in all_sensors:\n",
    "        ips.append(Input(shape = (None, n_filters[n_f]), name = sensor + '_ipX'))\n",
    "        n_f += 1\n",
    "\n",
    "    print(f'Input tensors: {ips}')\n",
    "    \n",
    "    # kernel size = 1 == embedding layer\n",
    "\n",
    "    convs = []\n",
    "    for ip in ips:\n",
    "        conv = Conv1D(filters = 16, kernel_size = 1, padding = 'same', activation = None, name = ip.name.split(':')[0] + '_conv')(ip)\n",
    "        convs.append(conv)\n",
    "        \n",
    "    # batch-normalization\n",
    "    bns = []\n",
    "    for conv in convs:\n",
    "        bn = BatchNormalization()(conv)\n",
    "        bns.append(bn)\n",
    "\n",
    "    convs2 = []\n",
    "    for bn in bns:\n",
    "        conv2 = Conv1D(filters = 16, kernel_size = 3, dilation_rate = 2, \n",
    "                       kernel_regularizer = keras.regularizers.l1_l2(l1=0.01, l2=0.002),\n",
    "                       bias_regularizer = keras.regularizers.l1_l2(l1=0.01, l2=0.002), \n",
    "                       padding = 'same', activation = 'relu')(bn)\n",
    "        convs2.append(conv2)\n",
    "        \n",
    "    # batch-normalization\n",
    "    bns2 = []\n",
    "    for conv2 in convs2:\n",
    "        bn2 = BatchNormalization()(conv2)\n",
    "        bns2.append(bn2)\n",
    "        \n",
    "    # residual\n",
    "    \n",
    "    res = []\n",
    "    cnt_i = 0\n",
    "    for bn2 in bns2:\n",
    "        rs = bn2 # Add()([bn2, bns[cnt_i]]) # bn2\n",
    "        rs = LeakyReLU(alpha=0.3)(rs)\n",
    "        cnt_i += 1\n",
    "        res.append(rs)\n",
    "\n",
    "\n",
    "\n",
    "    # concatenation\n",
    "\n",
    "    concat = Concatenate(axis=1, name = 'concat')(res)\n",
    "\n",
    "    concat_conv = Conv1D(filters = 16, kernel_size = 1, padding = 'same', dilation_rate = 2,\n",
    "                        kernel_regularizer = keras.regularizers.l1_l2(l1=0.01, l2=0.002),\n",
    "                        bias_regularizer = keras.regularizers.l1_l2(l1=0.01, l2=0.002),\n",
    "                        activation = 'relu', name = 'concat_conv')(concat)\n",
    "    \n",
    "    bn3 = BatchNormalization()(concat_conv)\n",
    "    con_conv2 = Conv1D(filters = 32, kernel_size = 3, padding = 'same', activation = None, name = 'con_conv2')(bn3)\n",
    "    bn4 = BatchNormalization()(con_conv2)\n",
    "    \n",
    "    #res2 = Add()([bn4, bn3])\n",
    "    res2 = LeakyReLU(alpha=0.3)(bn4)\n",
    "    \n",
    "    gmp = GlobalMaxPooling1D()(res2)\n",
    "\n",
    "    # simple FC\n",
    "    final_sigmoid = Dense(10, activation = 'sigmoid')(gmp)\n",
    "    simple_conv = Model(ips, final_sigmoid)\n",
    "    return simple_conv"
   ]
  },
  {
   "cell_type": "code",
   "execution_count": 106,
   "metadata": {},
   "outputs": [
    {
     "name": "stdout",
     "output_type": "stream",
     "text": [
      "Input tensors: [<tf.Tensor 'right_arm_ipX_34:0' shape=(None, None, 3) dtype=float32>, <tf.Tensor 'right_wrist_ipX_34:0' shape=(None, None, 3) dtype=float32>, <tf.Tensor 'left_hip_ipX_34:0' shape=(None, None, 3) dtype=float32>, <tf.Tensor 'left_wrist_ipX_34:0' shape=(None, None, 3) dtype=float32>]\n"
     ]
    }
   ],
   "source": [
    "task2_model = create_model_task2()"
   ]
  },
  {
   "cell_type": "code",
   "execution_count": 107,
   "metadata": {},
   "outputs": [
    {
     "name": "stdout",
     "output_type": "stream",
     "text": [
      "Model: \"model_33\"\n",
      "__________________________________________________________________________________________________\n",
      "Layer (type)                    Output Shape         Param #     Connected to                     \n",
      "==================================================================================================\n",
      "right_arm_ipX (InputLayer)      [(None, None, 3)]    0                                            \n",
      "__________________________________________________________________________________________________\n",
      "right_wrist_ipX (InputLayer)    [(None, None, 3)]    0                                            \n",
      "__________________________________________________________________________________________________\n",
      "left_hip_ipX (InputLayer)       [(None, None, 3)]    0                                            \n",
      "__________________________________________________________________________________________________\n",
      "left_wrist_ipX (InputLayer)     [(None, None, 3)]    0                                            \n",
      "__________________________________________________________________________________________________\n",
      "right_arm_ipX_34_conv (Conv1D)  (None, None, 16)     64          right_arm_ipX[0][0]              \n",
      "__________________________________________________________________________________________________\n",
      "right_wrist_ipX_34_conv (Conv1D (None, None, 16)     64          right_wrist_ipX[0][0]            \n",
      "__________________________________________________________________________________________________\n",
      "left_hip_ipX_34_conv (Conv1D)   (None, None, 16)     64          left_hip_ipX[0][0]               \n",
      "__________________________________________________________________________________________________\n",
      "left_wrist_ipX_34_conv (Conv1D) (None, None, 16)     64          left_wrist_ipX[0][0]             \n",
      "__________________________________________________________________________________________________\n",
      "batch_normalization_338 (BatchN (None, None, 16)     64          right_arm_ipX_34_conv[0][0]      \n",
      "__________________________________________________________________________________________________\n",
      "batch_normalization_339 (BatchN (None, None, 16)     64          right_wrist_ipX_34_conv[0][0]    \n",
      "__________________________________________________________________________________________________\n",
      "batch_normalization_340 (BatchN (None, None, 16)     64          left_hip_ipX_34_conv[0][0]       \n",
      "__________________________________________________________________________________________________\n",
      "batch_normalization_341 (BatchN (None, None, 16)     64          left_wrist_ipX_34_conv[0][0]     \n",
      "__________________________________________________________________________________________________\n",
      "conv1d_136 (Conv1D)             (None, None, 16)     784         batch_normalization_338[0][0]    \n",
      "__________________________________________________________________________________________________\n",
      "conv1d_137 (Conv1D)             (None, None, 16)     784         batch_normalization_339[0][0]    \n",
      "__________________________________________________________________________________________________\n",
      "conv1d_138 (Conv1D)             (None, None, 16)     784         batch_normalization_340[0][0]    \n",
      "__________________________________________________________________________________________________\n",
      "conv1d_139 (Conv1D)             (None, None, 16)     784         batch_normalization_341[0][0]    \n",
      "__________________________________________________________________________________________________\n",
      "batch_normalization_342 (BatchN (None, None, 16)     64          conv1d_136[0][0]                 \n",
      "__________________________________________________________________________________________________\n",
      "batch_normalization_343 (BatchN (None, None, 16)     64          conv1d_137[0][0]                 \n",
      "__________________________________________________________________________________________________\n",
      "batch_normalization_344 (BatchN (None, None, 16)     64          conv1d_138[0][0]                 \n",
      "__________________________________________________________________________________________________\n",
      "batch_normalization_345 (BatchN (None, None, 16)     64          conv1d_139[0][0]                 \n",
      "__________________________________________________________________________________________________\n",
      "leaky_re_lu_165 (LeakyReLU)     (None, None, 16)     0           batch_normalization_342[0][0]    \n",
      "__________________________________________________________________________________________________\n",
      "leaky_re_lu_166 (LeakyReLU)     (None, None, 16)     0           batch_normalization_343[0][0]    \n",
      "__________________________________________________________________________________________________\n",
      "leaky_re_lu_167 (LeakyReLU)     (None, None, 16)     0           batch_normalization_344[0][0]    \n",
      "__________________________________________________________________________________________________\n",
      "leaky_re_lu_168 (LeakyReLU)     (None, None, 16)     0           batch_normalization_345[0][0]    \n",
      "__________________________________________________________________________________________________\n",
      "concat (Concatenate)            (None, None, 16)     0           leaky_re_lu_165[0][0]            \n",
      "                                                                 leaky_re_lu_166[0][0]            \n",
      "                                                                 leaky_re_lu_167[0][0]            \n",
      "                                                                 leaky_re_lu_168[0][0]            \n",
      "__________________________________________________________________________________________________\n",
      "concat_conv (Conv1D)            (None, None, 16)     272         concat[0][0]                     \n",
      "__________________________________________________________________________________________________\n",
      "batch_normalization_346 (BatchN (None, None, 16)     64          concat_conv[0][0]                \n",
      "__________________________________________________________________________________________________\n",
      "con_conv2 (Conv1D)              (None, None, 32)     1568        batch_normalization_346[0][0]    \n",
      "__________________________________________________________________________________________________\n",
      "batch_normalization_347 (BatchN (None, None, 32)     128         con_conv2[0][0]                  \n",
      "__________________________________________________________________________________________________\n",
      "leaky_re_lu_169 (LeakyReLU)     (None, None, 32)     0           batch_normalization_347[0][0]    \n",
      "__________________________________________________________________________________________________\n",
      "global_max_pooling1d_33 (Global (None, 32)           0           leaky_re_lu_169[0][0]            \n",
      "__________________________________________________________________________________________________\n",
      "dense_33 (Dense)                (None, 10)           330         global_max_pooling1d_33[0][0]    \n",
      "==================================================================================================\n",
      "Total params: 6,266\n",
      "Trainable params: 5,914\n",
      "Non-trainable params: 352\n",
      "__________________________________________________________________________________________________\n"
     ]
    }
   ],
   "source": [
    "task2_model.summary()"
   ]
  },
  {
   "cell_type": "code",
   "execution_count": 96,
   "metadata": {},
   "outputs": [],
   "source": [
    "def train_task2(simple_conv, X, y_ohe, EPOCH, train_split=1.0):\n",
    "    # single zero padding for NULL datas\n",
    "\n",
    "    for i in range(len(X)):\n",
    "        for j in range(len(X[0])):\n",
    "            if len(X) == 5 and i == len(X)-1: # assuming mocap always comes in the last index\n",
    "                if len(X[i][j]) == 0:\n",
    "                    X[i][j] = np.zeros((1, 87))\n",
    "            else:\n",
    "                if len(X[i][j]) == 0:\n",
    "                    X[i][j] = np.array([[0., 0., 0.]], dtype = np.float32)\n",
    "\n",
    "    report_acc = 0.0\n",
    "    for epoch in range(EPOCH):\n",
    "        print(f'Training epoch {epoch} ...')\n",
    "        avg_loss = 0.0\n",
    "        avg_acc = 0.0\n",
    "        avg_mae = 0.0\n",
    "\n",
    "        for sample_i in tqdm(range(int(len(X[0])*train_split))):\n",
    "            [train_loss, acc, mae]   =  simple_conv.train_on_batch([X[0][sample_i].reshape(1,len(X[0][sample_i]),3), \n",
    "                                        X[1][sample_i].reshape(1,len(X[1][sample_i]),3), \n",
    "                                        X[2][sample_i].reshape(1,len(X[2][sample_i]),3), \n",
    "                                        X[3][sample_i].reshape(1,len(X[3][sample_i]),3)],\n",
    "                                        #X[4][sample_i].reshape(1,len(X[4][sample_i]),3*29)], \n",
    "                                        y_ohe[sample_i].reshape(1,10))\n",
    "            avg_loss += train_loss/(len(X[0])*train_split)\n",
    "            avg_acc += acc/(len(X[0])*train_split)\n",
    "            avg_mae += mae/(len(X[0])*train_split)\n",
    "        report_acc = avg_acc\n",
    "        print(f'f1: {avg_acc} mae: {avg_mae} loss: {avg_loss}')\n",
    "        #print('Running validation ...')\n",
    "        avg_loss = 0.0\n",
    "        avg_acc = 0.0\n",
    "        avg_mae = 0.0\n",
    "        for sample_i in tqdm(range(int(len(X[0])*train_split), len(X[0]))):\n",
    "            [test_loss, acc, mae]   =  simple_conv.test_on_batch([X[0][sample_i].reshape(1,len(X[0][sample_i]),3), \n",
    "                                        X[1][sample_i].reshape(1,len(X[1][sample_i]),3), \n",
    "                                        X[2][sample_i].reshape(1,len(X[2][sample_i]),3), \n",
    "                                        X[3][sample_i].reshape(1,len(X[3][sample_i]),3)],\n",
    "                                        #X[4][sample_i].reshape(1,len(X[4][sample_i]),3*29)], \n",
    "                                        y_ohe[sample_i].reshape(1,10))\n",
    "            avg_loss += test_loss/(len(X[0])*(1-train_split))\n",
    "            avg_acc += acc/(len(X[0])*(1-train_split))\n",
    "            avg_mae += mae/(len(X[0])*(1-train_split))\n",
    "            \n",
    "        #print(f'test acc: {avg_acc} mae: {avg_mae} loss: {avg_loss}')\n",
    "        \n",
    "    return simple_conv, report_acc\n",
    "\n",
    "def test_task2(simple_conv, X2, y2_ohe, threshold = 0.5):\n",
    "    for i in range(len(X2)):\n",
    "        for j in range(len(X2[0])):\n",
    "            if len(X2) == 5 and i == len(X2)-1: # assuming mocap always comes in the last index\n",
    "                if len(X2[i][j]) == 0:\n",
    "                    X2[i][j] = np.zeros((1, 87))\n",
    "            else:\n",
    "                if len(X2[i][j]) == 0:\n",
    "                    X2[i][j] = np.array([[0., 0., 0.]], dtype = np.float32)\n",
    "\n",
    "    print('Running test on subject ...')\n",
    "    avg_loss = 0.0\n",
    "    avg_f1 = 0.0\n",
    "    avg_mae = 0.0\n",
    "    avg_acc = 0.0\n",
    "    for sample_i in tqdm(range(int(len(X2[0])))):\n",
    "        [test_loss, f1, mae]   =  simple_conv.test_on_batch([X2[0][sample_i].reshape(1,len(X2[0][sample_i]),3), \n",
    "                                    X2[1][sample_i].reshape(1,len(X2[1][sample_i]),3), \n",
    "                                    X2[2][sample_i].reshape(1,len(X2[2][sample_i]),3), \n",
    "                                    X2[3][sample_i].reshape(1,len(X2[3][sample_i]),3)],\n",
    "                                    #X2[4][sample_i].reshape(1,len(X2[4][sample_i]),3*29)], \n",
    "                                    y2_ohe[sample_i].reshape(1,10))\n",
    "        p = simple_conv.predict([X2[0][sample_i].reshape(1,len(X2[0][sample_i]),3), \n",
    "                                    X2[1][sample_i].reshape(1,len(X2[1][sample_i]),3), \n",
    "                                    X2[2][sample_i].reshape(1,len(X2[2][sample_i]),3), \n",
    "                                    X2[3][sample_i].reshape(1,len(X2[3][sample_i]),3)])[0]\n",
    "        p[p<threshold] = 0.0\n",
    "        p[p>=threshold] = 1.0\n",
    "        pred_lab = []\n",
    "        true_lab = []\n",
    "        cl = 0\n",
    "        for cp in p:\n",
    "            if cp >= threshold:\n",
    "                pred_lab.append(cl)\n",
    "            cl += 1\n",
    "            \n",
    "        cl = 0\n",
    "        for cp in y2_ohe[sample_i]:\n",
    "            if cp >= threshold:\n",
    "                true_lab.append(cl)\n",
    "            cl += 1\n",
    "            \n",
    "        avg_acc += (len(  list(set(pred_lab).intersection(true_lab))   )/len(list(set(pred_lab+true_lab))))/(len(X2[0]))\n",
    "        \n",
    "        avg_loss += test_loss/(len(X2[0]))\n",
    "        avg_f1 += f1/(len(X2[0]))\n",
    "        avg_mae += mae/(len(X2[0]))\n",
    "    print(f'test f1: {avg_f1} test acc: {avg_acc} mae: {avg_mae} loss: {avg_loss}')\n",
    "    return avg_acc"
   ]
  },
  {
   "cell_type": "code",
   "execution_count": 80,
   "metadata": {},
   "outputs": [
    {
     "data": {
      "text/plain": [
       "{1, 2}"
      ]
     },
     "execution_count": 80,
     "metadata": {},
     "output_type": "execute_result"
    }
   ],
   "source": [
    "set([1,2]).intersection([1,2, 2])"
   ]
  },
  {
   "cell_type": "code",
   "execution_count": 125,
   "metadata": {},
   "outputs": [
    {
     "name": "stdout",
     "output_type": "stream",
     "text": [
      "Input tensors: [<tf.Tensor 'right_arm_ipX_41:0' shape=(None, None, 3) dtype=float32>, <tf.Tensor 'right_wrist_ipX_41:0' shape=(None, None, 3) dtype=float32>, <tf.Tensor 'left_hip_ipX_41:0' shape=(None, None, 3) dtype=float32>, <tf.Tensor 'left_wrist_ipX_41:0' shape=(None, None, 3) dtype=float32>]\n",
      "Training epoch 0 ...\n"
     ]
    },
    {
     "name": "stderr",
     "output_type": "stream",
     "text": [
      "100%|████████████████████████████████████████████████████████████████████████████████| 105/105 [00:10<00:00,  9.58it/s]\n"
     ]
    },
    {
     "name": "stdout",
     "output_type": "stream",
     "text": [
      "f1: 0.43660065489155936 mae: 0.3141729822471029 loss: 5.4001261938185925\n"
     ]
    },
    {
     "name": "stderr",
     "output_type": "stream",
     "text": [
      "0it [00:00, ?it/s]\n"
     ]
    },
    {
     "name": "stdout",
     "output_type": "stream",
     "text": [
      "Training epoch 0 ...\n"
     ]
    },
    {
     "name": "stderr",
     "output_type": "stream",
     "text": [
      "100%|████████████████████████████████████████████████████████████████████████████████| 103/103 [00:09<00:00, 10.30it/s]\n"
     ]
    },
    {
     "name": "stdout",
     "output_type": "stream",
     "text": [
      "f1: 0.3793342223445187 mae: 0.2482129723122977 loss: 3.8136899980526517\n"
     ]
    },
    {
     "name": "stderr",
     "output_type": "stream",
     "text": [
      "0it [00:00, ?it/s]\n"
     ]
    },
    {
     "name": "stdout",
     "output_type": "stream",
     "text": [
      "Training epoch 0 ...\n"
     ]
    },
    {
     "name": "stderr",
     "output_type": "stream",
     "text": [
      "100%|████████████████████████████████████████████████████████████████████████████████| 105/105 [00:10<00:00, 10.30it/s]\n"
     ]
    },
    {
     "name": "stdout",
     "output_type": "stream",
     "text": [
      "f1: 0.5292743166287741 mae: 0.21304808322872434 loss: 3.537366553715298\n"
     ]
    },
    {
     "name": "stderr",
     "output_type": "stream",
     "text": [
      "0it [00:00, ?it/s]\n"
     ]
    },
    {
     "name": "stdout",
     "output_type": "stream",
     "text": [
      "Training epoch 0 ...\n"
     ]
    },
    {
     "name": "stderr",
     "output_type": "stream",
     "text": [
      "100%|████████████████████████████████████████████████████████████████████████████████| 103/103 [00:10<00:00,  9.41it/s]\n"
     ]
    },
    {
     "name": "stdout",
     "output_type": "stream",
     "text": [
      "f1: 0.46942514152202763 mae: 0.22049424609223603 loss: 3.030871196857934\n"
     ]
    },
    {
     "name": "stderr",
     "output_type": "stream",
     "text": [
      "0it [00:00, ?it/s]\n"
     ]
    },
    {
     "name": "stdout",
     "output_type": "stream",
     "text": [
      "Training epoch 0 ...\n"
     ]
    },
    {
     "name": "stderr",
     "output_type": "stream",
     "text": [
      "100%|████████████████████████████████████████████████████████████████████████████████| 105/105 [00:10<00:00, 10.37it/s]\n"
     ]
    },
    {
     "name": "stdout",
     "output_type": "stream",
     "text": [
      "f1: 0.6279364407062528 mae: 0.19777996887763336 loss: 3.1104106903076163\n"
     ]
    },
    {
     "name": "stderr",
     "output_type": "stream",
     "text": [
      "0it [00:00, ?it/s]\n"
     ]
    },
    {
     "name": "stdout",
     "output_type": "stream",
     "text": [
      "Training epoch 0 ...\n"
     ]
    },
    {
     "name": "stderr",
     "output_type": "stream",
     "text": [
      "100%|████████████████████████████████████████████████████████████████████████████████| 103/103 [00:09<00:00, 10.54it/s]\n"
     ]
    },
    {
     "name": "stdout",
     "output_type": "stream",
     "text": [
      "f1: 0.5369239796712557 mae: 0.20196738884359314 loss: 2.801193667846975\n"
     ]
    },
    {
     "name": "stderr",
     "output_type": "stream",
     "text": [
      "0it [00:00, ?it/s]\n"
     ]
    },
    {
     "name": "stdout",
     "output_type": "stream",
     "text": [
      "Training epoch 0 ...\n"
     ]
    },
    {
     "name": "stderr",
     "output_type": "stream",
     "text": [
      "100%|████████████████████████████████████████████████████████████████████████████████| 105/105 [00:10<00:00, 10.25it/s]\n"
     ]
    },
    {
     "name": "stdout",
     "output_type": "stream",
     "text": [
      "f1: 0.6608918502217246 mae: 0.19340172129727543 loss: 2.9772351628258122\n"
     ]
    },
    {
     "name": "stderr",
     "output_type": "stream",
     "text": [
      "0it [00:00, ?it/s]\n"
     ]
    },
    {
     "name": "stdout",
     "output_type": "stream",
     "text": [
      "Training epoch 0 ...\n"
     ]
    },
    {
     "name": "stderr",
     "output_type": "stream",
     "text": [
      "100%|████████████████████████████████████████████████████████████████████████████████| 103/103 [00:10<00:00, 10.26it/s]\n"
     ]
    },
    {
     "name": "stdout",
     "output_type": "stream",
     "text": [
      "f1: 0.5688934621301666 mae: 0.1949866668691913 loss: 2.7278243500052146\n"
     ]
    },
    {
     "name": "stderr",
     "output_type": "stream",
     "text": [
      "0it [00:00, ?it/s]\n"
     ]
    },
    {
     "name": "stdout",
     "output_type": "stream",
     "text": [
      "Training epoch 0 ...\n"
     ]
    },
    {
     "name": "stderr",
     "output_type": "stream",
     "text": [
      "100%|████████████████████████████████████████████████████████████████████████████████| 105/105 [00:10<00:00, 10.08it/s]\n"
     ]
    },
    {
     "name": "stdout",
     "output_type": "stream",
     "text": [
      "f1: 0.6775585146177381 mae: 0.19120533012208477 loss: 2.9330748149326875\n"
     ]
    },
    {
     "name": "stderr",
     "output_type": "stream",
     "text": [
      "0it [00:00, ?it/s]\n"
     ]
    },
    {
     "name": "stdout",
     "output_type": "stream",
     "text": [
      "Training epoch 0 ...\n"
     ]
    },
    {
     "name": "stderr",
     "output_type": "stream",
     "text": [
      "100%|████████████████████████████████████████████████████████████████████████████████| 103/103 [00:09<00:00, 10.79it/s]\n"
     ]
    },
    {
     "name": "stdout",
     "output_type": "stream",
     "text": [
      "f1: 0.5737478296154906 mae: 0.19260917669071728 loss: 2.7033944801219456\n"
     ]
    },
    {
     "name": "stderr",
     "output_type": "stream",
     "text": [
      "0it [00:00, ?it/s]\n"
     ]
    },
    {
     "name": "stdout",
     "output_type": "stream",
     "text": [
      "Training epoch 0 ...\n"
     ]
    },
    {
     "name": "stderr",
     "output_type": "stream",
     "text": [
      "100%|████████████████████████████████████████████████████████████████████████████████| 105/105 [00:09<00:00, 10.54it/s]\n"
     ]
    },
    {
     "name": "stdout",
     "output_type": "stream",
     "text": [
      "f1: 0.6759712136927104 mae: 0.19041849949530198 loss: 2.9184658141363236\n"
     ]
    },
    {
     "name": "stderr",
     "output_type": "stream",
     "text": [
      "0it [00:00, ?it/s]\n"
     ]
    },
    {
     "name": "stdout",
     "output_type": "stream",
     "text": [
      "Training epoch 0 ...\n"
     ]
    },
    {
     "name": "stderr",
     "output_type": "stream",
     "text": [
      "100%|████████████████████████████████████████████████████████████████████████████████| 103/103 [00:09<00:00, 10.66it/s]\n"
     ]
    },
    {
     "name": "stdout",
     "output_type": "stream",
     "text": [
      "f1: 0.5737478296154906 mae: 0.19180667599283371 loss: 2.695324122327046\n"
     ]
    },
    {
     "name": "stderr",
     "output_type": "stream",
     "text": [
      "0it [00:00, ?it/s]\n"
     ]
    },
    {
     "name": "stdout",
     "output_type": "stream",
     "text": [
      "Training epoch 0 ...\n"
     ]
    },
    {
     "name": "stderr",
     "output_type": "stream",
     "text": [
      "100%|████████████████████████████████████████████████████████████████████████████████| 105/105 [00:10<00:00,  9.84it/s]\n"
     ]
    },
    {
     "name": "stdout",
     "output_type": "stream",
     "text": [
      "f1: 0.6791458161104291 mae: 0.19014757571830626 loss: 2.913613589604696\n"
     ]
    },
    {
     "name": "stderr",
     "output_type": "stream",
     "text": [
      "0it [00:00, ?it/s]\n"
     ]
    },
    {
     "name": "stdout",
     "output_type": "stream",
     "text": [
      "Training epoch 0 ...\n"
     ]
    },
    {
     "name": "stderr",
     "output_type": "stream",
     "text": [
      "100%|████████████████████████████████████████████████████████████████████████████████| 103/103 [00:09<00:00, 10.45it/s]\n"
     ]
    },
    {
     "name": "stdout",
     "output_type": "stream",
     "text": [
      "f1: 0.5737478296154906 mae: 0.19153916380069783 loss: 2.6926450752517552\n"
     ]
    },
    {
     "name": "stderr",
     "output_type": "stream",
     "text": [
      "0it [00:00, ?it/s]\n"
     ]
    },
    {
     "name": "stdout",
     "output_type": "stream",
     "text": [
      "Training epoch 0 ...\n"
     ]
    },
    {
     "name": "stderr",
     "output_type": "stream",
     "text": [
      "100%|████████████████████████████████████████████████████████████████████████████████| 105/105 [00:10<00:00, 10.35it/s]\n"
     ]
    },
    {
     "name": "stdout",
     "output_type": "stream",
     "text": [
      "f1: 0.6791458161104291 mae: 0.19005569748225665 loss: 2.9119969753991994\n"
     ]
    },
    {
     "name": "stderr",
     "output_type": "stream",
     "text": [
      "0it [00:00, ?it/s]\n"
     ]
    },
    {
     "name": "stdout",
     "output_type": "stream",
     "text": [
      "Training epoch 0 ...\n"
     ]
    },
    {
     "name": "stderr",
     "output_type": "stream",
     "text": [
      "100%|████████████████████████████████████████████████████████████████████████████████| 103/103 [00:09<00:00, 10.50it/s]\n"
     ]
    },
    {
     "name": "stdout",
     "output_type": "stream",
     "text": [
      "f1: 0.5737478296154906 mae: 0.1914514083668446 loss: 2.6917540170614007\n"
     ]
    },
    {
     "name": "stderr",
     "output_type": "stream",
     "text": [
      "0it [00:00, ?it/s]\n"
     ]
    },
    {
     "name": "stdout",
     "output_type": "stream",
     "text": [
      "Training epoch 0 ...\n"
     ]
    },
    {
     "name": "stderr",
     "output_type": "stream",
     "text": [
      "100%|████████████████████████████████████████████████████████████████████████████████| 105/105 [01:49<00:00,  1.05s/it]\n"
     ]
    },
    {
     "name": "stdout",
     "output_type": "stream",
     "text": [
      "f1: 0.6791458161104291 mae: 0.1900250328261228 loss: 2.9114585490453795\n"
     ]
    },
    {
     "name": "stderr",
     "output_type": "stream",
     "text": [
      "0it [00:00, ?it/s]\n"
     ]
    },
    {
     "name": "stdout",
     "output_type": "stream",
     "text": [
      "Training epoch 0 ...\n"
     ]
    },
    {
     "name": "stderr",
     "output_type": "stream",
     "text": [
      "100%|████████████████████████████████████████████████████████████████████████████████| 103/103 [00:11<00:00,  8.97it/s]\n"
     ]
    },
    {
     "name": "stdout",
     "output_type": "stream",
     "text": [
      "f1: 0.5737478296154906 mae: 0.19142204193958962 loss: 2.6914570632490147\n"
     ]
    },
    {
     "name": "stderr",
     "output_type": "stream",
     "text": [
      "0it [00:00, ?it/s]\n"
     ]
    },
    {
     "name": "stdout",
     "output_type": "stream",
     "text": [
      "Training epoch 0 ...\n"
     ]
    },
    {
     "name": "stderr",
     "output_type": "stream",
     "text": [
      "100%|████████████████████████████████████████████████████████████████████████████████| 105/105 [00:11<00:00,  9.14it/s]\n"
     ]
    },
    {
     "name": "stdout",
     "output_type": "stream",
     "text": [
      "f1: 0.6791458161104291 mae: 0.19001472705886482 loss: 2.911279401325045\n"
     ]
    },
    {
     "name": "stderr",
     "output_type": "stream",
     "text": [
      "0it [00:00, ?it/s]\n"
     ]
    },
    {
     "name": "stdout",
     "output_type": "stream",
     "text": [
      "Training epoch 0 ...\n"
     ]
    },
    {
     "name": "stderr",
     "output_type": "stream",
     "text": [
      "100%|████████████████████████████████████████████████████████████████████████████████| 103/103 [00:11<00:00,  8.65it/s]\n"
     ]
    },
    {
     "name": "stdout",
     "output_type": "stream",
     "text": [
      "f1: 0.5737478296154906 mae: 0.19141234041562355 loss: 2.69135835332778\n"
     ]
    },
    {
     "name": "stderr",
     "output_type": "stream",
     "text": [
      "0it [00:00, ?it/s]\n"
     ]
    },
    {
     "name": "stdout",
     "output_type": "stream",
     "text": [
      "Training epoch 0 ...\n"
     ]
    },
    {
     "name": "stderr",
     "output_type": "stream",
     "text": [
      "100%|████████████████████████████████████████████████████████████████████████████████| 105/105 [00:11<00:00,  9.25it/s]\n"
     ]
    },
    {
     "name": "stdout",
     "output_type": "stream",
     "text": [
      "f1: 0.6791458161104291 mae: 0.19001141013134093 loss: 2.9112200964064825\n"
     ]
    },
    {
     "name": "stderr",
     "output_type": "stream",
     "text": [
      "0it [00:00, ?it/s]\n"
     ]
    },
    {
     "name": "stdout",
     "output_type": "stream",
     "text": [
      "Training epoch 0 ...\n"
     ]
    },
    {
     "name": "stderr",
     "output_type": "stream",
     "text": [
      "100%|████████████████████████████████████████████████████████████████████████████████| 103/103 [00:10<00:00,  9.65it/s]\n"
     ]
    },
    {
     "name": "stdout",
     "output_type": "stream",
     "text": [
      "f1: 0.5737478296154906 mae: 0.19140907445723568 loss: 2.691327451502236\n"
     ]
    },
    {
     "name": "stderr",
     "output_type": "stream",
     "text": [
      "0it [00:00, ?it/s]\n"
     ]
    },
    {
     "name": "stdout",
     "output_type": "stream",
     "text": [
      "Training epoch 0 ...\n"
     ]
    },
    {
     "name": "stderr",
     "output_type": "stream",
     "text": [
      "100%|████████████████████████████████████████████████████████████████████████████████| 105/105 [00:11<00:00,  8.87it/s]\n"
     ]
    },
    {
     "name": "stdout",
     "output_type": "stream",
     "text": [
      "f1: 0.6791458161104291 mae: 0.19001057055734438 loss: 2.9112045833042686\n"
     ]
    },
    {
     "name": "stderr",
     "output_type": "stream",
     "text": [
      "0it [00:00, ?it/s]\n"
     ]
    },
    {
     "name": "stdout",
     "output_type": "stream",
     "text": [
      "Training epoch 0 ...\n"
     ]
    },
    {
     "name": "stderr",
     "output_type": "stream",
     "text": [
      "100%|████████████████████████████████████████████████████████████████████████████████| 103/103 [00:11<00:00,  9.15it/s]\n"
     ]
    },
    {
     "name": "stdout",
     "output_type": "stream",
     "text": [
      "f1: 0.5737478296154906 mae: 0.19140825796763875 loss: 2.691320544307672\n"
     ]
    },
    {
     "name": "stderr",
     "output_type": "stream",
     "text": [
      "0it [00:00, ?it/s]\n"
     ]
    },
    {
     "name": "stdout",
     "output_type": "stream",
     "text": [
      "Training epoch 0 ...\n"
     ]
    },
    {
     "name": "stderr",
     "output_type": "stream",
     "text": [
      "100%|████████████████████████████████████████████████████████████████████████████████| 105/105 [00:10<00:00,  9.67it/s]\n"
     ]
    },
    {
     "name": "stdout",
     "output_type": "stream",
     "text": [
      "f1: 0.6791458161104291 mae: 0.19001047004546437 loss: 2.9112024579729354\n"
     ]
    },
    {
     "name": "stderr",
     "output_type": "stream",
     "text": [
      "0it [00:00, ?it/s]\n"
     ]
    },
    {
     "name": "stdout",
     "output_type": "stream",
     "text": [
      "Training epoch 0 ...\n"
     ]
    },
    {
     "name": "stderr",
     "output_type": "stream",
     "text": [
      "100%|████████████████████████████████████████████████████████████████████████████████| 103/103 [00:10<00:00, 10.10it/s]\n"
     ]
    },
    {
     "name": "stdout",
     "output_type": "stream",
     "text": [
      "f1: 0.5737478296154906 mae: 0.19140813803499188 loss: 2.6913196531314285\n"
     ]
    },
    {
     "name": "stderr",
     "output_type": "stream",
     "text": [
      "0it [00:00, ?it/s]\n"
     ]
    },
    {
     "name": "stdout",
     "output_type": "stream",
     "text": [
      "Training epoch 0 ...\n"
     ]
    },
    {
     "name": "stderr",
     "output_type": "stream",
     "text": [
      "100%|████████████████████████████████████████████████████████████████████████████████| 105/105 [00:10<00:00,  9.73it/s]\n"
     ]
    },
    {
     "name": "stdout",
     "output_type": "stream",
     "text": [
      "f1: 0.6791458161104291 mae: 0.1900104506739548 loss: 2.911202196847824\n"
     ]
    },
    {
     "name": "stderr",
     "output_type": "stream",
     "text": [
      "0it [00:00, ?it/s]\n"
     ]
    },
    {
     "name": "stdout",
     "output_type": "stream",
     "text": [
      "Training epoch 0 ...\n"
     ]
    },
    {
     "name": "stderr",
     "output_type": "stream",
     "text": [
      "100%|████████████████████████████████████████████████████████████████████████████████| 103/103 [00:11<00:00,  8.80it/s]\n"
     ]
    },
    {
     "name": "stdout",
     "output_type": "stream",
     "text": [
      "f1: 0.5737478296154906 mae: 0.19140812450820963 loss: 2.6913193776769546\n"
     ]
    },
    {
     "name": "stderr",
     "output_type": "stream",
     "text": [
      "0it [00:00, ?it/s]\n"
     ]
    },
    {
     "name": "stdout",
     "output_type": "stream",
     "text": [
      "Training epoch 0 ...\n"
     ]
    },
    {
     "name": "stderr",
     "output_type": "stream",
     "text": [
      "100%|████████████████████████████████████████████████████████████████████████████████| 105/105 [00:11<00:00,  9.10it/s]\n"
     ]
    },
    {
     "name": "stdout",
     "output_type": "stream",
     "text": [
      "f1: 0.6791458161104291 mae: 0.1900104507094338 loss: 2.911201763153075\n"
     ]
    },
    {
     "name": "stderr",
     "output_type": "stream",
     "text": [
      "0it [00:00, ?it/s]\n"
     ]
    },
    {
     "name": "stdout",
     "output_type": "stream",
     "text": [
      "Training epoch 0 ...\n"
     ]
    },
    {
     "name": "stderr",
     "output_type": "stream",
     "text": [
      "100%|████████████████████████████████████████████████████████████████████████████████| 103/103 [00:11<00:00,  9.11it/s]\n"
     ]
    },
    {
     "name": "stdout",
     "output_type": "stream",
     "text": [
      "f1: 0.5737478296154906 mae: 0.19140811651511097 loss: 2.691319370732724\n"
     ]
    },
    {
     "name": "stderr",
     "output_type": "stream",
     "text": [
      "0it [00:00, ?it/s]\n"
     ]
    },
    {
     "name": "stdout",
     "output_type": "stream",
     "text": [
      "-------------------------------------------------\n",
      "Test phase\n",
      "Testing X1\n",
      "Running test on subject ...\n"
     ]
    },
    {
     "name": "stderr",
     "output_type": "stream",
     "text": [
      "  5%|████▏                                                                              | 4/80 [00:03<01:01,  1.24it/s]"
     ]
    },
    {
     "name": "stdout",
     "output_type": "stream",
     "text": [
      "WARNING:tensorflow:5 out of the last 5 calls to <function _make_execution_function.<locals>.distributed_function at 0x0000020732D1AF78> triggered tf.function retracing. Tracing is expensive and the excessive number of tracings is likely due to passing python objects instead of tensors. Also, tf.function has experimental_relax_shapes=True option that relaxes argument shapes that can avoid unnecessary retracing. Please refer to https://www.tensorflow.org/beta/tutorials/eager/tf_function#python_or_tensor_args and https://www.tensorflow.org/api_docs/python/tf/function for more details.\n"
     ]
    },
    {
     "name": "stderr",
     "output_type": "stream",
     "text": [
      "\r",
      "  6%|█████▏                                                                             | 5/80 [00:03<00:58,  1.28it/s]"
     ]
    },
    {
     "name": "stdout",
     "output_type": "stream",
     "text": [
      "WARNING:tensorflow:6 out of the last 6 calls to <function _make_execution_function.<locals>.distributed_function at 0x0000020732D1AF78> triggered tf.function retracing. Tracing is expensive and the excessive number of tracings is likely due to passing python objects instead of tensors. Also, tf.function has experimental_relax_shapes=True option that relaxes argument shapes that can avoid unnecessary retracing. Please refer to https://www.tensorflow.org/beta/tutorials/eager/tf_function#python_or_tensor_args and https://www.tensorflow.org/api_docs/python/tf/function for more details.\n"
     ]
    },
    {
     "name": "stderr",
     "output_type": "stream",
     "text": [
      "\r",
      "  8%|██████▏                                                                            | 6/80 [00:04<00:56,  1.31it/s]"
     ]
    },
    {
     "name": "stdout",
     "output_type": "stream",
     "text": [
      "WARNING:tensorflow:7 out of the last 7 calls to <function _make_execution_function.<locals>.distributed_function at 0x0000020732D1AF78> triggered tf.function retracing. Tracing is expensive and the excessive number of tracings is likely due to passing python objects instead of tensors. Also, tf.function has experimental_relax_shapes=True option that relaxes argument shapes that can avoid unnecessary retracing. Please refer to https://www.tensorflow.org/beta/tutorials/eager/tf_function#python_or_tensor_args and https://www.tensorflow.org/api_docs/python/tf/function for more details.\n"
     ]
    },
    {
     "name": "stderr",
     "output_type": "stream",
     "text": [
      "\r",
      "  9%|███████▎                                                                           | 7/80 [00:05<00:54,  1.34it/s]"
     ]
    },
    {
     "name": "stdout",
     "output_type": "stream",
     "text": [
      "WARNING:tensorflow:8 out of the last 8 calls to <function _make_execution_function.<locals>.distributed_function at 0x0000020732D1AF78> triggered tf.function retracing. Tracing is expensive and the excessive number of tracings is likely due to passing python objects instead of tensors. Also, tf.function has experimental_relax_shapes=True option that relaxes argument shapes that can avoid unnecessary retracing. Please refer to https://www.tensorflow.org/beta/tutorials/eager/tf_function#python_or_tensor_args and https://www.tensorflow.org/api_docs/python/tf/function for more details.\n"
     ]
    },
    {
     "name": "stderr",
     "output_type": "stream",
     "text": [
      "\r",
      " 10%|████████▎                                                                          | 8/80 [00:06<00:53,  1.34it/s]"
     ]
    },
    {
     "name": "stdout",
     "output_type": "stream",
     "text": [
      "WARNING:tensorflow:9 out of the last 9 calls to <function _make_execution_function.<locals>.distributed_function at 0x0000020732D1AF78> triggered tf.function retracing. Tracing is expensive and the excessive number of tracings is likely due to passing python objects instead of tensors. Also, tf.function has experimental_relax_shapes=True option that relaxes argument shapes that can avoid unnecessary retracing. Please refer to https://www.tensorflow.org/beta/tutorials/eager/tf_function#python_or_tensor_args and https://www.tensorflow.org/api_docs/python/tf/function for more details.\n"
     ]
    },
    {
     "name": "stderr",
     "output_type": "stream",
     "text": [
      "\r",
      " 11%|█████████▎                                                                         | 9/80 [00:06<00:53,  1.33it/s]"
     ]
    },
    {
     "name": "stdout",
     "output_type": "stream",
     "text": [
      "WARNING:tensorflow:10 out of the last 10 calls to <function _make_execution_function.<locals>.distributed_function at 0x0000020732D1AF78> triggered tf.function retracing. Tracing is expensive and the excessive number of tracings is likely due to passing python objects instead of tensors. Also, tf.function has experimental_relax_shapes=True option that relaxes argument shapes that can avoid unnecessary retracing. Please refer to https://www.tensorflow.org/beta/tutorials/eager/tf_function#python_or_tensor_args and https://www.tensorflow.org/api_docs/python/tf/function for more details.\n"
     ]
    },
    {
     "name": "stderr",
     "output_type": "stream",
     "text": [
      "\r",
      " 12%|██████████▎                                                                       | 10/80 [00:07<00:54,  1.29it/s]"
     ]
    },
    {
     "name": "stdout",
     "output_type": "stream",
     "text": [
      "WARNING:tensorflow:11 out of the last 11 calls to <function _make_execution_function.<locals>.distributed_function at 0x0000020732D1AF78> triggered tf.function retracing. Tracing is expensive and the excessive number of tracings is likely due to passing python objects instead of tensors. Also, tf.function has experimental_relax_shapes=True option that relaxes argument shapes that can avoid unnecessary retracing. Please refer to https://www.tensorflow.org/beta/tutorials/eager/tf_function#python_or_tensor_args and https://www.tensorflow.org/api_docs/python/tf/function for more details.\n"
     ]
    },
    {
     "name": "stderr",
     "output_type": "stream",
     "text": [
      "\r",
      " 14%|███████████▎                                                                      | 11/80 [00:08<00:52,  1.32it/s]"
     ]
    },
    {
     "name": "stdout",
     "output_type": "stream",
     "text": [
      "WARNING:tensorflow:11 out of the last 11 calls to <function _make_execution_function.<locals>.distributed_function at 0x0000020732D1AF78> triggered tf.function retracing. Tracing is expensive and the excessive number of tracings is likely due to passing python objects instead of tensors. Also, tf.function has experimental_relax_shapes=True option that relaxes argument shapes that can avoid unnecessary retracing. Please refer to https://www.tensorflow.org/beta/tutorials/eager/tf_function#python_or_tensor_args and https://www.tensorflow.org/api_docs/python/tf/function for more details.\n"
     ]
    },
    {
     "name": "stderr",
     "output_type": "stream",
     "text": [
      "\r",
      " 15%|████████████▎                                                                     | 12/80 [00:08<00:49,  1.37it/s]"
     ]
    },
    {
     "name": "stdout",
     "output_type": "stream",
     "text": [
      "WARNING:tensorflow:11 out of the last 11 calls to <function _make_execution_function.<locals>.distributed_function at 0x0000020732D1AF78> triggered tf.function retracing. Tracing is expensive and the excessive number of tracings is likely due to passing python objects instead of tensors. Also, tf.function has experimental_relax_shapes=True option that relaxes argument shapes that can avoid unnecessary retracing. Please refer to https://www.tensorflow.org/beta/tutorials/eager/tf_function#python_or_tensor_args and https://www.tensorflow.org/api_docs/python/tf/function for more details.\n"
     ]
    },
    {
     "name": "stderr",
     "output_type": "stream",
     "text": [
      "\r",
      " 16%|█████████████▎                                                                    | 13/80 [00:09<00:47,  1.42it/s]"
     ]
    },
    {
     "name": "stdout",
     "output_type": "stream",
     "text": [
      "WARNING:tensorflow:11 out of the last 11 calls to <function _make_execution_function.<locals>.distributed_function at 0x0000020732D1AF78> triggered tf.function retracing. Tracing is expensive and the excessive number of tracings is likely due to passing python objects instead of tensors. Also, tf.function has experimental_relax_shapes=True option that relaxes argument shapes that can avoid unnecessary retracing. Please refer to https://www.tensorflow.org/beta/tutorials/eager/tf_function#python_or_tensor_args and https://www.tensorflow.org/api_docs/python/tf/function for more details.\n"
     ]
    },
    {
     "name": "stderr",
     "output_type": "stream",
     "text": [
      "\r",
      " 18%|██████████████▎                                                                   | 14/80 [00:10<00:45,  1.46it/s]"
     ]
    },
    {
     "name": "stdout",
     "output_type": "stream",
     "text": [
      "WARNING:tensorflow:11 out of the last 11 calls to <function _make_execution_function.<locals>.distributed_function at 0x0000020732D1AF78> triggered tf.function retracing. Tracing is expensive and the excessive number of tracings is likely due to passing python objects instead of tensors. Also, tf.function has experimental_relax_shapes=True option that relaxes argument shapes that can avoid unnecessary retracing. Please refer to https://www.tensorflow.org/beta/tutorials/eager/tf_function#python_or_tensor_args and https://www.tensorflow.org/api_docs/python/tf/function for more details.\n"
     ]
    },
    {
     "name": "stderr",
     "output_type": "stream",
     "text": [
      "\r",
      " 19%|███████████████▍                                                                  | 15/80 [00:10<00:43,  1.49it/s]"
     ]
    },
    {
     "name": "stdout",
     "output_type": "stream",
     "text": [
      "WARNING:tensorflow:11 out of the last 11 calls to <function _make_execution_function.<locals>.distributed_function at 0x0000020732D1AF78> triggered tf.function retracing. Tracing is expensive and the excessive number of tracings is likely due to passing python objects instead of tensors. Also, tf.function has experimental_relax_shapes=True option that relaxes argument shapes that can avoid unnecessary retracing. Please refer to https://www.tensorflow.org/beta/tutorials/eager/tf_function#python_or_tensor_args and https://www.tensorflow.org/api_docs/python/tf/function for more details.\n"
     ]
    },
    {
     "name": "stderr",
     "output_type": "stream",
     "text": [
      "\r",
      " 20%|████████████████▍                                                                 | 16/80 [00:11<00:42,  1.51it/s]"
     ]
    },
    {
     "name": "stdout",
     "output_type": "stream",
     "text": [
      "WARNING:tensorflow:11 out of the last 11 calls to <function _make_execution_function.<locals>.distributed_function at 0x0000020732D1AF78> triggered tf.function retracing. Tracing is expensive and the excessive number of tracings is likely due to passing python objects instead of tensors. Also, tf.function has experimental_relax_shapes=True option that relaxes argument shapes that can avoid unnecessary retracing. Please refer to https://www.tensorflow.org/beta/tutorials/eager/tf_function#python_or_tensor_args and https://www.tensorflow.org/api_docs/python/tf/function for more details.\n"
     ]
    },
    {
     "name": "stderr",
     "output_type": "stream",
     "text": [
      "\r",
      " 21%|█████████████████▍                                                                | 17/80 [00:12<00:41,  1.51it/s]"
     ]
    },
    {
     "name": "stdout",
     "output_type": "stream",
     "text": [
      "WARNING:tensorflow:11 out of the last 11 calls to <function _make_execution_function.<locals>.distributed_function at 0x0000020732D1AF78> triggered tf.function retracing. Tracing is expensive and the excessive number of tracings is likely due to passing python objects instead of tensors. Also, tf.function has experimental_relax_shapes=True option that relaxes argument shapes that can avoid unnecessary retracing. Please refer to https://www.tensorflow.org/beta/tutorials/eager/tf_function#python_or_tensor_args and https://www.tensorflow.org/api_docs/python/tf/function for more details.\n"
     ]
    },
    {
     "name": "stderr",
     "output_type": "stream",
     "text": [
      "\r",
      " 22%|██████████████████▍                                                               | 18/80 [00:12<00:41,  1.51it/s]"
     ]
    },
    {
     "name": "stdout",
     "output_type": "stream",
     "text": [
      "WARNING:tensorflow:11 out of the last 11 calls to <function _make_execution_function.<locals>.distributed_function at 0x0000020732D1AF78> triggered tf.function retracing. Tracing is expensive and the excessive number of tracings is likely due to passing python objects instead of tensors. Also, tf.function has experimental_relax_shapes=True option that relaxes argument shapes that can avoid unnecessary retracing. Please refer to https://www.tensorflow.org/beta/tutorials/eager/tf_function#python_or_tensor_args and https://www.tensorflow.org/api_docs/python/tf/function for more details.\n"
     ]
    },
    {
     "name": "stderr",
     "output_type": "stream",
     "text": [
      "\r",
      " 24%|███████████████████▍                                                              | 19/80 [00:13<00:39,  1.53it/s]"
     ]
    },
    {
     "name": "stdout",
     "output_type": "stream",
     "text": [
      "WARNING:tensorflow:11 out of the last 11 calls to <function _make_execution_function.<locals>.distributed_function at 0x0000020732D1AF78> triggered tf.function retracing. Tracing is expensive and the excessive number of tracings is likely due to passing python objects instead of tensors. Also, tf.function has experimental_relax_shapes=True option that relaxes argument shapes that can avoid unnecessary retracing. Please refer to https://www.tensorflow.org/beta/tutorials/eager/tf_function#python_or_tensor_args and https://www.tensorflow.org/api_docs/python/tf/function for more details.\n"
     ]
    },
    {
     "name": "stderr",
     "output_type": "stream",
     "text": [
      "\r",
      " 25%|████████████████████▌                                                             | 20/80 [00:14<00:38,  1.55it/s]"
     ]
    },
    {
     "name": "stdout",
     "output_type": "stream",
     "text": [
      "WARNING:tensorflow:11 out of the last 11 calls to <function _make_execution_function.<locals>.distributed_function at 0x0000020732D1AF78> triggered tf.function retracing. Tracing is expensive and the excessive number of tracings is likely due to passing python objects instead of tensors. Also, tf.function has experimental_relax_shapes=True option that relaxes argument shapes that can avoid unnecessary retracing. Please refer to https://www.tensorflow.org/beta/tutorials/eager/tf_function#python_or_tensor_args and https://www.tensorflow.org/api_docs/python/tf/function for more details.\n"
     ]
    },
    {
     "name": "stderr",
     "output_type": "stream",
     "text": [
      "\r",
      " 26%|█████████████████████▌                                                            | 21/80 [00:14<00:37,  1.56it/s]"
     ]
    },
    {
     "name": "stdout",
     "output_type": "stream",
     "text": [
      "WARNING:tensorflow:11 out of the last 11 calls to <function _make_execution_function.<locals>.distributed_function at 0x0000020732D1AF78> triggered tf.function retracing. Tracing is expensive and the excessive number of tracings is likely due to passing python objects instead of tensors. Also, tf.function has experimental_relax_shapes=True option that relaxes argument shapes that can avoid unnecessary retracing. Please refer to https://www.tensorflow.org/beta/tutorials/eager/tf_function#python_or_tensor_args and https://www.tensorflow.org/api_docs/python/tf/function for more details.\n"
     ]
    },
    {
     "name": "stderr",
     "output_type": "stream",
     "text": [
      "\r",
      " 28%|██████████████████████▌                                                           | 22/80 [00:15<00:37,  1.56it/s]"
     ]
    },
    {
     "name": "stdout",
     "output_type": "stream",
     "text": [
      "WARNING:tensorflow:11 out of the last 11 calls to <function _make_execution_function.<locals>.distributed_function at 0x0000020732D1AF78> triggered tf.function retracing. Tracing is expensive and the excessive number of tracings is likely due to passing python objects instead of tensors. Also, tf.function has experimental_relax_shapes=True option that relaxes argument shapes that can avoid unnecessary retracing. Please refer to https://www.tensorflow.org/beta/tutorials/eager/tf_function#python_or_tensor_args and https://www.tensorflow.org/api_docs/python/tf/function for more details.\n"
     ]
    },
    {
     "name": "stderr",
     "output_type": "stream",
     "text": [
      "\r",
      " 29%|███████████████████████▌                                                          | 23/80 [00:16<00:36,  1.57it/s]"
     ]
    },
    {
     "name": "stdout",
     "output_type": "stream",
     "text": [
      "WARNING:tensorflow:11 out of the last 11 calls to <function _make_execution_function.<locals>.distributed_function at 0x0000020732D1AF78> triggered tf.function retracing. Tracing is expensive and the excessive number of tracings is likely due to passing python objects instead of tensors. Also, tf.function has experimental_relax_shapes=True option that relaxes argument shapes that can avoid unnecessary retracing. Please refer to https://www.tensorflow.org/beta/tutorials/eager/tf_function#python_or_tensor_args and https://www.tensorflow.org/api_docs/python/tf/function for more details.\n"
     ]
    },
    {
     "name": "stderr",
     "output_type": "stream",
     "text": [
      "\r",
      " 30%|████████████████████████▌                                                         | 24/80 [00:16<00:36,  1.55it/s]"
     ]
    },
    {
     "name": "stdout",
     "output_type": "stream",
     "text": [
      "WARNING:tensorflow:11 out of the last 11 calls to <function _make_execution_function.<locals>.distributed_function at 0x0000020732D1AF78> triggered tf.function retracing. Tracing is expensive and the excessive number of tracings is likely due to passing python objects instead of tensors. Also, tf.function has experimental_relax_shapes=True option that relaxes argument shapes that can avoid unnecessary retracing. Please refer to https://www.tensorflow.org/beta/tutorials/eager/tf_function#python_or_tensor_args and https://www.tensorflow.org/api_docs/python/tf/function for more details.\n"
     ]
    },
    {
     "name": "stderr",
     "output_type": "stream",
     "text": [
      "\r",
      " 31%|█████████████████████████▋                                                        | 25/80 [00:17<00:35,  1.53it/s]"
     ]
    },
    {
     "name": "stdout",
     "output_type": "stream",
     "text": [
      "WARNING:tensorflow:11 out of the last 11 calls to <function _make_execution_function.<locals>.distributed_function at 0x0000020732D1AF78> triggered tf.function retracing. Tracing is expensive and the excessive number of tracings is likely due to passing python objects instead of tensors. Also, tf.function has experimental_relax_shapes=True option that relaxes argument shapes that can avoid unnecessary retracing. Please refer to https://www.tensorflow.org/beta/tutorials/eager/tf_function#python_or_tensor_args and https://www.tensorflow.org/api_docs/python/tf/function for more details.\n"
     ]
    },
    {
     "name": "stderr",
     "output_type": "stream",
     "text": [
      "\r",
      " 32%|██████████████████████████▋                                                       | 26/80 [00:18<00:35,  1.54it/s]"
     ]
    },
    {
     "name": "stdout",
     "output_type": "stream",
     "text": [
      "WARNING:tensorflow:11 out of the last 11 calls to <function _make_execution_function.<locals>.distributed_function at 0x0000020732D1AF78> triggered tf.function retracing. Tracing is expensive and the excessive number of tracings is likely due to passing python objects instead of tensors. Also, tf.function has experimental_relax_shapes=True option that relaxes argument shapes that can avoid unnecessary retracing. Please refer to https://www.tensorflow.org/beta/tutorials/eager/tf_function#python_or_tensor_args and https://www.tensorflow.org/api_docs/python/tf/function for more details.\n"
     ]
    },
    {
     "name": "stderr",
     "output_type": "stream",
     "text": [
      "\r",
      " 34%|███████████████████████████▋                                                      | 27/80 [00:18<00:35,  1.50it/s]"
     ]
    },
    {
     "name": "stdout",
     "output_type": "stream",
     "text": [
      "WARNING:tensorflow:11 out of the last 11 calls to <function _make_execution_function.<locals>.distributed_function at 0x0000020732D1AF78> triggered tf.function retracing. Tracing is expensive and the excessive number of tracings is likely due to passing python objects instead of tensors. Also, tf.function has experimental_relax_shapes=True option that relaxes argument shapes that can avoid unnecessary retracing. Please refer to https://www.tensorflow.org/beta/tutorials/eager/tf_function#python_or_tensor_args and https://www.tensorflow.org/api_docs/python/tf/function for more details.\n"
     ]
    },
    {
     "name": "stderr",
     "output_type": "stream",
     "text": [
      "\r",
      " 35%|████████████████████████████▋                                                     | 28/80 [00:19<00:34,  1.51it/s]"
     ]
    },
    {
     "name": "stdout",
     "output_type": "stream",
     "text": [
      "WARNING:tensorflow:11 out of the last 11 calls to <function _make_execution_function.<locals>.distributed_function at 0x0000020732D1AF78> triggered tf.function retracing. Tracing is expensive and the excessive number of tracings is likely due to passing python objects instead of tensors. Also, tf.function has experimental_relax_shapes=True option that relaxes argument shapes that can avoid unnecessary retracing. Please refer to https://www.tensorflow.org/beta/tutorials/eager/tf_function#python_or_tensor_args and https://www.tensorflow.org/api_docs/python/tf/function for more details.\n"
     ]
    },
    {
     "name": "stderr",
     "output_type": "stream",
     "text": [
      "\r",
      " 36%|█████████████████████████████▋                                                    | 29/80 [00:20<00:33,  1.53it/s]"
     ]
    },
    {
     "name": "stdout",
     "output_type": "stream",
     "text": [
      "WARNING:tensorflow:11 out of the last 11 calls to <function _make_execution_function.<locals>.distributed_function at 0x0000020732D1AF78> triggered tf.function retracing. Tracing is expensive and the excessive number of tracings is likely due to passing python objects instead of tensors. Also, tf.function has experimental_relax_shapes=True option that relaxes argument shapes that can avoid unnecessary retracing. Please refer to https://www.tensorflow.org/beta/tutorials/eager/tf_function#python_or_tensor_args and https://www.tensorflow.org/api_docs/python/tf/function for more details.\n"
     ]
    },
    {
     "name": "stderr",
     "output_type": "stream",
     "text": [
      "\r",
      " 38%|██████████████████████████████▊                                                   | 30/80 [00:20<00:33,  1.48it/s]"
     ]
    },
    {
     "name": "stdout",
     "output_type": "stream",
     "text": [
      "WARNING:tensorflow:11 out of the last 11 calls to <function _make_execution_function.<locals>.distributed_function at 0x0000020732D1AF78> triggered tf.function retracing. Tracing is expensive and the excessive number of tracings is likely due to passing python objects instead of tensors. Also, tf.function has experimental_relax_shapes=True option that relaxes argument shapes that can avoid unnecessary retracing. Please refer to https://www.tensorflow.org/beta/tutorials/eager/tf_function#python_or_tensor_args and https://www.tensorflow.org/api_docs/python/tf/function for more details.\n"
     ]
    },
    {
     "name": "stderr",
     "output_type": "stream",
     "text": [
      "\r",
      " 39%|███████████████████████████████▊                                                  | 31/80 [00:21<00:33,  1.47it/s]"
     ]
    },
    {
     "name": "stdout",
     "output_type": "stream",
     "text": [
      "WARNING:tensorflow:11 out of the last 11 calls to <function _make_execution_function.<locals>.distributed_function at 0x0000020732D1AF78> triggered tf.function retracing. Tracing is expensive and the excessive number of tracings is likely due to passing python objects instead of tensors. Also, tf.function has experimental_relax_shapes=True option that relaxes argument shapes that can avoid unnecessary retracing. Please refer to https://www.tensorflow.org/beta/tutorials/eager/tf_function#python_or_tensor_args and https://www.tensorflow.org/api_docs/python/tf/function for more details.\n"
     ]
    },
    {
     "name": "stderr",
     "output_type": "stream",
     "text": [
      "\r",
      " 40%|████████████████████████████████▊                                                 | 32/80 [00:22<00:31,  1.51it/s]"
     ]
    },
    {
     "name": "stdout",
     "output_type": "stream",
     "text": [
      "WARNING:tensorflow:11 out of the last 11 calls to <function _make_execution_function.<locals>.distributed_function at 0x0000020732D1AF78> triggered tf.function retracing. Tracing is expensive and the excessive number of tracings is likely due to passing python objects instead of tensors. Also, tf.function has experimental_relax_shapes=True option that relaxes argument shapes that can avoid unnecessary retracing. Please refer to https://www.tensorflow.org/beta/tutorials/eager/tf_function#python_or_tensor_args and https://www.tensorflow.org/api_docs/python/tf/function for more details.\n"
     ]
    },
    {
     "name": "stderr",
     "output_type": "stream",
     "text": [
      "\r",
      " 41%|█████████████████████████████████▊                                                | 33/80 [00:22<00:30,  1.54it/s]"
     ]
    },
    {
     "name": "stdout",
     "output_type": "stream",
     "text": [
      "WARNING:tensorflow:11 out of the last 11 calls to <function _make_execution_function.<locals>.distributed_function at 0x0000020732D1AF78> triggered tf.function retracing. Tracing is expensive and the excessive number of tracings is likely due to passing python objects instead of tensors. Also, tf.function has experimental_relax_shapes=True option that relaxes argument shapes that can avoid unnecessary retracing. Please refer to https://www.tensorflow.org/beta/tutorials/eager/tf_function#python_or_tensor_args and https://www.tensorflow.org/api_docs/python/tf/function for more details.\n"
     ]
    },
    {
     "name": "stderr",
     "output_type": "stream",
     "text": [
      "\r",
      " 42%|██████████████████████████████████▊                                               | 34/80 [00:23<00:29,  1.57it/s]"
     ]
    },
    {
     "name": "stdout",
     "output_type": "stream",
     "text": [
      "WARNING:tensorflow:11 out of the last 11 calls to <function _make_execution_function.<locals>.distributed_function at 0x0000020732D1AF78> triggered tf.function retracing. Tracing is expensive and the excessive number of tracings is likely due to passing python objects instead of tensors. Also, tf.function has experimental_relax_shapes=True option that relaxes argument shapes that can avoid unnecessary retracing. Please refer to https://www.tensorflow.org/beta/tutorials/eager/tf_function#python_or_tensor_args and https://www.tensorflow.org/api_docs/python/tf/function for more details.\n"
     ]
    },
    {
     "name": "stderr",
     "output_type": "stream",
     "text": [
      "\r",
      " 44%|███████████████████████████████████▉                                              | 35/80 [00:23<00:28,  1.59it/s]"
     ]
    },
    {
     "name": "stdout",
     "output_type": "stream",
     "text": [
      "WARNING:tensorflow:11 out of the last 11 calls to <function _make_execution_function.<locals>.distributed_function at 0x0000020732D1AF78> triggered tf.function retracing. Tracing is expensive and the excessive number of tracings is likely due to passing python objects instead of tensors. Also, tf.function has experimental_relax_shapes=True option that relaxes argument shapes that can avoid unnecessary retracing. Please refer to https://www.tensorflow.org/beta/tutorials/eager/tf_function#python_or_tensor_args and https://www.tensorflow.org/api_docs/python/tf/function for more details.\n"
     ]
    },
    {
     "name": "stderr",
     "output_type": "stream",
     "text": [
      "\r",
      " 45%|████████████████████████████████████▉                                             | 36/80 [00:24<00:27,  1.60it/s]"
     ]
    },
    {
     "name": "stdout",
     "output_type": "stream",
     "text": [
      "WARNING:tensorflow:11 out of the last 11 calls to <function _make_execution_function.<locals>.distributed_function at 0x0000020732D1AF78> triggered tf.function retracing. Tracing is expensive and the excessive number of tracings is likely due to passing python objects instead of tensors. Also, tf.function has experimental_relax_shapes=True option that relaxes argument shapes that can avoid unnecessary retracing. Please refer to https://www.tensorflow.org/beta/tutorials/eager/tf_function#python_or_tensor_args and https://www.tensorflow.org/api_docs/python/tf/function for more details.\n"
     ]
    },
    {
     "name": "stderr",
     "output_type": "stream",
     "text": [
      "\r",
      " 46%|█████████████████████████████████████▉                                            | 37/80 [00:25<00:26,  1.62it/s]"
     ]
    },
    {
     "name": "stdout",
     "output_type": "stream",
     "text": [
      "WARNING:tensorflow:11 out of the last 11 calls to <function _make_execution_function.<locals>.distributed_function at 0x0000020732D1AF78> triggered tf.function retracing. Tracing is expensive and the excessive number of tracings is likely due to passing python objects instead of tensors. Also, tf.function has experimental_relax_shapes=True option that relaxes argument shapes that can avoid unnecessary retracing. Please refer to https://www.tensorflow.org/beta/tutorials/eager/tf_function#python_or_tensor_args and https://www.tensorflow.org/api_docs/python/tf/function for more details.\n"
     ]
    },
    {
     "name": "stderr",
     "output_type": "stream",
     "text": [
      "\r",
      " 48%|██████████████████████████████████████▉                                           | 38/80 [00:25<00:26,  1.61it/s]"
     ]
    },
    {
     "name": "stdout",
     "output_type": "stream",
     "text": [
      "WARNING:tensorflow:11 out of the last 11 calls to <function _make_execution_function.<locals>.distributed_function at 0x0000020732D1AF78> triggered tf.function retracing. Tracing is expensive and the excessive number of tracings is likely due to passing python objects instead of tensors. Also, tf.function has experimental_relax_shapes=True option that relaxes argument shapes that can avoid unnecessary retracing. Please refer to https://www.tensorflow.org/beta/tutorials/eager/tf_function#python_or_tensor_args and https://www.tensorflow.org/api_docs/python/tf/function for more details.\n"
     ]
    },
    {
     "name": "stderr",
     "output_type": "stream",
     "text": [
      "\r",
      " 49%|███████████████████████████████████████▉                                          | 39/80 [00:26<00:25,  1.62it/s]"
     ]
    },
    {
     "name": "stdout",
     "output_type": "stream",
     "text": [
      "WARNING:tensorflow:11 out of the last 11 calls to <function _make_execution_function.<locals>.distributed_function at 0x0000020732D1AF78> triggered tf.function retracing. Tracing is expensive and the excessive number of tracings is likely due to passing python objects instead of tensors. Also, tf.function has experimental_relax_shapes=True option that relaxes argument shapes that can avoid unnecessary retracing. Please refer to https://www.tensorflow.org/beta/tutorials/eager/tf_function#python_or_tensor_args and https://www.tensorflow.org/api_docs/python/tf/function for more details.\n"
     ]
    },
    {
     "name": "stderr",
     "output_type": "stream",
     "text": [
      "\r",
      " 50%|█████████████████████████████████████████                                         | 40/80 [00:26<00:24,  1.62it/s]"
     ]
    },
    {
     "name": "stdout",
     "output_type": "stream",
     "text": [
      "WARNING:tensorflow:11 out of the last 11 calls to <function _make_execution_function.<locals>.distributed_function at 0x0000020732D1AF78> triggered tf.function retracing. Tracing is expensive and the excessive number of tracings is likely due to passing python objects instead of tensors. Also, tf.function has experimental_relax_shapes=True option that relaxes argument shapes that can avoid unnecessary retracing. Please refer to https://www.tensorflow.org/beta/tutorials/eager/tf_function#python_or_tensor_args and https://www.tensorflow.org/api_docs/python/tf/function for more details.\n"
     ]
    },
    {
     "name": "stderr",
     "output_type": "stream",
     "text": [
      "\r",
      " 51%|██████████████████████████████████████████                                        | 41/80 [00:27<00:23,  1.63it/s]"
     ]
    },
    {
     "name": "stdout",
     "output_type": "stream",
     "text": [
      "WARNING:tensorflow:11 out of the last 11 calls to <function _make_execution_function.<locals>.distributed_function at 0x0000020732D1AF78> triggered tf.function retracing. Tracing is expensive and the excessive number of tracings is likely due to passing python objects instead of tensors. Also, tf.function has experimental_relax_shapes=True option that relaxes argument shapes that can avoid unnecessary retracing. Please refer to https://www.tensorflow.org/beta/tutorials/eager/tf_function#python_or_tensor_args and https://www.tensorflow.org/api_docs/python/tf/function for more details.\n"
     ]
    },
    {
     "name": "stderr",
     "output_type": "stream",
     "text": [
      "\r",
      " 52%|███████████████████████████████████████████                                       | 42/80 [00:28<00:23,  1.63it/s]"
     ]
    },
    {
     "name": "stdout",
     "output_type": "stream",
     "text": [
      "WARNING:tensorflow:11 out of the last 11 calls to <function _make_execution_function.<locals>.distributed_function at 0x0000020732D1AF78> triggered tf.function retracing. Tracing is expensive and the excessive number of tracings is likely due to passing python objects instead of tensors. Also, tf.function has experimental_relax_shapes=True option that relaxes argument shapes that can avoid unnecessary retracing. Please refer to https://www.tensorflow.org/beta/tutorials/eager/tf_function#python_or_tensor_args and https://www.tensorflow.org/api_docs/python/tf/function for more details.\n"
     ]
    },
    {
     "name": "stderr",
     "output_type": "stream",
     "text": [
      "\r",
      " 54%|████████████████████████████████████████████                                      | 43/80 [00:28<00:22,  1.63it/s]"
     ]
    },
    {
     "name": "stdout",
     "output_type": "stream",
     "text": [
      "WARNING:tensorflow:11 out of the last 11 calls to <function _make_execution_function.<locals>.distributed_function at 0x0000020732D1AF78> triggered tf.function retracing. Tracing is expensive and the excessive number of tracings is likely due to passing python objects instead of tensors. Also, tf.function has experimental_relax_shapes=True option that relaxes argument shapes that can avoid unnecessary retracing. Please refer to https://www.tensorflow.org/beta/tutorials/eager/tf_function#python_or_tensor_args and https://www.tensorflow.org/api_docs/python/tf/function for more details.\n"
     ]
    },
    {
     "name": "stderr",
     "output_type": "stream",
     "text": [
      "\r",
      " 55%|█████████████████████████████████████████████                                     | 44/80 [00:29<00:22,  1.63it/s]"
     ]
    },
    {
     "name": "stdout",
     "output_type": "stream",
     "text": [
      "WARNING:tensorflow:11 out of the last 11 calls to <function _make_execution_function.<locals>.distributed_function at 0x0000020732D1AF78> triggered tf.function retracing. Tracing is expensive and the excessive number of tracings is likely due to passing python objects instead of tensors. Also, tf.function has experimental_relax_shapes=True option that relaxes argument shapes that can avoid unnecessary retracing. Please refer to https://www.tensorflow.org/beta/tutorials/eager/tf_function#python_or_tensor_args and https://www.tensorflow.org/api_docs/python/tf/function for more details.\n"
     ]
    },
    {
     "name": "stderr",
     "output_type": "stream",
     "text": [
      "\r",
      " 56%|██████████████████████████████████████████████▏                                   | 45/80 [00:30<00:21,  1.63it/s]"
     ]
    },
    {
     "name": "stdout",
     "output_type": "stream",
     "text": [
      "WARNING:tensorflow:11 out of the last 11 calls to <function _make_execution_function.<locals>.distributed_function at 0x0000020732D1AF78> triggered tf.function retracing. Tracing is expensive and the excessive number of tracings is likely due to passing python objects instead of tensors. Also, tf.function has experimental_relax_shapes=True option that relaxes argument shapes that can avoid unnecessary retracing. Please refer to https://www.tensorflow.org/beta/tutorials/eager/tf_function#python_or_tensor_args and https://www.tensorflow.org/api_docs/python/tf/function for more details.\n"
     ]
    },
    {
     "name": "stderr",
     "output_type": "stream",
     "text": [
      "\r",
      " 57%|███████████████████████████████████████████████▏                                  | 46/80 [00:30<00:20,  1.63it/s]"
     ]
    },
    {
     "name": "stdout",
     "output_type": "stream",
     "text": [
      "WARNING:tensorflow:11 out of the last 11 calls to <function _make_execution_function.<locals>.distributed_function at 0x0000020732D1AF78> triggered tf.function retracing. Tracing is expensive and the excessive number of tracings is likely due to passing python objects instead of tensors. Also, tf.function has experimental_relax_shapes=True option that relaxes argument shapes that can avoid unnecessary retracing. Please refer to https://www.tensorflow.org/beta/tutorials/eager/tf_function#python_or_tensor_args and https://www.tensorflow.org/api_docs/python/tf/function for more details.\n"
     ]
    },
    {
     "name": "stderr",
     "output_type": "stream",
     "text": [
      "\r",
      " 59%|████████████████████████████████████████████████▏                                 | 47/80 [00:31<00:20,  1.64it/s]"
     ]
    },
    {
     "name": "stdout",
     "output_type": "stream",
     "text": [
      "WARNING:tensorflow:11 out of the last 11 calls to <function _make_execution_function.<locals>.distributed_function at 0x0000020732D1AF78> triggered tf.function retracing. Tracing is expensive and the excessive number of tracings is likely due to passing python objects instead of tensors. Also, tf.function has experimental_relax_shapes=True option that relaxes argument shapes that can avoid unnecessary retracing. Please refer to https://www.tensorflow.org/beta/tutorials/eager/tf_function#python_or_tensor_args and https://www.tensorflow.org/api_docs/python/tf/function for more details.\n"
     ]
    },
    {
     "name": "stderr",
     "output_type": "stream",
     "text": [
      "\r",
      " 60%|█████████████████████████████████████████████████▏                                | 48/80 [00:31<00:19,  1.62it/s]"
     ]
    },
    {
     "name": "stdout",
     "output_type": "stream",
     "text": [
      "WARNING:tensorflow:11 out of the last 11 calls to <function _make_execution_function.<locals>.distributed_function at 0x0000020732D1AF78> triggered tf.function retracing. Tracing is expensive and the excessive number of tracings is likely due to passing python objects instead of tensors. Also, tf.function has experimental_relax_shapes=True option that relaxes argument shapes that can avoid unnecessary retracing. Please refer to https://www.tensorflow.org/beta/tutorials/eager/tf_function#python_or_tensor_args and https://www.tensorflow.org/api_docs/python/tf/function for more details.\n"
     ]
    },
    {
     "name": "stderr",
     "output_type": "stream",
     "text": [
      "\r",
      " 61%|██████████████████████████████████████████████████▏                               | 49/80 [00:32<00:19,  1.59it/s]"
     ]
    },
    {
     "name": "stdout",
     "output_type": "stream",
     "text": [
      "WARNING:tensorflow:11 out of the last 11 calls to <function _make_execution_function.<locals>.distributed_function at 0x0000020732D1AF78> triggered tf.function retracing. Tracing is expensive and the excessive number of tracings is likely due to passing python objects instead of tensors. Also, tf.function has experimental_relax_shapes=True option that relaxes argument shapes that can avoid unnecessary retracing. Please refer to https://www.tensorflow.org/beta/tutorials/eager/tf_function#python_or_tensor_args and https://www.tensorflow.org/api_docs/python/tf/function for more details.\n"
     ]
    },
    {
     "name": "stderr",
     "output_type": "stream",
     "text": [
      "\r",
      " 62%|███████████████████████████████████████████████████▎                              | 50/80 [00:33<00:19,  1.54it/s]"
     ]
    },
    {
     "name": "stdout",
     "output_type": "stream",
     "text": [
      "WARNING:tensorflow:11 out of the last 11 calls to <function _make_execution_function.<locals>.distributed_function at 0x0000020732D1AF78> triggered tf.function retracing. Tracing is expensive and the excessive number of tracings is likely due to passing python objects instead of tensors. Also, tf.function has experimental_relax_shapes=True option that relaxes argument shapes that can avoid unnecessary retracing. Please refer to https://www.tensorflow.org/beta/tutorials/eager/tf_function#python_or_tensor_args and https://www.tensorflow.org/api_docs/python/tf/function for more details.\n"
     ]
    },
    {
     "name": "stderr",
     "output_type": "stream",
     "text": [
      "\r",
      " 64%|████████████████████████████████████████████████████▎                             | 51/80 [00:33<00:19,  1.52it/s]"
     ]
    },
    {
     "name": "stdout",
     "output_type": "stream",
     "text": [
      "WARNING:tensorflow:11 out of the last 11 calls to <function _make_execution_function.<locals>.distributed_function at 0x0000020732D1AF78> triggered tf.function retracing. Tracing is expensive and the excessive number of tracings is likely due to passing python objects instead of tensors. Also, tf.function has experimental_relax_shapes=True option that relaxes argument shapes that can avoid unnecessary retracing. Please refer to https://www.tensorflow.org/beta/tutorials/eager/tf_function#python_or_tensor_args and https://www.tensorflow.org/api_docs/python/tf/function for more details.\n"
     ]
    },
    {
     "name": "stderr",
     "output_type": "stream",
     "text": [
      "\r",
      " 65%|█████████████████████████████████████████████████████▎                            | 52/80 [00:34<00:18,  1.55it/s]"
     ]
    },
    {
     "name": "stdout",
     "output_type": "stream",
     "text": [
      "WARNING:tensorflow:11 out of the last 11 calls to <function _make_execution_function.<locals>.distributed_function at 0x0000020732D1AF78> triggered tf.function retracing. Tracing is expensive and the excessive number of tracings is likely due to passing python objects instead of tensors. Also, tf.function has experimental_relax_shapes=True option that relaxes argument shapes that can avoid unnecessary retracing. Please refer to https://www.tensorflow.org/beta/tutorials/eager/tf_function#python_or_tensor_args and https://www.tensorflow.org/api_docs/python/tf/function for more details.\n"
     ]
    },
    {
     "name": "stderr",
     "output_type": "stream",
     "text": [
      "\r",
      " 66%|██████████████████████████████████████████████████████▎                           | 53/80 [00:35<00:17,  1.57it/s]"
     ]
    },
    {
     "name": "stdout",
     "output_type": "stream",
     "text": [
      "WARNING:tensorflow:11 out of the last 11 calls to <function _make_execution_function.<locals>.distributed_function at 0x0000020732D1AF78> triggered tf.function retracing. Tracing is expensive and the excessive number of tracings is likely due to passing python objects instead of tensors. Also, tf.function has experimental_relax_shapes=True option that relaxes argument shapes that can avoid unnecessary retracing. Please refer to https://www.tensorflow.org/beta/tutorials/eager/tf_function#python_or_tensor_args and https://www.tensorflow.org/api_docs/python/tf/function for more details.\n"
     ]
    },
    {
     "name": "stderr",
     "output_type": "stream",
     "text": [
      "\r",
      " 68%|███████████████████████████████████████████████████████▎                          | 54/80 [00:35<00:16,  1.58it/s]"
     ]
    },
    {
     "name": "stdout",
     "output_type": "stream",
     "text": [
      "WARNING:tensorflow:11 out of the last 11 calls to <function _make_execution_function.<locals>.distributed_function at 0x0000020732D1AF78> triggered tf.function retracing. Tracing is expensive and the excessive number of tracings is likely due to passing python objects instead of tensors. Also, tf.function has experimental_relax_shapes=True option that relaxes argument shapes that can avoid unnecessary retracing. Please refer to https://www.tensorflow.org/beta/tutorials/eager/tf_function#python_or_tensor_args and https://www.tensorflow.org/api_docs/python/tf/function for more details.\n"
     ]
    },
    {
     "name": "stderr",
     "output_type": "stream",
     "text": [
      "\r",
      " 69%|████████████████████████████████████████████████████████▍                         | 55/80 [00:36<00:15,  1.60it/s]"
     ]
    },
    {
     "name": "stdout",
     "output_type": "stream",
     "text": [
      "WARNING:tensorflow:11 out of the last 11 calls to <function _make_execution_function.<locals>.distributed_function at 0x0000020732D1AF78> triggered tf.function retracing. Tracing is expensive and the excessive number of tracings is likely due to passing python objects instead of tensors. Also, tf.function has experimental_relax_shapes=True option that relaxes argument shapes that can avoid unnecessary retracing. Please refer to https://www.tensorflow.org/beta/tutorials/eager/tf_function#python_or_tensor_args and https://www.tensorflow.org/api_docs/python/tf/function for more details.\n"
     ]
    },
    {
     "name": "stderr",
     "output_type": "stream",
     "text": [
      "\r",
      " 70%|█████████████████████████████████████████████████████████▍                        | 56/80 [00:36<00:14,  1.61it/s]"
     ]
    },
    {
     "name": "stdout",
     "output_type": "stream",
     "text": [
      "WARNING:tensorflow:11 out of the last 11 calls to <function _make_execution_function.<locals>.distributed_function at 0x0000020732D1AF78> triggered tf.function retracing. Tracing is expensive and the excessive number of tracings is likely due to passing python objects instead of tensors. Also, tf.function has experimental_relax_shapes=True option that relaxes argument shapes that can avoid unnecessary retracing. Please refer to https://www.tensorflow.org/beta/tutorials/eager/tf_function#python_or_tensor_args and https://www.tensorflow.org/api_docs/python/tf/function for more details.\n"
     ]
    },
    {
     "name": "stderr",
     "output_type": "stream",
     "text": [
      "\r",
      " 71%|██████████████████████████████████████████████████████████▍                       | 57/80 [00:37<00:14,  1.61it/s]"
     ]
    },
    {
     "name": "stdout",
     "output_type": "stream",
     "text": [
      "WARNING:tensorflow:11 out of the last 11 calls to <function _make_execution_function.<locals>.distributed_function at 0x0000020732D1AF78> triggered tf.function retracing. Tracing is expensive and the excessive number of tracings is likely due to passing python objects instead of tensors. Also, tf.function has experimental_relax_shapes=True option that relaxes argument shapes that can avoid unnecessary retracing. Please refer to https://www.tensorflow.org/beta/tutorials/eager/tf_function#python_or_tensor_args and https://www.tensorflow.org/api_docs/python/tf/function for more details.\n"
     ]
    },
    {
     "name": "stderr",
     "output_type": "stream",
     "text": [
      "\r",
      " 72%|███████████████████████████████████████████████████████████▍                      | 58/80 [00:38<00:13,  1.60it/s]"
     ]
    },
    {
     "name": "stdout",
     "output_type": "stream",
     "text": [
      "WARNING:tensorflow:11 out of the last 11 calls to <function _make_execution_function.<locals>.distributed_function at 0x0000020732D1AF78> triggered tf.function retracing. Tracing is expensive and the excessive number of tracings is likely due to passing python objects instead of tensors. Also, tf.function has experimental_relax_shapes=True option that relaxes argument shapes that can avoid unnecessary retracing. Please refer to https://www.tensorflow.org/beta/tutorials/eager/tf_function#python_or_tensor_args and https://www.tensorflow.org/api_docs/python/tf/function for more details.\n"
     ]
    },
    {
     "name": "stderr",
     "output_type": "stream",
     "text": [
      "\r",
      " 74%|████████████████████████████████████████████████████████████▍                     | 59/80 [00:38<00:13,  1.60it/s]"
     ]
    },
    {
     "name": "stdout",
     "output_type": "stream",
     "text": [
      "WARNING:tensorflow:11 out of the last 11 calls to <function _make_execution_function.<locals>.distributed_function at 0x0000020732D1AF78> triggered tf.function retracing. Tracing is expensive and the excessive number of tracings is likely due to passing python objects instead of tensors. Also, tf.function has experimental_relax_shapes=True option that relaxes argument shapes that can avoid unnecessary retracing. Please refer to https://www.tensorflow.org/beta/tutorials/eager/tf_function#python_or_tensor_args and https://www.tensorflow.org/api_docs/python/tf/function for more details.\n"
     ]
    },
    {
     "name": "stderr",
     "output_type": "stream",
     "text": [
      "\r",
      " 75%|█████████████████████████████████████████████████████████████▌                    | 60/80 [00:39<00:12,  1.60it/s]"
     ]
    },
    {
     "name": "stdout",
     "output_type": "stream",
     "text": [
      "WARNING:tensorflow:11 out of the last 11 calls to <function _make_execution_function.<locals>.distributed_function at 0x0000020732D1AF78> triggered tf.function retracing. Tracing is expensive and the excessive number of tracings is likely due to passing python objects instead of tensors. Also, tf.function has experimental_relax_shapes=True option that relaxes argument shapes that can avoid unnecessary retracing. Please refer to https://www.tensorflow.org/beta/tutorials/eager/tf_function#python_or_tensor_args and https://www.tensorflow.org/api_docs/python/tf/function for more details.\n"
     ]
    },
    {
     "name": "stderr",
     "output_type": "stream",
     "text": [
      "\r",
      " 76%|██████████████████████████████████████████████████████████████▌                   | 61/80 [00:40<00:12,  1.57it/s]"
     ]
    },
    {
     "name": "stdout",
     "output_type": "stream",
     "text": [
      "WARNING:tensorflow:11 out of the last 11 calls to <function _make_execution_function.<locals>.distributed_function at 0x0000020732D1AF78> triggered tf.function retracing. Tracing is expensive and the excessive number of tracings is likely due to passing python objects instead of tensors. Also, tf.function has experimental_relax_shapes=True option that relaxes argument shapes that can avoid unnecessary retracing. Please refer to https://www.tensorflow.org/beta/tutorials/eager/tf_function#python_or_tensor_args and https://www.tensorflow.org/api_docs/python/tf/function for more details.\n"
     ]
    },
    {
     "name": "stderr",
     "output_type": "stream",
     "text": [
      "\r",
      " 78%|███████████████████████████████████████████████████████████████▌                  | 62/80 [00:40<00:11,  1.59it/s]"
     ]
    },
    {
     "name": "stdout",
     "output_type": "stream",
     "text": [
      "WARNING:tensorflow:11 out of the last 11 calls to <function _make_execution_function.<locals>.distributed_function at 0x0000020732D1AF78> triggered tf.function retracing. Tracing is expensive and the excessive number of tracings is likely due to passing python objects instead of tensors. Also, tf.function has experimental_relax_shapes=True option that relaxes argument shapes that can avoid unnecessary retracing. Please refer to https://www.tensorflow.org/beta/tutorials/eager/tf_function#python_or_tensor_args and https://www.tensorflow.org/api_docs/python/tf/function for more details.\n"
     ]
    },
    {
     "name": "stderr",
     "output_type": "stream",
     "text": [
      "\r",
      " 79%|████████████████████████████████████████████████████████████████▌                 | 63/80 [00:41<00:10,  1.62it/s]"
     ]
    },
    {
     "name": "stdout",
     "output_type": "stream",
     "text": [
      "WARNING:tensorflow:11 out of the last 11 calls to <function _make_execution_function.<locals>.distributed_function at 0x0000020732D1AF78> triggered tf.function retracing. Tracing is expensive and the excessive number of tracings is likely due to passing python objects instead of tensors. Also, tf.function has experimental_relax_shapes=True option that relaxes argument shapes that can avoid unnecessary retracing. Please refer to https://www.tensorflow.org/beta/tutorials/eager/tf_function#python_or_tensor_args and https://www.tensorflow.org/api_docs/python/tf/function for more details.\n"
     ]
    },
    {
     "name": "stderr",
     "output_type": "stream",
     "text": [
      "\r",
      " 80%|█████████████████████████████████████████████████████████████████▌                | 64/80 [00:42<00:10,  1.54it/s]"
     ]
    },
    {
     "name": "stdout",
     "output_type": "stream",
     "text": [
      "WARNING:tensorflow:11 out of the last 11 calls to <function _make_execution_function.<locals>.distributed_function at 0x0000020732D1AF78> triggered tf.function retracing. Tracing is expensive and the excessive number of tracings is likely due to passing python objects instead of tensors. Also, tf.function has experimental_relax_shapes=True option that relaxes argument shapes that can avoid unnecessary retracing. Please refer to https://www.tensorflow.org/beta/tutorials/eager/tf_function#python_or_tensor_args and https://www.tensorflow.org/api_docs/python/tf/function for more details.\n"
     ]
    },
    {
     "name": "stderr",
     "output_type": "stream",
     "text": [
      "\r",
      " 81%|██████████████████████████████████████████████████████████████████▋               | 65/80 [00:42<00:09,  1.57it/s]"
     ]
    },
    {
     "name": "stdout",
     "output_type": "stream",
     "text": [
      "WARNING:tensorflow:11 out of the last 11 calls to <function _make_execution_function.<locals>.distributed_function at 0x0000020732D1AF78> triggered tf.function retracing. Tracing is expensive and the excessive number of tracings is likely due to passing python objects instead of tensors. Also, tf.function has experimental_relax_shapes=True option that relaxes argument shapes that can avoid unnecessary retracing. Please refer to https://www.tensorflow.org/beta/tutorials/eager/tf_function#python_or_tensor_args and https://www.tensorflow.org/api_docs/python/tf/function for more details.\n"
     ]
    },
    {
     "name": "stderr",
     "output_type": "stream",
     "text": [
      "\r",
      " 82%|███████████████████████████████████████████████████████████████████▋              | 66/80 [00:43<00:08,  1.56it/s]"
     ]
    },
    {
     "name": "stdout",
     "output_type": "stream",
     "text": [
      "WARNING:tensorflow:11 out of the last 11 calls to <function _make_execution_function.<locals>.distributed_function at 0x0000020732D1AF78> triggered tf.function retracing. Tracing is expensive and the excessive number of tracings is likely due to passing python objects instead of tensors. Also, tf.function has experimental_relax_shapes=True option that relaxes argument shapes that can avoid unnecessary retracing. Please refer to https://www.tensorflow.org/beta/tutorials/eager/tf_function#python_or_tensor_args and https://www.tensorflow.org/api_docs/python/tf/function for more details.\n"
     ]
    },
    {
     "name": "stderr",
     "output_type": "stream",
     "text": [
      "\r",
      " 84%|████████████████████████████████████████████████████████████████████▋             | 67/80 [00:43<00:08,  1.55it/s]"
     ]
    },
    {
     "name": "stdout",
     "output_type": "stream",
     "text": [
      "WARNING:tensorflow:11 out of the last 11 calls to <function _make_execution_function.<locals>.distributed_function at 0x0000020732D1AF78> triggered tf.function retracing. Tracing is expensive and the excessive number of tracings is likely due to passing python objects instead of tensors. Also, tf.function has experimental_relax_shapes=True option that relaxes argument shapes that can avoid unnecessary retracing. Please refer to https://www.tensorflow.org/beta/tutorials/eager/tf_function#python_or_tensor_args and https://www.tensorflow.org/api_docs/python/tf/function for more details.\n"
     ]
    },
    {
     "name": "stderr",
     "output_type": "stream",
     "text": [
      "\r",
      " 85%|█████████████████████████████████████████████████████████████████████▋            | 68/80 [00:44<00:07,  1.56it/s]"
     ]
    },
    {
     "name": "stdout",
     "output_type": "stream",
     "text": [
      "WARNING:tensorflow:11 out of the last 11 calls to <function _make_execution_function.<locals>.distributed_function at 0x0000020732D1AF78> triggered tf.function retracing. Tracing is expensive and the excessive number of tracings is likely due to passing python objects instead of tensors. Also, tf.function has experimental_relax_shapes=True option that relaxes argument shapes that can avoid unnecessary retracing. Please refer to https://www.tensorflow.org/beta/tutorials/eager/tf_function#python_or_tensor_args and https://www.tensorflow.org/api_docs/python/tf/function for more details.\n"
     ]
    },
    {
     "name": "stderr",
     "output_type": "stream",
     "text": [
      "\r",
      " 86%|██████████████████████████████████████████████████████████████████████▋           | 69/80 [00:45<00:07,  1.56it/s]"
     ]
    },
    {
     "name": "stdout",
     "output_type": "stream",
     "text": [
      "WARNING:tensorflow:11 out of the last 11 calls to <function _make_execution_function.<locals>.distributed_function at 0x0000020732D1AF78> triggered tf.function retracing. Tracing is expensive and the excessive number of tracings is likely due to passing python objects instead of tensors. Also, tf.function has experimental_relax_shapes=True option that relaxes argument shapes that can avoid unnecessary retracing. Please refer to https://www.tensorflow.org/beta/tutorials/eager/tf_function#python_or_tensor_args and https://www.tensorflow.org/api_docs/python/tf/function for more details.\n"
     ]
    },
    {
     "name": "stderr",
     "output_type": "stream",
     "text": [
      "\r",
      " 88%|███████████████████████████████████████████████████████████████████████▊          | 70/80 [00:45<00:06,  1.59it/s]"
     ]
    },
    {
     "name": "stdout",
     "output_type": "stream",
     "text": [
      "WARNING:tensorflow:11 out of the last 11 calls to <function _make_execution_function.<locals>.distributed_function at 0x0000020732D1AF78> triggered tf.function retracing. Tracing is expensive and the excessive number of tracings is likely due to passing python objects instead of tensors. Also, tf.function has experimental_relax_shapes=True option that relaxes argument shapes that can avoid unnecessary retracing. Please refer to https://www.tensorflow.org/beta/tutorials/eager/tf_function#python_or_tensor_args and https://www.tensorflow.org/api_docs/python/tf/function for more details.\n"
     ]
    },
    {
     "name": "stderr",
     "output_type": "stream",
     "text": [
      "\r",
      " 89%|████████████████████████████████████████████████████████████████████████▊         | 71/80 [00:46<00:05,  1.57it/s]"
     ]
    },
    {
     "name": "stdout",
     "output_type": "stream",
     "text": [
      "WARNING:tensorflow:11 out of the last 11 calls to <function _make_execution_function.<locals>.distributed_function at 0x0000020732D1AF78> triggered tf.function retracing. Tracing is expensive and the excessive number of tracings is likely due to passing python objects instead of tensors. Also, tf.function has experimental_relax_shapes=True option that relaxes argument shapes that can avoid unnecessary retracing. Please refer to https://www.tensorflow.org/beta/tutorials/eager/tf_function#python_or_tensor_args and https://www.tensorflow.org/api_docs/python/tf/function for more details.\n"
     ]
    },
    {
     "name": "stderr",
     "output_type": "stream",
     "text": [
      "\r",
      " 90%|█████████████████████████████████████████████████████████████████████████▊        | 72/80 [00:47<00:05,  1.56it/s]"
     ]
    },
    {
     "name": "stdout",
     "output_type": "stream",
     "text": [
      "WARNING:tensorflow:11 out of the last 11 calls to <function _make_execution_function.<locals>.distributed_function at 0x0000020732D1AF78> triggered tf.function retracing. Tracing is expensive and the excessive number of tracings is likely due to passing python objects instead of tensors. Also, tf.function has experimental_relax_shapes=True option that relaxes argument shapes that can avoid unnecessary retracing. Please refer to https://www.tensorflow.org/beta/tutorials/eager/tf_function#python_or_tensor_args and https://www.tensorflow.org/api_docs/python/tf/function for more details.\n"
     ]
    },
    {
     "name": "stderr",
     "output_type": "stream",
     "text": [
      "\r",
      " 91%|██████████████████████████████████████████████████████████████████████████▊       | 73/80 [00:47<00:04,  1.54it/s]"
     ]
    },
    {
     "name": "stdout",
     "output_type": "stream",
     "text": [
      "WARNING:tensorflow:11 out of the last 11 calls to <function _make_execution_function.<locals>.distributed_function at 0x0000020732D1AF78> triggered tf.function retracing. Tracing is expensive and the excessive number of tracings is likely due to passing python objects instead of tensors. Also, tf.function has experimental_relax_shapes=True option that relaxes argument shapes that can avoid unnecessary retracing. Please refer to https://www.tensorflow.org/beta/tutorials/eager/tf_function#python_or_tensor_args and https://www.tensorflow.org/api_docs/python/tf/function for more details.\n"
     ]
    },
    {
     "name": "stderr",
     "output_type": "stream",
     "text": [
      "\r",
      " 92%|███████████████████████████████████████████████████████████████████████████▊      | 74/80 [00:48<00:03,  1.54it/s]"
     ]
    },
    {
     "name": "stdout",
     "output_type": "stream",
     "text": [
      "WARNING:tensorflow:11 out of the last 11 calls to <function _make_execution_function.<locals>.distributed_function at 0x0000020732D1AF78> triggered tf.function retracing. Tracing is expensive and the excessive number of tracings is likely due to passing python objects instead of tensors. Also, tf.function has experimental_relax_shapes=True option that relaxes argument shapes that can avoid unnecessary retracing. Please refer to https://www.tensorflow.org/beta/tutorials/eager/tf_function#python_or_tensor_args and https://www.tensorflow.org/api_docs/python/tf/function for more details.\n"
     ]
    },
    {
     "name": "stderr",
     "output_type": "stream",
     "text": [
      "\r",
      " 94%|████████████████████████████████████████████████████████████████████████████▉     | 75/80 [00:49<00:03,  1.53it/s]"
     ]
    },
    {
     "name": "stdout",
     "output_type": "stream",
     "text": [
      "WARNING:tensorflow:11 out of the last 11 calls to <function _make_execution_function.<locals>.distributed_function at 0x0000020732D1AF78> triggered tf.function retracing. Tracing is expensive and the excessive number of tracings is likely due to passing python objects instead of tensors. Also, tf.function has experimental_relax_shapes=True option that relaxes argument shapes that can avoid unnecessary retracing. Please refer to https://www.tensorflow.org/beta/tutorials/eager/tf_function#python_or_tensor_args and https://www.tensorflow.org/api_docs/python/tf/function for more details.\n"
     ]
    },
    {
     "name": "stderr",
     "output_type": "stream",
     "text": [
      "\r",
      " 95%|█████████████████████████████████████████████████████████████████████████████▉    | 76/80 [00:49<00:02,  1.54it/s]"
     ]
    },
    {
     "name": "stdout",
     "output_type": "stream",
     "text": [
      "WARNING:tensorflow:11 out of the last 11 calls to <function _make_execution_function.<locals>.distributed_function at 0x0000020732D1AF78> triggered tf.function retracing. Tracing is expensive and the excessive number of tracings is likely due to passing python objects instead of tensors. Also, tf.function has experimental_relax_shapes=True option that relaxes argument shapes that can avoid unnecessary retracing. Please refer to https://www.tensorflow.org/beta/tutorials/eager/tf_function#python_or_tensor_args and https://www.tensorflow.org/api_docs/python/tf/function for more details.\n"
     ]
    },
    {
     "name": "stderr",
     "output_type": "stream",
     "text": [
      "\r",
      " 96%|██████████████████████████████████████████████████████████████████████████████▉   | 77/80 [00:50<00:01,  1.55it/s]"
     ]
    },
    {
     "name": "stdout",
     "output_type": "stream",
     "text": [
      "WARNING:tensorflow:11 out of the last 11 calls to <function _make_execution_function.<locals>.distributed_function at 0x0000020732D1AF78> triggered tf.function retracing. Tracing is expensive and the excessive number of tracings is likely due to passing python objects instead of tensors. Also, tf.function has experimental_relax_shapes=True option that relaxes argument shapes that can avoid unnecessary retracing. Please refer to https://www.tensorflow.org/beta/tutorials/eager/tf_function#python_or_tensor_args and https://www.tensorflow.org/api_docs/python/tf/function for more details.\n"
     ]
    },
    {
     "name": "stderr",
     "output_type": "stream",
     "text": [
      "\r",
      " 98%|███████████████████████████████████████████████████████████████████████████████▉  | 78/80 [00:51<00:01,  1.56it/s]"
     ]
    },
    {
     "name": "stdout",
     "output_type": "stream",
     "text": [
      "WARNING:tensorflow:11 out of the last 11 calls to <function _make_execution_function.<locals>.distributed_function at 0x0000020732D1AF78> triggered tf.function retracing. Tracing is expensive and the excessive number of tracings is likely due to passing python objects instead of tensors. Also, tf.function has experimental_relax_shapes=True option that relaxes argument shapes that can avoid unnecessary retracing. Please refer to https://www.tensorflow.org/beta/tutorials/eager/tf_function#python_or_tensor_args and https://www.tensorflow.org/api_docs/python/tf/function for more details.\n"
     ]
    },
    {
     "name": "stderr",
     "output_type": "stream",
     "text": [
      "\r",
      " 99%|████████████████████████████████████████████████████████████████████████████████▉ | 79/80 [00:51<00:00,  1.57it/s]"
     ]
    },
    {
     "name": "stdout",
     "output_type": "stream",
     "text": [
      "WARNING:tensorflow:11 out of the last 11 calls to <function _make_execution_function.<locals>.distributed_function at 0x0000020732D1AF78> triggered tf.function retracing. Tracing is expensive and the excessive number of tracings is likely due to passing python objects instead of tensors. Also, tf.function has experimental_relax_shapes=True option that relaxes argument shapes that can avoid unnecessary retracing. Please refer to https://www.tensorflow.org/beta/tutorials/eager/tf_function#python_or_tensor_args and https://www.tensorflow.org/api_docs/python/tf/function for more details.\n"
     ]
    },
    {
     "name": "stderr",
     "output_type": "stream",
     "text": [
      "100%|██████████████████████████████████████████████████████████████████████████████████| 80/80 [00:52<00:00,  1.53it/s]\n"
     ]
    },
    {
     "name": "stdout",
     "output_type": "stream",
     "text": [
      "test f1: 0.30541663281619547 test acc: 0.23125000000000007 mae: 0.2790989083237946 loss: 2.791248059272765\n",
      "Running test on subject ...\n"
     ]
    },
    {
     "name": "stderr",
     "output_type": "stream",
     "text": [
      "100%|██████████████████████████████████████████████████████████████████████████████████| 80/80 [00:06<00:00, 11.46it/s]\n"
     ]
    },
    {
     "name": "stdout",
     "output_type": "stream",
     "text": [
      "test f1: 0.30541663281619547 test acc: 0.22812500000000008 mae: 0.2790989083237946 loss: 2.791248059272765\n",
      "Running test on subject ...\n"
     ]
    },
    {
     "name": "stderr",
     "output_type": "stream",
     "text": [
      "100%|██████████████████████████████████████████████████████████████████████████████████| 80/80 [00:06<00:00, 11.68it/s]\n"
     ]
    },
    {
     "name": "stdout",
     "output_type": "stream",
     "text": [
      "test f1: 0.30541663281619547 test acc: 0.23375000000000012 mae: 0.2790989083237946 loss: 2.791248059272765\n",
      "Running test on subject ...\n"
     ]
    },
    {
     "name": "stderr",
     "output_type": "stream",
     "text": [
      "100%|██████████████████████████████████████████████████████████████████████████████████| 80/80 [00:12<00:00,  6.37it/s]\n"
     ]
    },
    {
     "name": "stdout",
     "output_type": "stream",
     "text": [
      "test f1: 0.30541663281619547 test acc: 0.23375000000000012 mae: 0.2790989083237946 loss: 2.791248059272765\n",
      "Running test on subject ...\n"
     ]
    },
    {
     "name": "stderr",
     "output_type": "stream",
     "text": [
      "100%|██████████████████████████████████████████████████████████████████████████████████| 80/80 [00:07<00:00, 11.22it/s]\n"
     ]
    },
    {
     "name": "stdout",
     "output_type": "stream",
     "text": [
      "test f1: 0.30541663281619547 test acc: 0.22708333333333341 mae: 0.2790989083237946 loss: 2.791248059272765\n",
      "Input tensors: [<tf.Tensor 'right_arm_ipX_42:0' shape=(None, None, 3) dtype=float32>, <tf.Tensor 'right_wrist_ipX_42:0' shape=(None, None, 3) dtype=float32>, <tf.Tensor 'left_hip_ipX_42:0' shape=(None, None, 3) dtype=float32>, <tf.Tensor 'left_wrist_ipX_42:0' shape=(None, None, 3) dtype=float32>]\n",
      "Training epoch 0 ...\n"
     ]
    },
    {
     "name": "stderr",
     "output_type": "stream",
     "text": [
      "100%|██████████████████████████████████████████████████████████████████████████████████| 80/80 [00:08<00:00,  9.52it/s]\n"
     ]
    },
    {
     "name": "stdout",
     "output_type": "stream",
     "text": [
      "f1: 0.33145829327404486 mae: 0.27787393457256254 loss: 5.321438968181611\n"
     ]
    },
    {
     "name": "stderr",
     "output_type": "stream",
     "text": [
      "0it [00:00, ?it/s]\n"
     ]
    },
    {
     "name": "stdout",
     "output_type": "stream",
     "text": [
      "Training epoch 0 ...\n"
     ]
    },
    {
     "name": "stderr",
     "output_type": "stream",
     "text": [
      "100%|████████████████████████████████████████████████████████████████████████████████| 103/103 [00:10<00:00,  9.95it/s]\n"
     ]
    },
    {
     "name": "stdout",
     "output_type": "stream",
     "text": [
      "f1: 0.36689778439049553 mae: 0.2561775333456045 loss: 3.9221408181977493\n"
     ]
    },
    {
     "name": "stderr",
     "output_type": "stream",
     "text": [
      "0it [00:00, ?it/s]\n"
     ]
    },
    {
     "name": "stdout",
     "output_type": "stream",
     "text": [
      "Training epoch 0 ...\n"
     ]
    },
    {
     "name": "stderr",
     "output_type": "stream",
     "text": [
      "100%|██████████████████████████████████████████████████████████████████████████████████| 80/80 [00:08<00:00,  9.76it/s]\n"
     ]
    },
    {
     "name": "stdout",
     "output_type": "stream",
     "text": [
      "f1: 0.4527975603938102 mae: 0.21104347070213408 loss: 3.8224374979734423\n"
     ]
    },
    {
     "name": "stderr",
     "output_type": "stream",
     "text": [
      "0it [00:00, ?it/s]\n"
     ]
    },
    {
     "name": "stdout",
     "output_type": "stream",
     "text": [
      "Training epoch 0 ...\n"
     ]
    },
    {
     "name": "stderr",
     "output_type": "stream",
     "text": [
      "100%|████████████████████████████████████████████████████████████████████████████████| 103/103 [00:09<00:00, 10.30it/s]\n"
     ]
    },
    {
     "name": "stdout",
     "output_type": "stream",
     "text": [
      "f1: 0.5908228705808952 mae: 0.2060002405919785 loss: 3.2487717369227735\n"
     ]
    },
    {
     "name": "stderr",
     "output_type": "stream",
     "text": [
      "0it [00:00, ?it/s]\n"
     ]
    },
    {
     "name": "stdout",
     "output_type": "stream",
     "text": [
      "Training epoch 0 ...\n"
     ]
    },
    {
     "name": "stderr",
     "output_type": "stream",
     "text": [
      "100%|██████████████████████████████████████████████████████████████████████████████████| 80/80 [00:08<00:00,  9.65it/s]\n"
     ]
    },
    {
     "name": "stdout",
     "output_type": "stream",
     "text": [
      "f1: 0.4991070840507745 mae: 0.1936175832641311 loss: 3.3999562859535213\n"
     ]
    },
    {
     "name": "stderr",
     "output_type": "stream",
     "text": [
      "0it [00:00, ?it/s]\n"
     ]
    },
    {
     "name": "stdout",
     "output_type": "stream",
     "text": [
      "Training epoch 0 ...\n"
     ]
    },
    {
     "name": "stderr",
     "output_type": "stream",
     "text": [
      "100%|████████████████████████████████████████████████████████████████████████████████| 103/103 [00:10<00:00,  9.89it/s]\n"
     ]
    },
    {
     "name": "stdout",
     "output_type": "stream",
     "text": [
      "f1: 0.6582292445655004 mae: 0.18532569077119085 loss: 3.0345088926333834\n"
     ]
    },
    {
     "name": "stderr",
     "output_type": "stream",
     "text": [
      "0it [00:00, ?it/s]\n"
     ]
    },
    {
     "name": "stdout",
     "output_type": "stream",
     "text": [
      "Training epoch 0 ...\n"
     ]
    },
    {
     "name": "stderr",
     "output_type": "stream",
     "text": [
      "100%|██████████████████████████████████████████████████████████████████████████████████| 80/80 [00:09<00:00,  8.55it/s]\n"
     ]
    },
    {
     "name": "stdout",
     "output_type": "stream",
     "text": [
      "f1: 0.5829165954142808 mae: 0.18690920316148552 loss: 3.255605733394624\n"
     ]
    },
    {
     "name": "stderr",
     "output_type": "stream",
     "text": [
      "0it [00:00, ?it/s]\n"
     ]
    },
    {
     "name": "stdout",
     "output_type": "stream",
     "text": [
      "Training epoch 0 ...\n"
     ]
    },
    {
     "name": "stderr",
     "output_type": "stream",
     "text": [
      "100%|████████████████████████████████████████████████████████████████████████████████| 103/103 [00:10<00:00, 10.20it/s]\n"
     ]
    },
    {
     "name": "stdout",
     "output_type": "stream",
     "text": [
      "f1: 0.690822862016344 mae: 0.1782261547135207 loss: 2.960896073035827\n"
     ]
    },
    {
     "name": "stderr",
     "output_type": "stream",
     "text": [
      "0it [00:00, ?it/s]\n"
     ]
    },
    {
     "name": "stdout",
     "output_type": "stream",
     "text": [
      "Training epoch 0 ...\n"
     ]
    },
    {
     "name": "stderr",
     "output_type": "stream",
     "text": [
      "100%|██████████████████████████████████████████████████████████████████████████████████| 80/80 [00:08<00:00,  9.58it/s]\n"
     ]
    },
    {
     "name": "stdout",
     "output_type": "stream",
     "text": [
      "f1: 0.6108332626521584 mae: 0.1842359124450013 loss: 3.2062875509262083\n"
     ]
    },
    {
     "name": "stderr",
     "output_type": "stream",
     "text": [
      "0it [00:00, ?it/s]\n"
     ]
    },
    {
     "name": "stdout",
     "output_type": "stream",
     "text": [
      "Training epoch 0 ...\n"
     ]
    },
    {
     "name": "stderr",
     "output_type": "stream",
     "text": [
      "100%|████████████████████████████████████████████████████████████████████████████████| 103/103 [00:10<00:00, 10.28it/s]\n"
     ]
    },
    {
     "name": "stdout",
     "output_type": "stream",
     "text": [
      "f1: 0.690822862016344 mae: 0.1758838322339127 loss: 2.9357320429051965\n"
     ]
    },
    {
     "name": "stderr",
     "output_type": "stream",
     "text": [
      "0it [00:00, ?it/s]\n"
     ]
    },
    {
     "name": "stdout",
     "output_type": "stream",
     "text": [
      "Training epoch 0 ...\n"
     ]
    },
    {
     "name": "stderr",
     "output_type": "stream",
     "text": [
      "100%|██████████████████████████████████████████████████████████████████████████████████| 80/80 [00:08<00:00,  9.58it/s]\n"
     ]
    },
    {
     "name": "stdout",
     "output_type": "stream",
     "text": [
      "f1: 0.6324999272823331 mae: 0.18330686138942837 loss: 3.1896993964910516\n"
     ]
    },
    {
     "name": "stderr",
     "output_type": "stream",
     "text": [
      "0it [00:00, ?it/s]\n"
     ]
    },
    {
     "name": "stdout",
     "output_type": "stream",
     "text": [
      "Training epoch 0 ...\n"
     ]
    },
    {
     "name": "stderr",
     "output_type": "stream",
     "text": [
      "100%|████████████████████████████████████████████████████████████████████████████████| 103/103 [00:10<00:00,  9.74it/s]\n"
     ]
    },
    {
     "name": "stdout",
     "output_type": "stream",
     "text": [
      "f1: 0.6924409843185567 mae: 0.1751252143164573 loss: 2.9272551212495967\n"
     ]
    },
    {
     "name": "stderr",
     "output_type": "stream",
     "text": [
      "0it [00:00, ?it/s]\n"
     ]
    },
    {
     "name": "stdout",
     "output_type": "stream",
     "text": [
      "Training epoch 0 ...\n"
     ]
    },
    {
     "name": "stderr",
     "output_type": "stream",
     "text": [
      "100%|██████████████████████████████████████████████████████████████████████████████████| 80/80 [00:08<00:00,  9.04it/s]\n"
     ]
    },
    {
     "name": "stdout",
     "output_type": "stream",
     "text": [
      "f1: 0.6291665937751528 mae: 0.18298976547084753 loss: 3.1841401815414425\n"
     ]
    },
    {
     "name": "stderr",
     "output_type": "stream",
     "text": [
      "0it [00:00, ?it/s]\n"
     ]
    },
    {
     "name": "stdout",
     "output_type": "stream",
     "text": [
      "Training epoch 0 ...\n"
     ]
    },
    {
     "name": "stderr",
     "output_type": "stream",
     "text": [
      "100%|████████████████████████████████████████████████████████████████████████████████| 103/103 [00:10<00:00,  9.42it/s]\n"
     ]
    },
    {
     "name": "stdout",
     "output_type": "stream",
     "text": [
      "f1: 0.6972953529612527 mae: 0.17487815031510537 loss: 2.924424546436198\n"
     ]
    },
    {
     "name": "stderr",
     "output_type": "stream",
     "text": [
      "0it [00:00, ?it/s]\n"
     ]
    },
    {
     "name": "stdout",
     "output_type": "stream",
     "text": [
      "Training epoch 0 ...\n"
     ]
    },
    {
     "name": "stderr",
     "output_type": "stream",
     "text": [
      "100%|██████████████████████████████████████████████████████████████████████████████████| 80/80 [00:08<00:00,  8.90it/s]\n"
     ]
    },
    {
     "name": "stdout",
     "output_type": "stream",
     "text": [
      "f1: 0.6291665937751528 mae: 0.18288409502711156 loss: 3.182286715507509\n"
     ]
    },
    {
     "name": "stderr",
     "output_type": "stream",
     "text": [
      "0it [00:00, ?it/s]\n"
     ]
    },
    {
     "name": "stdout",
     "output_type": "stream",
     "text": [
      "Training epoch 0 ...\n"
     ]
    },
    {
     "name": "stderr",
     "output_type": "stream",
     "text": [
      "100%|████████████████████████████████████████████████████████████████████████████████| 103/103 [00:10<00:00,  9.48it/s]\n"
     ]
    },
    {
     "name": "stdout",
     "output_type": "stream",
     "text": [
      "f1: 0.6972953529612527 mae: 0.17479669123671016 loss: 2.9234802537751423\n"
     ]
    },
    {
     "name": "stderr",
     "output_type": "stream",
     "text": [
      "0it [00:00, ?it/s]\n"
     ]
    },
    {
     "name": "stdout",
     "output_type": "stream",
     "text": [
      "Training epoch 0 ...\n"
     ]
    },
    {
     "name": "stderr",
     "output_type": "stream",
     "text": [
      "100%|██████████████████████████████████████████████████████████████████████████████████| 80/80 [00:08<00:00,  9.07it/s]\n"
     ]
    },
    {
     "name": "stdout",
     "output_type": "stream",
     "text": [
      "f1: 0.6291665937751528 mae: 0.18284827693132677 loss: 3.181669065356256\n"
     ]
    },
    {
     "name": "stderr",
     "output_type": "stream",
     "text": [
      "0it [00:00, ?it/s]\n"
     ]
    },
    {
     "name": "stdout",
     "output_type": "stream",
     "text": [
      "Training epoch 0 ...\n"
     ]
    },
    {
     "name": "stderr",
     "output_type": "stream",
     "text": [
      "100%|████████████████████████████████████████████████████████████████████████████████| 103/103 [00:11<00:00,  9.32it/s]\n"
     ]
    },
    {
     "name": "stdout",
     "output_type": "stream",
     "text": [
      "f1: 0.6972953529612527 mae: 0.17476916059996325 loss: 2.9231655343064977\n"
     ]
    },
    {
     "name": "stderr",
     "output_type": "stream",
     "text": [
      "0it [00:00, ?it/s]\n"
     ]
    },
    {
     "name": "stdout",
     "output_type": "stream",
     "text": [
      "Training epoch 0 ...\n"
     ]
    },
    {
     "name": "stderr",
     "output_type": "stream",
     "text": [
      "100%|██████████████████████████████████████████████████████████████████████████████████| 80/80 [00:08<00:00,  9.46it/s]\n"
     ]
    },
    {
     "name": "stdout",
     "output_type": "stream",
     "text": [
      "f1: 0.6291665937751528 mae: 0.18283653551479806 loss: 3.1814632117748265\n"
     ]
    },
    {
     "name": "stderr",
     "output_type": "stream",
     "text": [
      "0it [00:00, ?it/s]\n"
     ]
    },
    {
     "name": "stdout",
     "output_type": "stream",
     "text": [
      "Training epoch 0 ...\n"
     ]
    },
    {
     "name": "stderr",
     "output_type": "stream",
     "text": [
      "100%|████████████████████████████████████████████████████████████████████████████████| 103/103 [00:10<00:00,  9.80it/s]\n"
     ]
    },
    {
     "name": "stdout",
     "output_type": "stream",
     "text": [
      "f1: 0.6972953529612527 mae: 0.17476000551821547 loss: 2.9230607805900197\n"
     ]
    },
    {
     "name": "stderr",
     "output_type": "stream",
     "text": [
      "0it [00:00, ?it/s]\n"
     ]
    },
    {
     "name": "stdout",
     "output_type": "stream",
     "text": [
      "Training epoch 0 ...\n"
     ]
    },
    {
     "name": "stderr",
     "output_type": "stream",
     "text": [
      "100%|██████████████████████████████████████████████████████████████████████████████████| 80/80 [00:08<00:00,  9.13it/s]\n"
     ]
    },
    {
     "name": "stdout",
     "output_type": "stream",
     "text": [
      "f1: 0.6291665937751528 mae: 0.18283264091005552 loss: 3.1813956767320635\n"
     ]
    },
    {
     "name": "stderr",
     "output_type": "stream",
     "text": [
      "0it [00:00, ?it/s]\n"
     ]
    },
    {
     "name": "stdout",
     "output_type": "stream",
     "text": [
      "Training epoch 0 ...\n"
     ]
    },
    {
     "name": "stderr",
     "output_type": "stream",
     "text": [
      "100%|████████████████████████████████████████████████████████████████████████████████| 103/103 [00:10<00:00,  9.54it/s]\n"
     ]
    },
    {
     "name": "stdout",
     "output_type": "stream",
     "text": [
      "f1: 0.6972953529612527 mae: 0.17475661320738425 loss: 2.9230273464351013\n"
     ]
    },
    {
     "name": "stderr",
     "output_type": "stream",
     "text": [
      "0it [00:00, ?it/s]\n"
     ]
    },
    {
     "name": "stdout",
     "output_type": "stream",
     "text": [
      "Training epoch 0 ...\n"
     ]
    },
    {
     "name": "stderr",
     "output_type": "stream",
     "text": [
      "100%|██████████████████████████████████████████████████████████████████████████████████| 80/80 [00:08<00:00,  9.75it/s]\n"
     ]
    },
    {
     "name": "stdout",
     "output_type": "stream",
     "text": [
      "f1: 0.6291665937751528 mae: 0.18283155452227223 loss: 3.1813768982887254\n"
     ]
    },
    {
     "name": "stderr",
     "output_type": "stream",
     "text": [
      "0it [00:00, ?it/s]\n"
     ]
    },
    {
     "name": "stdout",
     "output_type": "stream",
     "text": [
      "Training epoch 0 ...\n"
     ]
    },
    {
     "name": "stderr",
     "output_type": "stream",
     "text": [
      "100%|████████████████████████████████████████████████████████████████████████████████| 103/103 [00:11<00:00,  9.28it/s]\n"
     ]
    },
    {
     "name": "stdout",
     "output_type": "stream",
     "text": [
      "f1: 0.6972953529612527 mae: 0.1747556986666999 loss: 2.9230196522277527\n"
     ]
    },
    {
     "name": "stderr",
     "output_type": "stream",
     "text": [
      "0it [00:00, ?it/s]\n"
     ]
    },
    {
     "name": "stdout",
     "output_type": "stream",
     "text": [
      "Training epoch 0 ...\n"
     ]
    },
    {
     "name": "stderr",
     "output_type": "stream",
     "text": [
      "100%|██████████████████████████████████████████████████████████████████████████████████| 80/80 [00:08<00:00,  9.63it/s]\n"
     ]
    },
    {
     "name": "stdout",
     "output_type": "stream",
     "text": [
      "f1: 0.6291665937751528 mae: 0.18283142878208308 loss: 3.181374579668044\n"
     ]
    },
    {
     "name": "stderr",
     "output_type": "stream",
     "text": [
      "0it [00:00, ?it/s]\n"
     ]
    },
    {
     "name": "stdout",
     "output_type": "stream",
     "text": [
      "Training epoch 0 ...\n"
     ]
    },
    {
     "name": "stderr",
     "output_type": "stream",
     "text": [
      "100%|████████████████████████████████████████████████████████████████████████████████| 103/103 [00:10<00:00,  9.78it/s]\n"
     ]
    },
    {
     "name": "stdout",
     "output_type": "stream",
     "text": [
      "f1: 0.6972953529612527 mae: 0.17475560815661276 loss: 2.9230190388207293\n"
     ]
    },
    {
     "name": "stderr",
     "output_type": "stream",
     "text": [
      "0it [00:00, ?it/s]\n"
     ]
    },
    {
     "name": "stdout",
     "output_type": "stream",
     "text": [
      "Training epoch 0 ...\n"
     ]
    },
    {
     "name": "stderr",
     "output_type": "stream",
     "text": [
      "100%|██████████████████████████████████████████████████████████████████████████████████| 80/80 [00:08<00:00,  9.94it/s]\n"
     ]
    },
    {
     "name": "stdout",
     "output_type": "stream",
     "text": [
      "f1: 0.6291665937751528 mae: 0.18283140858402472 loss: 3.1813744068145744\n"
     ]
    },
    {
     "name": "stderr",
     "output_type": "stream",
     "text": [
      "0it [00:00, ?it/s]\n"
     ]
    },
    {
     "name": "stdout",
     "output_type": "stream",
     "text": [
      "Training epoch 0 ...\n"
     ]
    },
    {
     "name": "stderr",
     "output_type": "stream",
     "text": [
      "100%|████████████████████████████████████████████████████████████████████████████████| 103/103 [00:10<00:00,  9.91it/s]\n"
     ]
    },
    {
     "name": "stdout",
     "output_type": "stream",
     "text": [
      "f1: 0.6972953529612527 mae: 0.17475559813811367 loss: 2.923019041135473\n"
     ]
    },
    {
     "name": "stderr",
     "output_type": "stream",
     "text": [
      "0it [00:00, ?it/s]\n"
     ]
    },
    {
     "name": "stdout",
     "output_type": "stream",
     "text": [
      "Training epoch 0 ...\n"
     ]
    },
    {
     "name": "stderr",
     "output_type": "stream",
     "text": [
      "100%|██████████████████████████████████████████████████████████████████████████████████| 80/80 [00:08<00:00,  9.99it/s]\n"
     ]
    },
    {
     "name": "stdout",
     "output_type": "stream",
     "text": [
      "f1: 0.6291665937751528 mae: 0.18283140517305585 loss: 3.181374481320381\n"
     ]
    },
    {
     "name": "stderr",
     "output_type": "stream",
     "text": [
      "0it [00:00, ?it/s]\n"
     ]
    },
    {
     "name": "stdout",
     "output_type": "stream",
     "text": [
      "Training epoch 0 ...\n"
     ]
    },
    {
     "name": "stderr",
     "output_type": "stream",
     "text": [
      "100%|████████████████████████████████████████████████████████████████████████████████| 103/103 [00:10<00:00, 10.22it/s]\n"
     ]
    },
    {
     "name": "stdout",
     "output_type": "stream",
     "text": [
      "f1: 0.6972953529612527 mae: 0.17475559150131 loss: 2.9230190272470122\n"
     ]
    },
    {
     "name": "stderr",
     "output_type": "stream",
     "text": [
      "0it [00:00, ?it/s]\n"
     ]
    },
    {
     "name": "stdout",
     "output_type": "stream",
     "text": [
      "-------------------------------------------------\n",
      "Test phase\n",
      "Testing X2\n",
      "Running test on subject ...\n"
     ]
    },
    {
     "name": "stderr",
     "output_type": "stream",
     "text": [
      "  4%|███                                                                               | 4/105 [00:02<01:04,  1.57it/s]"
     ]
    },
    {
     "name": "stdout",
     "output_type": "stream",
     "text": [
      "WARNING:tensorflow:5 out of the last 5 calls to <function _make_execution_function.<locals>.distributed_function at 0x000002068A203048> triggered tf.function retracing. Tracing is expensive and the excessive number of tracings is likely due to passing python objects instead of tensors. Also, tf.function has experimental_relax_shapes=True option that relaxes argument shapes that can avoid unnecessary retracing. Please refer to https://www.tensorflow.org/beta/tutorials/eager/tf_function#python_or_tensor_args and https://www.tensorflow.org/api_docs/python/tf/function for more details.\n"
     ]
    },
    {
     "name": "stderr",
     "output_type": "stream",
     "text": [
      "\r",
      "  5%|███▉                                                                              | 5/105 [00:03<01:04,  1.56it/s]"
     ]
    },
    {
     "name": "stdout",
     "output_type": "stream",
     "text": [
      "WARNING:tensorflow:6 out of the last 6 calls to <function _make_execution_function.<locals>.distributed_function at 0x000002068A203048> triggered tf.function retracing. Tracing is expensive and the excessive number of tracings is likely due to passing python objects instead of tensors. Also, tf.function has experimental_relax_shapes=True option that relaxes argument shapes that can avoid unnecessary retracing. Please refer to https://www.tensorflow.org/beta/tutorials/eager/tf_function#python_or_tensor_args and https://www.tensorflow.org/api_docs/python/tf/function for more details.\n"
     ]
    },
    {
     "name": "stderr",
     "output_type": "stream",
     "text": [
      "\r",
      "  6%|████▋                                                                             | 6/105 [00:03<01:02,  1.58it/s]"
     ]
    },
    {
     "name": "stdout",
     "output_type": "stream",
     "text": [
      "WARNING:tensorflow:7 out of the last 7 calls to <function _make_execution_function.<locals>.distributed_function at 0x000002068A203048> triggered tf.function retracing. Tracing is expensive and the excessive number of tracings is likely due to passing python objects instead of tensors. Also, tf.function has experimental_relax_shapes=True option that relaxes argument shapes that can avoid unnecessary retracing. Please refer to https://www.tensorflow.org/beta/tutorials/eager/tf_function#python_or_tensor_args and https://www.tensorflow.org/api_docs/python/tf/function for more details.\n"
     ]
    },
    {
     "name": "stderr",
     "output_type": "stream",
     "text": [
      "\r",
      "  7%|█████▍                                                                            | 7/105 [00:04<01:01,  1.61it/s]"
     ]
    },
    {
     "name": "stdout",
     "output_type": "stream",
     "text": [
      "WARNING:tensorflow:8 out of the last 8 calls to <function _make_execution_function.<locals>.distributed_function at 0x000002068A203048> triggered tf.function retracing. Tracing is expensive and the excessive number of tracings is likely due to passing python objects instead of tensors. Also, tf.function has experimental_relax_shapes=True option that relaxes argument shapes that can avoid unnecessary retracing. Please refer to https://www.tensorflow.org/beta/tutorials/eager/tf_function#python_or_tensor_args and https://www.tensorflow.org/api_docs/python/tf/function for more details.\n"
     ]
    },
    {
     "name": "stderr",
     "output_type": "stream",
     "text": [
      "\r",
      "  8%|██████▏                                                                           | 8/105 [00:05<01:01,  1.58it/s]"
     ]
    },
    {
     "name": "stdout",
     "output_type": "stream",
     "text": [
      "WARNING:tensorflow:9 out of the last 9 calls to <function _make_execution_function.<locals>.distributed_function at 0x000002068A203048> triggered tf.function retracing. Tracing is expensive and the excessive number of tracings is likely due to passing python objects instead of tensors. Also, tf.function has experimental_relax_shapes=True option that relaxes argument shapes that can avoid unnecessary retracing. Please refer to https://www.tensorflow.org/beta/tutorials/eager/tf_function#python_or_tensor_args and https://www.tensorflow.org/api_docs/python/tf/function for more details.\n"
     ]
    },
    {
     "name": "stderr",
     "output_type": "stream",
     "text": [
      "\r",
      "  9%|███████                                                                           | 9/105 [00:05<01:00,  1.57it/s]"
     ]
    },
    {
     "name": "stdout",
     "output_type": "stream",
     "text": [
      "WARNING:tensorflow:10 out of the last 10 calls to <function _make_execution_function.<locals>.distributed_function at 0x000002068A203048> triggered tf.function retracing. Tracing is expensive and the excessive number of tracings is likely due to passing python objects instead of tensors. Also, tf.function has experimental_relax_shapes=True option that relaxes argument shapes that can avoid unnecessary retracing. Please refer to https://www.tensorflow.org/beta/tutorials/eager/tf_function#python_or_tensor_args and https://www.tensorflow.org/api_docs/python/tf/function for more details.\n"
     ]
    },
    {
     "name": "stderr",
     "output_type": "stream",
     "text": [
      "\r",
      " 10%|███████▋                                                                         | 10/105 [00:06<00:59,  1.60it/s]"
     ]
    },
    {
     "name": "stdout",
     "output_type": "stream",
     "text": [
      "WARNING:tensorflow:11 out of the last 11 calls to <function _make_execution_function.<locals>.distributed_function at 0x000002068A203048> triggered tf.function retracing. Tracing is expensive and the excessive number of tracings is likely due to passing python objects instead of tensors. Also, tf.function has experimental_relax_shapes=True option that relaxes argument shapes that can avoid unnecessary retracing. Please refer to https://www.tensorflow.org/beta/tutorials/eager/tf_function#python_or_tensor_args and https://www.tensorflow.org/api_docs/python/tf/function for more details.\n"
     ]
    },
    {
     "name": "stderr",
     "output_type": "stream",
     "text": [
      "\r",
      " 10%|████████▍                                                                        | 11/105 [00:06<00:57,  1.62it/s]"
     ]
    },
    {
     "name": "stdout",
     "output_type": "stream",
     "text": [
      "WARNING:tensorflow:11 out of the last 11 calls to <function _make_execution_function.<locals>.distributed_function at 0x000002068A203048> triggered tf.function retracing. Tracing is expensive and the excessive number of tracings is likely due to passing python objects instead of tensors. Also, tf.function has experimental_relax_shapes=True option that relaxes argument shapes that can avoid unnecessary retracing. Please refer to https://www.tensorflow.org/beta/tutorials/eager/tf_function#python_or_tensor_args and https://www.tensorflow.org/api_docs/python/tf/function for more details.\n"
     ]
    },
    {
     "name": "stderr",
     "output_type": "stream",
     "text": [
      "\r",
      " 11%|█████████▎                                                                       | 12/105 [00:07<00:57,  1.62it/s]"
     ]
    },
    {
     "name": "stdout",
     "output_type": "stream",
     "text": [
      "WARNING:tensorflow:11 out of the last 11 calls to <function _make_execution_function.<locals>.distributed_function at 0x000002068A203048> triggered tf.function retracing. Tracing is expensive and the excessive number of tracings is likely due to passing python objects instead of tensors. Also, tf.function has experimental_relax_shapes=True option that relaxes argument shapes that can avoid unnecessary retracing. Please refer to https://www.tensorflow.org/beta/tutorials/eager/tf_function#python_or_tensor_args and https://www.tensorflow.org/api_docs/python/tf/function for more details.\n"
     ]
    },
    {
     "name": "stderr",
     "output_type": "stream",
     "text": [
      "\r",
      " 12%|██████████                                                                       | 13/105 [00:08<00:57,  1.61it/s]"
     ]
    },
    {
     "name": "stdout",
     "output_type": "stream",
     "text": [
      "WARNING:tensorflow:11 out of the last 11 calls to <function _make_execution_function.<locals>.distributed_function at 0x000002068A203048> triggered tf.function retracing. Tracing is expensive and the excessive number of tracings is likely due to passing python objects instead of tensors. Also, tf.function has experimental_relax_shapes=True option that relaxes argument shapes that can avoid unnecessary retracing. Please refer to https://www.tensorflow.org/beta/tutorials/eager/tf_function#python_or_tensor_args and https://www.tensorflow.org/api_docs/python/tf/function for more details.\n"
     ]
    },
    {
     "name": "stderr",
     "output_type": "stream",
     "text": [
      "\r",
      " 13%|██████████▊                                                                      | 14/105 [00:08<00:56,  1.62it/s]"
     ]
    },
    {
     "name": "stdout",
     "output_type": "stream",
     "text": [
      "WARNING:tensorflow:11 out of the last 11 calls to <function _make_execution_function.<locals>.distributed_function at 0x000002068A203048> triggered tf.function retracing. Tracing is expensive and the excessive number of tracings is likely due to passing python objects instead of tensors. Also, tf.function has experimental_relax_shapes=True option that relaxes argument shapes that can avoid unnecessary retracing. Please refer to https://www.tensorflow.org/beta/tutorials/eager/tf_function#python_or_tensor_args and https://www.tensorflow.org/api_docs/python/tf/function for more details.\n"
     ]
    },
    {
     "name": "stderr",
     "output_type": "stream",
     "text": [
      "\r",
      " 14%|███████████▌                                                                     | 15/105 [00:09<00:55,  1.62it/s]"
     ]
    },
    {
     "name": "stdout",
     "output_type": "stream",
     "text": [
      "WARNING:tensorflow:11 out of the last 11 calls to <function _make_execution_function.<locals>.distributed_function at 0x000002068A203048> triggered tf.function retracing. Tracing is expensive and the excessive number of tracings is likely due to passing python objects instead of tensors. Also, tf.function has experimental_relax_shapes=True option that relaxes argument shapes that can avoid unnecessary retracing. Please refer to https://www.tensorflow.org/beta/tutorials/eager/tf_function#python_or_tensor_args and https://www.tensorflow.org/api_docs/python/tf/function for more details.\n"
     ]
    },
    {
     "name": "stderr",
     "output_type": "stream",
     "text": [
      "\r",
      " 15%|████████████▎                                                                    | 16/105 [00:10<00:55,  1.61it/s]"
     ]
    },
    {
     "name": "stdout",
     "output_type": "stream",
     "text": [
      "WARNING:tensorflow:11 out of the last 11 calls to <function _make_execution_function.<locals>.distributed_function at 0x000002068A203048> triggered tf.function retracing. Tracing is expensive and the excessive number of tracings is likely due to passing python objects instead of tensors. Also, tf.function has experimental_relax_shapes=True option that relaxes argument shapes that can avoid unnecessary retracing. Please refer to https://www.tensorflow.org/beta/tutorials/eager/tf_function#python_or_tensor_args and https://www.tensorflow.org/api_docs/python/tf/function for more details.\n"
     ]
    },
    {
     "name": "stderr",
     "output_type": "stream",
     "text": [
      "\r",
      " 16%|█████████████                                                                    | 17/105 [00:10<00:56,  1.57it/s]"
     ]
    },
    {
     "name": "stdout",
     "output_type": "stream",
     "text": [
      "WARNING:tensorflow:11 out of the last 11 calls to <function _make_execution_function.<locals>.distributed_function at 0x000002068A203048> triggered tf.function retracing. Tracing is expensive and the excessive number of tracings is likely due to passing python objects instead of tensors. Also, tf.function has experimental_relax_shapes=True option that relaxes argument shapes that can avoid unnecessary retracing. Please refer to https://www.tensorflow.org/beta/tutorials/eager/tf_function#python_or_tensor_args and https://www.tensorflow.org/api_docs/python/tf/function for more details.\n"
     ]
    },
    {
     "name": "stderr",
     "output_type": "stream",
     "text": [
      "\r",
      " 17%|█████████████▉                                                                   | 18/105 [00:11<01:00,  1.44it/s]"
     ]
    },
    {
     "name": "stdout",
     "output_type": "stream",
     "text": [
      "WARNING:tensorflow:11 out of the last 11 calls to <function _make_execution_function.<locals>.distributed_function at 0x000002068A203048> triggered tf.function retracing. Tracing is expensive and the excessive number of tracings is likely due to passing python objects instead of tensors. Also, tf.function has experimental_relax_shapes=True option that relaxes argument shapes that can avoid unnecessary retracing. Please refer to https://www.tensorflow.org/beta/tutorials/eager/tf_function#python_or_tensor_args and https://www.tensorflow.org/api_docs/python/tf/function for more details.\n"
     ]
    },
    {
     "name": "stderr",
     "output_type": "stream",
     "text": [
      "\r",
      " 18%|██████████████▋                                                                  | 19/105 [00:12<00:59,  1.45it/s]"
     ]
    },
    {
     "name": "stdout",
     "output_type": "stream",
     "text": [
      "WARNING:tensorflow:11 out of the last 11 calls to <function _make_execution_function.<locals>.distributed_function at 0x000002068A203048> triggered tf.function retracing. Tracing is expensive and the excessive number of tracings is likely due to passing python objects instead of tensors. Also, tf.function has experimental_relax_shapes=True option that relaxes argument shapes that can avoid unnecessary retracing. Please refer to https://www.tensorflow.org/beta/tutorials/eager/tf_function#python_or_tensor_args and https://www.tensorflow.org/api_docs/python/tf/function for more details.\n"
     ]
    },
    {
     "name": "stderr",
     "output_type": "stream",
     "text": [
      "\r",
      " 19%|███████████████▍                                                                 | 20/105 [00:12<00:56,  1.50it/s]"
     ]
    },
    {
     "name": "stdout",
     "output_type": "stream",
     "text": [
      "WARNING:tensorflow:11 out of the last 11 calls to <function _make_execution_function.<locals>.distributed_function at 0x000002068A203048> triggered tf.function retracing. Tracing is expensive and the excessive number of tracings is likely due to passing python objects instead of tensors. Also, tf.function has experimental_relax_shapes=True option that relaxes argument shapes that can avoid unnecessary retracing. Please refer to https://www.tensorflow.org/beta/tutorials/eager/tf_function#python_or_tensor_args and https://www.tensorflow.org/api_docs/python/tf/function for more details.\n"
     ]
    },
    {
     "name": "stderr",
     "output_type": "stream",
     "text": [
      "\r",
      " 20%|████████████████▏                                                                | 21/105 [00:13<00:54,  1.53it/s]"
     ]
    },
    {
     "name": "stdout",
     "output_type": "stream",
     "text": [
      "WARNING:tensorflow:11 out of the last 11 calls to <function _make_execution_function.<locals>.distributed_function at 0x000002068A203048> triggered tf.function retracing. Tracing is expensive and the excessive number of tracings is likely due to passing python objects instead of tensors. Also, tf.function has experimental_relax_shapes=True option that relaxes argument shapes that can avoid unnecessary retracing. Please refer to https://www.tensorflow.org/beta/tutorials/eager/tf_function#python_or_tensor_args and https://www.tensorflow.org/api_docs/python/tf/function for more details.\n"
     ]
    },
    {
     "name": "stderr",
     "output_type": "stream",
     "text": [
      "\r",
      " 21%|████████████████▉                                                                | 22/105 [00:14<00:53,  1.55it/s]"
     ]
    },
    {
     "name": "stdout",
     "output_type": "stream",
     "text": [
      "WARNING:tensorflow:11 out of the last 11 calls to <function _make_execution_function.<locals>.distributed_function at 0x000002068A203048> triggered tf.function retracing. Tracing is expensive and the excessive number of tracings is likely due to passing python objects instead of tensors. Also, tf.function has experimental_relax_shapes=True option that relaxes argument shapes that can avoid unnecessary retracing. Please refer to https://www.tensorflow.org/beta/tutorials/eager/tf_function#python_or_tensor_args and https://www.tensorflow.org/api_docs/python/tf/function for more details.\n"
     ]
    },
    {
     "name": "stderr",
     "output_type": "stream",
     "text": [
      "\r",
      " 22%|█████████████████▋                                                               | 23/105 [00:14<00:53,  1.52it/s]"
     ]
    },
    {
     "name": "stdout",
     "output_type": "stream",
     "text": [
      "WARNING:tensorflow:11 out of the last 11 calls to <function _make_execution_function.<locals>.distributed_function at 0x000002068A203048> triggered tf.function retracing. Tracing is expensive and the excessive number of tracings is likely due to passing python objects instead of tensors. Also, tf.function has experimental_relax_shapes=True option that relaxes argument shapes that can avoid unnecessary retracing. Please refer to https://www.tensorflow.org/beta/tutorials/eager/tf_function#python_or_tensor_args and https://www.tensorflow.org/api_docs/python/tf/function for more details.\n"
     ]
    },
    {
     "name": "stderr",
     "output_type": "stream",
     "text": [
      "\r",
      " 23%|██████████████████▌                                                              | 24/105 [00:15<00:52,  1.54it/s]"
     ]
    },
    {
     "name": "stdout",
     "output_type": "stream",
     "text": [
      "WARNING:tensorflow:11 out of the last 11 calls to <function _make_execution_function.<locals>.distributed_function at 0x000002068A203048> triggered tf.function retracing. Tracing is expensive and the excessive number of tracings is likely due to passing python objects instead of tensors. Also, tf.function has experimental_relax_shapes=True option that relaxes argument shapes that can avoid unnecessary retracing. Please refer to https://www.tensorflow.org/beta/tutorials/eager/tf_function#python_or_tensor_args and https://www.tensorflow.org/api_docs/python/tf/function for more details.\n"
     ]
    },
    {
     "name": "stderr",
     "output_type": "stream",
     "text": [
      "\r",
      " 24%|███████████████████▎                                                             | 25/105 [00:16<00:51,  1.55it/s]"
     ]
    },
    {
     "name": "stdout",
     "output_type": "stream",
     "text": [
      "WARNING:tensorflow:11 out of the last 11 calls to <function _make_execution_function.<locals>.distributed_function at 0x000002068A203048> triggered tf.function retracing. Tracing is expensive and the excessive number of tracings is likely due to passing python objects instead of tensors. Also, tf.function has experimental_relax_shapes=True option that relaxes argument shapes that can avoid unnecessary retracing. Please refer to https://www.tensorflow.org/beta/tutorials/eager/tf_function#python_or_tensor_args and https://www.tensorflow.org/api_docs/python/tf/function for more details.\n"
     ]
    },
    {
     "name": "stderr",
     "output_type": "stream",
     "text": [
      "\r",
      " 25%|████████████████████                                                             | 26/105 [00:16<00:50,  1.55it/s]"
     ]
    },
    {
     "name": "stdout",
     "output_type": "stream",
     "text": [
      "WARNING:tensorflow:11 out of the last 11 calls to <function _make_execution_function.<locals>.distributed_function at 0x000002068A203048> triggered tf.function retracing. Tracing is expensive and the excessive number of tracings is likely due to passing python objects instead of tensors. Also, tf.function has experimental_relax_shapes=True option that relaxes argument shapes that can avoid unnecessary retracing. Please refer to https://www.tensorflow.org/beta/tutorials/eager/tf_function#python_or_tensor_args and https://www.tensorflow.org/api_docs/python/tf/function for more details.\n"
     ]
    },
    {
     "name": "stderr",
     "output_type": "stream",
     "text": [
      "\r",
      " 26%|████████████████████▊                                                            | 27/105 [00:17<00:49,  1.56it/s]"
     ]
    },
    {
     "name": "stdout",
     "output_type": "stream",
     "text": [
      "WARNING:tensorflow:11 out of the last 11 calls to <function _make_execution_function.<locals>.distributed_function at 0x000002068A203048> triggered tf.function retracing. Tracing is expensive and the excessive number of tracings is likely due to passing python objects instead of tensors. Also, tf.function has experimental_relax_shapes=True option that relaxes argument shapes that can avoid unnecessary retracing. Please refer to https://www.tensorflow.org/beta/tutorials/eager/tf_function#python_or_tensor_args and https://www.tensorflow.org/api_docs/python/tf/function for more details.\n"
     ]
    },
    {
     "name": "stderr",
     "output_type": "stream",
     "text": [
      "\r",
      " 27%|█████████████████████▌                                                           | 28/105 [00:17<00:48,  1.59it/s]"
     ]
    },
    {
     "name": "stdout",
     "output_type": "stream",
     "text": [
      "WARNING:tensorflow:11 out of the last 11 calls to <function _make_execution_function.<locals>.distributed_function at 0x000002068A203048> triggered tf.function retracing. Tracing is expensive and the excessive number of tracings is likely due to passing python objects instead of tensors. Also, tf.function has experimental_relax_shapes=True option that relaxes argument shapes that can avoid unnecessary retracing. Please refer to https://www.tensorflow.org/beta/tutorials/eager/tf_function#python_or_tensor_args and https://www.tensorflow.org/api_docs/python/tf/function for more details.\n"
     ]
    },
    {
     "name": "stderr",
     "output_type": "stream",
     "text": [
      "\r",
      " 28%|██████████████████████▎                                                          | 29/105 [00:18<00:48,  1.57it/s]"
     ]
    },
    {
     "name": "stdout",
     "output_type": "stream",
     "text": [
      "WARNING:tensorflow:11 out of the last 11 calls to <function _make_execution_function.<locals>.distributed_function at 0x000002068A203048> triggered tf.function retracing. Tracing is expensive and the excessive number of tracings is likely due to passing python objects instead of tensors. Also, tf.function has experimental_relax_shapes=True option that relaxes argument shapes that can avoid unnecessary retracing. Please refer to https://www.tensorflow.org/beta/tutorials/eager/tf_function#python_or_tensor_args and https://www.tensorflow.org/api_docs/python/tf/function for more details.\n"
     ]
    },
    {
     "name": "stderr",
     "output_type": "stream",
     "text": [
      "\r",
      " 29%|███████████████████████▏                                                         | 30/105 [00:19<00:47,  1.58it/s]"
     ]
    },
    {
     "name": "stdout",
     "output_type": "stream",
     "text": [
      "WARNING:tensorflow:11 out of the last 11 calls to <function _make_execution_function.<locals>.distributed_function at 0x000002068A203048> triggered tf.function retracing. Tracing is expensive and the excessive number of tracings is likely due to passing python objects instead of tensors. Also, tf.function has experimental_relax_shapes=True option that relaxes argument shapes that can avoid unnecessary retracing. Please refer to https://www.tensorflow.org/beta/tutorials/eager/tf_function#python_or_tensor_args and https://www.tensorflow.org/api_docs/python/tf/function for more details.\n"
     ]
    },
    {
     "name": "stderr",
     "output_type": "stream",
     "text": [
      "\r",
      " 30%|███████████████████████▉                                                         | 31/105 [00:19<00:46,  1.60it/s]"
     ]
    },
    {
     "name": "stdout",
     "output_type": "stream",
     "text": [
      "WARNING:tensorflow:11 out of the last 11 calls to <function _make_execution_function.<locals>.distributed_function at 0x000002068A203048> triggered tf.function retracing. Tracing is expensive and the excessive number of tracings is likely due to passing python objects instead of tensors. Also, tf.function has experimental_relax_shapes=True option that relaxes argument shapes that can avoid unnecessary retracing. Please refer to https://www.tensorflow.org/beta/tutorials/eager/tf_function#python_or_tensor_args and https://www.tensorflow.org/api_docs/python/tf/function for more details.\n"
     ]
    },
    {
     "name": "stderr",
     "output_type": "stream",
     "text": [
      "\r",
      " 30%|████████████████████████▋                                                        | 32/105 [00:20<00:45,  1.62it/s]"
     ]
    },
    {
     "name": "stdout",
     "output_type": "stream",
     "text": [
      "WARNING:tensorflow:11 out of the last 11 calls to <function _make_execution_function.<locals>.distributed_function at 0x000002068A203048> triggered tf.function retracing. Tracing is expensive and the excessive number of tracings is likely due to passing python objects instead of tensors. Also, tf.function has experimental_relax_shapes=True option that relaxes argument shapes that can avoid unnecessary retracing. Please refer to https://www.tensorflow.org/beta/tutorials/eager/tf_function#python_or_tensor_args and https://www.tensorflow.org/api_docs/python/tf/function for more details.\n"
     ]
    },
    {
     "name": "stderr",
     "output_type": "stream",
     "text": [
      "\r",
      " 31%|█████████████████████████▍                                                       | 33/105 [00:21<00:45,  1.58it/s]"
     ]
    },
    {
     "name": "stdout",
     "output_type": "stream",
     "text": [
      "WARNING:tensorflow:11 out of the last 11 calls to <function _make_execution_function.<locals>.distributed_function at 0x000002068A203048> triggered tf.function retracing. Tracing is expensive and the excessive number of tracings is likely due to passing python objects instead of tensors. Also, tf.function has experimental_relax_shapes=True option that relaxes argument shapes that can avoid unnecessary retracing. Please refer to https://www.tensorflow.org/beta/tutorials/eager/tf_function#python_or_tensor_args and https://www.tensorflow.org/api_docs/python/tf/function for more details.\n"
     ]
    },
    {
     "name": "stderr",
     "output_type": "stream",
     "text": [
      "\r",
      " 32%|██████████████████████████▏                                                      | 34/105 [00:21<00:44,  1.60it/s]"
     ]
    },
    {
     "name": "stdout",
     "output_type": "stream",
     "text": [
      "WARNING:tensorflow:11 out of the last 11 calls to <function _make_execution_function.<locals>.distributed_function at 0x000002068A203048> triggered tf.function retracing. Tracing is expensive and the excessive number of tracings is likely due to passing python objects instead of tensors. Also, tf.function has experimental_relax_shapes=True option that relaxes argument shapes that can avoid unnecessary retracing. Please refer to https://www.tensorflow.org/beta/tutorials/eager/tf_function#python_or_tensor_args and https://www.tensorflow.org/api_docs/python/tf/function for more details.\n"
     ]
    },
    {
     "name": "stderr",
     "output_type": "stream",
     "text": [
      "\r",
      " 33%|███████████████████████████                                                      | 35/105 [00:22<00:43,  1.63it/s]"
     ]
    },
    {
     "name": "stdout",
     "output_type": "stream",
     "text": [
      "WARNING:tensorflow:11 out of the last 11 calls to <function _make_execution_function.<locals>.distributed_function at 0x000002068A203048> triggered tf.function retracing. Tracing is expensive and the excessive number of tracings is likely due to passing python objects instead of tensors. Also, tf.function has experimental_relax_shapes=True option that relaxes argument shapes that can avoid unnecessary retracing. Please refer to https://www.tensorflow.org/beta/tutorials/eager/tf_function#python_or_tensor_args and https://www.tensorflow.org/api_docs/python/tf/function for more details.\n"
     ]
    },
    {
     "name": "stderr",
     "output_type": "stream",
     "text": [
      "\r",
      " 34%|███████████████████████████▊                                                     | 36/105 [00:22<00:42,  1.63it/s]"
     ]
    },
    {
     "name": "stdout",
     "output_type": "stream",
     "text": [
      "WARNING:tensorflow:11 out of the last 11 calls to <function _make_execution_function.<locals>.distributed_function at 0x000002068A203048> triggered tf.function retracing. Tracing is expensive and the excessive number of tracings is likely due to passing python objects instead of tensors. Also, tf.function has experimental_relax_shapes=True option that relaxes argument shapes that can avoid unnecessary retracing. Please refer to https://www.tensorflow.org/beta/tutorials/eager/tf_function#python_or_tensor_args and https://www.tensorflow.org/api_docs/python/tf/function for more details.\n"
     ]
    },
    {
     "name": "stderr",
     "output_type": "stream",
     "text": [
      "\r",
      " 35%|████████████████████████████▌                                                    | 37/105 [00:23<00:42,  1.62it/s]"
     ]
    },
    {
     "name": "stdout",
     "output_type": "stream",
     "text": [
      "WARNING:tensorflow:11 out of the last 11 calls to <function _make_execution_function.<locals>.distributed_function at 0x000002068A203048> triggered tf.function retracing. Tracing is expensive and the excessive number of tracings is likely due to passing python objects instead of tensors. Also, tf.function has experimental_relax_shapes=True option that relaxes argument shapes that can avoid unnecessary retracing. Please refer to https://www.tensorflow.org/beta/tutorials/eager/tf_function#python_or_tensor_args and https://www.tensorflow.org/api_docs/python/tf/function for more details.\n"
     ]
    },
    {
     "name": "stderr",
     "output_type": "stream",
     "text": [
      "\r",
      " 36%|█████████████████████████████▎                                                   | 38/105 [01:28<22:18, 19.97s/it]"
     ]
    },
    {
     "name": "stdout",
     "output_type": "stream",
     "text": [
      "WARNING:tensorflow:11 out of the last 11 calls to <function _make_execution_function.<locals>.distributed_function at 0x000002068A203048> triggered tf.function retracing. Tracing is expensive and the excessive number of tracings is likely due to passing python objects instead of tensors. Also, tf.function has experimental_relax_shapes=True option that relaxes argument shapes that can avoid unnecessary retracing. Please refer to https://www.tensorflow.org/beta/tutorials/eager/tf_function#python_or_tensor_args and https://www.tensorflow.org/api_docs/python/tf/function for more details.\n"
     ]
    },
    {
     "name": "stderr",
     "output_type": "stream",
     "text": [
      "\r",
      " 37%|██████████████████████████████                                                   | 39/105 [01:29<15:36, 14.18s/it]"
     ]
    },
    {
     "name": "stdout",
     "output_type": "stream",
     "text": [
      "WARNING:tensorflow:11 out of the last 11 calls to <function _make_execution_function.<locals>.distributed_function at 0x000002068A203048> triggered tf.function retracing. Tracing is expensive and the excessive number of tracings is likely due to passing python objects instead of tensors. Also, tf.function has experimental_relax_shapes=True option that relaxes argument shapes that can avoid unnecessary retracing. Please refer to https://www.tensorflow.org/beta/tutorials/eager/tf_function#python_or_tensor_args and https://www.tensorflow.org/api_docs/python/tf/function for more details.\n"
     ]
    },
    {
     "name": "stderr",
     "output_type": "stream",
     "text": [
      "\r",
      " 38%|██████████████████████████████▊                                                  | 40/105 [01:29<10:57, 10.12s/it]"
     ]
    },
    {
     "name": "stdout",
     "output_type": "stream",
     "text": [
      "WARNING:tensorflow:11 out of the last 11 calls to <function _make_execution_function.<locals>.distributed_function at 0x000002068A203048> triggered tf.function retracing. Tracing is expensive and the excessive number of tracings is likely due to passing python objects instead of tensors. Also, tf.function has experimental_relax_shapes=True option that relaxes argument shapes that can avoid unnecessary retracing. Please refer to https://www.tensorflow.org/beta/tutorials/eager/tf_function#python_or_tensor_args and https://www.tensorflow.org/api_docs/python/tf/function for more details.\n"
     ]
    },
    {
     "name": "stderr",
     "output_type": "stream",
     "text": [
      "\r",
      " 39%|███████████████████████████████▋                                                 | 41/105 [01:30<07:45,  7.27s/it]"
     ]
    },
    {
     "name": "stdout",
     "output_type": "stream",
     "text": [
      "WARNING:tensorflow:11 out of the last 11 calls to <function _make_execution_function.<locals>.distributed_function at 0x000002068A203048> triggered tf.function retracing. Tracing is expensive and the excessive number of tracings is likely due to passing python objects instead of tensors. Also, tf.function has experimental_relax_shapes=True option that relaxes argument shapes that can avoid unnecessary retracing. Please refer to https://www.tensorflow.org/beta/tutorials/eager/tf_function#python_or_tensor_args and https://www.tensorflow.org/api_docs/python/tf/function for more details.\n"
     ]
    },
    {
     "name": "stderr",
     "output_type": "stream",
     "text": [
      "\r",
      " 40%|████████████████████████████████▍                                                | 42/105 [01:31<05:32,  5.28s/it]"
     ]
    },
    {
     "name": "stdout",
     "output_type": "stream",
     "text": [
      "WARNING:tensorflow:11 out of the last 11 calls to <function _make_execution_function.<locals>.distributed_function at 0x000002068A203048> triggered tf.function retracing. Tracing is expensive and the excessive number of tracings is likely due to passing python objects instead of tensors. Also, tf.function has experimental_relax_shapes=True option that relaxes argument shapes that can avoid unnecessary retracing. Please refer to https://www.tensorflow.org/beta/tutorials/eager/tf_function#python_or_tensor_args and https://www.tensorflow.org/api_docs/python/tf/function for more details.\n"
     ]
    },
    {
     "name": "stderr",
     "output_type": "stream",
     "text": [
      "\r",
      " 41%|█████████████████████████████████▏                                               | 43/105 [01:31<04:01,  3.89s/it]"
     ]
    },
    {
     "name": "stdout",
     "output_type": "stream",
     "text": [
      "WARNING:tensorflow:11 out of the last 11 calls to <function _make_execution_function.<locals>.distributed_function at 0x000002068A203048> triggered tf.function retracing. Tracing is expensive and the excessive number of tracings is likely due to passing python objects instead of tensors. Also, tf.function has experimental_relax_shapes=True option that relaxes argument shapes that can avoid unnecessary retracing. Please refer to https://www.tensorflow.org/beta/tutorials/eager/tf_function#python_or_tensor_args and https://www.tensorflow.org/api_docs/python/tf/function for more details.\n"
     ]
    },
    {
     "name": "stderr",
     "output_type": "stream",
     "text": [
      "\r",
      " 42%|█████████████████████████████████▉                                               | 44/105 [01:32<02:58,  2.92s/it]"
     ]
    },
    {
     "name": "stdout",
     "output_type": "stream",
     "text": [
      "WARNING:tensorflow:11 out of the last 11 calls to <function _make_execution_function.<locals>.distributed_function at 0x000002068A203048> triggered tf.function retracing. Tracing is expensive and the excessive number of tracings is likely due to passing python objects instead of tensors. Also, tf.function has experimental_relax_shapes=True option that relaxes argument shapes that can avoid unnecessary retracing. Please refer to https://www.tensorflow.org/beta/tutorials/eager/tf_function#python_or_tensor_args and https://www.tensorflow.org/api_docs/python/tf/function for more details.\n"
     ]
    },
    {
     "name": "stderr",
     "output_type": "stream",
     "text": [
      "\r",
      " 43%|██████████████████████████████████▋                                              | 45/105 [01:33<02:14,  2.24s/it]"
     ]
    },
    {
     "name": "stdout",
     "output_type": "stream",
     "text": [
      "WARNING:tensorflow:11 out of the last 11 calls to <function _make_execution_function.<locals>.distributed_function at 0x000002068A203048> triggered tf.function retracing. Tracing is expensive and the excessive number of tracings is likely due to passing python objects instead of tensors. Also, tf.function has experimental_relax_shapes=True option that relaxes argument shapes that can avoid unnecessary retracing. Please refer to https://www.tensorflow.org/beta/tutorials/eager/tf_function#python_or_tensor_args and https://www.tensorflow.org/api_docs/python/tf/function for more details.\n"
     ]
    },
    {
     "name": "stderr",
     "output_type": "stream",
     "text": [
      "\r",
      " 44%|███████████████████████████████████▍                                             | 46/105 [01:33<01:44,  1.76s/it]"
     ]
    },
    {
     "name": "stdout",
     "output_type": "stream",
     "text": [
      "WARNING:tensorflow:11 out of the last 11 calls to <function _make_execution_function.<locals>.distributed_function at 0x000002068A203048> triggered tf.function retracing. Tracing is expensive and the excessive number of tracings is likely due to passing python objects instead of tensors. Also, tf.function has experimental_relax_shapes=True option that relaxes argument shapes that can avoid unnecessary retracing. Please refer to https://www.tensorflow.org/beta/tutorials/eager/tf_function#python_or_tensor_args and https://www.tensorflow.org/api_docs/python/tf/function for more details.\n"
     ]
    },
    {
     "name": "stderr",
     "output_type": "stream",
     "text": [
      "\r",
      " 45%|████████████████████████████████████▎                                            | 47/105 [01:34<01:23,  1.43s/it]"
     ]
    },
    {
     "name": "stdout",
     "output_type": "stream",
     "text": [
      "WARNING:tensorflow:11 out of the last 11 calls to <function _make_execution_function.<locals>.distributed_function at 0x000002068A203048> triggered tf.function retracing. Tracing is expensive and the excessive number of tracings is likely due to passing python objects instead of tensors. Also, tf.function has experimental_relax_shapes=True option that relaxes argument shapes that can avoid unnecessary retracing. Please refer to https://www.tensorflow.org/beta/tutorials/eager/tf_function#python_or_tensor_args and https://www.tensorflow.org/api_docs/python/tf/function for more details.\n"
     ]
    },
    {
     "name": "stderr",
     "output_type": "stream",
     "text": [
      "\r",
      " 46%|█████████████████████████████████████                                            | 48/105 [01:35<01:08,  1.20s/it]"
     ]
    },
    {
     "name": "stdout",
     "output_type": "stream",
     "text": [
      "WARNING:tensorflow:11 out of the last 11 calls to <function _make_execution_function.<locals>.distributed_function at 0x000002068A203048> triggered tf.function retracing. Tracing is expensive and the excessive number of tracings is likely due to passing python objects instead of tensors. Also, tf.function has experimental_relax_shapes=True option that relaxes argument shapes that can avoid unnecessary retracing. Please refer to https://www.tensorflow.org/beta/tutorials/eager/tf_function#python_or_tensor_args and https://www.tensorflow.org/api_docs/python/tf/function for more details.\n"
     ]
    },
    {
     "name": "stderr",
     "output_type": "stream",
     "text": [
      "\r",
      " 47%|█████████████████████████████████████▊                                           | 49/105 [01:35<00:57,  1.02s/it]"
     ]
    },
    {
     "name": "stdout",
     "output_type": "stream",
     "text": [
      "WARNING:tensorflow:11 out of the last 11 calls to <function _make_execution_function.<locals>.distributed_function at 0x000002068A203048> triggered tf.function retracing. Tracing is expensive and the excessive number of tracings is likely due to passing python objects instead of tensors. Also, tf.function has experimental_relax_shapes=True option that relaxes argument shapes that can avoid unnecessary retracing. Please refer to https://www.tensorflow.org/beta/tutorials/eager/tf_function#python_or_tensor_args and https://www.tensorflow.org/api_docs/python/tf/function for more details.\n"
     ]
    },
    {
     "name": "stderr",
     "output_type": "stream",
     "text": [
      "\r",
      " 48%|██████████████████████████████████████▌                                          | 50/105 [01:36<00:50,  1.10it/s]"
     ]
    },
    {
     "name": "stdout",
     "output_type": "stream",
     "text": [
      "WARNING:tensorflow:11 out of the last 11 calls to <function _make_execution_function.<locals>.distributed_function at 0x000002068A203048> triggered tf.function retracing. Tracing is expensive and the excessive number of tracings is likely due to passing python objects instead of tensors. Also, tf.function has experimental_relax_shapes=True option that relaxes argument shapes that can avoid unnecessary retracing. Please refer to https://www.tensorflow.org/beta/tutorials/eager/tf_function#python_or_tensor_args and https://www.tensorflow.org/api_docs/python/tf/function for more details.\n"
     ]
    },
    {
     "name": "stderr",
     "output_type": "stream",
     "text": [
      "\r",
      " 49%|███████████████████████████████████████▎                                         | 51/105 [01:36<00:44,  1.21it/s]"
     ]
    },
    {
     "name": "stdout",
     "output_type": "stream",
     "text": [
      "WARNING:tensorflow:11 out of the last 11 calls to <function _make_execution_function.<locals>.distributed_function at 0x000002068A203048> triggered tf.function retracing. Tracing is expensive and the excessive number of tracings is likely due to passing python objects instead of tensors. Also, tf.function has experimental_relax_shapes=True option that relaxes argument shapes that can avoid unnecessary retracing. Please refer to https://www.tensorflow.org/beta/tutorials/eager/tf_function#python_or_tensor_args and https://www.tensorflow.org/api_docs/python/tf/function for more details.\n"
     ]
    },
    {
     "name": "stderr",
     "output_type": "stream",
     "text": [
      "\r",
      " 50%|████████████████████████████████████████                                         | 52/105 [01:37<00:41,  1.29it/s]"
     ]
    },
    {
     "name": "stdout",
     "output_type": "stream",
     "text": [
      "WARNING:tensorflow:11 out of the last 11 calls to <function _make_execution_function.<locals>.distributed_function at 0x000002068A203048> triggered tf.function retracing. Tracing is expensive and the excessive number of tracings is likely due to passing python objects instead of tensors. Also, tf.function has experimental_relax_shapes=True option that relaxes argument shapes that can avoid unnecessary retracing. Please refer to https://www.tensorflow.org/beta/tutorials/eager/tf_function#python_or_tensor_args and https://www.tensorflow.org/api_docs/python/tf/function for more details.\n"
     ]
    },
    {
     "name": "stderr",
     "output_type": "stream",
     "text": [
      "\r",
      " 50%|████████████████████████████████████████▉                                        | 53/105 [01:38<00:38,  1.35it/s]"
     ]
    },
    {
     "name": "stdout",
     "output_type": "stream",
     "text": [
      "WARNING:tensorflow:11 out of the last 11 calls to <function _make_execution_function.<locals>.distributed_function at 0x000002068A203048> triggered tf.function retracing. Tracing is expensive and the excessive number of tracings is likely due to passing python objects instead of tensors. Also, tf.function has experimental_relax_shapes=True option that relaxes argument shapes that can avoid unnecessary retracing. Please refer to https://www.tensorflow.org/beta/tutorials/eager/tf_function#python_or_tensor_args and https://www.tensorflow.org/api_docs/python/tf/function for more details.\n"
     ]
    },
    {
     "name": "stderr",
     "output_type": "stream",
     "text": [
      "\r",
      " 51%|█████████████████████████████████████████▋                                       | 54/105 [01:38<00:36,  1.41it/s]"
     ]
    },
    {
     "name": "stdout",
     "output_type": "stream",
     "text": [
      "WARNING:tensorflow:11 out of the last 11 calls to <function _make_execution_function.<locals>.distributed_function at 0x000002068A203048> triggered tf.function retracing. Tracing is expensive and the excessive number of tracings is likely due to passing python objects instead of tensors. Also, tf.function has experimental_relax_shapes=True option that relaxes argument shapes that can avoid unnecessary retracing. Please refer to https://www.tensorflow.org/beta/tutorials/eager/tf_function#python_or_tensor_args and https://www.tensorflow.org/api_docs/python/tf/function for more details.\n"
     ]
    },
    {
     "name": "stderr",
     "output_type": "stream",
     "text": [
      "\r",
      " 52%|██████████████████████████████████████████▍                                      | 55/105 [01:39<00:34,  1.44it/s]"
     ]
    },
    {
     "name": "stdout",
     "output_type": "stream",
     "text": [
      "WARNING:tensorflow:11 out of the last 11 calls to <function _make_execution_function.<locals>.distributed_function at 0x000002068A203048> triggered tf.function retracing. Tracing is expensive and the excessive number of tracings is likely due to passing python objects instead of tensors. Also, tf.function has experimental_relax_shapes=True option that relaxes argument shapes that can avoid unnecessary retracing. Please refer to https://www.tensorflow.org/beta/tutorials/eager/tf_function#python_or_tensor_args and https://www.tensorflow.org/api_docs/python/tf/function for more details.\n"
     ]
    },
    {
     "name": "stderr",
     "output_type": "stream",
     "text": [
      "\r",
      " 53%|███████████████████████████████████████████▏                                     | 56/105 [01:40<00:34,  1.44it/s]"
     ]
    },
    {
     "name": "stdout",
     "output_type": "stream",
     "text": [
      "WARNING:tensorflow:11 out of the last 11 calls to <function _make_execution_function.<locals>.distributed_function at 0x000002068A203048> triggered tf.function retracing. Tracing is expensive and the excessive number of tracings is likely due to passing python objects instead of tensors. Also, tf.function has experimental_relax_shapes=True option that relaxes argument shapes that can avoid unnecessary retracing. Please refer to https://www.tensorflow.org/beta/tutorials/eager/tf_function#python_or_tensor_args and https://www.tensorflow.org/api_docs/python/tf/function for more details.\n"
     ]
    },
    {
     "name": "stderr",
     "output_type": "stream",
     "text": [
      "\r",
      " 54%|███████████████████████████████████████████▉                                     | 57/105 [01:40<00:32,  1.49it/s]"
     ]
    },
    {
     "name": "stdout",
     "output_type": "stream",
     "text": [
      "WARNING:tensorflow:11 out of the last 11 calls to <function _make_execution_function.<locals>.distributed_function at 0x000002068A203048> triggered tf.function retracing. Tracing is expensive and the excessive number of tracings is likely due to passing python objects instead of tensors. Also, tf.function has experimental_relax_shapes=True option that relaxes argument shapes that can avoid unnecessary retracing. Please refer to https://www.tensorflow.org/beta/tutorials/eager/tf_function#python_or_tensor_args and https://www.tensorflow.org/api_docs/python/tf/function for more details.\n"
     ]
    },
    {
     "name": "stderr",
     "output_type": "stream",
     "text": [
      "\r",
      " 55%|████████████████████████████████████████████▋                                    | 58/105 [01:41<00:31,  1.50it/s]"
     ]
    },
    {
     "name": "stdout",
     "output_type": "stream",
     "text": [
      "WARNING:tensorflow:11 out of the last 11 calls to <function _make_execution_function.<locals>.distributed_function at 0x000002068A203048> triggered tf.function retracing. Tracing is expensive and the excessive number of tracings is likely due to passing python objects instead of tensors. Also, tf.function has experimental_relax_shapes=True option that relaxes argument shapes that can avoid unnecessary retracing. Please refer to https://www.tensorflow.org/beta/tutorials/eager/tf_function#python_or_tensor_args and https://www.tensorflow.org/api_docs/python/tf/function for more details.\n"
     ]
    },
    {
     "name": "stderr",
     "output_type": "stream",
     "text": [
      "\r",
      " 56%|█████████████████████████████████████████████▌                                   | 59/105 [01:42<00:30,  1.52it/s]"
     ]
    },
    {
     "name": "stdout",
     "output_type": "stream",
     "text": [
      "WARNING:tensorflow:11 out of the last 11 calls to <function _make_execution_function.<locals>.distributed_function at 0x000002068A203048> triggered tf.function retracing. Tracing is expensive and the excessive number of tracings is likely due to passing python objects instead of tensors. Also, tf.function has experimental_relax_shapes=True option that relaxes argument shapes that can avoid unnecessary retracing. Please refer to https://www.tensorflow.org/beta/tutorials/eager/tf_function#python_or_tensor_args and https://www.tensorflow.org/api_docs/python/tf/function for more details.\n"
     ]
    },
    {
     "name": "stderr",
     "output_type": "stream",
     "text": [
      "\r",
      " 57%|██████████████████████████████████████████████▎                                  | 60/105 [01:42<00:29,  1.54it/s]"
     ]
    },
    {
     "name": "stdout",
     "output_type": "stream",
     "text": [
      "WARNING:tensorflow:11 out of the last 11 calls to <function _make_execution_function.<locals>.distributed_function at 0x000002068A203048> triggered tf.function retracing. Tracing is expensive and the excessive number of tracings is likely due to passing python objects instead of tensors. Also, tf.function has experimental_relax_shapes=True option that relaxes argument shapes that can avoid unnecessary retracing. Please refer to https://www.tensorflow.org/beta/tutorials/eager/tf_function#python_or_tensor_args and https://www.tensorflow.org/api_docs/python/tf/function for more details.\n"
     ]
    },
    {
     "name": "stderr",
     "output_type": "stream",
     "text": [
      "\r",
      " 58%|███████████████████████████████████████████████                                  | 61/105 [01:43<00:28,  1.55it/s]"
     ]
    },
    {
     "name": "stdout",
     "output_type": "stream",
     "text": [
      "WARNING:tensorflow:11 out of the last 11 calls to <function _make_execution_function.<locals>.distributed_function at 0x000002068A203048> triggered tf.function retracing. Tracing is expensive and the excessive number of tracings is likely due to passing python objects instead of tensors. Also, tf.function has experimental_relax_shapes=True option that relaxes argument shapes that can avoid unnecessary retracing. Please refer to https://www.tensorflow.org/beta/tutorials/eager/tf_function#python_or_tensor_args and https://www.tensorflow.org/api_docs/python/tf/function for more details.\n"
     ]
    },
    {
     "name": "stderr",
     "output_type": "stream",
     "text": [
      "\r",
      " 59%|███████████████████████████████████████████████▊                                 | 62/105 [01:44<00:27,  1.56it/s]"
     ]
    },
    {
     "name": "stdout",
     "output_type": "stream",
     "text": [
      "WARNING:tensorflow:11 out of the last 11 calls to <function _make_execution_function.<locals>.distributed_function at 0x000002068A203048> triggered tf.function retracing. Tracing is expensive and the excessive number of tracings is likely due to passing python objects instead of tensors. Also, tf.function has experimental_relax_shapes=True option that relaxes argument shapes that can avoid unnecessary retracing. Please refer to https://www.tensorflow.org/beta/tutorials/eager/tf_function#python_or_tensor_args and https://www.tensorflow.org/api_docs/python/tf/function for more details.\n"
     ]
    },
    {
     "name": "stderr",
     "output_type": "stream",
     "text": [
      "\r",
      " 60%|████████████████████████████████████████████████▌                                | 63/105 [01:44<00:26,  1.59it/s]"
     ]
    },
    {
     "name": "stdout",
     "output_type": "stream",
     "text": [
      "WARNING:tensorflow:11 out of the last 11 calls to <function _make_execution_function.<locals>.distributed_function at 0x000002068A203048> triggered tf.function retracing. Tracing is expensive and the excessive number of tracings is likely due to passing python objects instead of tensors. Also, tf.function has experimental_relax_shapes=True option that relaxes argument shapes that can avoid unnecessary retracing. Please refer to https://www.tensorflow.org/beta/tutorials/eager/tf_function#python_or_tensor_args and https://www.tensorflow.org/api_docs/python/tf/function for more details.\n"
     ]
    },
    {
     "name": "stderr",
     "output_type": "stream",
     "text": [
      "\r",
      " 61%|█████████████████████████████████████████████████▎                               | 64/105 [01:45<00:25,  1.60it/s]"
     ]
    },
    {
     "name": "stdout",
     "output_type": "stream",
     "text": [
      "WARNING:tensorflow:11 out of the last 11 calls to <function _make_execution_function.<locals>.distributed_function at 0x000002068A203048> triggered tf.function retracing. Tracing is expensive and the excessive number of tracings is likely due to passing python objects instead of tensors. Also, tf.function has experimental_relax_shapes=True option that relaxes argument shapes that can avoid unnecessary retracing. Please refer to https://www.tensorflow.org/beta/tutorials/eager/tf_function#python_or_tensor_args and https://www.tensorflow.org/api_docs/python/tf/function for more details.\n"
     ]
    },
    {
     "name": "stderr",
     "output_type": "stream",
     "text": [
      "\r",
      " 62%|██████████████████████████████████████████████████▏                              | 65/105 [01:45<00:24,  1.61it/s]"
     ]
    },
    {
     "name": "stdout",
     "output_type": "stream",
     "text": [
      "WARNING:tensorflow:11 out of the last 11 calls to <function _make_execution_function.<locals>.distributed_function at 0x000002068A203048> triggered tf.function retracing. Tracing is expensive and the excessive number of tracings is likely due to passing python objects instead of tensors. Also, tf.function has experimental_relax_shapes=True option that relaxes argument shapes that can avoid unnecessary retracing. Please refer to https://www.tensorflow.org/beta/tutorials/eager/tf_function#python_or_tensor_args and https://www.tensorflow.org/api_docs/python/tf/function for more details.\n"
     ]
    },
    {
     "name": "stderr",
     "output_type": "stream",
     "text": [
      "\r",
      " 63%|██████████████████████████████████████████████████▉                              | 66/105 [01:46<00:24,  1.60it/s]"
     ]
    },
    {
     "name": "stdout",
     "output_type": "stream",
     "text": [
      "WARNING:tensorflow:11 out of the last 11 calls to <function _make_execution_function.<locals>.distributed_function at 0x000002068A203048> triggered tf.function retracing. Tracing is expensive and the excessive number of tracings is likely due to passing python objects instead of tensors. Also, tf.function has experimental_relax_shapes=True option that relaxes argument shapes that can avoid unnecessary retracing. Please refer to https://www.tensorflow.org/beta/tutorials/eager/tf_function#python_or_tensor_args and https://www.tensorflow.org/api_docs/python/tf/function for more details.\n"
     ]
    },
    {
     "name": "stderr",
     "output_type": "stream",
     "text": [
      "\r",
      " 64%|███████████████████████████████████████████████████▋                             | 67/105 [01:47<00:24,  1.58it/s]"
     ]
    },
    {
     "name": "stdout",
     "output_type": "stream",
     "text": [
      "WARNING:tensorflow:11 out of the last 11 calls to <function _make_execution_function.<locals>.distributed_function at 0x000002068A203048> triggered tf.function retracing. Tracing is expensive and the excessive number of tracings is likely due to passing python objects instead of tensors. Also, tf.function has experimental_relax_shapes=True option that relaxes argument shapes that can avoid unnecessary retracing. Please refer to https://www.tensorflow.org/beta/tutorials/eager/tf_function#python_or_tensor_args and https://www.tensorflow.org/api_docs/python/tf/function for more details.\n"
     ]
    },
    {
     "name": "stderr",
     "output_type": "stream",
     "text": [
      "\r",
      " 65%|████████████████████████████████████████████████████▍                            | 68/105 [01:47<00:23,  1.57it/s]"
     ]
    },
    {
     "name": "stdout",
     "output_type": "stream",
     "text": [
      "WARNING:tensorflow:11 out of the last 11 calls to <function _make_execution_function.<locals>.distributed_function at 0x000002068A203048> triggered tf.function retracing. Tracing is expensive and the excessive number of tracings is likely due to passing python objects instead of tensors. Also, tf.function has experimental_relax_shapes=True option that relaxes argument shapes that can avoid unnecessary retracing. Please refer to https://www.tensorflow.org/beta/tutorials/eager/tf_function#python_or_tensor_args and https://www.tensorflow.org/api_docs/python/tf/function for more details.\n"
     ]
    },
    {
     "name": "stderr",
     "output_type": "stream",
     "text": [
      "\r",
      " 66%|█████████████████████████████████████████████████████▏                           | 69/105 [01:48<00:22,  1.57it/s]"
     ]
    },
    {
     "name": "stdout",
     "output_type": "stream",
     "text": [
      "WARNING:tensorflow:11 out of the last 11 calls to <function _make_execution_function.<locals>.distributed_function at 0x000002068A203048> triggered tf.function retracing. Tracing is expensive and the excessive number of tracings is likely due to passing python objects instead of tensors. Also, tf.function has experimental_relax_shapes=True option that relaxes argument shapes that can avoid unnecessary retracing. Please refer to https://www.tensorflow.org/beta/tutorials/eager/tf_function#python_or_tensor_args and https://www.tensorflow.org/api_docs/python/tf/function for more details.\n"
     ]
    },
    {
     "name": "stderr",
     "output_type": "stream",
     "text": [
      "\r",
      " 67%|██████████████████████████████████████████████████████                           | 70/105 [01:49<00:22,  1.56it/s]"
     ]
    },
    {
     "name": "stdout",
     "output_type": "stream",
     "text": [
      "WARNING:tensorflow:11 out of the last 11 calls to <function _make_execution_function.<locals>.distributed_function at 0x000002068A203048> triggered tf.function retracing. Tracing is expensive and the excessive number of tracings is likely due to passing python objects instead of tensors. Also, tf.function has experimental_relax_shapes=True option that relaxes argument shapes that can avoid unnecessary retracing. Please refer to https://www.tensorflow.org/beta/tutorials/eager/tf_function#python_or_tensor_args and https://www.tensorflow.org/api_docs/python/tf/function for more details.\n"
     ]
    },
    {
     "name": "stderr",
     "output_type": "stream",
     "text": [
      "\r",
      " 68%|██████████████████████████████████████████████████████▊                          | 71/105 [01:49<00:21,  1.60it/s]"
     ]
    },
    {
     "name": "stdout",
     "output_type": "stream",
     "text": [
      "WARNING:tensorflow:11 out of the last 11 calls to <function _make_execution_function.<locals>.distributed_function at 0x000002068A203048> triggered tf.function retracing. Tracing is expensive and the excessive number of tracings is likely due to passing python objects instead of tensors. Also, tf.function has experimental_relax_shapes=True option that relaxes argument shapes that can avoid unnecessary retracing. Please refer to https://www.tensorflow.org/beta/tutorials/eager/tf_function#python_or_tensor_args and https://www.tensorflow.org/api_docs/python/tf/function for more details.\n"
     ]
    },
    {
     "name": "stderr",
     "output_type": "stream",
     "text": [
      "\r",
      " 69%|███████████████████████████████████████████████████████▌                         | 72/105 [01:50<00:20,  1.62it/s]"
     ]
    },
    {
     "name": "stdout",
     "output_type": "stream",
     "text": [
      "WARNING:tensorflow:11 out of the last 11 calls to <function _make_execution_function.<locals>.distributed_function at 0x000002068A203048> triggered tf.function retracing. Tracing is expensive and the excessive number of tracings is likely due to passing python objects instead of tensors. Also, tf.function has experimental_relax_shapes=True option that relaxes argument shapes that can avoid unnecessary retracing. Please refer to https://www.tensorflow.org/beta/tutorials/eager/tf_function#python_or_tensor_args and https://www.tensorflow.org/api_docs/python/tf/function for more details.\n"
     ]
    },
    {
     "name": "stderr",
     "output_type": "stream",
     "text": [
      "\r",
      " 70%|████████████████████████████████████████████████████████▎                        | 73/105 [01:50<00:19,  1.62it/s]"
     ]
    },
    {
     "name": "stdout",
     "output_type": "stream",
     "text": [
      "WARNING:tensorflow:11 out of the last 11 calls to <function _make_execution_function.<locals>.distributed_function at 0x000002068A203048> triggered tf.function retracing. Tracing is expensive and the excessive number of tracings is likely due to passing python objects instead of tensors. Also, tf.function has experimental_relax_shapes=True option that relaxes argument shapes that can avoid unnecessary retracing. Please refer to https://www.tensorflow.org/beta/tutorials/eager/tf_function#python_or_tensor_args and https://www.tensorflow.org/api_docs/python/tf/function for more details.\n"
     ]
    },
    {
     "name": "stderr",
     "output_type": "stream",
     "text": [
      "\r",
      " 70%|█████████████████████████████████████████████████████████                        | 74/105 [01:51<00:19,  1.62it/s]"
     ]
    },
    {
     "name": "stdout",
     "output_type": "stream",
     "text": [
      "WARNING:tensorflow:11 out of the last 11 calls to <function _make_execution_function.<locals>.distributed_function at 0x000002068A203048> triggered tf.function retracing. Tracing is expensive and the excessive number of tracings is likely due to passing python objects instead of tensors. Also, tf.function has experimental_relax_shapes=True option that relaxes argument shapes that can avoid unnecessary retracing. Please refer to https://www.tensorflow.org/beta/tutorials/eager/tf_function#python_or_tensor_args and https://www.tensorflow.org/api_docs/python/tf/function for more details.\n"
     ]
    },
    {
     "name": "stderr",
     "output_type": "stream",
     "text": [
      "\r",
      " 71%|█████████████████████████████████████████████████████████▊                       | 75/105 [01:52<00:18,  1.59it/s]"
     ]
    },
    {
     "name": "stdout",
     "output_type": "stream",
     "text": [
      "WARNING:tensorflow:11 out of the last 11 calls to <function _make_execution_function.<locals>.distributed_function at 0x000002068A203048> triggered tf.function retracing. Tracing is expensive and the excessive number of tracings is likely due to passing python objects instead of tensors. Also, tf.function has experimental_relax_shapes=True option that relaxes argument shapes that can avoid unnecessary retracing. Please refer to https://www.tensorflow.org/beta/tutorials/eager/tf_function#python_or_tensor_args and https://www.tensorflow.org/api_docs/python/tf/function for more details.\n"
     ]
    },
    {
     "name": "stderr",
     "output_type": "stream",
     "text": [
      "\r",
      " 72%|██████████████████████████████████████████████████████████▋                      | 76/105 [01:52<00:18,  1.60it/s]"
     ]
    },
    {
     "name": "stdout",
     "output_type": "stream",
     "text": [
      "WARNING:tensorflow:11 out of the last 11 calls to <function _make_execution_function.<locals>.distributed_function at 0x000002068A203048> triggered tf.function retracing. Tracing is expensive and the excessive number of tracings is likely due to passing python objects instead of tensors. Also, tf.function has experimental_relax_shapes=True option that relaxes argument shapes that can avoid unnecessary retracing. Please refer to https://www.tensorflow.org/beta/tutorials/eager/tf_function#python_or_tensor_args and https://www.tensorflow.org/api_docs/python/tf/function for more details.\n"
     ]
    },
    {
     "name": "stderr",
     "output_type": "stream",
     "text": [
      "\r",
      " 73%|███████████████████████████████████████████████████████████▍                     | 77/105 [01:53<00:17,  1.60it/s]"
     ]
    },
    {
     "name": "stdout",
     "output_type": "stream",
     "text": [
      "WARNING:tensorflow:11 out of the last 11 calls to <function _make_execution_function.<locals>.distributed_function at 0x000002068A203048> triggered tf.function retracing. Tracing is expensive and the excessive number of tracings is likely due to passing python objects instead of tensors. Also, tf.function has experimental_relax_shapes=True option that relaxes argument shapes that can avoid unnecessary retracing. Please refer to https://www.tensorflow.org/beta/tutorials/eager/tf_function#python_or_tensor_args and https://www.tensorflow.org/api_docs/python/tf/function for more details.\n"
     ]
    },
    {
     "name": "stderr",
     "output_type": "stream",
     "text": [
      "\r",
      " 74%|████████████████████████████████████████████████████████████▏                    | 78/105 [01:54<00:17,  1.59it/s]"
     ]
    },
    {
     "name": "stdout",
     "output_type": "stream",
     "text": [
      "WARNING:tensorflow:11 out of the last 11 calls to <function _make_execution_function.<locals>.distributed_function at 0x000002068A203048> triggered tf.function retracing. Tracing is expensive and the excessive number of tracings is likely due to passing python objects instead of tensors. Also, tf.function has experimental_relax_shapes=True option that relaxes argument shapes that can avoid unnecessary retracing. Please refer to https://www.tensorflow.org/beta/tutorials/eager/tf_function#python_or_tensor_args and https://www.tensorflow.org/api_docs/python/tf/function for more details.\n"
     ]
    },
    {
     "name": "stderr",
     "output_type": "stream",
     "text": [
      "\r",
      " 75%|████████████████████████████████████████████████████████████▉                    | 79/105 [01:54<00:16,  1.57it/s]"
     ]
    },
    {
     "name": "stdout",
     "output_type": "stream",
     "text": [
      "WARNING:tensorflow:11 out of the last 11 calls to <function _make_execution_function.<locals>.distributed_function at 0x000002068A203048> triggered tf.function retracing. Tracing is expensive and the excessive number of tracings is likely due to passing python objects instead of tensors. Also, tf.function has experimental_relax_shapes=True option that relaxes argument shapes that can avoid unnecessary retracing. Please refer to https://www.tensorflow.org/beta/tutorials/eager/tf_function#python_or_tensor_args and https://www.tensorflow.org/api_docs/python/tf/function for more details.\n"
     ]
    },
    {
     "name": "stderr",
     "output_type": "stream",
     "text": [
      "\r",
      " 76%|█████████████████████████████████████████████████████████████▋                   | 80/105 [01:55<00:16,  1.54it/s]"
     ]
    },
    {
     "name": "stdout",
     "output_type": "stream",
     "text": [
      "WARNING:tensorflow:11 out of the last 11 calls to <function _make_execution_function.<locals>.distributed_function at 0x000002068A203048> triggered tf.function retracing. Tracing is expensive and the excessive number of tracings is likely due to passing python objects instead of tensors. Also, tf.function has experimental_relax_shapes=True option that relaxes argument shapes that can avoid unnecessary retracing. Please refer to https://www.tensorflow.org/beta/tutorials/eager/tf_function#python_or_tensor_args and https://www.tensorflow.org/api_docs/python/tf/function for more details.\n"
     ]
    },
    {
     "name": "stderr",
     "output_type": "stream",
     "text": [
      "\r",
      " 77%|██████████████████████████████████████████████████████████████▍                  | 81/105 [01:56<00:15,  1.55it/s]"
     ]
    },
    {
     "name": "stdout",
     "output_type": "stream",
     "text": [
      "WARNING:tensorflow:11 out of the last 11 calls to <function _make_execution_function.<locals>.distributed_function at 0x000002068A203048> triggered tf.function retracing. Tracing is expensive and the excessive number of tracings is likely due to passing python objects instead of tensors. Also, tf.function has experimental_relax_shapes=True option that relaxes argument shapes that can avoid unnecessary retracing. Please refer to https://www.tensorflow.org/beta/tutorials/eager/tf_function#python_or_tensor_args and https://www.tensorflow.org/api_docs/python/tf/function for more details.\n"
     ]
    },
    {
     "name": "stderr",
     "output_type": "stream",
     "text": [
      "\r",
      " 78%|███████████████████████████████████████████████████████████████▎                 | 82/105 [01:56<00:14,  1.55it/s]"
     ]
    },
    {
     "name": "stdout",
     "output_type": "stream",
     "text": [
      "WARNING:tensorflow:11 out of the last 11 calls to <function _make_execution_function.<locals>.distributed_function at 0x000002068A203048> triggered tf.function retracing. Tracing is expensive and the excessive number of tracings is likely due to passing python objects instead of tensors. Also, tf.function has experimental_relax_shapes=True option that relaxes argument shapes that can avoid unnecessary retracing. Please refer to https://www.tensorflow.org/beta/tutorials/eager/tf_function#python_or_tensor_args and https://www.tensorflow.org/api_docs/python/tf/function for more details.\n"
     ]
    },
    {
     "name": "stderr",
     "output_type": "stream",
     "text": [
      "\r",
      " 79%|████████████████████████████████████████████████████████████████                 | 83/105 [01:57<00:14,  1.57it/s]"
     ]
    },
    {
     "name": "stdout",
     "output_type": "stream",
     "text": [
      "WARNING:tensorflow:11 out of the last 11 calls to <function _make_execution_function.<locals>.distributed_function at 0x000002068A203048> triggered tf.function retracing. Tracing is expensive and the excessive number of tracings is likely due to passing python objects instead of tensors. Also, tf.function has experimental_relax_shapes=True option that relaxes argument shapes that can avoid unnecessary retracing. Please refer to https://www.tensorflow.org/beta/tutorials/eager/tf_function#python_or_tensor_args and https://www.tensorflow.org/api_docs/python/tf/function for more details.\n"
     ]
    },
    {
     "name": "stderr",
     "output_type": "stream",
     "text": [
      "\r",
      " 80%|████████████████████████████████████████████████████████████████▊                | 84/105 [01:57<00:13,  1.57it/s]"
     ]
    },
    {
     "name": "stdout",
     "output_type": "stream",
     "text": [
      "WARNING:tensorflow:11 out of the last 11 calls to <function _make_execution_function.<locals>.distributed_function at 0x000002068A203048> triggered tf.function retracing. Tracing is expensive and the excessive number of tracings is likely due to passing python objects instead of tensors. Also, tf.function has experimental_relax_shapes=True option that relaxes argument shapes that can avoid unnecessary retracing. Please refer to https://www.tensorflow.org/beta/tutorials/eager/tf_function#python_or_tensor_args and https://www.tensorflow.org/api_docs/python/tf/function for more details.\n"
     ]
    },
    {
     "name": "stderr",
     "output_type": "stream",
     "text": [
      "\r",
      " 81%|█████████████████████████████████████████████████████████████████▌               | 85/105 [01:58<00:12,  1.57it/s]"
     ]
    },
    {
     "name": "stdout",
     "output_type": "stream",
     "text": [
      "WARNING:tensorflow:11 out of the last 11 calls to <function _make_execution_function.<locals>.distributed_function at 0x000002068A203048> triggered tf.function retracing. Tracing is expensive and the excessive number of tracings is likely due to passing python objects instead of tensors. Also, tf.function has experimental_relax_shapes=True option that relaxes argument shapes that can avoid unnecessary retracing. Please refer to https://www.tensorflow.org/beta/tutorials/eager/tf_function#python_or_tensor_args and https://www.tensorflow.org/api_docs/python/tf/function for more details.\n"
     ]
    },
    {
     "name": "stderr",
     "output_type": "stream",
     "text": [
      "\r",
      " 82%|██████████████████████████████████████████████████████████████████▎              | 86/105 [01:59<00:12,  1.58it/s]"
     ]
    },
    {
     "name": "stdout",
     "output_type": "stream",
     "text": [
      "WARNING:tensorflow:11 out of the last 11 calls to <function _make_execution_function.<locals>.distributed_function at 0x000002068A203048> triggered tf.function retracing. Tracing is expensive and the excessive number of tracings is likely due to passing python objects instead of tensors. Also, tf.function has experimental_relax_shapes=True option that relaxes argument shapes that can avoid unnecessary retracing. Please refer to https://www.tensorflow.org/beta/tutorials/eager/tf_function#python_or_tensor_args and https://www.tensorflow.org/api_docs/python/tf/function for more details.\n"
     ]
    },
    {
     "name": "stderr",
     "output_type": "stream",
     "text": [
      "\r",
      " 83%|███████████████████████████████████████████████████████████████████              | 87/105 [01:59<00:11,  1.58it/s]"
     ]
    },
    {
     "name": "stdout",
     "output_type": "stream",
     "text": [
      "WARNING:tensorflow:11 out of the last 11 calls to <function _make_execution_function.<locals>.distributed_function at 0x000002068A203048> triggered tf.function retracing. Tracing is expensive and the excessive number of tracings is likely due to passing python objects instead of tensors. Also, tf.function has experimental_relax_shapes=True option that relaxes argument shapes that can avoid unnecessary retracing. Please refer to https://www.tensorflow.org/beta/tutorials/eager/tf_function#python_or_tensor_args and https://www.tensorflow.org/api_docs/python/tf/function for more details.\n"
     ]
    },
    {
     "name": "stderr",
     "output_type": "stream",
     "text": [
      "\r",
      " 84%|███████████████████████████████████████████████████████████████████▉             | 88/105 [02:00<00:10,  1.55it/s]"
     ]
    },
    {
     "name": "stdout",
     "output_type": "stream",
     "text": [
      "WARNING:tensorflow:11 out of the last 11 calls to <function _make_execution_function.<locals>.distributed_function at 0x000002068A203048> triggered tf.function retracing. Tracing is expensive and the excessive number of tracings is likely due to passing python objects instead of tensors. Also, tf.function has experimental_relax_shapes=True option that relaxes argument shapes that can avoid unnecessary retracing. Please refer to https://www.tensorflow.org/beta/tutorials/eager/tf_function#python_or_tensor_args and https://www.tensorflow.org/api_docs/python/tf/function for more details.\n"
     ]
    },
    {
     "name": "stderr",
     "output_type": "stream",
     "text": [
      "\r",
      " 85%|████████████████████████████████████████████████████████████████████▋            | 89/105 [02:01<00:10,  1.58it/s]"
     ]
    },
    {
     "name": "stdout",
     "output_type": "stream",
     "text": [
      "WARNING:tensorflow:11 out of the last 11 calls to <function _make_execution_function.<locals>.distributed_function at 0x000002068A203048> triggered tf.function retracing. Tracing is expensive and the excessive number of tracings is likely due to passing python objects instead of tensors. Also, tf.function has experimental_relax_shapes=True option that relaxes argument shapes that can avoid unnecessary retracing. Please refer to https://www.tensorflow.org/beta/tutorials/eager/tf_function#python_or_tensor_args and https://www.tensorflow.org/api_docs/python/tf/function for more details.\n"
     ]
    },
    {
     "name": "stderr",
     "output_type": "stream",
     "text": [
      "\r",
      " 86%|█████████████████████████████████████████████████████████████████████▍           | 90/105 [02:01<00:09,  1.59it/s]"
     ]
    },
    {
     "name": "stdout",
     "output_type": "stream",
     "text": [
      "WARNING:tensorflow:11 out of the last 11 calls to <function _make_execution_function.<locals>.distributed_function at 0x000002068A203048> triggered tf.function retracing. Tracing is expensive and the excessive number of tracings is likely due to passing python objects instead of tensors. Also, tf.function has experimental_relax_shapes=True option that relaxes argument shapes that can avoid unnecessary retracing. Please refer to https://www.tensorflow.org/beta/tutorials/eager/tf_function#python_or_tensor_args and https://www.tensorflow.org/api_docs/python/tf/function for more details.\n"
     ]
    },
    {
     "name": "stderr",
     "output_type": "stream",
     "text": [
      "\r",
      " 87%|██████████████████████████████████████████████████████████████████████▏          | 91/105 [02:02<00:08,  1.62it/s]"
     ]
    },
    {
     "name": "stdout",
     "output_type": "stream",
     "text": [
      "WARNING:tensorflow:11 out of the last 11 calls to <function _make_execution_function.<locals>.distributed_function at 0x000002068A203048> triggered tf.function retracing. Tracing is expensive and the excessive number of tracings is likely due to passing python objects instead of tensors. Also, tf.function has experimental_relax_shapes=True option that relaxes argument shapes that can avoid unnecessary retracing. Please refer to https://www.tensorflow.org/beta/tutorials/eager/tf_function#python_or_tensor_args and https://www.tensorflow.org/api_docs/python/tf/function for more details.\n"
     ]
    },
    {
     "name": "stderr",
     "output_type": "stream",
     "text": [
      "\r",
      " 88%|██████████████████████████████████████████████████████████████████████▉          | 92/105 [02:02<00:07,  1.63it/s]"
     ]
    },
    {
     "name": "stdout",
     "output_type": "stream",
     "text": [
      "WARNING:tensorflow:11 out of the last 11 calls to <function _make_execution_function.<locals>.distributed_function at 0x000002068A203048> triggered tf.function retracing. Tracing is expensive and the excessive number of tracings is likely due to passing python objects instead of tensors. Also, tf.function has experimental_relax_shapes=True option that relaxes argument shapes that can avoid unnecessary retracing. Please refer to https://www.tensorflow.org/beta/tutorials/eager/tf_function#python_or_tensor_args and https://www.tensorflow.org/api_docs/python/tf/function for more details.\n"
     ]
    },
    {
     "name": "stderr",
     "output_type": "stream",
     "text": [
      "\r",
      " 89%|███████████████████████████████████████████████████████████████████████▋         | 93/105 [02:03<00:07,  1.61it/s]"
     ]
    },
    {
     "name": "stdout",
     "output_type": "stream",
     "text": [
      "WARNING:tensorflow:11 out of the last 11 calls to <function _make_execution_function.<locals>.distributed_function at 0x000002068A203048> triggered tf.function retracing. Tracing is expensive and the excessive number of tracings is likely due to passing python objects instead of tensors. Also, tf.function has experimental_relax_shapes=True option that relaxes argument shapes that can avoid unnecessary retracing. Please refer to https://www.tensorflow.org/beta/tutorials/eager/tf_function#python_or_tensor_args and https://www.tensorflow.org/api_docs/python/tf/function for more details.\n"
     ]
    },
    {
     "name": "stderr",
     "output_type": "stream",
     "text": [
      "\r",
      " 90%|████████████████████████████████████████████████████████████████████████▌        | 94/105 [02:04<00:06,  1.61it/s]"
     ]
    },
    {
     "name": "stdout",
     "output_type": "stream",
     "text": [
      "WARNING:tensorflow:11 out of the last 11 calls to <function _make_execution_function.<locals>.distributed_function at 0x000002068A203048> triggered tf.function retracing. Tracing is expensive and the excessive number of tracings is likely due to passing python objects instead of tensors. Also, tf.function has experimental_relax_shapes=True option that relaxes argument shapes that can avoid unnecessary retracing. Please refer to https://www.tensorflow.org/beta/tutorials/eager/tf_function#python_or_tensor_args and https://www.tensorflow.org/api_docs/python/tf/function for more details.\n"
     ]
    },
    {
     "name": "stderr",
     "output_type": "stream",
     "text": [
      "\r",
      " 90%|█████████████████████████████████████████████████████████████████████████▎       | 95/105 [02:04<00:06,  1.61it/s]"
     ]
    },
    {
     "name": "stdout",
     "output_type": "stream",
     "text": [
      "WARNING:tensorflow:11 out of the last 11 calls to <function _make_execution_function.<locals>.distributed_function at 0x000002068A203048> triggered tf.function retracing. Tracing is expensive and the excessive number of tracings is likely due to passing python objects instead of tensors. Also, tf.function has experimental_relax_shapes=True option that relaxes argument shapes that can avoid unnecessary retracing. Please refer to https://www.tensorflow.org/beta/tutorials/eager/tf_function#python_or_tensor_args and https://www.tensorflow.org/api_docs/python/tf/function for more details.\n"
     ]
    },
    {
     "name": "stderr",
     "output_type": "stream",
     "text": [
      "\r",
      " 91%|██████████████████████████████████████████████████████████████████████████       | 96/105 [02:05<00:05,  1.63it/s]"
     ]
    },
    {
     "name": "stdout",
     "output_type": "stream",
     "text": [
      "WARNING:tensorflow:11 out of the last 11 calls to <function _make_execution_function.<locals>.distributed_function at 0x000002068A203048> triggered tf.function retracing. Tracing is expensive and the excessive number of tracings is likely due to passing python objects instead of tensors. Also, tf.function has experimental_relax_shapes=True option that relaxes argument shapes that can avoid unnecessary retracing. Please refer to https://www.tensorflow.org/beta/tutorials/eager/tf_function#python_or_tensor_args and https://www.tensorflow.org/api_docs/python/tf/function for more details.\n"
     ]
    },
    {
     "name": "stderr",
     "output_type": "stream",
     "text": [
      "\r",
      " 92%|██████████████████████████████████████████████████████████████████████████▊      | 97/105 [02:06<00:04,  1.62it/s]"
     ]
    },
    {
     "name": "stdout",
     "output_type": "stream",
     "text": [
      "WARNING:tensorflow:11 out of the last 11 calls to <function _make_execution_function.<locals>.distributed_function at 0x000002068A203048> triggered tf.function retracing. Tracing is expensive and the excessive number of tracings is likely due to passing python objects instead of tensors. Also, tf.function has experimental_relax_shapes=True option that relaxes argument shapes that can avoid unnecessary retracing. Please refer to https://www.tensorflow.org/beta/tutorials/eager/tf_function#python_or_tensor_args and https://www.tensorflow.org/api_docs/python/tf/function for more details.\n"
     ]
    },
    {
     "name": "stderr",
     "output_type": "stream",
     "text": [
      "\r",
      " 93%|███████████████████████████████████████████████████████████████████████████▌     | 98/105 [02:06<00:04,  1.64it/s]"
     ]
    },
    {
     "name": "stdout",
     "output_type": "stream",
     "text": [
      "WARNING:tensorflow:11 out of the last 11 calls to <function _make_execution_function.<locals>.distributed_function at 0x000002068A203048> triggered tf.function retracing. Tracing is expensive and the excessive number of tracings is likely due to passing python objects instead of tensors. Also, tf.function has experimental_relax_shapes=True option that relaxes argument shapes that can avoid unnecessary retracing. Please refer to https://www.tensorflow.org/beta/tutorials/eager/tf_function#python_or_tensor_args and https://www.tensorflow.org/api_docs/python/tf/function for more details.\n"
     ]
    },
    {
     "name": "stderr",
     "output_type": "stream",
     "text": [
      "\r",
      " 94%|████████████████████████████████████████████████████████████████████████████▎    | 99/105 [02:07<00:03,  1.64it/s]"
     ]
    },
    {
     "name": "stdout",
     "output_type": "stream",
     "text": [
      "WARNING:tensorflow:11 out of the last 11 calls to <function _make_execution_function.<locals>.distributed_function at 0x000002068A203048> triggered tf.function retracing. Tracing is expensive and the excessive number of tracings is likely due to passing python objects instead of tensors. Also, tf.function has experimental_relax_shapes=True option that relaxes argument shapes that can avoid unnecessary retracing. Please refer to https://www.tensorflow.org/beta/tutorials/eager/tf_function#python_or_tensor_args and https://www.tensorflow.org/api_docs/python/tf/function for more details.\n"
     ]
    },
    {
     "name": "stderr",
     "output_type": "stream",
     "text": [
      "\r",
      " 95%|████████████████████████████████████████████████████████████████████████████▏   | 100/105 [02:07<00:03,  1.65it/s]"
     ]
    },
    {
     "name": "stdout",
     "output_type": "stream",
     "text": [
      "WARNING:tensorflow:11 out of the last 11 calls to <function _make_execution_function.<locals>.distributed_function at 0x000002068A203048> triggered tf.function retracing. Tracing is expensive and the excessive number of tracings is likely due to passing python objects instead of tensors. Also, tf.function has experimental_relax_shapes=True option that relaxes argument shapes that can avoid unnecessary retracing. Please refer to https://www.tensorflow.org/beta/tutorials/eager/tf_function#python_or_tensor_args and https://www.tensorflow.org/api_docs/python/tf/function for more details.\n"
     ]
    },
    {
     "name": "stderr",
     "output_type": "stream",
     "text": [
      "\r",
      " 96%|████████████████████████████████████████████████████████████████████████████▉   | 101/105 [02:08<00:02,  1.60it/s]"
     ]
    },
    {
     "name": "stdout",
     "output_type": "stream",
     "text": [
      "WARNING:tensorflow:11 out of the last 11 calls to <function _make_execution_function.<locals>.distributed_function at 0x000002068A203048> triggered tf.function retracing. Tracing is expensive and the excessive number of tracings is likely due to passing python objects instead of tensors. Also, tf.function has experimental_relax_shapes=True option that relaxes argument shapes that can avoid unnecessary retracing. Please refer to https://www.tensorflow.org/beta/tutorials/eager/tf_function#python_or_tensor_args and https://www.tensorflow.org/api_docs/python/tf/function for more details.\n"
     ]
    },
    {
     "name": "stderr",
     "output_type": "stream",
     "text": [
      "\r",
      " 97%|█████████████████████████████████████████████████████████████████████████████▋  | 102/105 [02:09<00:01,  1.61it/s]"
     ]
    },
    {
     "name": "stdout",
     "output_type": "stream",
     "text": [
      "WARNING:tensorflow:11 out of the last 11 calls to <function _make_execution_function.<locals>.distributed_function at 0x000002068A203048> triggered tf.function retracing. Tracing is expensive and the excessive number of tracings is likely due to passing python objects instead of tensors. Also, tf.function has experimental_relax_shapes=True option that relaxes argument shapes that can avoid unnecessary retracing. Please refer to https://www.tensorflow.org/beta/tutorials/eager/tf_function#python_or_tensor_args and https://www.tensorflow.org/api_docs/python/tf/function for more details.\n"
     ]
    },
    {
     "name": "stderr",
     "output_type": "stream",
     "text": [
      "\r",
      " 98%|██████████████████████████████████████████████████████████████████████████████▍ | 103/105 [02:09<00:01,  1.63it/s]"
     ]
    },
    {
     "name": "stdout",
     "output_type": "stream",
     "text": [
      "WARNING:tensorflow:11 out of the last 11 calls to <function _make_execution_function.<locals>.distributed_function at 0x000002068A203048> triggered tf.function retracing. Tracing is expensive and the excessive number of tracings is likely due to passing python objects instead of tensors. Also, tf.function has experimental_relax_shapes=True option that relaxes argument shapes that can avoid unnecessary retracing. Please refer to https://www.tensorflow.org/beta/tutorials/eager/tf_function#python_or_tensor_args and https://www.tensorflow.org/api_docs/python/tf/function for more details.\n"
     ]
    },
    {
     "name": "stderr",
     "output_type": "stream",
     "text": [
      "\r",
      " 99%|███████████████████████████████████████████████████████████████████████████████▏| 104/105 [02:10<00:00,  1.61it/s]"
     ]
    },
    {
     "name": "stdout",
     "output_type": "stream",
     "text": [
      "WARNING:tensorflow:11 out of the last 11 calls to <function _make_execution_function.<locals>.distributed_function at 0x000002068A203048> triggered tf.function retracing. Tracing is expensive and the excessive number of tracings is likely due to passing python objects instead of tensors. Also, tf.function has experimental_relax_shapes=True option that relaxes argument shapes that can avoid unnecessary retracing. Please refer to https://www.tensorflow.org/beta/tutorials/eager/tf_function#python_or_tensor_args and https://www.tensorflow.org/api_docs/python/tf/function for more details.\n"
     ]
    },
    {
     "name": "stderr",
     "output_type": "stream",
     "text": [
      "100%|████████████████████████████████████████████████████████████████████████████████| 105/105 [02:11<00:00,  1.25s/it]\n"
     ]
    },
    {
     "name": "stdout",
     "output_type": "stream",
     "text": [
      "test f1: 0.2491609709603446 test acc: 0.2371655328798185 mae: 0.291820976918652 loss: 3.040958706537882\n",
      "Running test on subject ...\n"
     ]
    },
    {
     "name": "stderr",
     "output_type": "stream",
     "text": [
      "100%|████████████████████████████████████████████████████████████████████████████████| 105/105 [00:09<00:00, 11.19it/s]\n"
     ]
    },
    {
     "name": "stdout",
     "output_type": "stream",
     "text": [
      "test f1: 0.2491609709603446 test acc: 0.22698412698412693 mae: 0.291820976918652 loss: 3.040958706537882\n",
      "Running test on subject ...\n"
     ]
    },
    {
     "name": "stderr",
     "output_type": "stream",
     "text": [
      "100%|████████████████████████████████████████████████████████████████████████████████| 105/105 [00:09<00:00, 10.83it/s]\n"
     ]
    },
    {
     "name": "stdout",
     "output_type": "stream",
     "text": [
      "test f1: 0.2491609709603446 test acc: 0.21269841269841272 mae: 0.291820976918652 loss: 3.040958706537882\n",
      "Running test on subject ...\n"
     ]
    },
    {
     "name": "stderr",
     "output_type": "stream",
     "text": [
      "100%|████████████████████████████████████████████████████████████████████████████████| 105/105 [00:09<00:00, 10.72it/s]\n"
     ]
    },
    {
     "name": "stdout",
     "output_type": "stream",
     "text": [
      "test f1: 0.2491609709603446 test acc: 0.2074603174603175 mae: 0.291820976918652 loss: 3.040958706537882\n",
      "Running test on subject ...\n"
     ]
    },
    {
     "name": "stderr",
     "output_type": "stream",
     "text": [
      "100%|████████████████████████████████████████████████████████████████████████████████| 105/105 [00:09<00:00, 11.12it/s]\n"
     ]
    },
    {
     "name": "stdout",
     "output_type": "stream",
     "text": [
      "test f1: 0.2491609709603446 test acc: 0.19666666666666666 mae: 0.291820976918652 loss: 3.040958706537882\n",
      "Input tensors: [<tf.Tensor 'right_arm_ipX_43:0' shape=(None, None, 3) dtype=float32>, <tf.Tensor 'right_wrist_ipX_43:0' shape=(None, None, 3) dtype=float32>, <tf.Tensor 'left_hip_ipX_43:0' shape=(None, None, 3) dtype=float32>, <tf.Tensor 'left_wrist_ipX_43:0' shape=(None, None, 3) dtype=float32>]\n",
      "Training epoch 0 ...\n"
     ]
    },
    {
     "name": "stderr",
     "output_type": "stream",
     "text": [
      "100%|██████████████████████████████████████████████████████████████████████████████████| 80/80 [00:09<00:00,  8.87it/s]\n"
     ]
    },
    {
     "name": "stdout",
     "output_type": "stream",
     "text": [
      "f1: 0.31380948424339283 mae: 0.3032651523128152 loss: 5.351403051614761\n"
     ]
    },
    {
     "name": "stderr",
     "output_type": "stream",
     "text": [
      "0it [00:00, ?it/s]\n"
     ]
    },
    {
     "name": "stdout",
     "output_type": "stream",
     "text": [
      "Training epoch 0 ...\n"
     ]
    },
    {
     "name": "stderr",
     "output_type": "stream",
     "text": [
      "100%|████████████████████████████████████████████████████████████████████████████████| 105/105 [00:10<00:00, 10.05it/s]\n"
     ]
    },
    {
     "name": "stdout",
     "output_type": "stream",
     "text": [
      "f1: 0.32157970893950694 mae: 0.24736970740237404 loss: 3.937382498241606\n"
     ]
    },
    {
     "name": "stderr",
     "output_type": "stream",
     "text": [
      "0it [00:00, ?it/s]\n"
     ]
    },
    {
     "name": "stdout",
     "output_type": "stream",
     "text": [
      "Training epoch 0 ...\n"
     ]
    },
    {
     "name": "stderr",
     "output_type": "stream",
     "text": [
      "100%|██████████████████████████████████████████████████████████████████████████████████| 80/80 [00:08<00:00,  9.82it/s]\n"
     ]
    },
    {
     "name": "stdout",
     "output_type": "stream",
     "text": [
      "f1: 0.44874993972480276 mae: 0.22613526158966132 loss: 3.7416080057621\n"
     ]
    },
    {
     "name": "stderr",
     "output_type": "stream",
     "text": [
      "0it [00:00, ?it/s]\n"
     ]
    },
    {
     "name": "stdout",
     "output_type": "stream",
     "text": [
      "Training epoch 0 ...\n"
     ]
    },
    {
     "name": "stderr",
     "output_type": "stream",
     "text": [
      "100%|████████████████████████████████████████████████████████████████████████████████| 105/105 [00:10<00:00, 10.12it/s]\n"
     ]
    },
    {
     "name": "stdout",
     "output_type": "stream",
     "text": [
      "f1: 0.5699999332427979 mae: 0.2168713090409125 loss: 3.176753577731904\n"
     ]
    },
    {
     "name": "stderr",
     "output_type": "stream",
     "text": [
      "0it [00:00, ?it/s]\n"
     ]
    },
    {
     "name": "stdout",
     "output_type": "stream",
     "text": [
      "Training epoch 0 ...\n"
     ]
    },
    {
     "name": "stderr",
     "output_type": "stream",
     "text": [
      "100%|██████████████████████████████████████████████████████████████████████████████████| 80/80 [00:09<00:00,  8.41it/s]\n"
     ]
    },
    {
     "name": "stdout",
     "output_type": "stream",
     "text": [
      "f1: 0.5613689769059419 mae: 0.21055368073284636 loss: 3.30114378631115\n"
     ]
    },
    {
     "name": "stderr",
     "output_type": "stream",
     "text": [
      "0it [00:00, ?it/s]\n"
     ]
    },
    {
     "name": "stdout",
     "output_type": "stream",
     "text": [
      "Training epoch 0 ...\n"
     ]
    },
    {
     "name": "stderr",
     "output_type": "stream",
     "text": [
      "100%|████████████████████████████████████████████████████████████████████████████████| 105/105 [00:11<00:00,  9.12it/s]\n"
     ]
    },
    {
     "name": "stdout",
     "output_type": "stream",
     "text": [
      "f1: 0.6211337160496485 mae: 0.20480061775694286 loss: 2.9574828533899216\n"
     ]
    },
    {
     "name": "stderr",
     "output_type": "stream",
     "text": [
      "0it [00:00, ?it/s]\n"
     ]
    },
    {
     "name": "stdout",
     "output_type": "stream",
     "text": [
      "Training epoch 0 ...\n"
     ]
    },
    {
     "name": "stderr",
     "output_type": "stream",
     "text": [
      "100%|██████████████████████████████████████████████████████████████████████████████████| 80/80 [00:08<00:00,  9.65it/s]\n"
     ]
    },
    {
     "name": "stdout",
     "output_type": "stream",
     "text": [
      "f1: 0.591785642504692 mae: 0.2057071801740676 loss: 3.1642260968685156\n"
     ]
    },
    {
     "name": "stderr",
     "output_type": "stream",
     "text": [
      "0it [00:00, ?it/s]\n"
     ]
    },
    {
     "name": "stdout",
     "output_type": "stream",
     "text": [
      "Training epoch 0 ...\n"
     ]
    },
    {
     "name": "stderr",
     "output_type": "stream",
     "text": [
      "100%|████████████████████████████████████████████████████████████████████████████████| 105/105 [00:10<00:00, 10.15it/s]\n"
     ]
    },
    {
     "name": "stdout",
     "output_type": "stream",
     "text": [
      "f1: 0.6551473194644566 mae: 0.19931916159888116 loss: 2.8852068560464037\n"
     ]
    },
    {
     "name": "stderr",
     "output_type": "stream",
     "text": [
      "0it [00:00, ?it/s]\n"
     ]
    },
    {
     "name": "stdout",
     "output_type": "stream",
     "text": [
      "Training epoch 0 ...\n"
     ]
    },
    {
     "name": "stderr",
     "output_type": "stream",
     "text": [
      "100%|██████████████████████████████████████████████████████████████████████████████████| 80/80 [00:08<00:00,  9.71it/s]\n"
     ]
    },
    {
     "name": "stdout",
     "output_type": "stream",
     "text": [
      "f1: 0.6109523035585881 mae: 0.20306609701365236 loss: 3.1187286615371717\n"
     ]
    },
    {
     "name": "stderr",
     "output_type": "stream",
     "text": [
      "0it [00:00, ?it/s]\n"
     ]
    },
    {
     "name": "stdout",
     "output_type": "stream",
     "text": [
      "Training epoch 0 ...\n"
     ]
    },
    {
     "name": "stderr",
     "output_type": "stream",
     "text": [
      "100%|████████████████████████████████████████████████████████████████████████████████| 105/105 [00:10<00:00, 10.06it/s]\n"
     ]
    },
    {
     "name": "stdout",
     "output_type": "stream",
     "text": [
      "f1: 0.6717535169351668 mae: 0.19736504664733304 loss: 2.8616840385255355\n"
     ]
    },
    {
     "name": "stderr",
     "output_type": "stream",
     "text": [
      "0it [00:00, ?it/s]\n"
     ]
    },
    {
     "name": "stdout",
     "output_type": "stream",
     "text": [
      "Training epoch 0 ...\n"
     ]
    },
    {
     "name": "stderr",
     "output_type": "stream",
     "text": [
      "100%|██████████████████████████████████████████████████████████████████████████████████| 80/80 [00:08<00:00,  9.83it/s]\n"
     ]
    },
    {
     "name": "stdout",
     "output_type": "stream",
     "text": [
      "f1: 0.6288689676672222 mae: 0.20215421686880297 loss: 3.1036761820316303\n"
     ]
    },
    {
     "name": "stderr",
     "output_type": "stream",
     "text": [
      "0it [00:00, ?it/s]\n"
     ]
    },
    {
     "name": "stdout",
     "output_type": "stream",
     "text": [
      "Training epoch 0 ...\n"
     ]
    },
    {
     "name": "stderr",
     "output_type": "stream",
     "text": [
      "100%|████████████████████████████████████████████████████████████████████████████████| 105/105 [00:10<00:00, 10.20it/s]\n"
     ]
    },
    {
     "name": "stdout",
     "output_type": "stream",
     "text": [
      "f1: 0.6685789145174481 mae: 0.1967169890623717 loss: 2.8538652987707227\n"
     ]
    },
    {
     "name": "stderr",
     "output_type": "stream",
     "text": [
      "0it [00:00, ?it/s]\n"
     ]
    },
    {
     "name": "stdout",
     "output_type": "stream",
     "text": [
      "Training epoch 0 ...\n"
     ]
    },
    {
     "name": "stderr",
     "output_type": "stream",
     "text": [
      "100%|██████████████████████████████████████████████████████████████████████████████████| 80/80 [00:08<00:00,  9.84it/s]\n"
     ]
    },
    {
     "name": "stdout",
     "output_type": "stream",
     "text": [
      "f1: 0.6309523005038501 mae: 0.20185441281646488 loss: 3.098666965961458\n"
     ]
    },
    {
     "name": "stderr",
     "output_type": "stream",
     "text": [
      "0it [00:00, ?it/s]\n"
     ]
    },
    {
     "name": "stdout",
     "output_type": "stream",
     "text": [
      "Training epoch 0 ...\n"
     ]
    },
    {
     "name": "stderr",
     "output_type": "stream",
     "text": [
      "100%|████████████████████████████████████████████████████████████████████████████████| 105/105 [00:10<00:00, 10.01it/s]\n"
     ]
    },
    {
     "name": "stdout",
     "output_type": "stream",
     "text": [
      "f1: 0.6685789145174481 mae: 0.19650260699646818 loss: 2.851263813745408\n"
     ]
    },
    {
     "name": "stderr",
     "output_type": "stream",
     "text": [
      "0it [00:00, ?it/s]\n"
     ]
    },
    {
     "name": "stdout",
     "output_type": "stream",
     "text": [
      "Training epoch 0 ...\n"
     ]
    },
    {
     "name": "stderr",
     "output_type": "stream",
     "text": [
      "100%|██████████████████████████████████████████████████████████████████████████████████| 80/80 [00:08<00:00,  9.36it/s]\n"
     ]
    },
    {
     "name": "stdout",
     "output_type": "stream",
     "text": [
      "f1: 0.6309523005038501 mae: 0.2017554046120495 loss: 3.0969972193241126\n"
     ]
    },
    {
     "name": "stderr",
     "output_type": "stream",
     "text": [
      "0it [00:00, ?it/s]\n"
     ]
    },
    {
     "name": "stdout",
     "output_type": "stream",
     "text": [
      "Training epoch 0 ...\n"
     ]
    },
    {
     "name": "stderr",
     "output_type": "stream",
     "text": [
      "100%|████████████████████████████████████████████████████████████████████████████████| 105/105 [00:11<00:00,  9.26it/s]\n"
     ]
    },
    {
     "name": "stdout",
     "output_type": "stream",
     "text": [
      "f1: 0.6672561625639598 mae: 0.19643075077661434 loss: 2.850394605454943\n"
     ]
    },
    {
     "name": "stderr",
     "output_type": "stream",
     "text": [
      "0it [00:00, ?it/s]\n"
     ]
    },
    {
     "name": "stdout",
     "output_type": "stream",
     "text": [
      "Training epoch 0 ...\n"
     ]
    },
    {
     "name": "stderr",
     "output_type": "stream",
     "text": [
      "100%|██████████████████████████████████████████████████████████████████████████████████| 80/80 [00:09<00:00,  8.60it/s]\n"
     ]
    },
    {
     "name": "stdout",
     "output_type": "stream",
     "text": [
      "f1: 0.6309523005038501 mae: 0.20172252021729936 loss: 3.096441051363944\n"
     ]
    },
    {
     "name": "stderr",
     "output_type": "stream",
     "text": [
      "0it [00:00, ?it/s]\n"
     ]
    },
    {
     "name": "stdout",
     "output_type": "stream",
     "text": [
      "Training epoch 0 ...\n"
     ]
    },
    {
     "name": "stderr",
     "output_type": "stream",
     "text": [
      "100%|████████████████████████████████████████████████████████████████████████████████| 105/105 [00:10<00:00,  9.97it/s]\n"
     ]
    },
    {
     "name": "stdout",
     "output_type": "stream",
     "text": [
      "f1: 0.6672561625639598 mae: 0.19640684826743038 loss: 2.8501050063541955\n"
     ]
    },
    {
     "name": "stderr",
     "output_type": "stream",
     "text": [
      "0it [00:00, ?it/s]\n"
     ]
    },
    {
     "name": "stdout",
     "output_type": "stream",
     "text": [
      "Training epoch 0 ...\n"
     ]
    },
    {
     "name": "stderr",
     "output_type": "stream",
     "text": [
      "100%|██████████████████████████████████████████████████████████████████████████████████| 80/80 [00:08<00:00,  9.55it/s]\n"
     ]
    },
    {
     "name": "stdout",
     "output_type": "stream",
     "text": [
      "f1: 0.6309523005038501 mae: 0.20171170989051462 loss: 3.0962557315826422\n"
     ]
    },
    {
     "name": "stderr",
     "output_type": "stream",
     "text": [
      "0it [00:00, ?it/s]\n"
     ]
    },
    {
     "name": "stdout",
     "output_type": "stream",
     "text": [
      "Training epoch 0 ...\n"
     ]
    },
    {
     "name": "stderr",
     "output_type": "stream",
     "text": [
      "100%|████████████████████████████████████████████████████████████████████████████████| 105/105 [00:10<00:00,  9.78it/s]\n"
     ]
    },
    {
     "name": "stdout",
     "output_type": "stream",
     "text": [
      "f1: 0.6672561625639598 mae: 0.19639901454959596 loss: 2.8500085558210086\n"
     ]
    },
    {
     "name": "stderr",
     "output_type": "stream",
     "text": [
      "0it [00:00, ?it/s]\n"
     ]
    },
    {
     "name": "stdout",
     "output_type": "stream",
     "text": [
      "Training epoch 0 ...\n"
     ]
    },
    {
     "name": "stderr",
     "output_type": "stream",
     "text": [
      "100%|██████████████████████████████████████████████████████████████████████████████████| 80/80 [00:08<00:00,  9.88it/s]\n"
     ]
    },
    {
     "name": "stdout",
     "output_type": "stream",
     "text": [
      "f1: 0.6309523005038501 mae: 0.20170818101614713 loss: 3.096194452047349\n"
     ]
    },
    {
     "name": "stderr",
     "output_type": "stream",
     "text": [
      "0it [00:00, ?it/s]\n"
     ]
    },
    {
     "name": "stdout",
     "output_type": "stream",
     "text": [
      "Training epoch 0 ...\n"
     ]
    },
    {
     "name": "stderr",
     "output_type": "stream",
     "text": [
      "100%|████████████████████████████████████████████████████████████████████████████████| 105/105 [00:10<00:00,  9.98it/s]\n"
     ]
    },
    {
     "name": "stdout",
     "output_type": "stream",
     "text": [
      "f1: 0.6672561625639598 mae: 0.1963962986533131 loss: 2.849978208541871\n"
     ]
    },
    {
     "name": "stderr",
     "output_type": "stream",
     "text": [
      "0it [00:00, ?it/s]\n"
     ]
    },
    {
     "name": "stdout",
     "output_type": "stream",
     "text": [
      "Training epoch 0 ...\n"
     ]
    },
    {
     "name": "stderr",
     "output_type": "stream",
     "text": [
      "100%|██████████████████████████████████████████████████████████████████████████████████| 80/80 [00:08<00:00,  8.90it/s]\n"
     ]
    },
    {
     "name": "stdout",
     "output_type": "stream",
     "text": [
      "f1: 0.6309523005038501 mae: 0.2017070513218642 loss: 3.0961780458688737\n"
     ]
    },
    {
     "name": "stderr",
     "output_type": "stream",
     "text": [
      "0it [00:00, ?it/s]\n"
     ]
    },
    {
     "name": "stdout",
     "output_type": "stream",
     "text": [
      "Training epoch 0 ...\n"
     ]
    },
    {
     "name": "stderr",
     "output_type": "stream",
     "text": [
      "100%|████████████████████████████████████████████████████████████████████████████████| 105/105 [00:10<00:00,  9.72it/s]\n"
     ]
    },
    {
     "name": "stdout",
     "output_type": "stream",
     "text": [
      "f1: 0.6672561625639598 mae: 0.19639554130179543 loss: 2.849971460160755\n"
     ]
    },
    {
     "name": "stderr",
     "output_type": "stream",
     "text": [
      "0it [00:00, ?it/s]\n"
     ]
    },
    {
     "name": "stdout",
     "output_type": "stream",
     "text": [
      "Training epoch 0 ...\n"
     ]
    },
    {
     "name": "stderr",
     "output_type": "stream",
     "text": [
      "100%|██████████████████████████████████████████████████████████████████████████████████| 80/80 [00:09<00:00,  8.58it/s]\n"
     ]
    },
    {
     "name": "stdout",
     "output_type": "stream",
     "text": [
      "f1: 0.6309523005038501 mae: 0.20170690221711993 loss: 3.0961759120225913\n"
     ]
    },
    {
     "name": "stderr",
     "output_type": "stream",
     "text": [
      "0it [00:00, ?it/s]\n"
     ]
    },
    {
     "name": "stdout",
     "output_type": "stream",
     "text": [
      "Training epoch 0 ...\n"
     ]
    },
    {
     "name": "stderr",
     "output_type": "stream",
     "text": [
      "100%|████████████████████████████████████████████████████████████████████████████████| 105/105 [00:11<00:00,  9.19it/s]\n"
     ]
    },
    {
     "name": "stdout",
     "output_type": "stream",
     "text": [
      "f1: 0.6672561625639598 mae: 0.19639545029827524 loss: 2.8499708084833064\n"
     ]
    },
    {
     "name": "stderr",
     "output_type": "stream",
     "text": [
      "0it [00:00, ?it/s]\n"
     ]
    },
    {
     "name": "stdout",
     "output_type": "stream",
     "text": [
      "Training epoch 0 ...\n"
     ]
    },
    {
     "name": "stderr",
     "output_type": "stream",
     "text": [
      "100%|██████████████████████████████████████████████████████████████████████████████████| 80/80 [00:08<00:00,  9.81it/s]\n"
     ]
    },
    {
     "name": "stdout",
     "output_type": "stream",
     "text": [
      "f1: 0.6309523005038501 mae: 0.20170687618665392 loss: 3.0961757898330697\n"
     ]
    },
    {
     "name": "stderr",
     "output_type": "stream",
     "text": [
      "0it [00:00, ?it/s]\n"
     ]
    },
    {
     "name": "stdout",
     "output_type": "stream",
     "text": [
      "Training epoch 0 ...\n"
     ]
    },
    {
     "name": "stderr",
     "output_type": "stream",
     "text": [
      "100%|████████████████████████████████████████████████████████████████████████████████| 105/105 [00:10<00:00, 10.00it/s]\n"
     ]
    },
    {
     "name": "stdout",
     "output_type": "stream",
     "text": [
      "f1: 0.6672561625639598 mae: 0.19639543277167135 loss: 2.849970792588734\n"
     ]
    },
    {
     "name": "stderr",
     "output_type": "stream",
     "text": [
      "0it [00:00, ?it/s]\n"
     ]
    },
    {
     "name": "stdout",
     "output_type": "stream",
     "text": [
      "Training epoch 0 ...\n"
     ]
    },
    {
     "name": "stderr",
     "output_type": "stream",
     "text": [
      "100%|██████████████████████████████████████████████████████████████████████████████████| 80/80 [00:08<00:00,  9.69it/s]\n"
     ]
    },
    {
     "name": "stdout",
     "output_type": "stream",
     "text": [
      "f1: 0.6309523005038501 mae: 0.2017068757675588 loss: 3.0961757928133005\n"
     ]
    },
    {
     "name": "stderr",
     "output_type": "stream",
     "text": [
      "0it [00:00, ?it/s]\n"
     ]
    },
    {
     "name": "stdout",
     "output_type": "stream",
     "text": [
      "Training epoch 0 ...\n"
     ]
    },
    {
     "name": "stderr",
     "output_type": "stream",
     "text": [
      "100%|████████████████████████████████████████████████████████████████████████████████| 105/105 [00:10<00:00, 10.19it/s]\n"
     ]
    },
    {
     "name": "stdout",
     "output_type": "stream",
     "text": [
      "f1: 0.6672561625639598 mae: 0.1963954381289936 loss: 2.8499707994006935\n"
     ]
    },
    {
     "name": "stderr",
     "output_type": "stream",
     "text": [
      "0it [00:00, ?it/s]\n"
     ]
    },
    {
     "name": "stdout",
     "output_type": "stream",
     "text": [
      "-------------------------------------------------\n",
      "Test phase\n",
      "Testing X3\n",
      "Running test on subject ...\n"
     ]
    },
    {
     "name": "stderr",
     "output_type": "stream",
     "text": [
      "  4%|███▏                                                                              | 4/103 [00:02<01:10,  1.41it/s]"
     ]
    },
    {
     "name": "stdout",
     "output_type": "stream",
     "text": [
      "WARNING:tensorflow:5 out of the last 5 calls to <function _make_execution_function.<locals>.distributed_function at 0x000002060D2E8C18> triggered tf.function retracing. Tracing is expensive and the excessive number of tracings is likely due to passing python objects instead of tensors. Also, tf.function has experimental_relax_shapes=True option that relaxes argument shapes that can avoid unnecessary retracing. Please refer to https://www.tensorflow.org/beta/tutorials/eager/tf_function#python_or_tensor_args and https://www.tensorflow.org/api_docs/python/tf/function for more details.\n"
     ]
    },
    {
     "name": "stderr",
     "output_type": "stream",
     "text": [
      "\r",
      "  5%|███▉                                                                              | 5/103 [00:03<01:07,  1.46it/s]"
     ]
    },
    {
     "name": "stdout",
     "output_type": "stream",
     "text": [
      "WARNING:tensorflow:6 out of the last 6 calls to <function _make_execution_function.<locals>.distributed_function at 0x000002060D2E8C18> triggered tf.function retracing. Tracing is expensive and the excessive number of tracings is likely due to passing python objects instead of tensors. Also, tf.function has experimental_relax_shapes=True option that relaxes argument shapes that can avoid unnecessary retracing. Please refer to https://www.tensorflow.org/beta/tutorials/eager/tf_function#python_or_tensor_args and https://www.tensorflow.org/api_docs/python/tf/function for more details.\n"
     ]
    },
    {
     "name": "stderr",
     "output_type": "stream",
     "text": [
      "\r",
      "  6%|████▊                                                                             | 6/103 [00:04<01:05,  1.47it/s]"
     ]
    },
    {
     "name": "stdout",
     "output_type": "stream",
     "text": [
      "WARNING:tensorflow:7 out of the last 7 calls to <function _make_execution_function.<locals>.distributed_function at 0x000002060D2E8C18> triggered tf.function retracing. Tracing is expensive and the excessive number of tracings is likely due to passing python objects instead of tensors. Also, tf.function has experimental_relax_shapes=True option that relaxes argument shapes that can avoid unnecessary retracing. Please refer to https://www.tensorflow.org/beta/tutorials/eager/tf_function#python_or_tensor_args and https://www.tensorflow.org/api_docs/python/tf/function for more details.\n"
     ]
    },
    {
     "name": "stderr",
     "output_type": "stream",
     "text": [
      "\r",
      "  7%|█████▌                                                                            | 7/103 [00:04<01:03,  1.51it/s]"
     ]
    },
    {
     "name": "stdout",
     "output_type": "stream",
     "text": [
      "WARNING:tensorflow:8 out of the last 8 calls to <function _make_execution_function.<locals>.distributed_function at 0x000002060D2E8C18> triggered tf.function retracing. Tracing is expensive and the excessive number of tracings is likely due to passing python objects instead of tensors. Also, tf.function has experimental_relax_shapes=True option that relaxes argument shapes that can avoid unnecessary retracing. Please refer to https://www.tensorflow.org/beta/tutorials/eager/tf_function#python_or_tensor_args and https://www.tensorflow.org/api_docs/python/tf/function for more details.\n"
     ]
    },
    {
     "name": "stderr",
     "output_type": "stream",
     "text": [
      "\r",
      "  8%|██████▎                                                                           | 8/103 [00:05<01:03,  1.49it/s]"
     ]
    },
    {
     "name": "stdout",
     "output_type": "stream",
     "text": [
      "WARNING:tensorflow:9 out of the last 9 calls to <function _make_execution_function.<locals>.distributed_function at 0x000002060D2E8C18> triggered tf.function retracing. Tracing is expensive and the excessive number of tracings is likely due to passing python objects instead of tensors. Also, tf.function has experimental_relax_shapes=True option that relaxes argument shapes that can avoid unnecessary retracing. Please refer to https://www.tensorflow.org/beta/tutorials/eager/tf_function#python_or_tensor_args and https://www.tensorflow.org/api_docs/python/tf/function for more details.\n"
     ]
    },
    {
     "name": "stderr",
     "output_type": "stream",
     "text": [
      "\r",
      "  9%|███████▏                                                                          | 9/103 [00:06<01:03,  1.48it/s]"
     ]
    },
    {
     "name": "stdout",
     "output_type": "stream",
     "text": [
      "WARNING:tensorflow:10 out of the last 10 calls to <function _make_execution_function.<locals>.distributed_function at 0x000002060D2E8C18> triggered tf.function retracing. Tracing is expensive and the excessive number of tracings is likely due to passing python objects instead of tensors. Also, tf.function has experimental_relax_shapes=True option that relaxes argument shapes that can avoid unnecessary retracing. Please refer to https://www.tensorflow.org/beta/tutorials/eager/tf_function#python_or_tensor_args and https://www.tensorflow.org/api_docs/python/tf/function for more details.\n"
     ]
    },
    {
     "name": "stderr",
     "output_type": "stream",
     "text": [
      "\r",
      " 10%|███████▊                                                                         | 10/103 [00:06<01:02,  1.49it/s]"
     ]
    },
    {
     "name": "stdout",
     "output_type": "stream",
     "text": [
      "WARNING:tensorflow:11 out of the last 11 calls to <function _make_execution_function.<locals>.distributed_function at 0x000002060D2E8C18> triggered tf.function retracing. Tracing is expensive and the excessive number of tracings is likely due to passing python objects instead of tensors. Also, tf.function has experimental_relax_shapes=True option that relaxes argument shapes that can avoid unnecessary retracing. Please refer to https://www.tensorflow.org/beta/tutorials/eager/tf_function#python_or_tensor_args and https://www.tensorflow.org/api_docs/python/tf/function for more details.\n"
     ]
    },
    {
     "name": "stderr",
     "output_type": "stream",
     "text": [
      "\r",
      " 11%|████████▋                                                                        | 11/103 [00:07<01:00,  1.51it/s]"
     ]
    },
    {
     "name": "stdout",
     "output_type": "stream",
     "text": [
      "WARNING:tensorflow:11 out of the last 11 calls to <function _make_execution_function.<locals>.distributed_function at 0x000002060D2E8C18> triggered tf.function retracing. Tracing is expensive and the excessive number of tracings is likely due to passing python objects instead of tensors. Also, tf.function has experimental_relax_shapes=True option that relaxes argument shapes that can avoid unnecessary retracing. Please refer to https://www.tensorflow.org/beta/tutorials/eager/tf_function#python_or_tensor_args and https://www.tensorflow.org/api_docs/python/tf/function for more details.\n"
     ]
    },
    {
     "name": "stderr",
     "output_type": "stream",
     "text": [
      "\r",
      " 12%|█████████▍                                                                       | 12/103 [00:08<01:00,  1.52it/s]"
     ]
    },
    {
     "name": "stdout",
     "output_type": "stream",
     "text": [
      "WARNING:tensorflow:11 out of the last 11 calls to <function _make_execution_function.<locals>.distributed_function at 0x000002060D2E8C18> triggered tf.function retracing. Tracing is expensive and the excessive number of tracings is likely due to passing python objects instead of tensors. Also, tf.function has experimental_relax_shapes=True option that relaxes argument shapes that can avoid unnecessary retracing. Please refer to https://www.tensorflow.org/beta/tutorials/eager/tf_function#python_or_tensor_args and https://www.tensorflow.org/api_docs/python/tf/function for more details.\n"
     ]
    },
    {
     "name": "stderr",
     "output_type": "stream",
     "text": [
      "\r",
      " 13%|██████████▏                                                                      | 13/103 [00:08<00:58,  1.53it/s]"
     ]
    },
    {
     "name": "stdout",
     "output_type": "stream",
     "text": [
      "WARNING:tensorflow:11 out of the last 11 calls to <function _make_execution_function.<locals>.distributed_function at 0x000002060D2E8C18> triggered tf.function retracing. Tracing is expensive and the excessive number of tracings is likely due to passing python objects instead of tensors. Also, tf.function has experimental_relax_shapes=True option that relaxes argument shapes that can avoid unnecessary retracing. Please refer to https://www.tensorflow.org/beta/tutorials/eager/tf_function#python_or_tensor_args and https://www.tensorflow.org/api_docs/python/tf/function for more details.\n"
     ]
    },
    {
     "name": "stderr",
     "output_type": "stream",
     "text": [
      "\r",
      " 14%|███████████                                                                      | 14/103 [00:09<00:57,  1.54it/s]"
     ]
    },
    {
     "name": "stdout",
     "output_type": "stream",
     "text": [
      "WARNING:tensorflow:11 out of the last 11 calls to <function _make_execution_function.<locals>.distributed_function at 0x000002060D2E8C18> triggered tf.function retracing. Tracing is expensive and the excessive number of tracings is likely due to passing python objects instead of tensors. Also, tf.function has experimental_relax_shapes=True option that relaxes argument shapes that can avoid unnecessary retracing. Please refer to https://www.tensorflow.org/beta/tutorials/eager/tf_function#python_or_tensor_args and https://www.tensorflow.org/api_docs/python/tf/function for more details.\n"
     ]
    },
    {
     "name": "stderr",
     "output_type": "stream",
     "text": [
      "\r",
      " 15%|███████████▊                                                                     | 15/103 [00:09<00:56,  1.54it/s]"
     ]
    },
    {
     "name": "stdout",
     "output_type": "stream",
     "text": [
      "WARNING:tensorflow:11 out of the last 11 calls to <function _make_execution_function.<locals>.distributed_function at 0x000002060D2E8C18> triggered tf.function retracing. Tracing is expensive and the excessive number of tracings is likely due to passing python objects instead of tensors. Also, tf.function has experimental_relax_shapes=True option that relaxes argument shapes that can avoid unnecessary retracing. Please refer to https://www.tensorflow.org/beta/tutorials/eager/tf_function#python_or_tensor_args and https://www.tensorflow.org/api_docs/python/tf/function for more details.\n"
     ]
    },
    {
     "name": "stderr",
     "output_type": "stream",
     "text": [
      "\r",
      " 16%|████████████▌                                                                    | 16/103 [00:10<00:55,  1.56it/s]"
     ]
    },
    {
     "name": "stdout",
     "output_type": "stream",
     "text": [
      "WARNING:tensorflow:11 out of the last 11 calls to <function _make_execution_function.<locals>.distributed_function at 0x000002060D2E8C18> triggered tf.function retracing. Tracing is expensive and the excessive number of tracings is likely due to passing python objects instead of tensors. Also, tf.function has experimental_relax_shapes=True option that relaxes argument shapes that can avoid unnecessary retracing. Please refer to https://www.tensorflow.org/beta/tutorials/eager/tf_function#python_or_tensor_args and https://www.tensorflow.org/api_docs/python/tf/function for more details.\n"
     ]
    },
    {
     "name": "stderr",
     "output_type": "stream",
     "text": [
      "\r",
      " 17%|█████████████▎                                                                   | 17/103 [00:11<00:54,  1.58it/s]"
     ]
    },
    {
     "name": "stdout",
     "output_type": "stream",
     "text": [
      "WARNING:tensorflow:11 out of the last 11 calls to <function _make_execution_function.<locals>.distributed_function at 0x000002060D2E8C18> triggered tf.function retracing. Tracing is expensive and the excessive number of tracings is likely due to passing python objects instead of tensors. Also, tf.function has experimental_relax_shapes=True option that relaxes argument shapes that can avoid unnecessary retracing. Please refer to https://www.tensorflow.org/beta/tutorials/eager/tf_function#python_or_tensor_args and https://www.tensorflow.org/api_docs/python/tf/function for more details.\n"
     ]
    },
    {
     "name": "stderr",
     "output_type": "stream",
     "text": [
      "\r",
      " 17%|██████████████▏                                                                  | 18/103 [00:11<00:53,  1.60it/s]"
     ]
    },
    {
     "name": "stdout",
     "output_type": "stream",
     "text": [
      "WARNING:tensorflow:11 out of the last 11 calls to <function _make_execution_function.<locals>.distributed_function at 0x000002060D2E8C18> triggered tf.function retracing. Tracing is expensive and the excessive number of tracings is likely due to passing python objects instead of tensors. Also, tf.function has experimental_relax_shapes=True option that relaxes argument shapes that can avoid unnecessary retracing. Please refer to https://www.tensorflow.org/beta/tutorials/eager/tf_function#python_or_tensor_args and https://www.tensorflow.org/api_docs/python/tf/function for more details.\n"
     ]
    },
    {
     "name": "stderr",
     "output_type": "stream",
     "text": [
      "\r",
      " 18%|██████████████▉                                                                  | 19/103 [00:12<00:51,  1.62it/s]"
     ]
    },
    {
     "name": "stdout",
     "output_type": "stream",
     "text": [
      "WARNING:tensorflow:11 out of the last 11 calls to <function _make_execution_function.<locals>.distributed_function at 0x000002060D2E8C18> triggered tf.function retracing. Tracing is expensive and the excessive number of tracings is likely due to passing python objects instead of tensors. Also, tf.function has experimental_relax_shapes=True option that relaxes argument shapes that can avoid unnecessary retracing. Please refer to https://www.tensorflow.org/beta/tutorials/eager/tf_function#python_or_tensor_args and https://www.tensorflow.org/api_docs/python/tf/function for more details.\n"
     ]
    },
    {
     "name": "stderr",
     "output_type": "stream",
     "text": [
      "\r",
      " 19%|███████████████▋                                                                 | 20/103 [00:13<00:51,  1.62it/s]"
     ]
    },
    {
     "name": "stdout",
     "output_type": "stream",
     "text": [
      "WARNING:tensorflow:11 out of the last 11 calls to <function _make_execution_function.<locals>.distributed_function at 0x000002060D2E8C18> triggered tf.function retracing. Tracing is expensive and the excessive number of tracings is likely due to passing python objects instead of tensors. Also, tf.function has experimental_relax_shapes=True option that relaxes argument shapes that can avoid unnecessary retracing. Please refer to https://www.tensorflow.org/beta/tutorials/eager/tf_function#python_or_tensor_args and https://www.tensorflow.org/api_docs/python/tf/function for more details.\n"
     ]
    },
    {
     "name": "stderr",
     "output_type": "stream",
     "text": [
      "\r",
      " 20%|████████████████▌                                                                | 21/103 [00:13<00:50,  1.62it/s]"
     ]
    },
    {
     "name": "stdout",
     "output_type": "stream",
     "text": [
      "WARNING:tensorflow:11 out of the last 11 calls to <function _make_execution_function.<locals>.distributed_function at 0x000002060D2E8C18> triggered tf.function retracing. Tracing is expensive and the excessive number of tracings is likely due to passing python objects instead of tensors. Also, tf.function has experimental_relax_shapes=True option that relaxes argument shapes that can avoid unnecessary retracing. Please refer to https://www.tensorflow.org/beta/tutorials/eager/tf_function#python_or_tensor_args and https://www.tensorflow.org/api_docs/python/tf/function for more details.\n"
     ]
    },
    {
     "name": "stderr",
     "output_type": "stream",
     "text": [
      "\r",
      " 21%|█████████████████▎                                                               | 22/103 [00:14<00:50,  1.60it/s]"
     ]
    },
    {
     "name": "stdout",
     "output_type": "stream",
     "text": [
      "WARNING:tensorflow:11 out of the last 11 calls to <function _make_execution_function.<locals>.distributed_function at 0x000002060D2E8C18> triggered tf.function retracing. Tracing is expensive and the excessive number of tracings is likely due to passing python objects instead of tensors. Also, tf.function has experimental_relax_shapes=True option that relaxes argument shapes that can avoid unnecessary retracing. Please refer to https://www.tensorflow.org/beta/tutorials/eager/tf_function#python_or_tensor_args and https://www.tensorflow.org/api_docs/python/tf/function for more details.\n"
     ]
    },
    {
     "name": "stderr",
     "output_type": "stream",
     "text": [
      "\r",
      " 22%|██████████████████                                                               | 23/103 [00:14<00:49,  1.61it/s]"
     ]
    },
    {
     "name": "stdout",
     "output_type": "stream",
     "text": [
      "WARNING:tensorflow:11 out of the last 11 calls to <function _make_execution_function.<locals>.distributed_function at 0x000002060D2E8C18> triggered tf.function retracing. Tracing is expensive and the excessive number of tracings is likely due to passing python objects instead of tensors. Also, tf.function has experimental_relax_shapes=True option that relaxes argument shapes that can avoid unnecessary retracing. Please refer to https://www.tensorflow.org/beta/tutorials/eager/tf_function#python_or_tensor_args and https://www.tensorflow.org/api_docs/python/tf/function for more details.\n"
     ]
    },
    {
     "name": "stderr",
     "output_type": "stream",
     "text": [
      "\r",
      " 23%|██████████████████▊                                                              | 24/103 [00:15<00:49,  1.61it/s]"
     ]
    },
    {
     "name": "stdout",
     "output_type": "stream",
     "text": [
      "WARNING:tensorflow:11 out of the last 11 calls to <function _make_execution_function.<locals>.distributed_function at 0x000002060D2E8C18> triggered tf.function retracing. Tracing is expensive and the excessive number of tracings is likely due to passing python objects instead of tensors. Also, tf.function has experimental_relax_shapes=True option that relaxes argument shapes that can avoid unnecessary retracing. Please refer to https://www.tensorflow.org/beta/tutorials/eager/tf_function#python_or_tensor_args and https://www.tensorflow.org/api_docs/python/tf/function for more details.\n"
     ]
    },
    {
     "name": "stderr",
     "output_type": "stream",
     "text": [
      "\r",
      " 24%|███████████████████▋                                                             | 25/103 [00:16<00:48,  1.61it/s]"
     ]
    },
    {
     "name": "stdout",
     "output_type": "stream",
     "text": [
      "WARNING:tensorflow:11 out of the last 11 calls to <function _make_execution_function.<locals>.distributed_function at 0x000002060D2E8C18> triggered tf.function retracing. Tracing is expensive and the excessive number of tracings is likely due to passing python objects instead of tensors. Also, tf.function has experimental_relax_shapes=True option that relaxes argument shapes that can avoid unnecessary retracing. Please refer to https://www.tensorflow.org/beta/tutorials/eager/tf_function#python_or_tensor_args and https://www.tensorflow.org/api_docs/python/tf/function for more details.\n"
     ]
    },
    {
     "name": "stderr",
     "output_type": "stream",
     "text": [
      "\r",
      " 25%|████████████████████▍                                                            | 26/103 [00:16<00:47,  1.61it/s]"
     ]
    },
    {
     "name": "stdout",
     "output_type": "stream",
     "text": [
      "WARNING:tensorflow:11 out of the last 11 calls to <function _make_execution_function.<locals>.distributed_function at 0x000002060D2E8C18> triggered tf.function retracing. Tracing is expensive and the excessive number of tracings is likely due to passing python objects instead of tensors. Also, tf.function has experimental_relax_shapes=True option that relaxes argument shapes that can avoid unnecessary retracing. Please refer to https://www.tensorflow.org/beta/tutorials/eager/tf_function#python_or_tensor_args and https://www.tensorflow.org/api_docs/python/tf/function for more details.\n"
     ]
    },
    {
     "name": "stderr",
     "output_type": "stream",
     "text": [
      "\r",
      " 26%|█████████████████████▏                                                           | 27/103 [00:17<00:47,  1.59it/s]"
     ]
    },
    {
     "name": "stdout",
     "output_type": "stream",
     "text": [
      "WARNING:tensorflow:11 out of the last 11 calls to <function _make_execution_function.<locals>.distributed_function at 0x000002060D2E8C18> triggered tf.function retracing. Tracing is expensive and the excessive number of tracings is likely due to passing python objects instead of tensors. Also, tf.function has experimental_relax_shapes=True option that relaxes argument shapes that can avoid unnecessary retracing. Please refer to https://www.tensorflow.org/beta/tutorials/eager/tf_function#python_or_tensor_args and https://www.tensorflow.org/api_docs/python/tf/function for more details.\n"
     ]
    },
    {
     "name": "stderr",
     "output_type": "stream",
     "text": [
      "\r",
      " 27%|██████████████████████                                                           | 28/103 [00:18<00:47,  1.59it/s]"
     ]
    },
    {
     "name": "stdout",
     "output_type": "stream",
     "text": [
      "WARNING:tensorflow:11 out of the last 11 calls to <function _make_execution_function.<locals>.distributed_function at 0x000002060D2E8C18> triggered tf.function retracing. Tracing is expensive and the excessive number of tracings is likely due to passing python objects instead of tensors. Also, tf.function has experimental_relax_shapes=True option that relaxes argument shapes that can avoid unnecessary retracing. Please refer to https://www.tensorflow.org/beta/tutorials/eager/tf_function#python_or_tensor_args and https://www.tensorflow.org/api_docs/python/tf/function for more details.\n"
     ]
    },
    {
     "name": "stderr",
     "output_type": "stream",
     "text": [
      "\r",
      " 28%|██████████████████████▊                                                          | 29/103 [00:18<00:47,  1.54it/s]"
     ]
    },
    {
     "name": "stdout",
     "output_type": "stream",
     "text": [
      "WARNING:tensorflow:11 out of the last 11 calls to <function _make_execution_function.<locals>.distributed_function at 0x000002060D2E8C18> triggered tf.function retracing. Tracing is expensive and the excessive number of tracings is likely due to passing python objects instead of tensors. Also, tf.function has experimental_relax_shapes=True option that relaxes argument shapes that can avoid unnecessary retracing. Please refer to https://www.tensorflow.org/beta/tutorials/eager/tf_function#python_or_tensor_args and https://www.tensorflow.org/api_docs/python/tf/function for more details.\n"
     ]
    },
    {
     "name": "stderr",
     "output_type": "stream",
     "text": [
      "\r",
      " 29%|███████████████████████▌                                                         | 30/103 [00:19<00:46,  1.56it/s]"
     ]
    },
    {
     "name": "stdout",
     "output_type": "stream",
     "text": [
      "WARNING:tensorflow:11 out of the last 11 calls to <function _make_execution_function.<locals>.distributed_function at 0x000002060D2E8C18> triggered tf.function retracing. Tracing is expensive and the excessive number of tracings is likely due to passing python objects instead of tensors. Also, tf.function has experimental_relax_shapes=True option that relaxes argument shapes that can avoid unnecessary retracing. Please refer to https://www.tensorflow.org/beta/tutorials/eager/tf_function#python_or_tensor_args and https://www.tensorflow.org/api_docs/python/tf/function for more details.\n"
     ]
    },
    {
     "name": "stderr",
     "output_type": "stream",
     "text": [
      "\r",
      " 30%|████████████████████████▍                                                        | 31/103 [00:19<00:44,  1.61it/s]"
     ]
    },
    {
     "name": "stdout",
     "output_type": "stream",
     "text": [
      "WARNING:tensorflow:11 out of the last 11 calls to <function _make_execution_function.<locals>.distributed_function at 0x000002060D2E8C18> triggered tf.function retracing. Tracing is expensive and the excessive number of tracings is likely due to passing python objects instead of tensors. Also, tf.function has experimental_relax_shapes=True option that relaxes argument shapes that can avoid unnecessary retracing. Please refer to https://www.tensorflow.org/beta/tutorials/eager/tf_function#python_or_tensor_args and https://www.tensorflow.org/api_docs/python/tf/function for more details.\n"
     ]
    },
    {
     "name": "stderr",
     "output_type": "stream",
     "text": [
      "\r",
      " 31%|█████████████████████████▏                                                       | 32/103 [00:20<00:44,  1.61it/s]"
     ]
    },
    {
     "name": "stdout",
     "output_type": "stream",
     "text": [
      "WARNING:tensorflow:11 out of the last 11 calls to <function _make_execution_function.<locals>.distributed_function at 0x000002060D2E8C18> triggered tf.function retracing. Tracing is expensive and the excessive number of tracings is likely due to passing python objects instead of tensors. Also, tf.function has experimental_relax_shapes=True option that relaxes argument shapes that can avoid unnecessary retracing. Please refer to https://www.tensorflow.org/beta/tutorials/eager/tf_function#python_or_tensor_args and https://www.tensorflow.org/api_docs/python/tf/function for more details.\n"
     ]
    },
    {
     "name": "stderr",
     "output_type": "stream",
     "text": [
      "\r",
      " 32%|█████████████████████████▉                                                       | 33/103 [00:21<00:43,  1.61it/s]"
     ]
    },
    {
     "name": "stdout",
     "output_type": "stream",
     "text": [
      "WARNING:tensorflow:11 out of the last 11 calls to <function _make_execution_function.<locals>.distributed_function at 0x000002060D2E8C18> triggered tf.function retracing. Tracing is expensive and the excessive number of tracings is likely due to passing python objects instead of tensors. Also, tf.function has experimental_relax_shapes=True option that relaxes argument shapes that can avoid unnecessary retracing. Please refer to https://www.tensorflow.org/beta/tutorials/eager/tf_function#python_or_tensor_args and https://www.tensorflow.org/api_docs/python/tf/function for more details.\n"
     ]
    },
    {
     "name": "stderr",
     "output_type": "stream",
     "text": [
      "\r",
      " 33%|██████████████████████████▋                                                      | 34/103 [00:21<00:42,  1.63it/s]"
     ]
    },
    {
     "name": "stdout",
     "output_type": "stream",
     "text": [
      "WARNING:tensorflow:11 out of the last 11 calls to <function _make_execution_function.<locals>.distributed_function at 0x000002060D2E8C18> triggered tf.function retracing. Tracing is expensive and the excessive number of tracings is likely due to passing python objects instead of tensors. Also, tf.function has experimental_relax_shapes=True option that relaxes argument shapes that can avoid unnecessary retracing. Please refer to https://www.tensorflow.org/beta/tutorials/eager/tf_function#python_or_tensor_args and https://www.tensorflow.org/api_docs/python/tf/function for more details.\n"
     ]
    },
    {
     "name": "stderr",
     "output_type": "stream",
     "text": [
      "\r",
      " 34%|███████████████████████████▌                                                     | 35/103 [00:22<00:41,  1.63it/s]"
     ]
    },
    {
     "name": "stdout",
     "output_type": "stream",
     "text": [
      "WARNING:tensorflow:11 out of the last 11 calls to <function _make_execution_function.<locals>.distributed_function at 0x000002060D2E8C18> triggered tf.function retracing. Tracing is expensive and the excessive number of tracings is likely due to passing python objects instead of tensors. Also, tf.function has experimental_relax_shapes=True option that relaxes argument shapes that can avoid unnecessary retracing. Please refer to https://www.tensorflow.org/beta/tutorials/eager/tf_function#python_or_tensor_args and https://www.tensorflow.org/api_docs/python/tf/function for more details.\n"
     ]
    },
    {
     "name": "stderr",
     "output_type": "stream",
     "text": [
      "\r",
      " 35%|████████████████████████████▎                                                    | 36/103 [00:22<00:40,  1.66it/s]"
     ]
    },
    {
     "name": "stdout",
     "output_type": "stream",
     "text": [
      "WARNING:tensorflow:11 out of the last 11 calls to <function _make_execution_function.<locals>.distributed_function at 0x000002060D2E8C18> triggered tf.function retracing. Tracing is expensive and the excessive number of tracings is likely due to passing python objects instead of tensors. Also, tf.function has experimental_relax_shapes=True option that relaxes argument shapes that can avoid unnecessary retracing. Please refer to https://www.tensorflow.org/beta/tutorials/eager/tf_function#python_or_tensor_args and https://www.tensorflow.org/api_docs/python/tf/function for more details.\n"
     ]
    },
    {
     "name": "stderr",
     "output_type": "stream",
     "text": [
      "\r",
      " 36%|█████████████████████████████                                                    | 37/103 [00:23<00:40,  1.64it/s]"
     ]
    },
    {
     "name": "stdout",
     "output_type": "stream",
     "text": [
      "WARNING:tensorflow:11 out of the last 11 calls to <function _make_execution_function.<locals>.distributed_function at 0x000002060D2E8C18> triggered tf.function retracing. Tracing is expensive and the excessive number of tracings is likely due to passing python objects instead of tensors. Also, tf.function has experimental_relax_shapes=True option that relaxes argument shapes that can avoid unnecessary retracing. Please refer to https://www.tensorflow.org/beta/tutorials/eager/tf_function#python_or_tensor_args and https://www.tensorflow.org/api_docs/python/tf/function for more details.\n"
     ]
    },
    {
     "name": "stderr",
     "output_type": "stream",
     "text": [
      "\r",
      " 37%|█████████████████████████████▉                                                   | 38/103 [00:24<00:39,  1.66it/s]"
     ]
    },
    {
     "name": "stdout",
     "output_type": "stream",
     "text": [
      "WARNING:tensorflow:11 out of the last 11 calls to <function _make_execution_function.<locals>.distributed_function at 0x000002060D2E8C18> triggered tf.function retracing. Tracing is expensive and the excessive number of tracings is likely due to passing python objects instead of tensors. Also, tf.function has experimental_relax_shapes=True option that relaxes argument shapes that can avoid unnecessary retracing. Please refer to https://www.tensorflow.org/beta/tutorials/eager/tf_function#python_or_tensor_args and https://www.tensorflow.org/api_docs/python/tf/function for more details.\n"
     ]
    },
    {
     "name": "stderr",
     "output_type": "stream",
     "text": [
      "\r",
      " 38%|██████████████████████████████▋                                                  | 39/103 [00:24<00:38,  1.64it/s]"
     ]
    },
    {
     "name": "stdout",
     "output_type": "stream",
     "text": [
      "WARNING:tensorflow:11 out of the last 11 calls to <function _make_execution_function.<locals>.distributed_function at 0x000002060D2E8C18> triggered tf.function retracing. Tracing is expensive and the excessive number of tracings is likely due to passing python objects instead of tensors. Also, tf.function has experimental_relax_shapes=True option that relaxes argument shapes that can avoid unnecessary retracing. Please refer to https://www.tensorflow.org/beta/tutorials/eager/tf_function#python_or_tensor_args and https://www.tensorflow.org/api_docs/python/tf/function for more details.\n"
     ]
    },
    {
     "name": "stderr",
     "output_type": "stream",
     "text": [
      "\r",
      " 39%|███████████████████████████████▍                                                 | 40/103 [00:25<00:38,  1.62it/s]"
     ]
    },
    {
     "name": "stdout",
     "output_type": "stream",
     "text": [
      "WARNING:tensorflow:11 out of the last 11 calls to <function _make_execution_function.<locals>.distributed_function at 0x000002060D2E8C18> triggered tf.function retracing. Tracing is expensive and the excessive number of tracings is likely due to passing python objects instead of tensors. Also, tf.function has experimental_relax_shapes=True option that relaxes argument shapes that can avoid unnecessary retracing. Please refer to https://www.tensorflow.org/beta/tutorials/eager/tf_function#python_or_tensor_args and https://www.tensorflow.org/api_docs/python/tf/function for more details.\n"
     ]
    },
    {
     "name": "stderr",
     "output_type": "stream",
     "text": [
      "\r",
      " 40%|████████████████████████████████▏                                                | 41/103 [00:26<00:37,  1.64it/s]"
     ]
    },
    {
     "name": "stdout",
     "output_type": "stream",
     "text": [
      "WARNING:tensorflow:11 out of the last 11 calls to <function _make_execution_function.<locals>.distributed_function at 0x000002060D2E8C18> triggered tf.function retracing. Tracing is expensive and the excessive number of tracings is likely due to passing python objects instead of tensors. Also, tf.function has experimental_relax_shapes=True option that relaxes argument shapes that can avoid unnecessary retracing. Please refer to https://www.tensorflow.org/beta/tutorials/eager/tf_function#python_or_tensor_args and https://www.tensorflow.org/api_docs/python/tf/function for more details.\n"
     ]
    },
    {
     "name": "stderr",
     "output_type": "stream",
     "text": [
      "\r",
      " 41%|█████████████████████████████████                                                | 42/103 [00:26<00:37,  1.63it/s]"
     ]
    },
    {
     "name": "stdout",
     "output_type": "stream",
     "text": [
      "WARNING:tensorflow:11 out of the last 11 calls to <function _make_execution_function.<locals>.distributed_function at 0x000002060D2E8C18> triggered tf.function retracing. Tracing is expensive and the excessive number of tracings is likely due to passing python objects instead of tensors. Also, tf.function has experimental_relax_shapes=True option that relaxes argument shapes that can avoid unnecessary retracing. Please refer to https://www.tensorflow.org/beta/tutorials/eager/tf_function#python_or_tensor_args and https://www.tensorflow.org/api_docs/python/tf/function for more details.\n"
     ]
    },
    {
     "name": "stderr",
     "output_type": "stream",
     "text": [
      "\r",
      " 42%|█████████████████████████████████▊                                               | 43/103 [00:27<00:36,  1.62it/s]"
     ]
    },
    {
     "name": "stdout",
     "output_type": "stream",
     "text": [
      "WARNING:tensorflow:11 out of the last 11 calls to <function _make_execution_function.<locals>.distributed_function at 0x000002060D2E8C18> triggered tf.function retracing. Tracing is expensive and the excessive number of tracings is likely due to passing python objects instead of tensors. Also, tf.function has experimental_relax_shapes=True option that relaxes argument shapes that can avoid unnecessary retracing. Please refer to https://www.tensorflow.org/beta/tutorials/eager/tf_function#python_or_tensor_args and https://www.tensorflow.org/api_docs/python/tf/function for more details.\n"
     ]
    },
    {
     "name": "stderr",
     "output_type": "stream",
     "text": [
      "\r",
      " 43%|██████████████████████████████████▌                                              | 44/103 [00:27<00:36,  1.62it/s]"
     ]
    },
    {
     "name": "stdout",
     "output_type": "stream",
     "text": [
      "WARNING:tensorflow:11 out of the last 11 calls to <function _make_execution_function.<locals>.distributed_function at 0x000002060D2E8C18> triggered tf.function retracing. Tracing is expensive and the excessive number of tracings is likely due to passing python objects instead of tensors. Also, tf.function has experimental_relax_shapes=True option that relaxes argument shapes that can avoid unnecessary retracing. Please refer to https://www.tensorflow.org/beta/tutorials/eager/tf_function#python_or_tensor_args and https://www.tensorflow.org/api_docs/python/tf/function for more details.\n"
     ]
    },
    {
     "name": "stderr",
     "output_type": "stream",
     "text": [
      "\r",
      " 44%|███████████████████████████████████▍                                             | 45/103 [00:28<00:35,  1.64it/s]"
     ]
    },
    {
     "name": "stdout",
     "output_type": "stream",
     "text": [
      "WARNING:tensorflow:11 out of the last 11 calls to <function _make_execution_function.<locals>.distributed_function at 0x000002060D2E8C18> triggered tf.function retracing. Tracing is expensive and the excessive number of tracings is likely due to passing python objects instead of tensors. Also, tf.function has experimental_relax_shapes=True option that relaxes argument shapes that can avoid unnecessary retracing. Please refer to https://www.tensorflow.org/beta/tutorials/eager/tf_function#python_or_tensor_args and https://www.tensorflow.org/api_docs/python/tf/function for more details.\n"
     ]
    },
    {
     "name": "stderr",
     "output_type": "stream",
     "text": [
      "\r",
      " 45%|████████████████████████████████████▏                                            | 46/103 [00:29<00:35,  1.62it/s]"
     ]
    },
    {
     "name": "stdout",
     "output_type": "stream",
     "text": [
      "WARNING:tensorflow:11 out of the last 11 calls to <function _make_execution_function.<locals>.distributed_function at 0x000002060D2E8C18> triggered tf.function retracing. Tracing is expensive and the excessive number of tracings is likely due to passing python objects instead of tensors. Also, tf.function has experimental_relax_shapes=True option that relaxes argument shapes that can avoid unnecessary retracing. Please refer to https://www.tensorflow.org/beta/tutorials/eager/tf_function#python_or_tensor_args and https://www.tensorflow.org/api_docs/python/tf/function for more details.\n"
     ]
    },
    {
     "name": "stderr",
     "output_type": "stream",
     "text": [
      "\r",
      " 46%|████████████████████████████████████▉                                            | 47/103 [00:29<00:34,  1.61it/s]"
     ]
    },
    {
     "name": "stdout",
     "output_type": "stream",
     "text": [
      "WARNING:tensorflow:11 out of the last 11 calls to <function _make_execution_function.<locals>.distributed_function at 0x000002060D2E8C18> triggered tf.function retracing. Tracing is expensive and the excessive number of tracings is likely due to passing python objects instead of tensors. Also, tf.function has experimental_relax_shapes=True option that relaxes argument shapes that can avoid unnecessary retracing. Please refer to https://www.tensorflow.org/beta/tutorials/eager/tf_function#python_or_tensor_args and https://www.tensorflow.org/api_docs/python/tf/function for more details.\n"
     ]
    },
    {
     "name": "stderr",
     "output_type": "stream",
     "text": [
      "\r",
      " 47%|█████████████████████████████████████▋                                           | 48/103 [00:30<00:33,  1.62it/s]"
     ]
    },
    {
     "name": "stdout",
     "output_type": "stream",
     "text": [
      "WARNING:tensorflow:11 out of the last 11 calls to <function _make_execution_function.<locals>.distributed_function at 0x000002060D2E8C18> triggered tf.function retracing. Tracing is expensive and the excessive number of tracings is likely due to passing python objects instead of tensors. Also, tf.function has experimental_relax_shapes=True option that relaxes argument shapes that can avoid unnecessary retracing. Please refer to https://www.tensorflow.org/beta/tutorials/eager/tf_function#python_or_tensor_args and https://www.tensorflow.org/api_docs/python/tf/function for more details.\n"
     ]
    },
    {
     "name": "stderr",
     "output_type": "stream",
     "text": [
      "\r",
      " 48%|██████████████████████████████████████▌                                          | 49/103 [00:30<00:33,  1.63it/s]"
     ]
    },
    {
     "name": "stdout",
     "output_type": "stream",
     "text": [
      "WARNING:tensorflow:11 out of the last 11 calls to <function _make_execution_function.<locals>.distributed_function at 0x000002060D2E8C18> triggered tf.function retracing. Tracing is expensive and the excessive number of tracings is likely due to passing python objects instead of tensors. Also, tf.function has experimental_relax_shapes=True option that relaxes argument shapes that can avoid unnecessary retracing. Please refer to https://www.tensorflow.org/beta/tutorials/eager/tf_function#python_or_tensor_args and https://www.tensorflow.org/api_docs/python/tf/function for more details.\n"
     ]
    },
    {
     "name": "stderr",
     "output_type": "stream",
     "text": [
      "\r",
      " 49%|███████████████████████████████████████▎                                         | 50/103 [00:31<00:32,  1.63it/s]"
     ]
    },
    {
     "name": "stdout",
     "output_type": "stream",
     "text": [
      "WARNING:tensorflow:11 out of the last 11 calls to <function _make_execution_function.<locals>.distributed_function at 0x000002060D2E8C18> triggered tf.function retracing. Tracing is expensive and the excessive number of tracings is likely due to passing python objects instead of tensors. Also, tf.function has experimental_relax_shapes=True option that relaxes argument shapes that can avoid unnecessary retracing. Please refer to https://www.tensorflow.org/beta/tutorials/eager/tf_function#python_or_tensor_args and https://www.tensorflow.org/api_docs/python/tf/function for more details.\n"
     ]
    },
    {
     "name": "stderr",
     "output_type": "stream",
     "text": [
      "\r",
      " 50%|████████████████████████████████████████                                         | 51/103 [00:32<00:32,  1.60it/s]"
     ]
    },
    {
     "name": "stdout",
     "output_type": "stream",
     "text": [
      "WARNING:tensorflow:11 out of the last 11 calls to <function _make_execution_function.<locals>.distributed_function at 0x000002060D2E8C18> triggered tf.function retracing. Tracing is expensive and the excessive number of tracings is likely due to passing python objects instead of tensors. Also, tf.function has experimental_relax_shapes=True option that relaxes argument shapes that can avoid unnecessary retracing. Please refer to https://www.tensorflow.org/beta/tutorials/eager/tf_function#python_or_tensor_args and https://www.tensorflow.org/api_docs/python/tf/function for more details.\n"
     ]
    },
    {
     "name": "stderr",
     "output_type": "stream",
     "text": [
      "\r",
      " 50%|████████████████████████████████████████▉                                        | 52/103 [00:32<00:32,  1.58it/s]"
     ]
    },
    {
     "name": "stdout",
     "output_type": "stream",
     "text": [
      "WARNING:tensorflow:11 out of the last 11 calls to <function _make_execution_function.<locals>.distributed_function at 0x000002060D2E8C18> triggered tf.function retracing. Tracing is expensive and the excessive number of tracings is likely due to passing python objects instead of tensors. Also, tf.function has experimental_relax_shapes=True option that relaxes argument shapes that can avoid unnecessary retracing. Please refer to https://www.tensorflow.org/beta/tutorials/eager/tf_function#python_or_tensor_args and https://www.tensorflow.org/api_docs/python/tf/function for more details.\n"
     ]
    },
    {
     "name": "stderr",
     "output_type": "stream",
     "text": [
      "\r",
      " 51%|█████████████████████████████████████████▋                                       | 53/103 [00:33<00:31,  1.60it/s]"
     ]
    },
    {
     "name": "stdout",
     "output_type": "stream",
     "text": [
      "WARNING:tensorflow:11 out of the last 11 calls to <function _make_execution_function.<locals>.distributed_function at 0x000002060D2E8C18> triggered tf.function retracing. Tracing is expensive and the excessive number of tracings is likely due to passing python objects instead of tensors. Also, tf.function has experimental_relax_shapes=True option that relaxes argument shapes that can avoid unnecessary retracing. Please refer to https://www.tensorflow.org/beta/tutorials/eager/tf_function#python_or_tensor_args and https://www.tensorflow.org/api_docs/python/tf/function for more details.\n"
     ]
    },
    {
     "name": "stderr",
     "output_type": "stream",
     "text": [
      "\r",
      " 52%|██████████████████████████████████████████▍                                      | 54/103 [00:34<00:30,  1.60it/s]"
     ]
    },
    {
     "name": "stdout",
     "output_type": "stream",
     "text": [
      "WARNING:tensorflow:11 out of the last 11 calls to <function _make_execution_function.<locals>.distributed_function at 0x000002060D2E8C18> triggered tf.function retracing. Tracing is expensive and the excessive number of tracings is likely due to passing python objects instead of tensors. Also, tf.function has experimental_relax_shapes=True option that relaxes argument shapes that can avoid unnecessary retracing. Please refer to https://www.tensorflow.org/beta/tutorials/eager/tf_function#python_or_tensor_args and https://www.tensorflow.org/api_docs/python/tf/function for more details.\n"
     ]
    },
    {
     "name": "stderr",
     "output_type": "stream",
     "text": [
      "\r",
      " 53%|███████████████████████████████████████████▎                                     | 55/103 [00:34<00:30,  1.59it/s]"
     ]
    },
    {
     "name": "stdout",
     "output_type": "stream",
     "text": [
      "WARNING:tensorflow:11 out of the last 11 calls to <function _make_execution_function.<locals>.distributed_function at 0x000002060D2E8C18> triggered tf.function retracing. Tracing is expensive and the excessive number of tracings is likely due to passing python objects instead of tensors. Also, tf.function has experimental_relax_shapes=True option that relaxes argument shapes that can avoid unnecessary retracing. Please refer to https://www.tensorflow.org/beta/tutorials/eager/tf_function#python_or_tensor_args and https://www.tensorflow.org/api_docs/python/tf/function for more details.\n"
     ]
    },
    {
     "name": "stderr",
     "output_type": "stream",
     "text": [
      "\r",
      " 54%|████████████████████████████████████████████                                     | 56/103 [00:35<00:29,  1.61it/s]"
     ]
    },
    {
     "name": "stdout",
     "output_type": "stream",
     "text": [
      "WARNING:tensorflow:11 out of the last 11 calls to <function _make_execution_function.<locals>.distributed_function at 0x000002060D2E8C18> triggered tf.function retracing. Tracing is expensive and the excessive number of tracings is likely due to passing python objects instead of tensors. Also, tf.function has experimental_relax_shapes=True option that relaxes argument shapes that can avoid unnecessary retracing. Please refer to https://www.tensorflow.org/beta/tutorials/eager/tf_function#python_or_tensor_args and https://www.tensorflow.org/api_docs/python/tf/function for more details.\n"
     ]
    },
    {
     "name": "stderr",
     "output_type": "stream",
     "text": [
      "\r",
      " 55%|████████████████████████████████████████████▊                                    | 57/103 [00:35<00:28,  1.63it/s]"
     ]
    },
    {
     "name": "stdout",
     "output_type": "stream",
     "text": [
      "WARNING:tensorflow:11 out of the last 11 calls to <function _make_execution_function.<locals>.distributed_function at 0x000002060D2E8C18> triggered tf.function retracing. Tracing is expensive and the excessive number of tracings is likely due to passing python objects instead of tensors. Also, tf.function has experimental_relax_shapes=True option that relaxes argument shapes that can avoid unnecessary retracing. Please refer to https://www.tensorflow.org/beta/tutorials/eager/tf_function#python_or_tensor_args and https://www.tensorflow.org/api_docs/python/tf/function for more details.\n"
     ]
    },
    {
     "name": "stderr",
     "output_type": "stream",
     "text": [
      "\r",
      " 56%|█████████████████████████████████████████████▌                                   | 58/103 [00:36<00:27,  1.63it/s]"
     ]
    },
    {
     "name": "stdout",
     "output_type": "stream",
     "text": [
      "WARNING:tensorflow:11 out of the last 11 calls to <function _make_execution_function.<locals>.distributed_function at 0x000002060D2E8C18> triggered tf.function retracing. Tracing is expensive and the excessive number of tracings is likely due to passing python objects instead of tensors. Also, tf.function has experimental_relax_shapes=True option that relaxes argument shapes that can avoid unnecessary retracing. Please refer to https://www.tensorflow.org/beta/tutorials/eager/tf_function#python_or_tensor_args and https://www.tensorflow.org/api_docs/python/tf/function for more details.\n"
     ]
    },
    {
     "name": "stderr",
     "output_type": "stream",
     "text": [
      "\r",
      " 57%|██████████████████████████████████████████████▍                                  | 59/103 [00:37<00:27,  1.61it/s]"
     ]
    },
    {
     "name": "stdout",
     "output_type": "stream",
     "text": [
      "WARNING:tensorflow:11 out of the last 11 calls to <function _make_execution_function.<locals>.distributed_function at 0x000002060D2E8C18> triggered tf.function retracing. Tracing is expensive and the excessive number of tracings is likely due to passing python objects instead of tensors. Also, tf.function has experimental_relax_shapes=True option that relaxes argument shapes that can avoid unnecessary retracing. Please refer to https://www.tensorflow.org/beta/tutorials/eager/tf_function#python_or_tensor_args and https://www.tensorflow.org/api_docs/python/tf/function for more details.\n"
     ]
    },
    {
     "name": "stderr",
     "output_type": "stream",
     "text": [
      "\r",
      " 58%|███████████████████████████████████████████████▏                                 | 60/103 [00:37<00:26,  1.62it/s]"
     ]
    },
    {
     "name": "stdout",
     "output_type": "stream",
     "text": [
      "WARNING:tensorflow:11 out of the last 11 calls to <function _make_execution_function.<locals>.distributed_function at 0x000002060D2E8C18> triggered tf.function retracing. Tracing is expensive and the excessive number of tracings is likely due to passing python objects instead of tensors. Also, tf.function has experimental_relax_shapes=True option that relaxes argument shapes that can avoid unnecessary retracing. Please refer to https://www.tensorflow.org/beta/tutorials/eager/tf_function#python_or_tensor_args and https://www.tensorflow.org/api_docs/python/tf/function for more details.\n"
     ]
    },
    {
     "name": "stderr",
     "output_type": "stream",
     "text": [
      "\r",
      " 59%|███████████████████████████████████████████████▉                                 | 61/103 [00:38<00:25,  1.64it/s]"
     ]
    },
    {
     "name": "stdout",
     "output_type": "stream",
     "text": [
      "WARNING:tensorflow:11 out of the last 11 calls to <function _make_execution_function.<locals>.distributed_function at 0x000002060D2E8C18> triggered tf.function retracing. Tracing is expensive and the excessive number of tracings is likely due to passing python objects instead of tensors. Also, tf.function has experimental_relax_shapes=True option that relaxes argument shapes that can avoid unnecessary retracing. Please refer to https://www.tensorflow.org/beta/tutorials/eager/tf_function#python_or_tensor_args and https://www.tensorflow.org/api_docs/python/tf/function for more details.\n"
     ]
    },
    {
     "name": "stderr",
     "output_type": "stream",
     "text": [
      "\r",
      " 60%|████████████████████████████████████████████████▊                                | 62/103 [00:38<00:24,  1.64it/s]"
     ]
    },
    {
     "name": "stdout",
     "output_type": "stream",
     "text": [
      "WARNING:tensorflow:11 out of the last 11 calls to <function _make_execution_function.<locals>.distributed_function at 0x000002060D2E8C18> triggered tf.function retracing. Tracing is expensive and the excessive number of tracings is likely due to passing python objects instead of tensors. Also, tf.function has experimental_relax_shapes=True option that relaxes argument shapes that can avoid unnecessary retracing. Please refer to https://www.tensorflow.org/beta/tutorials/eager/tf_function#python_or_tensor_args and https://www.tensorflow.org/api_docs/python/tf/function for more details.\n"
     ]
    },
    {
     "name": "stderr",
     "output_type": "stream",
     "text": [
      "\r",
      " 61%|█████████████████████████████████████████████████▌                               | 63/103 [00:39<00:24,  1.63it/s]"
     ]
    },
    {
     "name": "stdout",
     "output_type": "stream",
     "text": [
      "WARNING:tensorflow:11 out of the last 11 calls to <function _make_execution_function.<locals>.distributed_function at 0x000002060D2E8C18> triggered tf.function retracing. Tracing is expensive and the excessive number of tracings is likely due to passing python objects instead of tensors. Also, tf.function has experimental_relax_shapes=True option that relaxes argument shapes that can avoid unnecessary retracing. Please refer to https://www.tensorflow.org/beta/tutorials/eager/tf_function#python_or_tensor_args and https://www.tensorflow.org/api_docs/python/tf/function for more details.\n"
     ]
    },
    {
     "name": "stderr",
     "output_type": "stream",
     "text": [
      "\r",
      " 62%|██████████████████████████████████████████████████▎                              | 64/103 [00:40<00:23,  1.65it/s]"
     ]
    },
    {
     "name": "stdout",
     "output_type": "stream",
     "text": [
      "WARNING:tensorflow:11 out of the last 11 calls to <function _make_execution_function.<locals>.distributed_function at 0x000002060D2E8C18> triggered tf.function retracing. Tracing is expensive and the excessive number of tracings is likely due to passing python objects instead of tensors. Also, tf.function has experimental_relax_shapes=True option that relaxes argument shapes that can avoid unnecessary retracing. Please refer to https://www.tensorflow.org/beta/tutorials/eager/tf_function#python_or_tensor_args and https://www.tensorflow.org/api_docs/python/tf/function for more details.\n"
     ]
    },
    {
     "name": "stderr",
     "output_type": "stream",
     "text": [
      "\r",
      " 63%|███████████████████████████████████████████████████                              | 65/103 [00:40<00:22,  1.65it/s]"
     ]
    },
    {
     "name": "stdout",
     "output_type": "stream",
     "text": [
      "WARNING:tensorflow:11 out of the last 11 calls to <function _make_execution_function.<locals>.distributed_function at 0x000002060D2E8C18> triggered tf.function retracing. Tracing is expensive and the excessive number of tracings is likely due to passing python objects instead of tensors. Also, tf.function has experimental_relax_shapes=True option that relaxes argument shapes that can avoid unnecessary retracing. Please refer to https://www.tensorflow.org/beta/tutorials/eager/tf_function#python_or_tensor_args and https://www.tensorflow.org/api_docs/python/tf/function for more details.\n"
     ]
    },
    {
     "name": "stderr",
     "output_type": "stream",
     "text": [
      "\r",
      " 64%|███████████████████████████████████████████████████▉                             | 66/103 [00:41<00:22,  1.63it/s]"
     ]
    },
    {
     "name": "stdout",
     "output_type": "stream",
     "text": [
      "WARNING:tensorflow:11 out of the last 11 calls to <function _make_execution_function.<locals>.distributed_function at 0x000002060D2E8C18> triggered tf.function retracing. Tracing is expensive and the excessive number of tracings is likely due to passing python objects instead of tensors. Also, tf.function has experimental_relax_shapes=True option that relaxes argument shapes that can avoid unnecessary retracing. Please refer to https://www.tensorflow.org/beta/tutorials/eager/tf_function#python_or_tensor_args and https://www.tensorflow.org/api_docs/python/tf/function for more details.\n"
     ]
    },
    {
     "name": "stderr",
     "output_type": "stream",
     "text": [
      "\r",
      " 65%|████████████████████████████████████████████████████▋                            | 67/103 [00:42<00:21,  1.65it/s]"
     ]
    },
    {
     "name": "stdout",
     "output_type": "stream",
     "text": [
      "WARNING:tensorflow:11 out of the last 11 calls to <function _make_execution_function.<locals>.distributed_function at 0x000002060D2E8C18> triggered tf.function retracing. Tracing is expensive and the excessive number of tracings is likely due to passing python objects instead of tensors. Also, tf.function has experimental_relax_shapes=True option that relaxes argument shapes that can avoid unnecessary retracing. Please refer to https://www.tensorflow.org/beta/tutorials/eager/tf_function#python_or_tensor_args and https://www.tensorflow.org/api_docs/python/tf/function for more details.\n"
     ]
    },
    {
     "name": "stderr",
     "output_type": "stream",
     "text": [
      "\r",
      " 66%|█████████████████████████████████████████████████████▍                           | 68/103 [00:42<00:21,  1.66it/s]"
     ]
    },
    {
     "name": "stdout",
     "output_type": "stream",
     "text": [
      "WARNING:tensorflow:11 out of the last 11 calls to <function _make_execution_function.<locals>.distributed_function at 0x000002060D2E8C18> triggered tf.function retracing. Tracing is expensive and the excessive number of tracings is likely due to passing python objects instead of tensors. Also, tf.function has experimental_relax_shapes=True option that relaxes argument shapes that can avoid unnecessary retracing. Please refer to https://www.tensorflow.org/beta/tutorials/eager/tf_function#python_or_tensor_args and https://www.tensorflow.org/api_docs/python/tf/function for more details.\n"
     ]
    },
    {
     "name": "stderr",
     "output_type": "stream",
     "text": [
      "\r",
      " 67%|██████████████████████████████████████████████████████▎                          | 69/103 [00:43<00:20,  1.68it/s]"
     ]
    },
    {
     "name": "stdout",
     "output_type": "stream",
     "text": [
      "WARNING:tensorflow:11 out of the last 11 calls to <function _make_execution_function.<locals>.distributed_function at 0x000002060D2E8C18> triggered tf.function retracing. Tracing is expensive and the excessive number of tracings is likely due to passing python objects instead of tensors. Also, tf.function has experimental_relax_shapes=True option that relaxes argument shapes that can avoid unnecessary retracing. Please refer to https://www.tensorflow.org/beta/tutorials/eager/tf_function#python_or_tensor_args and https://www.tensorflow.org/api_docs/python/tf/function for more details.\n"
     ]
    },
    {
     "name": "stderr",
     "output_type": "stream",
     "text": [
      "\r",
      " 68%|███████████████████████████████████████████████████████                          | 70/103 [00:43<00:19,  1.67it/s]"
     ]
    },
    {
     "name": "stdout",
     "output_type": "stream",
     "text": [
      "WARNING:tensorflow:11 out of the last 11 calls to <function _make_execution_function.<locals>.distributed_function at 0x000002060D2E8C18> triggered tf.function retracing. Tracing is expensive and the excessive number of tracings is likely due to passing python objects instead of tensors. Also, tf.function has experimental_relax_shapes=True option that relaxes argument shapes that can avoid unnecessary retracing. Please refer to https://www.tensorflow.org/beta/tutorials/eager/tf_function#python_or_tensor_args and https://www.tensorflow.org/api_docs/python/tf/function for more details.\n"
     ]
    },
    {
     "name": "stderr",
     "output_type": "stream",
     "text": [
      "\r",
      " 69%|███████████████████████████████████████████████████████▊                         | 71/103 [01:41<09:29, 17.79s/it]"
     ]
    },
    {
     "name": "stdout",
     "output_type": "stream",
     "text": [
      "WARNING:tensorflow:11 out of the last 11 calls to <function _make_execution_function.<locals>.distributed_function at 0x000002060D2E8C18> triggered tf.function retracing. Tracing is expensive and the excessive number of tracings is likely due to passing python objects instead of tensors. Also, tf.function has experimental_relax_shapes=True option that relaxes argument shapes that can avoid unnecessary retracing. Please refer to https://www.tensorflow.org/beta/tutorials/eager/tf_function#python_or_tensor_args and https://www.tensorflow.org/api_docs/python/tf/function for more details.\n"
     ]
    },
    {
     "name": "stderr",
     "output_type": "stream",
     "text": [
      "\r",
      " 70%|████████████████████████████████████████████████████████▌                        | 72/103 [01:42<06:32, 12.66s/it]"
     ]
    },
    {
     "name": "stdout",
     "output_type": "stream",
     "text": [
      "WARNING:tensorflow:11 out of the last 11 calls to <function _make_execution_function.<locals>.distributed_function at 0x000002060D2E8C18> triggered tf.function retracing. Tracing is expensive and the excessive number of tracings is likely due to passing python objects instead of tensors. Also, tf.function has experimental_relax_shapes=True option that relaxes argument shapes that can avoid unnecessary retracing. Please refer to https://www.tensorflow.org/beta/tutorials/eager/tf_function#python_or_tensor_args and https://www.tensorflow.org/api_docs/python/tf/function for more details.\n"
     ]
    },
    {
     "name": "stderr",
     "output_type": "stream",
     "text": [
      "\r",
      " 71%|█████████████████████████████████████████████████████████▍                       | 73/103 [01:43<04:31,  9.07s/it]"
     ]
    },
    {
     "name": "stdout",
     "output_type": "stream",
     "text": [
      "WARNING:tensorflow:11 out of the last 11 calls to <function _make_execution_function.<locals>.distributed_function at 0x000002060D2E8C18> triggered tf.function retracing. Tracing is expensive and the excessive number of tracings is likely due to passing python objects instead of tensors. Also, tf.function has experimental_relax_shapes=True option that relaxes argument shapes that can avoid unnecessary retracing. Please refer to https://www.tensorflow.org/beta/tutorials/eager/tf_function#python_or_tensor_args and https://www.tensorflow.org/api_docs/python/tf/function for more details.\n"
     ]
    },
    {
     "name": "stderr",
     "output_type": "stream",
     "text": [
      "\r",
      " 72%|██████████████████████████████████████████████████████████▏                      | 74/103 [01:43<03:09,  6.54s/it]"
     ]
    },
    {
     "name": "stdout",
     "output_type": "stream",
     "text": [
      "WARNING:tensorflow:11 out of the last 11 calls to <function _make_execution_function.<locals>.distributed_function at 0x000002060D2E8C18> triggered tf.function retracing. Tracing is expensive and the excessive number of tracings is likely due to passing python objects instead of tensors. Also, tf.function has experimental_relax_shapes=True option that relaxes argument shapes that can avoid unnecessary retracing. Please refer to https://www.tensorflow.org/beta/tutorials/eager/tf_function#python_or_tensor_args and https://www.tensorflow.org/api_docs/python/tf/function for more details.\n"
     ]
    },
    {
     "name": "stderr",
     "output_type": "stream",
     "text": [
      "\r",
      " 73%|██████████████████████████████████████████████████████████▉                      | 75/103 [01:44<02:13,  4.77s/it]"
     ]
    },
    {
     "name": "stdout",
     "output_type": "stream",
     "text": [
      "WARNING:tensorflow:11 out of the last 11 calls to <function _make_execution_function.<locals>.distributed_function at 0x000002060D2E8C18> triggered tf.function retracing. Tracing is expensive and the excessive number of tracings is likely due to passing python objects instead of tensors. Also, tf.function has experimental_relax_shapes=True option that relaxes argument shapes that can avoid unnecessary retracing. Please refer to https://www.tensorflow.org/beta/tutorials/eager/tf_function#python_or_tensor_args and https://www.tensorflow.org/api_docs/python/tf/function for more details.\n"
     ]
    },
    {
     "name": "stderr",
     "output_type": "stream",
     "text": [
      "\r",
      " 74%|███████████████████████████████████████████████████████████▊                     | 76/103 [01:44<01:35,  3.53s/it]"
     ]
    },
    {
     "name": "stdout",
     "output_type": "stream",
     "text": [
      "WARNING:tensorflow:11 out of the last 11 calls to <function _make_execution_function.<locals>.distributed_function at 0x000002060D2E8C18> triggered tf.function retracing. Tracing is expensive and the excessive number of tracings is likely due to passing python objects instead of tensors. Also, tf.function has experimental_relax_shapes=True option that relaxes argument shapes that can avoid unnecessary retracing. Please refer to https://www.tensorflow.org/beta/tutorials/eager/tf_function#python_or_tensor_args and https://www.tensorflow.org/api_docs/python/tf/function for more details.\n"
     ]
    },
    {
     "name": "stderr",
     "output_type": "stream",
     "text": [
      "\r",
      " 75%|████████████████████████████████████████████████████████████▌                    | 77/103 [01:45<01:09,  2.66s/it]"
     ]
    },
    {
     "name": "stdout",
     "output_type": "stream",
     "text": [
      "WARNING:tensorflow:11 out of the last 11 calls to <function _make_execution_function.<locals>.distributed_function at 0x000002060D2E8C18> triggered tf.function retracing. Tracing is expensive and the excessive number of tracings is likely due to passing python objects instead of tensors. Also, tf.function has experimental_relax_shapes=True option that relaxes argument shapes that can avoid unnecessary retracing. Please refer to https://www.tensorflow.org/beta/tutorials/eager/tf_function#python_or_tensor_args and https://www.tensorflow.org/api_docs/python/tf/function for more details.\n"
     ]
    },
    {
     "name": "stderr",
     "output_type": "stream",
     "text": [
      "\r",
      " 76%|█████████████████████████████████████████████████████████████▎                   | 78/103 [01:46<00:51,  2.06s/it]"
     ]
    },
    {
     "name": "stdout",
     "output_type": "stream",
     "text": [
      "WARNING:tensorflow:11 out of the last 11 calls to <function _make_execution_function.<locals>.distributed_function at 0x000002060D2E8C18> triggered tf.function retracing. Tracing is expensive and the excessive number of tracings is likely due to passing python objects instead of tensors. Also, tf.function has experimental_relax_shapes=True option that relaxes argument shapes that can avoid unnecessary retracing. Please refer to https://www.tensorflow.org/beta/tutorials/eager/tf_function#python_or_tensor_args and https://www.tensorflow.org/api_docs/python/tf/function for more details.\n"
     ]
    },
    {
     "name": "stderr",
     "output_type": "stream",
     "text": [
      "\r",
      " 77%|██████████████████████████████████████████████████████████████▏                  | 79/103 [01:46<00:39,  1.63s/it]"
     ]
    },
    {
     "name": "stdout",
     "output_type": "stream",
     "text": [
      "WARNING:tensorflow:11 out of the last 11 calls to <function _make_execution_function.<locals>.distributed_function at 0x000002060D2E8C18> triggered tf.function retracing. Tracing is expensive and the excessive number of tracings is likely due to passing python objects instead of tensors. Also, tf.function has experimental_relax_shapes=True option that relaxes argument shapes that can avoid unnecessary retracing. Please refer to https://www.tensorflow.org/beta/tutorials/eager/tf_function#python_or_tensor_args and https://www.tensorflow.org/api_docs/python/tf/function for more details.\n"
     ]
    },
    {
     "name": "stderr",
     "output_type": "stream",
     "text": [
      "\r",
      " 78%|██████████████████████████████████████████████████████████████▉                  | 80/103 [01:47<00:30,  1.32s/it]"
     ]
    },
    {
     "name": "stdout",
     "output_type": "stream",
     "text": [
      "WARNING:tensorflow:11 out of the last 11 calls to <function _make_execution_function.<locals>.distributed_function at 0x000002060D2E8C18> triggered tf.function retracing. Tracing is expensive and the excessive number of tracings is likely due to passing python objects instead of tensors. Also, tf.function has experimental_relax_shapes=True option that relaxes argument shapes that can avoid unnecessary retracing. Please refer to https://www.tensorflow.org/beta/tutorials/eager/tf_function#python_or_tensor_args and https://www.tensorflow.org/api_docs/python/tf/function for more details.\n"
     ]
    },
    {
     "name": "stderr",
     "output_type": "stream",
     "text": [
      "\r",
      " 79%|███████████████████████████████████████████████████████████████▋                 | 81/103 [01:48<00:24,  1.12s/it]"
     ]
    },
    {
     "name": "stdout",
     "output_type": "stream",
     "text": [
      "WARNING:tensorflow:11 out of the last 11 calls to <function _make_execution_function.<locals>.distributed_function at 0x000002060D2E8C18> triggered tf.function retracing. Tracing is expensive and the excessive number of tracings is likely due to passing python objects instead of tensors. Also, tf.function has experimental_relax_shapes=True option that relaxes argument shapes that can avoid unnecessary retracing. Please refer to https://www.tensorflow.org/beta/tutorials/eager/tf_function#python_or_tensor_args and https://www.tensorflow.org/api_docs/python/tf/function for more details.\n"
     ]
    },
    {
     "name": "stderr",
     "output_type": "stream",
     "text": [
      "\r",
      " 80%|████████████████████████████████████████████████████████████████▍                | 82/103 [01:48<00:20,  1.02it/s]"
     ]
    },
    {
     "name": "stdout",
     "output_type": "stream",
     "text": [
      "WARNING:tensorflow:11 out of the last 11 calls to <function _make_execution_function.<locals>.distributed_function at 0x000002060D2E8C18> triggered tf.function retracing. Tracing is expensive and the excessive number of tracings is likely due to passing python objects instead of tensors. Also, tf.function has experimental_relax_shapes=True option that relaxes argument shapes that can avoid unnecessary retracing. Please refer to https://www.tensorflow.org/beta/tutorials/eager/tf_function#python_or_tensor_args and https://www.tensorflow.org/api_docs/python/tf/function for more details.\n"
     ]
    },
    {
     "name": "stderr",
     "output_type": "stream",
     "text": [
      "\r",
      " 81%|█████████████████████████████████████████████████████████████████▎               | 83/103 [01:49<00:17,  1.12it/s]"
     ]
    },
    {
     "name": "stdout",
     "output_type": "stream",
     "text": [
      "WARNING:tensorflow:11 out of the last 11 calls to <function _make_execution_function.<locals>.distributed_function at 0x000002060D2E8C18> triggered tf.function retracing. Tracing is expensive and the excessive number of tracings is likely due to passing python objects instead of tensors. Also, tf.function has experimental_relax_shapes=True option that relaxes argument shapes that can avoid unnecessary retracing. Please refer to https://www.tensorflow.org/beta/tutorials/eager/tf_function#python_or_tensor_args and https://www.tensorflow.org/api_docs/python/tf/function for more details.\n"
     ]
    },
    {
     "name": "stderr",
     "output_type": "stream",
     "text": [
      "\r",
      " 82%|██████████████████████████████████████████████████████████████████               | 84/103 [01:50<00:15,  1.21it/s]"
     ]
    },
    {
     "name": "stdout",
     "output_type": "stream",
     "text": [
      "WARNING:tensorflow:11 out of the last 11 calls to <function _make_execution_function.<locals>.distributed_function at 0x000002060D2E8C18> triggered tf.function retracing. Tracing is expensive and the excessive number of tracings is likely due to passing python objects instead of tensors. Also, tf.function has experimental_relax_shapes=True option that relaxes argument shapes that can avoid unnecessary retracing. Please refer to https://www.tensorflow.org/beta/tutorials/eager/tf_function#python_or_tensor_args and https://www.tensorflow.org/api_docs/python/tf/function for more details.\n"
     ]
    },
    {
     "name": "stderr",
     "output_type": "stream",
     "text": [
      "\r",
      " 83%|██████████████████████████████████████████████████████████████████▊              | 85/103 [01:50<00:13,  1.31it/s]"
     ]
    },
    {
     "name": "stdout",
     "output_type": "stream",
     "text": [
      "WARNING:tensorflow:11 out of the last 11 calls to <function _make_execution_function.<locals>.distributed_function at 0x000002060D2E8C18> triggered tf.function retracing. Tracing is expensive and the excessive number of tracings is likely due to passing python objects instead of tensors. Also, tf.function has experimental_relax_shapes=True option that relaxes argument shapes that can avoid unnecessary retracing. Please refer to https://www.tensorflow.org/beta/tutorials/eager/tf_function#python_or_tensor_args and https://www.tensorflow.org/api_docs/python/tf/function for more details.\n"
     ]
    },
    {
     "name": "stderr",
     "output_type": "stream",
     "text": [
      "\r",
      " 83%|███████████████████████████████████████████████████████████████████▋             | 86/103 [01:51<00:12,  1.39it/s]"
     ]
    },
    {
     "name": "stdout",
     "output_type": "stream",
     "text": [
      "WARNING:tensorflow:11 out of the last 11 calls to <function _make_execution_function.<locals>.distributed_function at 0x000002060D2E8C18> triggered tf.function retracing. Tracing is expensive and the excessive number of tracings is likely due to passing python objects instead of tensors. Also, tf.function has experimental_relax_shapes=True option that relaxes argument shapes that can avoid unnecessary retracing. Please refer to https://www.tensorflow.org/beta/tutorials/eager/tf_function#python_or_tensor_args and https://www.tensorflow.org/api_docs/python/tf/function for more details.\n"
     ]
    },
    {
     "name": "stderr",
     "output_type": "stream",
     "text": [
      "\r",
      " 84%|████████████████████████████████████████████████████████████████████▍            | 87/103 [01:52<00:10,  1.46it/s]"
     ]
    },
    {
     "name": "stdout",
     "output_type": "stream",
     "text": [
      "WARNING:tensorflow:11 out of the last 11 calls to <function _make_execution_function.<locals>.distributed_function at 0x000002060D2E8C18> triggered tf.function retracing. Tracing is expensive and the excessive number of tracings is likely due to passing python objects instead of tensors. Also, tf.function has experimental_relax_shapes=True option that relaxes argument shapes that can avoid unnecessary retracing. Please refer to https://www.tensorflow.org/beta/tutorials/eager/tf_function#python_or_tensor_args and https://www.tensorflow.org/api_docs/python/tf/function for more details.\n"
     ]
    },
    {
     "name": "stderr",
     "output_type": "stream",
     "text": [
      "\r",
      " 85%|█████████████████████████████████████████████████████████████████████▏           | 88/103 [01:52<00:10,  1.46it/s]"
     ]
    },
    {
     "name": "stdout",
     "output_type": "stream",
     "text": [
      "WARNING:tensorflow:11 out of the last 11 calls to <function _make_execution_function.<locals>.distributed_function at 0x000002060D2E8C18> triggered tf.function retracing. Tracing is expensive and the excessive number of tracings is likely due to passing python objects instead of tensors. Also, tf.function has experimental_relax_shapes=True option that relaxes argument shapes that can avoid unnecessary retracing. Please refer to https://www.tensorflow.org/beta/tutorials/eager/tf_function#python_or_tensor_args and https://www.tensorflow.org/api_docs/python/tf/function for more details.\n"
     ]
    },
    {
     "name": "stderr",
     "output_type": "stream",
     "text": [
      "\r",
      " 86%|█████████████████████████████████████████████████████████████████████▉           | 89/103 [01:53<00:09,  1.47it/s]"
     ]
    },
    {
     "name": "stdout",
     "output_type": "stream",
     "text": [
      "WARNING:tensorflow:11 out of the last 11 calls to <function _make_execution_function.<locals>.distributed_function at 0x000002060D2E8C18> triggered tf.function retracing. Tracing is expensive and the excessive number of tracings is likely due to passing python objects instead of tensors. Also, tf.function has experimental_relax_shapes=True option that relaxes argument shapes that can avoid unnecessary retracing. Please refer to https://www.tensorflow.org/beta/tutorials/eager/tf_function#python_or_tensor_args and https://www.tensorflow.org/api_docs/python/tf/function for more details.\n"
     ]
    },
    {
     "name": "stderr",
     "output_type": "stream",
     "text": [
      "\r",
      " 87%|██████████████████████████████████████████████████████████████████████▊          | 90/103 [01:54<00:09,  1.35it/s]"
     ]
    },
    {
     "name": "stdout",
     "output_type": "stream",
     "text": [
      "WARNING:tensorflow:11 out of the last 11 calls to <function _make_execution_function.<locals>.distributed_function at 0x000002060D2E8C18> triggered tf.function retracing. Tracing is expensive and the excessive number of tracings is likely due to passing python objects instead of tensors. Also, tf.function has experimental_relax_shapes=True option that relaxes argument shapes that can avoid unnecessary retracing. Please refer to https://www.tensorflow.org/beta/tutorials/eager/tf_function#python_or_tensor_args and https://www.tensorflow.org/api_docs/python/tf/function for more details.\n"
     ]
    },
    {
     "name": "stderr",
     "output_type": "stream",
     "text": [
      "\r",
      " 88%|███████████████████████████████████████████████████████████████████████▌         | 91/103 [01:54<00:08,  1.39it/s]"
     ]
    },
    {
     "name": "stdout",
     "output_type": "stream",
     "text": [
      "WARNING:tensorflow:11 out of the last 11 calls to <function _make_execution_function.<locals>.distributed_function at 0x000002060D2E8C18> triggered tf.function retracing. Tracing is expensive and the excessive number of tracings is likely due to passing python objects instead of tensors. Also, tf.function has experimental_relax_shapes=True option that relaxes argument shapes that can avoid unnecessary retracing. Please refer to https://www.tensorflow.org/beta/tutorials/eager/tf_function#python_or_tensor_args and https://www.tensorflow.org/api_docs/python/tf/function for more details.\n"
     ]
    },
    {
     "name": "stderr",
     "output_type": "stream",
     "text": [
      "\r",
      " 89%|████████████████████████████████████████████████████████████████████████▎        | 92/103 [01:55<00:07,  1.45it/s]"
     ]
    },
    {
     "name": "stdout",
     "output_type": "stream",
     "text": [
      "WARNING:tensorflow:11 out of the last 11 calls to <function _make_execution_function.<locals>.distributed_function at 0x000002060D2E8C18> triggered tf.function retracing. Tracing is expensive and the excessive number of tracings is likely due to passing python objects instead of tensors. Also, tf.function has experimental_relax_shapes=True option that relaxes argument shapes that can avoid unnecessary retracing. Please refer to https://www.tensorflow.org/beta/tutorials/eager/tf_function#python_or_tensor_args and https://www.tensorflow.org/api_docs/python/tf/function for more details.\n"
     ]
    },
    {
     "name": "stderr",
     "output_type": "stream",
     "text": [
      "\r",
      " 90%|█████████████████████████████████████████████████████████████████████████▏       | 93/103 [01:56<00:06,  1.49it/s]"
     ]
    },
    {
     "name": "stdout",
     "output_type": "stream",
     "text": [
      "WARNING:tensorflow:11 out of the last 11 calls to <function _make_execution_function.<locals>.distributed_function at 0x000002060D2E8C18> triggered tf.function retracing. Tracing is expensive and the excessive number of tracings is likely due to passing python objects instead of tensors. Also, tf.function has experimental_relax_shapes=True option that relaxes argument shapes that can avoid unnecessary retracing. Please refer to https://www.tensorflow.org/beta/tutorials/eager/tf_function#python_or_tensor_args and https://www.tensorflow.org/api_docs/python/tf/function for more details.\n"
     ]
    },
    {
     "name": "stderr",
     "output_type": "stream",
     "text": [
      "\r",
      " 91%|█████████████████████████████████████████████████████████████████████████▉       | 94/103 [01:56<00:05,  1.51it/s]"
     ]
    },
    {
     "name": "stdout",
     "output_type": "stream",
     "text": [
      "WARNING:tensorflow:11 out of the last 11 calls to <function _make_execution_function.<locals>.distributed_function at 0x000002060D2E8C18> triggered tf.function retracing. Tracing is expensive and the excessive number of tracings is likely due to passing python objects instead of tensors. Also, tf.function has experimental_relax_shapes=True option that relaxes argument shapes that can avoid unnecessary retracing. Please refer to https://www.tensorflow.org/beta/tutorials/eager/tf_function#python_or_tensor_args and https://www.tensorflow.org/api_docs/python/tf/function for more details.\n"
     ]
    },
    {
     "name": "stderr",
     "output_type": "stream",
     "text": [
      "\r",
      " 92%|██████████████████████████████████████████████████████████████████████████▋      | 95/103 [01:57<00:05,  1.53it/s]"
     ]
    },
    {
     "name": "stdout",
     "output_type": "stream",
     "text": [
      "WARNING:tensorflow:11 out of the last 11 calls to <function _make_execution_function.<locals>.distributed_function at 0x000002060D2E8C18> triggered tf.function retracing. Tracing is expensive and the excessive number of tracings is likely due to passing python objects instead of tensors. Also, tf.function has experimental_relax_shapes=True option that relaxes argument shapes that can avoid unnecessary retracing. Please refer to https://www.tensorflow.org/beta/tutorials/eager/tf_function#python_or_tensor_args and https://www.tensorflow.org/api_docs/python/tf/function for more details.\n"
     ]
    },
    {
     "name": "stderr",
     "output_type": "stream",
     "text": [
      "\r",
      " 93%|███████████████████████████████████████████████████████████████████████████▍     | 96/103 [01:58<00:04,  1.55it/s]"
     ]
    },
    {
     "name": "stdout",
     "output_type": "stream",
     "text": [
      "WARNING:tensorflow:11 out of the last 11 calls to <function _make_execution_function.<locals>.distributed_function at 0x000002060D2E8C18> triggered tf.function retracing. Tracing is expensive and the excessive number of tracings is likely due to passing python objects instead of tensors. Also, tf.function has experimental_relax_shapes=True option that relaxes argument shapes that can avoid unnecessary retracing. Please refer to https://www.tensorflow.org/beta/tutorials/eager/tf_function#python_or_tensor_args and https://www.tensorflow.org/api_docs/python/tf/function for more details.\n"
     ]
    },
    {
     "name": "stderr",
     "output_type": "stream",
     "text": [
      "\r",
      " 94%|████████████████████████████████████████████████████████████████████████████▎    | 97/103 [01:58<00:03,  1.59it/s]"
     ]
    },
    {
     "name": "stdout",
     "output_type": "stream",
     "text": [
      "WARNING:tensorflow:11 out of the last 11 calls to <function _make_execution_function.<locals>.distributed_function at 0x000002060D2E8C18> triggered tf.function retracing. Tracing is expensive and the excessive number of tracings is likely due to passing python objects instead of tensors. Also, tf.function has experimental_relax_shapes=True option that relaxes argument shapes that can avoid unnecessary retracing. Please refer to https://www.tensorflow.org/beta/tutorials/eager/tf_function#python_or_tensor_args and https://www.tensorflow.org/api_docs/python/tf/function for more details.\n"
     ]
    },
    {
     "name": "stderr",
     "output_type": "stream",
     "text": [
      "\r",
      " 95%|█████████████████████████████████████████████████████████████████████████████    | 98/103 [01:59<00:03,  1.56it/s]"
     ]
    },
    {
     "name": "stdout",
     "output_type": "stream",
     "text": [
      "WARNING:tensorflow:11 out of the last 11 calls to <function _make_execution_function.<locals>.distributed_function at 0x000002060D2E8C18> triggered tf.function retracing. Tracing is expensive and the excessive number of tracings is likely due to passing python objects instead of tensors. Also, tf.function has experimental_relax_shapes=True option that relaxes argument shapes that can avoid unnecessary retracing. Please refer to https://www.tensorflow.org/beta/tutorials/eager/tf_function#python_or_tensor_args and https://www.tensorflow.org/api_docs/python/tf/function for more details.\n"
     ]
    },
    {
     "name": "stderr",
     "output_type": "stream",
     "text": [
      "\r",
      " 96%|█████████████████████████████████████████████████████████████████████████████▊   | 99/103 [01:59<00:02,  1.56it/s]"
     ]
    },
    {
     "name": "stdout",
     "output_type": "stream",
     "text": [
      "WARNING:tensorflow:11 out of the last 11 calls to <function _make_execution_function.<locals>.distributed_function at 0x000002060D2E8C18> triggered tf.function retracing. Tracing is expensive and the excessive number of tracings is likely due to passing python objects instead of tensors. Also, tf.function has experimental_relax_shapes=True option that relaxes argument shapes that can avoid unnecessary retracing. Please refer to https://www.tensorflow.org/beta/tutorials/eager/tf_function#python_or_tensor_args and https://www.tensorflow.org/api_docs/python/tf/function for more details.\n"
     ]
    },
    {
     "name": "stderr",
     "output_type": "stream",
     "text": [
      "\r",
      " 97%|█████████████████████████████████████████████████████████████████████████████▋  | 100/103 [02:00<00:02,  1.48it/s]"
     ]
    },
    {
     "name": "stdout",
     "output_type": "stream",
     "text": [
      "WARNING:tensorflow:11 out of the last 11 calls to <function _make_execution_function.<locals>.distributed_function at 0x000002060D2E8C18> triggered tf.function retracing. Tracing is expensive and the excessive number of tracings is likely due to passing python objects instead of tensors. Also, tf.function has experimental_relax_shapes=True option that relaxes argument shapes that can avoid unnecessary retracing. Please refer to https://www.tensorflow.org/beta/tutorials/eager/tf_function#python_or_tensor_args and https://www.tensorflow.org/api_docs/python/tf/function for more details.\n"
     ]
    },
    {
     "name": "stderr",
     "output_type": "stream",
     "text": [
      "\r",
      " 98%|██████████████████████████████████████████████████████████████████████████████▍ | 101/103 [02:01<00:01,  1.45it/s]"
     ]
    },
    {
     "name": "stdout",
     "output_type": "stream",
     "text": [
      "WARNING:tensorflow:11 out of the last 11 calls to <function _make_execution_function.<locals>.distributed_function at 0x000002060D2E8C18> triggered tf.function retracing. Tracing is expensive and the excessive number of tracings is likely due to passing python objects instead of tensors. Also, tf.function has experimental_relax_shapes=True option that relaxes argument shapes that can avoid unnecessary retracing. Please refer to https://www.tensorflow.org/beta/tutorials/eager/tf_function#python_or_tensor_args and https://www.tensorflow.org/api_docs/python/tf/function for more details.\n"
     ]
    },
    {
     "name": "stderr",
     "output_type": "stream",
     "text": [
      "\r",
      " 99%|███████████████████████████████████████████████████████████████████████████████▏| 102/103 [02:02<00:00,  1.49it/s]"
     ]
    },
    {
     "name": "stdout",
     "output_type": "stream",
     "text": [
      "WARNING:tensorflow:11 out of the last 11 calls to <function _make_execution_function.<locals>.distributed_function at 0x000002060D2E8C18> triggered tf.function retracing. Tracing is expensive and the excessive number of tracings is likely due to passing python objects instead of tensors. Also, tf.function has experimental_relax_shapes=True option that relaxes argument shapes that can avoid unnecessary retracing. Please refer to https://www.tensorflow.org/beta/tutorials/eager/tf_function#python_or_tensor_args and https://www.tensorflow.org/api_docs/python/tf/function for more details.\n"
     ]
    },
    {
     "name": "stderr",
     "output_type": "stream",
     "text": [
      "100%|████████████████████████████████████████████████████████████████████████████████| 103/103 [02:02<00:00,  1.19s/it]\n"
     ]
    },
    {
     "name": "stdout",
     "output_type": "stream",
     "text": [
      "test f1: 0.28908920172348745 test acc: 0.3088996763754045 mae: 0.26916958876315816 loss: 2.9268433515307946\n",
      "Running test on subject ...\n"
     ]
    },
    {
     "name": "stderr",
     "output_type": "stream",
     "text": [
      "100%|████████████████████████████████████████████████████████████████████████████████| 103/103 [00:09<00:00, 10.70it/s]\n"
     ]
    },
    {
     "name": "stdout",
     "output_type": "stream",
     "text": [
      "test f1: 0.28908920172348745 test acc: 0.3063106796116504 mae: 0.26916958876315816 loss: 2.9268433515307946\n",
      "Running test on subject ...\n"
     ]
    },
    {
     "name": "stderr",
     "output_type": "stream",
     "text": [
      "100%|████████████████████████████████████████████████████████████████████████████████| 103/103 [00:09<00:00, 10.73it/s]\n"
     ]
    },
    {
     "name": "stdout",
     "output_type": "stream",
     "text": [
      "test f1: 0.28908920172348745 test acc: 0.2988673139158575 mae: 0.26916958876315816 loss: 2.9268433515307946\n",
      "Running test on subject ...\n"
     ]
    },
    {
     "name": "stderr",
     "output_type": "stream",
     "text": [
      "100%|████████████████████████████████████████████████████████████████████████████████| 103/103 [00:08<00:00, 11.51it/s]\n"
     ]
    },
    {
     "name": "stdout",
     "output_type": "stream",
     "text": [
      "test f1: 0.28908920172348745 test acc: 0.29514563106796105 mae: 0.26916958876315816 loss: 2.9268433515307946\n",
      "Running test on subject ...\n"
     ]
    },
    {
     "name": "stderr",
     "output_type": "stream",
     "text": [
      "100%|████████████████████████████████████████████████████████████████████████████████| 103/103 [00:09<00:00, 10.78it/s]\n"
     ]
    },
    {
     "name": "stdout",
     "output_type": "stream",
     "text": [
      "test f1: 0.28908920172348745 test acc: 0.2726537216828478 mae: 0.26916958876315816 loss: 2.9268433515307946\n",
      "--------------------report----------------------\n",
      "th: 0.28 TR: ['X2', 'X3']   TS: X1 acc1: 0.6791458161104291 acc2: 0.5737478296154906 test_acc: 0.23125000000000007\n",
      "th: 0.3 TR: ['X2', 'X3']   TS: X1 acc1: 0.6791458161104291 acc2: 0.5737478296154906 test_acc: 0.22812500000000008\n",
      "th: 0.33 TR: ['X2', 'X3']   TS: X1 acc1: 0.6791458161104291 acc2: 0.5737478296154906 test_acc: 0.23375000000000012\n",
      "th: 0.35 TR: ['X2', 'X3']   TS: X1 acc1: 0.6791458161104291 acc2: 0.5737478296154906 test_acc: 0.23375000000000012\n",
      "th: 0.4 TR: ['X2', 'X3']   TS: X1 acc1: 0.6791458161104291 acc2: 0.5737478296154906 test_acc: 0.22708333333333341\n",
      "th: 0.28 TR: ['X1', 'X3']   TS: X2 acc1: 0.6291665937751528 acc2: 0.6972953529612527 test_acc: 0.2371655328798185\n",
      "th: 0.3 TR: ['X1', 'X3']   TS: X2 acc1: 0.6291665937751528 acc2: 0.6972953529612527 test_acc: 0.22698412698412693\n",
      "th: 0.33 TR: ['X1', 'X3']   TS: X2 acc1: 0.6291665937751528 acc2: 0.6972953529612527 test_acc: 0.21269841269841272\n",
      "th: 0.35 TR: ['X1', 'X3']   TS: X2 acc1: 0.6291665937751528 acc2: 0.6972953529612527 test_acc: 0.2074603174603175\n",
      "th: 0.4 TR: ['X1', 'X3']   TS: X2 acc1: 0.6291665937751528 acc2: 0.6972953529612527 test_acc: 0.19666666666666666\n",
      "th: 0.28 TR: ['X1', 'X2']   TS: X3 acc1: 0.6309523005038501 acc2: 0.6672561625639598 test_acc: 0.3088996763754045\n",
      "th: 0.3 TR: ['X1', 'X2']   TS: X3 acc1: 0.6309523005038501 acc2: 0.6672561625639598 test_acc: 0.3063106796116504\n",
      "th: 0.33 TR: ['X1', 'X2']   TS: X3 acc1: 0.6309523005038501 acc2: 0.6672561625639598 test_acc: 0.2988673139158575\n",
      "th: 0.35 TR: ['X1', 'X2']   TS: X3 acc1: 0.6309523005038501 acc2: 0.6672561625639598 test_acc: 0.29514563106796105\n",
      "th: 0.4 TR: ['X1', 'X2']   TS: X3 acc1: 0.6309523005038501 acc2: 0.6672561625639598 test_acc: 0.2726537216828478\n"
     ]
    }
   ],
   "source": [
    "# train on subject1\n",
    "# validate on subject2, 3\n",
    "\n",
    "from tqdm import tqdm\n",
    "\n",
    "report = []\n",
    "\n",
    "for xytst in [(X, y_ml_ohe, 'X1'), (X2, y_ml2_ohe, 'X2'), (X3, y_ml3_ohe, 'X3')]:\n",
    "    \n",
    "    simple_conv_task2 = create_model_task2()\n",
    "    \n",
    "    xytr = [a for a in [(X, y_ml_ohe, 'X1'), (X2, y_ml2_ohe, 'X2'), (X3, y_ml3_ohe, 'X3')] if a!=xytst]\n",
    "    \n",
    "    EPOCH = 15\n",
    "    train_split = 1.0\n",
    "    lr = 0.001\n",
    "\n",
    "    for e in range(EPOCH):\n",
    "        simple_conv_task2.compile(loss='binary_crossentropy', metrics=[get_f1, 'mae'], optimizer=Adam(learning_rate=lr))\n",
    "        simple_conv_task2, acc = train_task2(simple_conv_task2, xytr[0][0], xytr[0][1], 1, train_split)\n",
    "        lr /= 1.5\n",
    "        simple_conv_task2.compile(loss='mse', metrics=[get_f1, 'mae'], optimizer=Adam(learning_rate=lr))\n",
    "        simple_conv_task2, acc2 = train_task2(simple_conv_task2, xytr[1][0], xytr[1][1], 1, train_split)\n",
    "        lr /= 2.0\n",
    "    \n",
    "\n",
    "    print('-------------------------------------------------')\n",
    "    print('Test phase')\n",
    "    print(f'Testing {xytst[2]}')\n",
    "\n",
    "    for th in [0.28, 0.3, 0.33, 0.35, 0.4]:\n",
    "        t_acc = test_task2(simple_conv_task2, xytst[0], xytst[1], th)\n",
    "        report.append(f'th: {th} TR: {[a[2] for a in xytr]}   TS: {xytst[2]} acc1: {acc} acc2: {acc2} test_acc: {t_acc}')\n",
    "\n",
    "\n",
    "print('--------------------report----------------------')\n",
    "for ta in report:\n",
    "    print(ta)"
   ]
  },
  {
   "cell_type": "code",
   "execution_count": 140,
   "metadata": {},
   "outputs": [
    {
     "name": "stdout",
     "output_type": "stream",
     "text": [
      "Input tensors: [<tf.Tensor 'right_arm_ipX_44:0' shape=(None, None, 3) dtype=float32>, <tf.Tensor 'right_wrist_ipX_44:0' shape=(None, None, 3) dtype=float32>, <tf.Tensor 'left_hip_ipX_44:0' shape=(None, None, 3) dtype=float32>, <tf.Tensor 'left_wrist_ipX_44:0' shape=(None, None, 3) dtype=float32>]\n",
      "Training epoch 0 ...\n"
     ]
    },
    {
     "name": "stderr",
     "output_type": "stream",
     "text": [
      "100%|██████████████████████████████████████████████████████████████████████████████████| 80/80 [00:09<00:00,  8.85it/s]\n"
     ]
    },
    {
     "name": "stdout",
     "output_type": "stream",
     "text": [
      "f1: 0.2924305191263556 mae: 0.3585793050937356 loss: 5.480481177568436\n"
     ]
    },
    {
     "name": "stderr",
     "output_type": "stream",
     "text": [
      "0it [00:00, ?it/s]\n"
     ]
    },
    {
     "name": "stdout",
     "output_type": "stream",
     "text": [
      "Training epoch 0 ...\n"
     ]
    },
    {
     "name": "stderr",
     "output_type": "stream",
     "text": [
      "100%|████████████████████████████████████████████████████████████████████████████████| 105/105 [00:12<00:00,  8.51it/s]\n"
     ]
    },
    {
     "name": "stdout",
     "output_type": "stream",
     "text": [
      "f1: 0.28816323180993403 mae: 0.2926685148761387 loss: 4.643536029543195\n"
     ]
    },
    {
     "name": "stderr",
     "output_type": "stream",
     "text": [
      "0it [00:00, ?it/s]\n"
     ]
    },
    {
     "name": "stdout",
     "output_type": "stream",
     "text": [
      "Training epoch 0 ...\n"
     ]
    },
    {
     "name": "stderr",
     "output_type": "stream",
     "text": [
      "100%|████████████████████████████████████████████████████████████████████████████████| 103/103 [00:10<00:00,  9.86it/s]\n"
     ]
    },
    {
     "name": "stdout",
     "output_type": "stream",
     "text": [
      "f1: 0.3538372247543148 mae: 0.2885010605587542 loss: 4.3290430295814595\n"
     ]
    },
    {
     "name": "stderr",
     "output_type": "stream",
     "text": [
      "0it [00:00, ?it/s]\n"
     ]
    },
    {
     "name": "stdout",
     "output_type": "stream",
     "text": [
      "Training epoch 0 ...\n"
     ]
    },
    {
     "name": "stderr",
     "output_type": "stream",
     "text": [
      "100%|██████████████████████████████████████████████████████████████████████████████████| 80/80 [00:08<00:00,  9.42it/s]\n"
     ]
    },
    {
     "name": "stdout",
     "output_type": "stream",
     "text": [
      "f1: 0.49821422137320015 mae: 0.23462958284653726 loss: 3.9062362015247354\n"
     ]
    },
    {
     "name": "stderr",
     "output_type": "stream",
     "text": [
      "0it [00:00, ?it/s]\n"
     ]
    },
    {
     "name": "stdout",
     "output_type": "stream",
     "text": [
      "Training epoch 0 ...\n"
     ]
    },
    {
     "name": "stderr",
     "output_type": "stream",
     "text": [
      "100%|████████████████████████████████████████████████████████████████████████████████| 105/105 [00:10<00:00, 10.16it/s]\n"
     ]
    },
    {
     "name": "stdout",
     "output_type": "stream",
     "text": [
      "f1: 0.4957444672073639 mae: 0.24087598146427247 loss: 3.722581311634609\n"
     ]
    },
    {
     "name": "stderr",
     "output_type": "stream",
     "text": [
      "0it [00:00, ?it/s]\n"
     ]
    },
    {
     "name": "stdout",
     "output_type": "stream",
     "text": [
      "Training epoch 0 ...\n"
     ]
    },
    {
     "name": "stderr",
     "output_type": "stream",
     "text": [
      "100%|████████████████████████████████████████████████████████████████████████████████| 103/103 [00:10<00:00,  9.47it/s]\n"
     ]
    },
    {
     "name": "stdout",
     "output_type": "stream",
     "text": [
      "f1: 0.4331714716351146 mae: 0.2460219740722944 loss: 3.645813617891478\n"
     ]
    },
    {
     "name": "stderr",
     "output_type": "stream",
     "text": [
      "0it [00:00, ?it/s]\n"
     ]
    },
    {
     "name": "stdout",
     "output_type": "stream",
     "text": [
      "Training epoch 0 ...\n"
     ]
    },
    {
     "name": "stderr",
     "output_type": "stream",
     "text": [
      "100%|██████████████████████████████████████████████████████████████████████████████████| 80/80 [00:07<00:00, 10.03it/s]\n"
     ]
    },
    {
     "name": "stdout",
     "output_type": "stream",
     "text": [
      "f1: 0.6281249206513165 mae: 0.22142676203511658 loss: 3.506355485320092\n"
     ]
    },
    {
     "name": "stderr",
     "output_type": "stream",
     "text": [
      "0it [00:00, ?it/s]\n"
     ]
    },
    {
     "name": "stdout",
     "output_type": "stream",
     "text": [
      "Training epoch 0 ...\n"
     ]
    },
    {
     "name": "stderr",
     "output_type": "stream",
     "text": [
      "100%|████████████████████████████████████████████████████████████████████████████████| 105/105 [00:10<00:00,  9.99it/s]\n"
     ]
    },
    {
     "name": "stdout",
     "output_type": "stream",
     "text": [
      "f1: 0.5828797547590163 mae: 0.2305379219707988 loss: 3.4381259577614927\n"
     ]
    },
    {
     "name": "stderr",
     "output_type": "stream",
     "text": [
      "0it [00:00, ?it/s]\n"
     ]
    },
    {
     "name": "stdout",
     "output_type": "stream",
     "text": [
      "Training epoch 0 ...\n"
     ]
    },
    {
     "name": "stderr",
     "output_type": "stream",
     "text": [
      "100%|████████████████████████████████████████████████████████████████████████████████| 103/103 [00:10<00:00, 10.15it/s]\n"
     ]
    },
    {
     "name": "stdout",
     "output_type": "stream",
     "text": [
      "f1: 0.49403600409192916 mae: 0.22775727691291614 loss: 3.432487605844885\n"
     ]
    },
    {
     "name": "stderr",
     "output_type": "stream",
     "text": [
      "0it [00:00, ?it/s]\n"
     ]
    },
    {
     "name": "stdout",
     "output_type": "stream",
     "text": [
      "Training epoch 0 ...\n"
     ]
    },
    {
     "name": "stderr",
     "output_type": "stream",
     "text": [
      "100%|██████████████████████████████████████████████████████████████████████████████████| 80/80 [00:08<00:00,  9.85it/s]\n"
     ]
    },
    {
     "name": "stdout",
     "output_type": "stream",
     "text": [
      "f1: 0.6248808737844227 mae: 0.21442220397293563 loss: 3.3809464633464823\n"
     ]
    },
    {
     "name": "stderr",
     "output_type": "stream",
     "text": [
      "0it [00:00, ?it/s]\n"
     ]
    },
    {
     "name": "stdout",
     "output_type": "stream",
     "text": [
      "Training epoch 0 ...\n"
     ]
    },
    {
     "name": "stderr",
     "output_type": "stream",
     "text": [
      "100%|████████████████████████████████████████████████████████████████████████████████| 105/105 [00:10<00:00,  9.87it/s]\n"
     ]
    },
    {
     "name": "stdout",
     "output_type": "stream",
     "text": [
      "f1: 0.6440286592358633 mae: 0.22367837549675068 loss: 3.3416363738832024\n"
     ]
    },
    {
     "name": "stderr",
     "output_type": "stream",
     "text": [
      "0it [00:00, ?it/s]\n"
     ]
    },
    {
     "name": "stdout",
     "output_type": "stream",
     "text": [
      "Training epoch 0 ...\n"
     ]
    },
    {
     "name": "stderr",
     "output_type": "stream",
     "text": [
      "100%|████████████████████████████████████████████████████████████████████████████████| 103/103 [00:11<00:00,  9.11it/s]\n"
     ]
    },
    {
     "name": "stdout",
     "output_type": "stream",
     "text": [
      "f1: 0.5455924781780795 mae: 0.22134862001081104 loss: 3.359585111581006\n"
     ]
    },
    {
     "name": "stderr",
     "output_type": "stream",
     "text": [
      "0it [00:00, ?it/s]\n"
     ]
    },
    {
     "name": "stdout",
     "output_type": "stream",
     "text": [
      "Training epoch 0 ...\n"
     ]
    },
    {
     "name": "stderr",
     "output_type": "stream",
     "text": [
      "100%|██████████████████████████████████████████████████████████████████████████████████| 80/80 [00:07<00:00, 10.11it/s]\n"
     ]
    },
    {
     "name": "stdout",
     "output_type": "stream",
     "text": [
      "f1: 0.6104761116206645 mae: 0.21095340885221955 loss: 3.3379115819931027\n"
     ]
    },
    {
     "name": "stderr",
     "output_type": "stream",
     "text": [
      "0it [00:00, ?it/s]\n"
     ]
    },
    {
     "name": "stdout",
     "output_type": "stream",
     "text": [
      "Training epoch 0 ...\n"
     ]
    },
    {
     "name": "stderr",
     "output_type": "stream",
     "text": [
      "100%|████████████████████████████████████████████████████████████████████████████████| 105/105 [00:10<00:00, 10.25it/s]\n"
     ]
    },
    {
     "name": "stdout",
     "output_type": "stream",
     "text": [
      "f1: 0.6589039417959394 mae: 0.22041383804309933 loss: 3.3080066090538387\n"
     ]
    },
    {
     "name": "stderr",
     "output_type": "stream",
     "text": [
      "0it [00:00, ?it/s]\n"
     ]
    },
    {
     "name": "stdout",
     "output_type": "stream",
     "text": [
      "Training epoch 0 ...\n"
     ]
    },
    {
     "name": "stderr",
     "output_type": "stream",
     "text": [
      "100%|████████████████████████████████████████████████████████████████████████████████| 103/103 [00:10<00:00,  9.82it/s]\n"
     ]
    },
    {
     "name": "stdout",
     "output_type": "stream",
     "text": [
      "f1: 0.5481814744981744 mae: 0.21926963488453793 loss: 3.3348171664673134\n"
     ]
    },
    {
     "name": "stderr",
     "output_type": "stream",
     "text": [
      "0it [00:00, ?it/s]\n"
     ]
    },
    {
     "name": "stdout",
     "output_type": "stream",
     "text": [
      "Training epoch 0 ...\n"
     ]
    },
    {
     "name": "stderr",
     "output_type": "stream",
     "text": [
      "100%|██████████████████████████████████████████████████████████████████████████████████| 80/80 [00:08<00:00,  9.61it/s]\n"
     ]
    },
    {
     "name": "stdout",
     "output_type": "stream",
     "text": [
      "f1: 0.6188094429671762 mae: 0.20982525963336224 loss: 3.3235584646463394\n"
     ]
    },
    {
     "name": "stderr",
     "output_type": "stream",
     "text": [
      "0it [00:00, ?it/s]\n"
     ]
    },
    {
     "name": "stdout",
     "output_type": "stream",
     "text": [
      "Training epoch 0 ...\n"
     ]
    },
    {
     "name": "stderr",
     "output_type": "stream",
     "text": [
      "100%|████████████████████████████████████████████████████████████████████████████████| 105/105 [00:10<00:00,  9.79it/s]\n"
     ]
    },
    {
     "name": "stdout",
     "output_type": "stream",
     "text": [
      "f1: 0.6656235196760721 mae: 0.21928806830020176 loss: 3.2967827569870702\n"
     ]
    },
    {
     "name": "stderr",
     "output_type": "stream",
     "text": [
      "0it [00:00, ?it/s]\n"
     ]
    },
    {
     "name": "stdout",
     "output_type": "stream",
     "text": [
      "Training epoch 0 ...\n"
     ]
    },
    {
     "name": "stderr",
     "output_type": "stream",
     "text": [
      "100%|████████████████████████████████████████████████████████████████████████████████| 103/103 [00:10<00:00,  9.84it/s]\n"
     ]
    },
    {
     "name": "stdout",
     "output_type": "stream",
     "text": [
      "f1: 0.556919337476341 mae: 0.2185807521771459 loss: 3.3266340204812948\n"
     ]
    },
    {
     "name": "stderr",
     "output_type": "stream",
     "text": [
      "0it [00:00, ?it/s]\n"
     ]
    },
    {
     "name": "stdout",
     "output_type": "stream",
     "text": [
      "Training epoch 0 ...\n"
     ]
    },
    {
     "name": "stderr",
     "output_type": "stream",
     "text": [
      "100%|██████████████████████████████████████████████████████████████████████████████████| 80/80 [00:08<00:00,  9.62it/s]\n"
     ]
    },
    {
     "name": "stdout",
     "output_type": "stream",
     "text": [
      "f1: 0.6154761094599961 mae: 0.20944370287470512 loss: 3.3187573313713066\n"
     ]
    },
    {
     "name": "stderr",
     "output_type": "stream",
     "text": [
      "0it [00:00, ?it/s]\n"
     ]
    },
    {
     "name": "stdout",
     "output_type": "stream",
     "text": [
      "Training epoch 0 ...\n"
     ]
    },
    {
     "name": "stderr",
     "output_type": "stream",
     "text": [
      "100%|████████████████████████████████████████████████████████████████████████████████| 105/105 [00:10<00:00,  9.56it/s]\n"
     ]
    },
    {
     "name": "stdout",
     "output_type": "stream",
     "text": [
      "f1: 0.6692743129673457 mae: 0.21890462211200173 loss: 3.2930448123386933\n"
     ]
    },
    {
     "name": "stderr",
     "output_type": "stream",
     "text": [
      "0it [00:00, ?it/s]\n"
     ]
    },
    {
     "name": "stdout",
     "output_type": "stream",
     "text": [
      "Training epoch 0 ...\n"
     ]
    },
    {
     "name": "stderr",
     "output_type": "stream",
     "text": [
      "100%|████████████████████████████████████████████████████████████████████████████████| 103/103 [00:10<00:00,  9.61it/s]\n"
     ]
    },
    {
     "name": "stdout",
     "output_type": "stream",
     "text": [
      "f1: 0.556919337476341 mae: 0.21835444556567274 loss: 3.323931798194219\n"
     ]
    },
    {
     "name": "stderr",
     "output_type": "stream",
     "text": [
      "0it [00:00, ?it/s]\n"
     ]
    },
    {
     "name": "stdout",
     "output_type": "stream",
     "text": [
      "Training epoch 0 ...\n"
     ]
    },
    {
     "name": "stderr",
     "output_type": "stream",
     "text": [
      "100%|██████████████████████████████████████████████████████████████████████████████████| 80/80 [00:08<00:00,  9.93it/s]\n"
     ]
    },
    {
     "name": "stdout",
     "output_type": "stream",
     "text": [
      "f1: 0.6154761094599961 mae: 0.2093171689659357 loss: 3.317169746756553\n"
     ]
    },
    {
     "name": "stderr",
     "output_type": "stream",
     "text": [
      "0it [00:00, ?it/s]\n"
     ]
    },
    {
     "name": "stdout",
     "output_type": "stream",
     "text": [
      "Training epoch 0 ...\n"
     ]
    },
    {
     "name": "stderr",
     "output_type": "stream",
     "text": [
      "100%|████████████████████████████████████████████████████████████████████████████████| 105/105 [00:10<00:00,  9.94it/s]\n"
     ]
    },
    {
     "name": "stdout",
     "output_type": "stream",
     "text": [
      "f1: 0.6724489170880544 mae: 0.2187775550853638 loss: 3.2918090093703487\n"
     ]
    },
    {
     "name": "stderr",
     "output_type": "stream",
     "text": [
      "0it [00:00, ?it/s]\n"
     ]
    },
    {
     "name": "stdout",
     "output_type": "stream",
     "text": [
      "Training epoch 0 ...\n"
     ]
    },
    {
     "name": "stderr",
     "output_type": "stream",
     "text": [
      "100%|████████████████████████████████████████████████████████████████████████████████| 103/103 [00:11<00:00,  8.66it/s]\n"
     ]
    },
    {
     "name": "stdout",
     "output_type": "stream",
     "text": [
      "f1: 0.5601555826594524 mae: 0.21828059020262316 loss: 3.3230377424110484\n"
     ]
    },
    {
     "name": "stderr",
     "output_type": "stream",
     "text": [
      "0it [00:00, ?it/s]\n"
     ]
    },
    {
     "name": "stdout",
     "output_type": "stream",
     "text": [
      "Training epoch 0 ...\n"
     ]
    },
    {
     "name": "stderr",
     "output_type": "stream",
     "text": [
      "100%|██████████████████████████████████████████████████████████████████████████████████| 80/80 [00:10<00:00,  7.88it/s]\n"
     ]
    },
    {
     "name": "stdout",
     "output_type": "stream",
     "text": [
      "f1: 0.6154761094599961 mae: 0.20927496631629766 loss: 3.3166437327861793\n"
     ]
    },
    {
     "name": "stderr",
     "output_type": "stream",
     "text": [
      "0it [00:00, ?it/s]\n"
     ]
    },
    {
     "name": "stdout",
     "output_type": "stream",
     "text": [
      "Training epoch 0 ...\n"
     ]
    },
    {
     "name": "stderr",
     "output_type": "stream",
     "text": [
      "100%|████████████████████████████████████████████████████████████████████████████████| 105/105 [00:12<00:00,  8.57it/s]\n"
     ]
    },
    {
     "name": "stdout",
     "output_type": "stream",
     "text": [
      "f1: 0.6724489170880544 mae: 0.21873576300484796 loss: 3.2914003826323017\n"
     ]
    },
    {
     "name": "stderr",
     "output_type": "stream",
     "text": [
      "0it [00:00, ?it/s]\n"
     ]
    },
    {
     "name": "stdout",
     "output_type": "stream",
     "text": [
      "Training epoch 0 ...\n"
     ]
    },
    {
     "name": "stderr",
     "output_type": "stream",
     "text": [
      "100%|████████████████████████████████████████████████████████████████████████████████| 103/103 [00:11<00:00,  8.92it/s]\n"
     ]
    },
    {
     "name": "stdout",
     "output_type": "stream",
     "text": [
      "f1: 0.5601555826594524 mae: 0.21825579680430088 loss: 3.322742337162055\n"
     ]
    },
    {
     "name": "stderr",
     "output_type": "stream",
     "text": [
      "0it [00:00, ?it/s]\n"
     ]
    },
    {
     "name": "stdout",
     "output_type": "stream",
     "text": [
      "Training epoch 0 ...\n"
     ]
    },
    {
     "name": "stderr",
     "output_type": "stream",
     "text": [
      "100%|██████████████████████████████████████████████████████████████████████████████████| 80/80 [00:09<00:00,  8.84it/s]\n"
     ]
    },
    {
     "name": "stdout",
     "output_type": "stream",
     "text": [
      "f1: 0.6154761094599961 mae: 0.20926119927316905 loss: 3.31647039949894\n"
     ]
    },
    {
     "name": "stderr",
     "output_type": "stream",
     "text": [
      "0it [00:00, ?it/s]\n"
     ]
    },
    {
     "name": "stdout",
     "output_type": "stream",
     "text": [
      "Training epoch 0 ...\n"
     ]
    },
    {
     "name": "stderr",
     "output_type": "stream",
     "text": [
      "100%|████████████████████████████████████████████████████████████████████████████████| 105/105 [00:13<00:00,  7.88it/s]\n"
     ]
    },
    {
     "name": "stdout",
     "output_type": "stream",
     "text": [
      "f1: 0.6724489170880544 mae: 0.21872189939022058 loss: 3.29126474970863\n"
     ]
    },
    {
     "name": "stderr",
     "output_type": "stream",
     "text": [
      "0it [00:00, ?it/s]\n"
     ]
    },
    {
     "name": "stdout",
     "output_type": "stream",
     "text": [
      "Training epoch 0 ...\n"
     ]
    },
    {
     "name": "stderr",
     "output_type": "stream",
     "text": [
      "100%|████████████████████████████████████████████████████████████████████████████████| 103/103 [00:10<00:00,  9.63it/s]\n"
     ]
    },
    {
     "name": "stdout",
     "output_type": "stream",
     "text": [
      "f1: 0.5601555826594524 mae: 0.21824765914273492 loss: 3.3226452244138245\n"
     ]
    },
    {
     "name": "stderr",
     "output_type": "stream",
     "text": [
      "0it [00:00, ?it/s]\n"
     ]
    }
   ],
   "source": [
    "# final model for submission\n",
    "\n",
    "# train on subject1\n",
    "# validate on subject2, 3\n",
    "\n",
    "from tqdm import tqdm\n",
    "\n",
    "report = []\n",
    "\n",
    "\n",
    "simple_conv_task2 = create_model_task2()\n",
    "\n",
    "EPOCH = 10\n",
    "train_split = 1.0\n",
    "lr = 0.001\n",
    "\n",
    "for e in range(EPOCH):\n",
    "    simple_conv_task2.compile(loss='binary_crossentropy', metrics=[get_f1, 'mae'], optimizer=Adam(learning_rate=lr))\n",
    "    simple_conv_task2, acc = train_task2(simple_conv_task2, X, y_ml_ohe, 1, train_split)\n",
    "    lr /= 1.2\n",
    "    simple_conv_task2.compile(loss='binary_crossentropy', metrics=[get_f1, 'mae'], optimizer=Adam(learning_rate=lr))\n",
    "    simple_conv_task2, acc2 = train_task2(simple_conv_task2, X2, y_ml2_ohe, 1, train_split)\n",
    "    lr /= 1.4\n",
    "    simple_conv_task2.compile(loss='binary_crossentropy', metrics=[get_f1, 'mae'], optimizer=Adam(learning_rate=lr))\n",
    "    simple_conv_task2, acc2 = train_task2(simple_conv_task2, X3, y_ml3_ohe, 1, train_split)\n",
    "    lr /= 1.8"
   ]
  },
  {
   "cell_type": "code",
   "execution_count": 142,
   "metadata": {},
   "outputs": [
    {
     "name": "stdout",
     "output_type": "stream",
     "text": [
      "Training epoch 0 ...\n"
     ]
    },
    {
     "name": "stderr",
     "output_type": "stream",
     "text": [
      "100%|████████████████████████████████████████████████████████████████████████████████| 288/288 [00:29<00:00,  9.89it/s]\n"
     ]
    },
    {
     "name": "stdout",
     "output_type": "stream",
     "text": [
      "f1: 0.6396934928682948 mae: 0.21348673640750349 loss: 3.1666963597138738\n"
     ]
    },
    {
     "name": "stderr",
     "output_type": "stream",
     "text": [
      "0it [00:00, ?it/s]\n"
     ]
    },
    {
     "name": "stdout",
     "output_type": "stream",
     "text": [
      "Training epoch 0 ...\n"
     ]
    },
    {
     "name": "stderr",
     "output_type": "stream",
     "text": [
      "100%|████████████████████████████████████████████████████████████████████████████████| 288/288 [00:29<00:00,  9.61it/s]\n"
     ]
    },
    {
     "name": "stdout",
     "output_type": "stream",
     "text": [
      "f1: 0.6379904508487222 mae: 0.21284997075175252 loss: 3.1552783689565107\n"
     ]
    },
    {
     "name": "stderr",
     "output_type": "stream",
     "text": [
      "0it [00:00, ?it/s]\n"
     ]
    },
    {
     "name": "stdout",
     "output_type": "stream",
     "text": [
      "Training epoch 0 ...\n"
     ]
    },
    {
     "name": "stderr",
     "output_type": "stream",
     "text": [
      "100%|████████████████████████████████████████████████████████████████████████████████| 288/288 [00:29<00:00,  9.86it/s]\n"
     ]
    },
    {
     "name": "stdout",
     "output_type": "stream",
     "text": [
      "f1: 0.6421571180948785 mae: 0.21242927216614282 loss: 3.1477233113514056\n"
     ]
    },
    {
     "name": "stderr",
     "output_type": "stream",
     "text": [
      "0it [00:00, ?it/s]\n"
     ]
    },
    {
     "name": "stdout",
     "output_type": "stream",
     "text": [
      "Training epoch 0 ...\n"
     ]
    },
    {
     "name": "stderr",
     "output_type": "stream",
     "text": [
      "100%|████████████████████████████████████████████████████████████████████████████████| 288/288 [00:29<00:00,  9.93it/s]\n"
     ]
    },
    {
     "name": "stdout",
     "output_type": "stream",
     "text": [
      "f1: 0.643198784699457 mae: 0.21214035246521223 loss: 3.142719785372417\n"
     ]
    },
    {
     "name": "stderr",
     "output_type": "stream",
     "text": [
      "0it [00:00, ?it/s]\n"
     ]
    },
    {
     "name": "stdout",
     "output_type": "stream",
     "text": [
      "Training epoch 0 ...\n"
     ]
    },
    {
     "name": "stderr",
     "output_type": "stream",
     "text": [
      "100%|████████████████████████████████████████████████████████████████████████████████| 288/288 [00:29<00:00,  9.92it/s]\n"
     ]
    },
    {
     "name": "stdout",
     "output_type": "stream",
     "text": [
      "f1: 0.6438932293094699 mae: 0.21194663567520297 loss: 3.1393888261583136\n"
     ]
    },
    {
     "name": "stderr",
     "output_type": "stream",
     "text": [
      "0it [00:00, ?it/s]\n"
     ]
    }
   ],
   "source": [
    "# mixed low learning rate training\n",
    "lr = 0.00001\n",
    "EPOCH = 5\n",
    "for e in range(EPOCH):\n",
    "    simple_conv_task2.compile(loss='binary_crossentropy', metrics=[get_f1, 'mae'], optimizer=Adam(learning_rate=lr))\n",
    "    simple_conv_task2, acc2 = train_task2(simple_conv_task2, X_all, y_all, 1, train_split)\n",
    "    lr /= 1.5"
   ]
  },
  {
   "cell_type": "code",
   "execution_count": 143,
   "metadata": {},
   "outputs": [],
   "source": [
    "simple_conv_task2.save('task2_f1_64.h5')"
   ]
  },
  {
   "cell_type": "code",
   "execution_count": 26,
   "metadata": {},
   "outputs": [],
   "source": [
    "# generating labels for test set"
   ]
  },
  {
   "cell_type": "code",
   "execution_count": 15,
   "metadata": {},
   "outputs": [
    {
     "name": "stdout",
     "output_type": "stream",
     "text": [
      "C:\\Projects\\activity-recognition-abc\\train\\train\n",
      "C:\\Projects\\activity-recognition-abc\n",
      "C:\\Projects\\activity-recognition-abc\n",
      "C:\\\n"
     ]
    }
   ],
   "source": [
    "cdir = os.getcwd()\n",
    "print(cdir)\n",
    "os.chdir(cdir + '/../../')\n",
    "print(os.getcwd())\n",
    "cdir = os.getcwd()\n",
    "print(cdir)\n",
    "os.chdir(cdir + '/../../')\n",
    "print(os.getcwd())"
   ]
  },
  {
   "cell_type": "code",
   "execution_count": 16,
   "metadata": {},
   "outputs": [
    {
     "name": "stdout",
     "output_type": "stream",
     "text": [
      "C:\\Projects\\activity-recognition-abc\\test\\test\n"
     ]
    }
   ],
   "source": [
    "os.chdir(cdir + '/test/test')\n",
    "print(os.getcwd())"
   ]
  },
  {
   "cell_type": "code",
   "execution_count": 17,
   "metadata": {},
   "outputs": [
    {
     "name": "stdout",
     "output_type": "stream",
     "text": [
      "['right_arm/*.csv', 'right_wrist/*.csv', 'left_hip/*.csv', 'left_wrist/*.csv']\n"
     ]
    }
   ],
   "source": [
    "# reading test set\n",
    "\n",
    "# there's 1 subject\n",
    "subject4 = {}\n",
    "\n",
    "\n",
    "# we will load every single right arm data, separate based on subject id, do feature extraction, run t-SNE\n",
    "\n",
    "all_sensors = ['right_arm', 'right_wrist', 'left_hip', 'left_wrist'] #, 'mocap']\n",
    "\n",
    "data_folder = [f'{sensor}/*.csv' for sensor in all_sensors]\n",
    "\n",
    "print(data_folder)\n",
    "\n",
    "files = glob.glob(data_folder[0])\n",
    "\n",
    "# processing will be done as numpy array\n",
    "\n",
    "subject4['data'] = []\n",
    "\n",
    " \n",
    "# data format : data -> id, process(timeseries, timestamps) : right_arm as numpy array (missing data will be imputed)\n",
    "\n",
    "\n",
    "# id is generated by concatenating INT(subject+trial)\n",
    "\n",
    "for f in files:\n",
    "    #print(f)\n",
    "    c_sub = {} # current subject\n",
    "    if f.split(os.sep)[1].split('_')[0] == 'subject4':\n",
    "        \n",
    "        c_sub['id'] = int(f.split(os.sep)[1].split('_')[0][-1] + f.split(os.sep)[1].split('_')[2].split('.')[0])\n",
    "        #print(ra['id'])\n",
    "        \n",
    "        for sensor in all_sensors:\n",
    "            #print(sensor)\n",
    "            ra = pd.read_csv(sensor + os.sep + f.split(os.sep)[1])\n",
    "            #print(ra)\n",
    "            ra.sort_values(by=['timestamp'], inplace = True)\n",
    "            c_sub[sensor] = {}\n",
    "            if sensor == 'mocap':\n",
    "                for axis in mocap_axis:\n",
    "                    c_sub[sensor][axis] = process(ra[axis], ra['timestamp'])\n",
    "            else:\n",
    "                for axis in ['X', 'Y', 'Z']:\n",
    "                    c_sub[sensor][axis] = process(ra[axis], ra['timestamp'])\n",
    "                \n",
    "        subject4['data'].append(c_sub)\n",
    "    else:\n",
    "        print('either new subject or a bug')\n",
    "        \n",
    " \n",
    "\n",
    "        \n",
    "        \n",
    "# re-formatting dataset for training\n",
    "\n",
    "X_gen = []\n",
    "\n",
    "\n",
    "for sensor in all_sensors:\n",
    "    cs_data = []\n",
    "    for i in range(len(subject4['data'])):\n",
    "        sub_data = []\n",
    "        if sensor == 'mocap':\n",
    "            for sig in mocap_axis:\n",
    "                sub_data.append(np.array(subject4['data'][i][sensor][sig]))\n",
    "        else:\n",
    "            for sig in ['X', 'Y', 'Z']:\n",
    "                sub_data.append(np.array(subject4['data'][i][sensor][sig]))\n",
    "        sub_data = np.array(sub_data)\n",
    "        # print(sub_data.shape)\n",
    "        sub_data = np.swapaxes(sub_data, 0, 1)\n",
    "        cs_data.append(sub_data)\n",
    "    X_gen.append(cs_data)"
   ]
  },
  {
   "cell_type": "code",
   "execution_count": 18,
   "metadata": {},
   "outputs": [
    {
     "data": {
      "text/plain": [
       "1385"
      ]
     },
     "execution_count": 18,
     "metadata": {},
     "output_type": "execute_result"
    }
   ],
   "source": [
    "len(X_gen[0][10])"
   ]
  },
  {
   "cell_type": "code",
   "execution_count": 19,
   "metadata": {},
   "outputs": [
    {
     "data": {
      "text/plain": [
       "array([ 0.71569997, -0.052     , -0.0355    ])"
      ]
     },
     "execution_count": 19,
     "metadata": {},
     "output_type": "execute_result"
    }
   ],
   "source": [
    "X_gen[0][4][0]"
   ]
  },
  {
   "cell_type": "code",
   "execution_count": 20,
   "metadata": {},
   "outputs": [
    {
     "data": {
      "text/plain": [
       "4"
      ]
     },
     "execution_count": 20,
     "metadata": {},
     "output_type": "execute_result"
    }
   ],
   "source": [
    "len(X_gen)"
   ]
  },
  {
   "cell_type": "code",
   "execution_count": 21,
   "metadata": {},
   "outputs": [
    {
     "data": {
      "text/plain": [
       "180"
      ]
     },
     "execution_count": 21,
     "metadata": {},
     "output_type": "execute_result"
    }
   ],
   "source": [
    "len(X_gen[0])"
   ]
  },
  {
   "cell_type": "code",
   "execution_count": 20,
   "metadata": {},
   "outputs": [
    {
     "data": {
      "text/plain": [
       "array([], shape=(0, 3), dtype=object)"
      ]
     },
     "execution_count": 20,
     "metadata": {},
     "output_type": "execute_result"
    }
   ],
   "source": [
    "X_gen[3][2]"
   ]
  },
  {
   "cell_type": "code",
   "execution_count": 67,
   "metadata": {},
   "outputs": [],
   "source": [
    "def inference(simple_conv, simple_conv_task2, X2):\n",
    "    for i in range(len(X2)):\n",
    "        for j in range(len(X2[0])):\n",
    "            if len(X2) == 5 and i == len(X2)-1: # assuming mocap always comes in the last index\n",
    "                if len(X2[i][j]) == 0:\n",
    "                    X2[i][j] = np.zeros((1, 87))\n",
    "            else:\n",
    "                if len(X2[i][j]) == 0:\n",
    "                    X2[i][j] = np.array([[0., 0., 0.]], dtype=np.float32)\n",
    "\n",
    "    print('Running inference on subject ...')\n",
    "    y = []\n",
    "    y_raw = []\n",
    "    for sample_i in range(int(len(X2[0]))):\n",
    "\n",
    "        y_c   =  simple_conv.predict([X2[0][sample_i].reshape(1,len(X2[0][sample_i]),3), \n",
    "                                    X2[1][sample_i].reshape(1,len(X2[1][sample_i]),3), \n",
    "                                    X2[2][sample_i].reshape(1,len(X2[2][sample_i]),3), \n",
    "                                    X2[3][sample_i].reshape(1,len(X2[3][sample_i]),3)]\n",
    "                                    #X2[4][sample_i].reshape(1,len(X2[4][sample_i]),3*29)], \n",
    "                                    )\n",
    "        y_raw.append(y_c)\n",
    "        y.append(list(label_encoder.classes_)[np.argmax(y_c)])\n",
    "        \n",
    "    y_ml = []\n",
    "    y_ml_raw = []\n",
    "    for sample_i in range(int(len(X2[0]))):\n",
    "\n",
    "        y_c   =  simple_conv_task2.predict([X2[0][sample_i].reshape(1,len(X2[0][sample_i]),3), \n",
    "                                    X2[1][sample_i].reshape(1,len(X2[1][sample_i]),3), \n",
    "                                    X2[2][sample_i].reshape(1,len(X2[2][sample_i]),3), \n",
    "                                    X2[3][sample_i].reshape(1,len(X2[3][sample_i]),3)]\n",
    "                                    #X2[4][sample_i].reshape(1,len(X2[4][sample_i]),3*29)], \n",
    "                               )\n",
    "        idx = 0\n",
    "        label_str = ''\n",
    "        #print(y_c)\n",
    "        #print(y_c[0])\n",
    "        for yc in y_c[0]:\n",
    "            #print(yc)\n",
    "            t_ls = sorted(y_c[0])[::-1][:2]\n",
    "            t_ls.append(0.27)\n",
    "            thresh = min(t_ls)\n",
    "            if yc >= thresh:\n",
    "                label_str += list(mlb.classes_)[idx] + ','\n",
    "            idx += 1\n",
    "        y_ml_raw.append(y_c)\n",
    "        y_ml.append(label_str)\n",
    "    return y, y_ml, y_raw, y_ml_raw"
   ]
  },
  {
   "cell_type": "code",
   "execution_count": 68,
   "metadata": {},
   "outputs": [
    {
     "data": {
      "text/plain": [
       "[4, 1]"
      ]
     },
     "execution_count": 68,
     "metadata": {},
     "output_type": "execute_result"
    }
   ],
   "source": [
    "sorted([0, 1, 4, 0])[::-1][:2]"
   ]
  },
  {
   "cell_type": "code",
   "execution_count": 23,
   "metadata": {},
   "outputs": [],
   "source": [
    "from tensorflow.keras.models import load_model\n",
    "simple_conv = load_model('loss_6_11.h5')\n",
    "simple_conv_task2 = load_model('task2_f1_64.h5', custom_objects = {'get_f1': get_f1})"
   ]
  },
  {
   "cell_type": "code",
   "execution_count": 24,
   "metadata": {},
   "outputs": [
    {
     "name": "stdout",
     "output_type": "stream",
     "text": [
      "Model: \"model_8\"\n",
      "__________________________________________________________________________________________________\n",
      "Layer (type)                    Output Shape         Param #     Connected to                     \n",
      "==================================================================================================\n",
      "right_arm_ipX (InputLayer)      [(None, None, 3)]    0                                            \n",
      "__________________________________________________________________________________________________\n",
      "right_wrist_ipX (InputLayer)    [(None, None, 3)]    0                                            \n",
      "__________________________________________________________________________________________________\n",
      "left_hip_ipX (InputLayer)       [(None, None, 3)]    0                                            \n",
      "__________________________________________________________________________________________________\n",
      "left_wrist_ipX (InputLayer)     [(None, None, 3)]    0                                            \n",
      "__________________________________________________________________________________________________\n",
      "right_arm_ipX_8_conv (Conv1D)   (None, None, 32)     128         right_arm_ipX[0][0]              \n",
      "__________________________________________________________________________________________________\n",
      "right_wrist_ipX_8_conv (Conv1D) (None, None, 32)     128         right_wrist_ipX[0][0]            \n",
      "__________________________________________________________________________________________________\n",
      "left_hip_ipX_8_conv (Conv1D)    (None, None, 32)     128         left_hip_ipX[0][0]               \n",
      "__________________________________________________________________________________________________\n",
      "left_wrist_ipX_8_conv (Conv1D)  (None, None, 32)     128         left_wrist_ipX[0][0]             \n",
      "__________________________________________________________________________________________________\n",
      "batch_normalization_80 (BatchNo (None, None, 32)     128         right_arm_ipX_8_conv[0][0]       \n",
      "__________________________________________________________________________________________________\n",
      "batch_normalization_81 (BatchNo (None, None, 32)     128         right_wrist_ipX_8_conv[0][0]     \n",
      "__________________________________________________________________________________________________\n",
      "batch_normalization_82 (BatchNo (None, None, 32)     128         left_hip_ipX_8_conv[0][0]        \n",
      "__________________________________________________________________________________________________\n",
      "batch_normalization_83 (BatchNo (None, None, 32)     128         left_wrist_ipX_8_conv[0][0]      \n",
      "__________________________________________________________________________________________________\n",
      "conv1d_32 (Conv1D)              (None, None, 16)     1552        batch_normalization_80[0][0]     \n",
      "__________________________________________________________________________________________________\n",
      "conv1d_33 (Conv1D)              (None, None, 16)     1552        batch_normalization_81[0][0]     \n",
      "__________________________________________________________________________________________________\n",
      "conv1d_34 (Conv1D)              (None, None, 16)     1552        batch_normalization_82[0][0]     \n",
      "__________________________________________________________________________________________________\n",
      "conv1d_35 (Conv1D)              (None, None, 16)     1552        batch_normalization_83[0][0]     \n",
      "__________________________________________________________________________________________________\n",
      "batch_normalization_84 (BatchNo (None, None, 16)     64          conv1d_32[0][0]                  \n",
      "__________________________________________________________________________________________________\n",
      "batch_normalization_85 (BatchNo (None, None, 16)     64          conv1d_33[0][0]                  \n",
      "__________________________________________________________________________________________________\n",
      "batch_normalization_86 (BatchNo (None, None, 16)     64          conv1d_34[0][0]                  \n",
      "__________________________________________________________________________________________________\n",
      "batch_normalization_87 (BatchNo (None, None, 16)     64          conv1d_35[0][0]                  \n",
      "__________________________________________________________________________________________________\n",
      "leaky_re_lu_40 (LeakyReLU)      (None, None, 16)     0           batch_normalization_84[0][0]     \n",
      "__________________________________________________________________________________________________\n",
      "leaky_re_lu_41 (LeakyReLU)      (None, None, 16)     0           batch_normalization_85[0][0]     \n",
      "__________________________________________________________________________________________________\n",
      "leaky_re_lu_42 (LeakyReLU)      (None, None, 16)     0           batch_normalization_86[0][0]     \n",
      "__________________________________________________________________________________________________\n",
      "leaky_re_lu_43 (LeakyReLU)      (None, None, 16)     0           batch_normalization_87[0][0]     \n",
      "__________________________________________________________________________________________________\n",
      "concat (Concatenate)            (None, None, 16)     0           leaky_re_lu_40[0][0]             \n",
      "                                                                 leaky_re_lu_41[0][0]             \n",
      "                                                                 leaky_re_lu_42[0][0]             \n",
      "                                                                 leaky_re_lu_43[0][0]             \n",
      "__________________________________________________________________________________________________\n",
      "concat_conv (Conv1D)            (None, None, 16)     272         concat[0][0]                     \n",
      "__________________________________________________________________________________________________\n",
      "batch_normalization_88 (BatchNo (None, None, 16)     64          concat_conv[0][0]                \n",
      "__________________________________________________________________________________________________\n",
      "con_conv2 (Conv1D)              (None, None, 32)     1568        batch_normalization_88[0][0]     \n",
      "__________________________________________________________________________________________________\n",
      "batch_normalization_89 (BatchNo (None, None, 32)     128         con_conv2[0][0]                  \n",
      "__________________________________________________________________________________________________\n",
      "leaky_re_lu_44 (LeakyReLU)      (None, None, 32)     0           batch_normalization_89[0][0]     \n",
      "__________________________________________________________________________________________________\n",
      "global_max_pooling1d_8 (GlobalM (None, 32)           0           leaky_re_lu_44[0][0]             \n",
      "__________________________________________________________________________________________________\n",
      "dense_8 (Dense)                 (None, 3)            99          global_max_pooling1d_8[0][0]     \n",
      "==================================================================================================\n",
      "Total params: 9,619\n",
      "Trainable params: 9,139\n",
      "Non-trainable params: 480\n",
      "__________________________________________________________________________________________________\n"
     ]
    }
   ],
   "source": [
    "simple_conv.summary()"
   ]
  },
  {
   "cell_type": "code",
   "execution_count": 25,
   "metadata": {},
   "outputs": [
    {
     "name": "stdout",
     "output_type": "stream",
     "text": [
      "Model: \"model_43\"\n",
      "__________________________________________________________________________________________________\n",
      "Layer (type)                    Output Shape         Param #     Connected to                     \n",
      "==================================================================================================\n",
      "right_arm_ipX (InputLayer)      [(None, None, 3)]    0                                            \n",
      "__________________________________________________________________________________________________\n",
      "right_wrist_ipX (InputLayer)    [(None, None, 3)]    0                                            \n",
      "__________________________________________________________________________________________________\n",
      "left_hip_ipX (InputLayer)       [(None, None, 3)]    0                                            \n",
      "__________________________________________________________________________________________________\n",
      "left_wrist_ipX (InputLayer)     [(None, None, 3)]    0                                            \n",
      "__________________________________________________________________________________________________\n",
      "right_arm_ipX_44_conv (Conv1D)  (None, None, 16)     64          right_arm_ipX[0][0]              \n",
      "__________________________________________________________________________________________________\n",
      "right_wrist_ipX_44_conv (Conv1D (None, None, 16)     64          right_wrist_ipX[0][0]            \n",
      "__________________________________________________________________________________________________\n",
      "left_hip_ipX_44_conv (Conv1D)   (None, None, 16)     64          left_hip_ipX[0][0]               \n",
      "__________________________________________________________________________________________________\n",
      "left_wrist_ipX_44_conv (Conv1D) (None, None, 16)     64          left_wrist_ipX[0][0]             \n",
      "__________________________________________________________________________________________________\n",
      "batch_normalization_438 (BatchN (None, None, 16)     64          right_arm_ipX_44_conv[0][0]      \n",
      "__________________________________________________________________________________________________\n",
      "batch_normalization_439 (BatchN (None, None, 16)     64          right_wrist_ipX_44_conv[0][0]    \n",
      "__________________________________________________________________________________________________\n",
      "batch_normalization_440 (BatchN (None, None, 16)     64          left_hip_ipX_44_conv[0][0]       \n",
      "__________________________________________________________________________________________________\n",
      "batch_normalization_441 (BatchN (None, None, 16)     64          left_wrist_ipX_44_conv[0][0]     \n",
      "__________________________________________________________________________________________________\n",
      "conv1d_176 (Conv1D)             (None, None, 16)     784         batch_normalization_438[0][0]    \n",
      "__________________________________________________________________________________________________\n",
      "conv1d_177 (Conv1D)             (None, None, 16)     784         batch_normalization_439[0][0]    \n",
      "__________________________________________________________________________________________________\n",
      "conv1d_178 (Conv1D)             (None, None, 16)     784         batch_normalization_440[0][0]    \n",
      "__________________________________________________________________________________________________\n",
      "conv1d_179 (Conv1D)             (None, None, 16)     784         batch_normalization_441[0][0]    \n",
      "__________________________________________________________________________________________________\n",
      "batch_normalization_442 (BatchN (None, None, 16)     64          conv1d_176[0][0]                 \n",
      "__________________________________________________________________________________________________\n",
      "batch_normalization_443 (BatchN (None, None, 16)     64          conv1d_177[0][0]                 \n",
      "__________________________________________________________________________________________________\n",
      "batch_normalization_444 (BatchN (None, None, 16)     64          conv1d_178[0][0]                 \n",
      "__________________________________________________________________________________________________\n",
      "batch_normalization_445 (BatchN (None, None, 16)     64          conv1d_179[0][0]                 \n",
      "__________________________________________________________________________________________________\n",
      "leaky_re_lu_215 (LeakyReLU)     (None, None, 16)     0           batch_normalization_442[0][0]    \n",
      "__________________________________________________________________________________________________\n",
      "leaky_re_lu_216 (LeakyReLU)     (None, None, 16)     0           batch_normalization_443[0][0]    \n",
      "__________________________________________________________________________________________________\n",
      "leaky_re_lu_217 (LeakyReLU)     (None, None, 16)     0           batch_normalization_444[0][0]    \n",
      "__________________________________________________________________________________________________\n",
      "leaky_re_lu_218 (LeakyReLU)     (None, None, 16)     0           batch_normalization_445[0][0]    \n",
      "__________________________________________________________________________________________________\n",
      "concat (Concatenate)            (None, None, 16)     0           leaky_re_lu_215[0][0]            \n",
      "                                                                 leaky_re_lu_216[0][0]            \n",
      "                                                                 leaky_re_lu_217[0][0]            \n",
      "                                                                 leaky_re_lu_218[0][0]            \n",
      "__________________________________________________________________________________________________\n",
      "concat_conv (Conv1D)            (None, None, 16)     272         concat[0][0]                     \n",
      "__________________________________________________________________________________________________\n",
      "batch_normalization_446 (BatchN (None, None, 16)     64          concat_conv[0][0]                \n",
      "__________________________________________________________________________________________________\n",
      "con_conv2 (Conv1D)              (None, None, 32)     1568        batch_normalization_446[0][0]    \n",
      "__________________________________________________________________________________________________\n",
      "batch_normalization_447 (BatchN (None, None, 32)     128         con_conv2[0][0]                  \n",
      "__________________________________________________________________________________________________\n",
      "leaky_re_lu_219 (LeakyReLU)     (None, None, 32)     0           batch_normalization_447[0][0]    \n",
      "__________________________________________________________________________________________________\n",
      "global_max_pooling1d_43 (Global (None, 32)           0           leaky_re_lu_219[0][0]            \n",
      "__________________________________________________________________________________________________\n",
      "dense_43 (Dense)                (None, 10)           330         global_max_pooling1d_43[0][0]    \n",
      "==================================================================================================\n",
      "Total params: 6,266\n",
      "Trainable params: 5,914\n",
      "Non-trainable params: 352\n",
      "__________________________________________________________________________________________________\n"
     ]
    }
   ],
   "source": [
    "simple_conv_task2.summary()"
   ]
  },
  {
   "cell_type": "code",
   "execution_count": 69,
   "metadata": {},
   "outputs": [
    {
     "name": "stdout",
     "output_type": "stream",
     "text": [
      "Running inference on subject ...\n"
     ]
    }
   ],
   "source": [
    "y_gen, y_ml_gen, y_r, y_ml_r = inference(simple_conv, simple_conv_task2, X_gen)"
   ]
  },
  {
   "cell_type": "code",
   "execution_count": 57,
   "metadata": {},
   "outputs": [
    {
     "data": {
      "text/plain": [
       "[array([[1.2129545e-05, 3.0937791e-04, 7.4538589e-04, 3.2615662e-04,\n",
       "         5.8965951e-02, 4.1374117e-02, 5.5593550e-03, 9.8342943e-01,\n",
       "         6.9567747e-02, 5.8085495e-04]], dtype=float32),\n",
       " array([[4.37200069e-05, 8.49366188e-06, 6.11543655e-05, 1.19209290e-07,\n",
       "         1.33782625e-03, 1.60152614e-02, 2.68014967e-02, 9.80902076e-01,\n",
       "         4.52885218e-02, 1.20663835e-05]], dtype=float32),\n",
       " array([[1.92701817e-04, 9.82277691e-02, 8.32676888e-04, 1.16239935e-01,\n",
       "         3.13063473e-01, 7.51146674e-03, 4.74022716e-01, 9.15583253e-01,\n",
       "         2.80908227e-01, 7.07128569e-02]], dtype=float32),\n",
       " array([[0.3247468 , 0.5400408 , 0.15553457, 0.03722015, 0.8320392 ,\n",
       "         0.0626595 , 0.41674072, 0.6818736 , 0.08376168, 0.31596807]],\n",
       "       dtype=float32),\n",
       " array([[0.00512153, 0.82137597, 0.06175664, 0.1699909 , 0.6116108 ,\n",
       "         0.01975524, 0.72309345, 0.27780345, 0.0422795 , 0.16560961]],\n",
       "       dtype=float32),\n",
       " array([[1.0865629e-03, 1.2811738e-01, 1.8179417e-06, 0.0000000e+00,\n",
       "         5.8880746e-03, 7.6830387e-05, 1.4528632e-04, 1.5232861e-03,\n",
       "         4.0831282e-03, 3.3921927e-07]], dtype=float32),\n",
       " array([[1.4886260e-03, 1.8190333e-01, 2.3231983e-02, 1.5297532e-04,\n",
       "         2.7471966e-01, 6.0994923e-03, 9.5781147e-02, 8.4213197e-02,\n",
       "         1.6639858e-02, 6.5137446e-02]], dtype=float32),\n",
       " array([[6.5705180e-04, 4.8232168e-02, 1.1681616e-03, 4.2319298e-06,\n",
       "         3.5290086e-01, 2.9325485e-05, 1.0152072e-02, 3.4622556e-01,\n",
       "         6.9300495e-02, 1.9062078e-04]], dtype=float32),\n",
       " array([[6.6161156e-06, 1.5947223e-04, 9.9769235e-01, 0.0000000e+00,\n",
       "         1.8036950e-01, 7.3421061e-02, 1.0046363e-03, 9.9998784e-01,\n",
       "         1.9312981e-06, 2.4202920e-04]], dtype=float32),\n",
       " array([[7.5566769e-04, 3.1730533e-04, 8.3208084e-05, 1.5795231e-06,\n",
       "         7.8366399e-03, 2.2810400e-03, 5.8472246e-02, 2.7755511e-01,\n",
       "         4.7600042e-02, 7.0826449e-05]], dtype=float32),\n",
       " array([[1.2892485e-04, 0.0000000e+00, 0.0000000e+00, 0.0000000e+00,\n",
       "         2.9802322e-07, 1.1265278e-05, 3.1560659e-05, 1.0444611e-02,\n",
       "         4.2473193e-04, 3.5566316e-07]], dtype=float32),\n",
       " array([[2.4181604e-04, 5.9208179e-01, 9.3263686e-03, 1.4998198e-02,\n",
       "         5.7829070e-01, 3.8579106e-04, 4.1907185e-01, 1.0313499e-01,\n",
       "         2.2056501e-01, 2.4555421e-01]], dtype=float32),\n",
       " array([[1.6379505e-02, 7.8274608e-01, 8.2224607e-05, 5.6826472e-03,\n",
       "         3.6582828e-02, 3.7488222e-02, 2.2661632e-01, 7.1082962e-01,\n",
       "         2.5133219e-02, 2.1860310e-01]], dtype=float32),\n",
       " array([[1.92701817e-04, 9.82277691e-02, 8.32676888e-04, 1.16239935e-01,\n",
       "         3.13063473e-01, 7.51146674e-03, 4.74022716e-01, 9.15583253e-01,\n",
       "         2.80908227e-01, 7.07128569e-02]], dtype=float32),\n",
       " array([[1.7940998e-05, 6.6722363e-01, 1.9583106e-04, 1.7897040e-02,\n",
       "         1.9248337e-02, 9.5714629e-03, 3.8481051e-01, 4.8661429e-01,\n",
       "         4.5052458e-02, 1.1440060e-01]], dtype=float32),\n",
       " array([[1.0476649e-02, 4.6778184e-01, 9.8760128e-03, 3.6659837e-04,\n",
       "         1.4663360e-01, 2.2973806e-02, 1.7027587e-01, 1.6524127e-01,\n",
       "         5.4890458e-02, 1.9389315e-01]], dtype=float32),\n",
       " array([[0.1216985 , 0.49585274, 0.00400296, 0.00694355, 0.05693612,\n",
       "         0.08131194, 0.6141753 , 0.34980905, 0.08175568, 0.35566258]],\n",
       "       dtype=float32),\n",
       " array([[0.03526041, 0.80999047, 0.30294967, 0.26739365, 0.6936269 ,\n",
       "         0.04250872, 0.28000286, 0.23262727, 0.01202786, 0.57639974]],\n",
       "       dtype=float32),\n",
       " array([[0.0786759 , 0.3024394 , 0.17285377, 0.01542982, 0.70894974,\n",
       "         0.01142633, 0.7235836 , 0.14012939, 0.5619586 , 0.04884144]],\n",
       "       dtype=float32),\n",
       " array([[0.10663718, 0.31294763, 0.03374222, 0.1473147 , 0.4394846 ,\n",
       "         0.2549048 , 0.54385865, 0.73477095, 0.18079235, 0.7733684 ]],\n",
       "       dtype=float32),\n",
       " array([[2.1976233e-04, 2.9228330e-03, 5.3358674e-02, 1.1085868e-03,\n",
       "         4.3945229e-01, 3.0717552e-02, 6.3545108e-02, 9.7081387e-01,\n",
       "         1.3757381e-02, 3.9388277e-04]], dtype=float32),\n",
       " array([[0.00232601, 0.12705952, 0.00863045, 0.00250375, 0.26438218,\n",
       "         0.00871187, 0.10695732, 0.28503266, 0.04197602, 0.16122189]],\n",
       "       dtype=float32),\n",
       " array([[2.34876275e-02, 1.21313334e-03, 1.20633841e-03, 3.08454037e-05,\n",
       "         5.38053513e-02, 2.15111077e-02, 3.09458971e-02, 6.99998975e-01,\n",
       "         1.11292414e-01, 9.30958486e-04]], dtype=float32),\n",
       " array([[0.00232601, 0.12705952, 0.00863045, 0.00250375, 0.26438218,\n",
       "         0.00871187, 0.10695732, 0.28503266, 0.04197602, 0.16122189]],\n",
       "       dtype=float32),\n",
       " array([[2.1976233e-04, 2.9228330e-03, 5.3358674e-02, 1.1085868e-03,\n",
       "         4.3945229e-01, 3.0717552e-02, 6.3545108e-02, 9.7081387e-01,\n",
       "         1.3757381e-02, 3.9388277e-04]], dtype=float32),\n",
       " array([[0.10657784, 0.7092415 , 0.22033507, 0.30093533, 0.74805534,\n",
       "         0.02817571, 0.59068763, 0.19006836, 0.00819801, 0.5517468 ]],\n",
       "       dtype=float32),\n",
       " array([[6.8107635e-02, 6.0050285e-01, 7.3008537e-03, 1.8909574e-04,\n",
       "         3.8013485e-01, 1.2573600e-03, 6.2435091e-02, 1.7697036e-02,\n",
       "         2.6532378e-02, 3.3113647e-03]], dtype=float32),\n",
       " array([[2.2820532e-03, 7.0867300e-01, 8.5857213e-03, 3.6066771e-04,\n",
       "         1.6297555e-01, 7.3021650e-04, 1.0601580e-02, 5.7840878e-01,\n",
       "         6.9578423e-04, 3.7955296e-01]], dtype=float32),\n",
       " array([[0.00156435, 0.27933758, 0.34672168, 0.01235616, 0.6933554 ,\n",
       "         0.01058787, 0.14407676, 0.17403924, 0.03697636, 0.06118678]],\n",
       "       dtype=float32),\n",
       " array([[0.00127187, 0.18693888, 0.11393321, 0.03005034, 0.6384959 ,\n",
       "         0.13062197, 0.25815916, 0.3171967 , 0.4290677 , 0.26013073]],\n",
       "       dtype=float32),\n",
       " array([[0.20892882, 0.34890905, 0.03134099, 0.10525787, 0.18937674,\n",
       "         0.20351794, 0.6004047 , 0.33407187, 0.20595188, 0.44446093]],\n",
       "       dtype=float32),\n",
       " array([[2.5421381e-05, 8.3110631e-02, 1.3246536e-03, 6.1041635e-01,\n",
       "         5.0985992e-02, 2.2297674e-01, 1.1770943e-01, 9.7133017e-01,\n",
       "         7.9533599e-02, 5.4565747e-03]], dtype=float32),\n",
       " array([[0.10989368, 0.88505316, 0.09566495, 0.05736986, 0.47413132,\n",
       "         0.17354482, 0.64598095, 0.10803723, 0.05216264, 0.7209469 ]],\n",
       "       dtype=float32),\n",
       " array([[0.02413082, 0.2886007 , 0.04654989, 0.06306541, 0.5432853 ,\n",
       "         0.19604567, 0.45271197, 0.32000577, 0.421578  , 0.3070258 ]],\n",
       "       dtype=float32),\n",
       " array([[9.0175569e-03, 3.7397712e-01, 1.5211403e-03, 5.1681012e-01,\n",
       "         9.3722975e-01, 2.2053719e-05, 9.8408592e-01, 4.5386493e-01,\n",
       "         1.9648748e-03, 7.9040694e-01]], dtype=float32),\n",
       " array([[1.0476649e-02, 4.6778184e-01, 9.8760128e-03, 3.6659837e-04,\n",
       "         1.4663360e-01, 2.2973806e-02, 1.7027587e-01, 1.6524127e-01,\n",
       "         5.4890458e-02, 1.9389315e-01]], dtype=float32),\n",
       " array([[4.4323206e-03, 1.6839504e-02, 4.0329099e-03, 7.1227551e-06,\n",
       "         8.8747680e-02, 5.0812364e-03, 2.2229165e-02, 3.1644303e-01,\n",
       "         7.4834742e-02, 7.1155795e-05]], dtype=float32),\n",
       " array([[6.0843825e-03, 7.0132959e-01, 2.9930472e-04, 3.0383468e-04,\n",
       "         6.0793459e-03, 3.1308085e-02, 9.1897726e-02, 3.1580067e-01,\n",
       "         7.9036970e-04, 4.6661636e-01]], dtype=float32),\n",
       " array([[0.18019673, 0.75885963, 0.09984785, 0.01295486, 0.265921  ,\n",
       "         0.1953179 , 0.25505427, 0.18596521, 0.19355968, 0.18543547]],\n",
       "       dtype=float32),\n",
       " array([[0.00098246, 0.05535975, 0.01668185, 0.04047808, 0.08288959,\n",
       "         0.0186975 , 0.18760774, 0.78648806, 0.0230524 , 0.09169061]],\n",
       "       dtype=float32),\n",
       " array([[0.02413082, 0.2886007 , 0.04654989, 0.06306541, 0.5432853 ,\n",
       "         0.19604567, 0.45271197, 0.32000577, 0.421578  , 0.3070258 ]],\n",
       "       dtype=float32),\n",
       " array([[2.7626157e-03, 9.4307572e-02, 3.3575296e-04, 1.1086464e-05,\n",
       "         1.2762010e-01, 1.1682510e-05, 5.3106314e-01, 3.7094676e-01,\n",
       "         5.7771336e-04, 1.9852672e-04]], dtype=float32),\n",
       " array([[0.00986892, 0.8812246 , 0.19943264, 0.00322455, 0.37389764,\n",
       "         0.10882437, 0.05870444, 0.12756145, 0.0791369 , 0.1606494 ]],\n",
       "       dtype=float32),\n",
       " array([[2.5629997e-04, 4.7284365e-04, 4.9979985e-03, 1.6778708e-04,\n",
       "         1.3223261e-01, 1.4844799e-01, 2.8897375e-02, 9.9113369e-01,\n",
       "         1.6764472e-01, 8.4182090e-04]], dtype=float32),\n",
       " array([[0.0000000e+00, 4.4396520e-04, 2.6487708e-03, 1.5084949e-01,\n",
       "         8.3679259e-02, 5.6028366e-06, 1.4965832e-03, 4.5597553e-05,\n",
       "         2.9392429e-03, 1.4304234e-05]], dtype=float32),\n",
       " array([[6.8656236e-02, 1.9914508e-03, 7.4345350e-02, 1.4036894e-04,\n",
       "         2.2385025e-01, 4.2036176e-04, 5.4920316e-03, 6.0310125e-02,\n",
       "         5.8694551e-04, 1.5744003e-02]], dtype=float32),\n",
       " array([[2.34876275e-02, 1.21313334e-03, 1.20633841e-03, 3.08454037e-05,\n",
       "         5.38053513e-02, 2.15111077e-02, 3.09458971e-02, 6.99998975e-01,\n",
       "         1.11292414e-01, 9.30958486e-04]], dtype=float32),\n",
       " array([[0.0000000e+00, 4.4396520e-04, 2.6487708e-03, 1.5084949e-01,\n",
       "         8.3679259e-02, 5.6028366e-06, 1.4965832e-03, 4.5597553e-05,\n",
       "         2.9392429e-03, 1.4304234e-05]], dtype=float32),\n",
       " array([[0.03601456, 0.81554604, 0.06556442, 0.05590576, 0.15088555,\n",
       "         0.00894585, 0.5478449 , 0.11801347, 0.0281557 , 0.6177703 ]],\n",
       "       dtype=float32),\n",
       " array([[1.2129545e-05, 3.0937791e-04, 7.4538589e-04, 3.2615662e-04,\n",
       "         5.8965951e-02, 4.1374117e-02, 5.5593550e-03, 9.8342943e-01,\n",
       "         6.9567747e-02, 5.8085495e-04]], dtype=float32),\n",
       " array([[0.1216985 , 0.49585274, 0.00400296, 0.00694355, 0.05693612,\n",
       "         0.08131194, 0.6141753 , 0.34980905, 0.08175568, 0.35566258]],\n",
       "       dtype=float32),\n",
       " array([[8.8751316e-05, 1.4892820e-01, 4.0410942e-01, 8.7407738e-02,\n",
       "         9.3495536e-01, 4.5878798e-02, 4.7038114e-01, 9.4387913e-01,\n",
       "         9.8478228e-01, 1.4085507e-01]], dtype=float32),\n",
       " array([[0.21748078, 0.3662979 , 0.04000396, 0.00774044, 0.44823074,\n",
       "         0.05380332, 0.48854837, 0.32192612, 0.06700487, 0.3629074 ]],\n",
       "       dtype=float32),\n",
       " array([[0.03601456, 0.81554604, 0.06556442, 0.05590576, 0.15088555,\n",
       "         0.00894585, 0.5478449 , 0.11801347, 0.0281557 , 0.6177703 ]],\n",
       "       dtype=float32),\n",
       " array([[1.9818544e-05, 9.3655074e-01, 1.3732910e-04, 3.6776066e-04,\n",
       "         1.6867518e-03, 7.7030957e-03, 1.3672781e-01, 4.3022037e-03,\n",
       "         1.9221682e-02, 3.6995957e-04]], dtype=float32),\n",
       " array([[0.0786759 , 0.3024394 , 0.17285377, 0.01542982, 0.70894974,\n",
       "         0.01142633, 0.7235836 , 0.14012939, 0.5619586 , 0.04884144]],\n",
       "       dtype=float32),\n",
       " array([[0.00105119, 0.10910115, 0.00319439, 0.04048473, 0.42697978,\n",
       "         0.00847214, 0.3222468 , 0.24092758, 0.08299045, 0.37537968]],\n",
       "       dtype=float32),\n",
       " array([[0.06062123, 0.44662833, 0.09896001, 0.32353157, 0.40391362,\n",
       "         0.17372376, 0.6656992 , 0.29419956, 0.20570555, 0.4751162 ]],\n",
       "       dtype=float32),\n",
       " array([[1.2143552e-03, 1.2701750e-03, 1.4397502e-04, 1.1847913e-03,\n",
       "         1.5398532e-02, 6.5209007e-01, 7.7533424e-03, 9.3420696e-01,\n",
       "         3.1659275e-01, 9.1529929e-04]], dtype=float32),\n",
       " array([[0.03526041, 0.80999047, 0.30294967, 0.26739365, 0.6936269 ,\n",
       "         0.04250872, 0.28000286, 0.23262727, 0.01202786, 0.57639974]],\n",
       "       dtype=float32),\n",
       " array([[0.01196828, 0.8382837 , 0.00130141, 0.00084868, 0.06284195,\n",
       "         0.01320982, 0.5123326 , 0.49395514, 0.00737572, 0.07633814]],\n",
       "       dtype=float32),\n",
       " array([[0.00771806, 0.08604074, 0.00772765, 0.29269856, 0.34486732,\n",
       "         0.02532053, 0.705051  , 0.53764135, 0.14364578, 0.5381868 ]],\n",
       "       dtype=float32),\n",
       " array([[0.00215772, 0.1504665 , 0.06311518, 0.0031755 , 0.37821728,\n",
       "         0.02919066, 0.25682607, 0.9126915 , 0.01085406, 0.06205827]],\n",
       "       dtype=float32),\n",
       " array([[0.3247468 , 0.5400408 , 0.15553457, 0.03722015, 0.8320392 ,\n",
       "         0.0626595 , 0.41674072, 0.6818736 , 0.08376168, 0.31596807]],\n",
       "       dtype=float32),\n",
       " array([[6.0822070e-03, 8.0047846e-03, 2.0036101e-04, 2.0861626e-07,\n",
       "         1.7279953e-02, 9.0423822e-03, 6.7255497e-03, 2.7453935e-01,\n",
       "         5.1247243e-02, 4.9244620e-05]], dtype=float32),\n",
       " array([[0.00585765, 0.48026794, 0.01977983, 0.00097176, 0.4826065 ,\n",
       "         0.12107691, 0.1334672 , 0.39182854, 0.20149064, 0.07552262]],\n",
       "       dtype=float32),\n",
       " array([[0.10801843, 0.9065367 , 0.33060658, 0.28302512, 0.84301543,\n",
       "         0.14051941, 0.67710024, 0.3065436 , 0.05704667, 0.71211267]],\n",
       "       dtype=float32),\n",
       " array([[8.85441899e-03, 1.09290004e-01, 3.01551819e-03, 2.99930573e-04,\n",
       "         1.34323418e-01, 1.41978860e-02, 8.99601877e-02, 8.34803104e-01,\n",
       "         1.17061049e-01, 1.29030213e-01]], dtype=float32),\n",
       " array([[6.0822070e-03, 8.0047846e-03, 2.0036101e-04, 2.0861626e-07,\n",
       "         1.7279953e-02, 9.0423822e-03, 6.7255497e-03, 2.7453935e-01,\n",
       "         5.1247243e-02, 4.9244620e-05]], dtype=float32),\n",
       " array([[0.2592177 , 0.7245101 , 0.0618141 , 0.06815392, 0.5768333 ,\n",
       "         0.15703166, 0.63518965, 0.24806821, 0.05025802, 0.56408066]],\n",
       "       dtype=float32),\n",
       " array([[6.3617796e-01, 4.1435888e-01, 2.2625327e-03, 5.9604645e-08,\n",
       "         8.7070763e-02, 2.7135015e-04, 3.2825172e-03, 4.7470927e-03,\n",
       "         2.5870513e-02, 2.4749315e-03]], dtype=float32),\n",
       " array([[0.10989368, 0.88505316, 0.09566495, 0.05736986, 0.47413132,\n",
       "         0.17354482, 0.64598095, 0.10803723, 0.05216264, 0.7209469 ]],\n",
       "       dtype=float32),\n",
       " array([[4.7212839e-03, 4.0118900e-01, 1.2338459e-03, 2.0554662e-04,\n",
       "         2.3659632e-01, 1.0573268e-03, 1.1355230e-01, 2.7554899e-02,\n",
       "         4.9461410e-03, 4.7752727e-02]], dtype=float32),\n",
       " array([[0.01410136, 0.24474856, 0.03238142, 0.02076021, 0.18624166,\n",
       "         0.01798105, 0.19728568, 0.05484167, 0.02204281, 0.53230345]],\n",
       "       dtype=float32),\n",
       " array([[0.01377955, 0.08189294, 0.0009608 , 0.00060323, 0.20637468,\n",
       "         0.02057508, 0.32135707, 0.15890914, 0.24661426, 0.01729849]],\n",
       "       dtype=float32),\n",
       " array([[0.02116892, 0.01495278, 0.03974891, 0.00635564, 0.5929977 ,\n",
       "         0.02961534, 0.46240243, 0.7032957 , 0.769226  , 0.0515673 ]],\n",
       "       dtype=float32),\n",
       " array([[7.0730746e-03, 4.2584240e-02, 2.0049602e-02, 6.6524744e-04,\n",
       "         9.9502081e-01, 1.4090359e-02, 1.1482596e-02, 9.2527276e-01,\n",
       "         2.1423777e-03, 4.6701685e-02]], dtype=float32),\n",
       " array([[0.00131279, 0.8005318 , 0.17609549, 0.0552671 , 0.5807309 ,\n",
       "         0.11531118, 0.37558678, 0.81147766, 0.16299248, 0.639795  ]],\n",
       "       dtype=float32),\n",
       " array([[0.10393792, 0.03955838, 0.00743684, 0.00915211, 0.28038728,\n",
       "         0.01531291, 0.29638022, 0.5607369 , 0.04926572, 0.02142822]],\n",
       "       dtype=float32),\n",
       " array([[0.01904315, 0.07946494, 0.11120752, 0.05332404, 0.31275424,\n",
       "         0.308905  , 0.23862761, 0.31654406, 0.09854762, 0.1459727 ]],\n",
       "       dtype=float32),\n",
       " array([[0.2592177 , 0.7245101 , 0.0618141 , 0.06815392, 0.5768333 ,\n",
       "         0.15703166, 0.63518965, 0.24806821, 0.05025802, 0.56408066]],\n",
       "       dtype=float32),\n",
       " array([[1.6379505e-02, 7.8274608e-01, 8.2224607e-05, 5.6826472e-03,\n",
       "         3.6582828e-02, 3.7488222e-02, 2.2661632e-01, 7.1082962e-01,\n",
       "         2.5133219e-02, 2.1860310e-01]], dtype=float32),\n",
       " array([[0.21748078, 0.3662979 , 0.04000396, 0.00774044, 0.44823074,\n",
       "         0.05380332, 0.48854837, 0.32192612, 0.06700487, 0.3629074 ]],\n",
       "       dtype=float32),\n",
       " array([[2.9292941e-02, 4.0252405e-01, 3.5762787e-05, 1.4317036e-04,\n",
       "         6.8245769e-02, 4.0349364e-03, 9.1215640e-02, 1.9071257e-01,\n",
       "         8.1953639e-04, 2.4716905e-01]], dtype=float32),\n",
       " array([[4.37200069e-05, 8.49366188e-06, 6.11543655e-05, 1.19209290e-07,\n",
       "         1.33782625e-03, 1.60152614e-02, 2.68014967e-02, 9.80902076e-01,\n",
       "         4.52885218e-02, 1.20663835e-05]], dtype=float32),\n",
       " array([[6.6161156e-06, 1.5947223e-04, 9.9769235e-01, 0.0000000e+00,\n",
       "         1.8036950e-01, 7.3421061e-02, 1.0046363e-03, 9.9998784e-01,\n",
       "         1.9312981e-06, 2.4202920e-04]], dtype=float32),\n",
       " array([[0.00105119, 0.10910115, 0.00319439, 0.04048473, 0.42697978,\n",
       "         0.00847214, 0.3222468 , 0.24092758, 0.08299045, 0.37537968]],\n",
       "       dtype=float32),\n",
       " array([[0.01432344, 0.41600227, 0.00057757, 0.00073022, 0.00644937,\n",
       "         0.00177011, 0.04438019, 0.0793409 , 0.18369642, 0.13125823]],\n",
       "       dtype=float32),\n",
       " array([[3.4570694e-06, 2.1240413e-03, 1.2244493e-02, 7.7820033e-01,\n",
       "         1.3214844e-01, 7.7881962e-02, 4.0508565e-01, 6.8292230e-01,\n",
       "         5.2693135e-01, 2.9828332e-03]], dtype=float32),\n",
       " array([[0.02116892, 0.01495278, 0.03974891, 0.00635564, 0.5929977 ,\n",
       "         0.02961534, 0.46240243, 0.7032957 , 0.769226  , 0.0515673 ]],\n",
       "       dtype=float32),\n",
       " array([[6.3617796e-01, 4.1435888e-01, 2.2625327e-03, 5.9604645e-08,\n",
       "         8.7070763e-02, 2.7135015e-04, 3.2825172e-03, 4.7470927e-03,\n",
       "         2.5870513e-02, 2.4749315e-03]], dtype=float32),\n",
       " array([[8.2638264e-03, 2.2546145e-01, 4.3168217e-02, 7.3879957e-05,\n",
       "         5.7371032e-01, 3.8389564e-03, 6.4510554e-02, 6.7787409e-02,\n",
       "         1.2545907e-02, 3.6736296e-03]], dtype=float32),\n",
       " array([[2.4181604e-04, 5.9208179e-01, 9.3263686e-03, 1.4998198e-02,\n",
       "         5.7829070e-01, 3.8579106e-04, 4.1907185e-01, 1.0313499e-01,\n",
       "         2.2056501e-01, 2.4555421e-01]], dtype=float32),\n",
       " array([[8.9406967e-08, 9.8852873e-01, 0.0000000e+00, 5.6028366e-06,\n",
       "         0.0000000e+00, 5.9604645e-08, 4.7208250e-02, 1.9417703e-03,\n",
       "         3.3766675e-05, 1.4402145e-03]], dtype=float32),\n",
       " array([[4.2796135e-03, 1.1512002e-01, 1.8745810e-02, 4.4316053e-05,\n",
       "         6.7402542e-01, 4.9074322e-02, 1.0404646e-02, 8.0261481e-01,\n",
       "         6.3934344e-01, 3.2634338e-04]], dtype=float32),\n",
       " array([[6.5705180e-04, 4.8232168e-02, 1.1681616e-03, 4.2319298e-06,\n",
       "         3.5290086e-01, 2.9325485e-05, 1.0152072e-02, 3.4622556e-01,\n",
       "         6.9300495e-02, 1.9062078e-04]], dtype=float32),\n",
       " array([[0.60887825, 0.26193702, 0.19721812, 0.0323346 , 0.40847677,\n",
       "         0.09485817, 0.59770495, 0.4248598 , 0.1031099 , 0.3106065 ]],\n",
       "       dtype=float32),\n",
       " array([[2.2820532e-03, 7.0867300e-01, 8.5857213e-03, 3.6066771e-04,\n",
       "         1.6297555e-01, 7.3021650e-04, 1.0601580e-02, 5.7840878e-01,\n",
       "         6.9578423e-04, 3.7955296e-01]], dtype=float32),\n",
       " array([[1.2892485e-04, 0.0000000e+00, 0.0000000e+00, 0.0000000e+00,\n",
       "         2.9802322e-07, 1.1265278e-05, 3.1560659e-05, 1.0444611e-02,\n",
       "         4.2473193e-04, 3.5566316e-07]], dtype=float32),\n",
       " array([[8.9406967e-08, 9.3032289e-01, 9.9634027e-01, 7.2843581e-02,\n",
       "         9.4171095e-01, 4.1723251e-07, 9.9713171e-01, 5.3779072e-01,\n",
       "         6.0730882e-02, 1.6953577e-01]], dtype=float32),\n",
       " array([[2.5629997e-04, 4.7284365e-04, 4.9979985e-03, 1.6778708e-04,\n",
       "         1.3223261e-01, 1.4844799e-01, 2.8897375e-02, 9.9113369e-01,\n",
       "         1.6764472e-01, 8.4182090e-04]], dtype=float32),\n",
       " array([[4.2796135e-03, 1.1512002e-01, 1.8745810e-02, 4.4316053e-05,\n",
       "         6.7402542e-01, 4.9074322e-02, 1.0404646e-02, 8.0261481e-01,\n",
       "         6.3934344e-01, 3.2634338e-04]], dtype=float32),\n",
       " array([[3.0942559e-03, 7.9110265e-03, 7.1853399e-04, 2.1618009e-03,\n",
       "         7.3785770e-01, 1.7706752e-03, 8.4280640e-02, 1.9030476e-01,\n",
       "         1.8406995e-01, 1.6202083e-02]], dtype=float32),\n",
       " array([[8.9406967e-08, 9.3032289e-01, 9.9634027e-01, 7.2843581e-02,\n",
       "         9.4171095e-01, 4.1723251e-07, 9.9713171e-01, 5.3779072e-01,\n",
       "         6.0730882e-02, 1.6953577e-01]], dtype=float32),\n",
       " array([[0.10087276, 0.31962898, 0.12829965, 0.02965125, 0.4581654 ,\n",
       "         0.07998309, 0.44339234, 0.44280264, 0.11009055, 0.25384715]],\n",
       "       dtype=float32),\n",
       " array([[3.2782555e-07, 3.2830238e-04, 1.2137383e-01, 1.5797615e-03,\n",
       "         6.0529256e-01, 4.8588872e-02, 6.9760084e-03, 9.1010094e-01,\n",
       "         1.1957354e-01, 3.4577057e-03]], dtype=float32),\n",
       " array([[0.10801843, 0.9065367 , 0.33060658, 0.28302512, 0.84301543,\n",
       "         0.14051941, 0.67710024, 0.3065436 , 0.05704667, 0.71211267]],\n",
       "       dtype=float32),\n",
       " array([[8.2638264e-03, 2.2546145e-01, 4.3168217e-02, 7.3879957e-05,\n",
       "         5.7371032e-01, 3.8389564e-03, 6.4510554e-02, 6.7787409e-02,\n",
       "         1.2545907e-02, 3.6736296e-03]], dtype=float32),\n",
       " array([[0.10393792, 0.03955838, 0.00743684, 0.00915211, 0.28038728,\n",
       "         0.01531291, 0.29638022, 0.5607369 , 0.04926572, 0.02142822]],\n",
       "       dtype=float32),\n",
       " array([[0.35353327, 0.22630155, 0.29674473, 0.02787724, 0.6747902 ,\n",
       "         0.02475789, 0.54953474, 0.07025909, 0.01581899, 0.3597018 ]],\n",
       "       dtype=float32),\n",
       " array([[6.5640211e-03, 6.5602124e-02, 2.8116107e-03, 4.8213303e-03,\n",
       "         9.5040470e-02, 1.1857003e-02, 6.2588143e-01, 9.8032826e-01,\n",
       "         9.6096657e-04, 2.4464815e-03]], dtype=float32),\n",
       " array([[3.7702024e-03, 3.3543706e-03, 1.2355745e-03, 3.1292439e-06,\n",
       "         7.0085883e-02, 1.0455251e-03, 4.8576593e-03, 1.1301881e-01,\n",
       "         9.6847966e-02, 4.5790785e-04]], dtype=float32),\n",
       " array([[0.00585765, 0.48026794, 0.01977983, 0.00097176, 0.4826065 ,\n",
       "         0.12107691, 0.1334672 , 0.39182854, 0.20149064, 0.07552262]],\n",
       "       dtype=float32),\n",
       " array([[7.0730746e-03, 4.2584240e-02, 2.0049602e-02, 6.6524744e-04,\n",
       "         9.9502081e-01, 1.4090359e-02, 1.1482596e-02, 9.2527276e-01,\n",
       "         2.1423777e-03, 4.6701685e-02]], dtype=float32),\n",
       " array([[6.3392520e-04, 6.0983002e-03, 6.3312650e-03, 1.2514156e-01,\n",
       "         8.2855189e-01, 5.2294731e-03, 3.9161685e-01, 4.9561387e-01,\n",
       "         4.3987520e-02, 5.8316165e-01]], dtype=float32),\n",
       " array([[0.00187472, 0.52828   , 0.00527745, 0.04922822, 0.09373835,\n",
       "         0.00393006, 0.36147028, 0.25234598, 0.00385621, 0.04552038]],\n",
       "       dtype=float32),\n",
       " array([[0.01410136, 0.24474856, 0.03238142, 0.02076021, 0.18624166,\n",
       "         0.01798105, 0.19728568, 0.05484167, 0.02204281, 0.53230345]],\n",
       "       dtype=float32),\n",
       " array([[9.0175569e-03, 3.7397712e-01, 1.5211403e-03, 5.1681012e-01,\n",
       "         9.3722975e-01, 2.2053719e-05, 9.8408592e-01, 4.5386493e-01,\n",
       "         1.9648748e-03, 7.9040694e-01]], dtype=float32),\n",
       " array([[0.09295097, 0.6634842 , 0.02684426, 0.04182869, 0.4207203 ,\n",
       "         0.01882294, 0.41250008, 0.02629739, 0.02963988, 0.25974247]],\n",
       "       dtype=float32),\n",
       " array([[8.9406967e-08, 9.8852873e-01, 0.0000000e+00, 5.6028366e-06,\n",
       "         0.0000000e+00, 5.9604645e-08, 4.7208250e-02, 1.9417703e-03,\n",
       "         3.3766675e-05, 1.4402145e-03]], dtype=float32),\n",
       " array([[6.0843825e-03, 7.0132959e-01, 2.9930472e-04, 3.0383468e-04,\n",
       "         6.0793459e-03, 3.1308085e-02, 9.1897726e-02, 3.1580067e-01,\n",
       "         7.9036970e-04, 4.6661636e-01]], dtype=float32),\n",
       " array([[0.07520103, 0.51470757, 0.04154858, 0.32295558, 0.4485917 ,\n",
       "         0.04823571, 0.8378301 , 0.0318673 , 0.06394041, 0.8235087 ]],\n",
       "       dtype=float32),\n",
       " array([[3.41147184e-04, 5.20124078e-01, 2.27943063e-03, 1.62500143e-03,\n",
       "         2.07607448e-01, 1.03915334e-02, 2.13159472e-01, 5.61053753e-02,\n",
       "         7.46753160e-03, 1.01710215e-01]], dtype=float32),\n",
       " array([[1.6108155e-04, 2.5046057e-01, 7.6937675e-04, 3.7232041e-04,\n",
       "         1.3326344e-01, 1.3512075e-03, 2.5188684e-02, 4.5799822e-02,\n",
       "         2.6675768e-02, 1.6885599e-03]], dtype=float32),\n",
       " array([[5.9604645e-08, 1.7280132e-02, 2.2226572e-04, 0.0000000e+00,\n",
       "         1.3734996e-03, 0.0000000e+00, 1.5377998e-05, 9.2387199e-07,\n",
       "         2.4125129e-06, 0.0000000e+00]], dtype=float32),\n",
       " array([[6.8107635e-02, 6.0050285e-01, 7.3008537e-03, 1.8909574e-04,\n",
       "         3.8013485e-01, 1.2573600e-03, 6.2435091e-02, 1.7697036e-02,\n",
       "         2.6532378e-02, 3.3113647e-03]], dtype=float32),\n",
       " array([[0.00127187, 0.18693888, 0.11393321, 0.03005034, 0.6384959 ,\n",
       "         0.13062197, 0.25815916, 0.3171967 , 0.4290677 , 0.26013073]],\n",
       "       dtype=float32),\n",
       " array([[3.4570694e-06, 2.1240413e-03, 1.2244493e-02, 7.7820033e-01,\n",
       "         1.3214844e-01, 7.7881962e-02, 4.0508565e-01, 6.8292230e-01,\n",
       "         5.2693135e-01, 2.9828332e-03]], dtype=float32),\n",
       " array([[1.9818544e-05, 9.3655074e-01, 1.3732910e-04, 3.6776066e-04,\n",
       "         1.6867518e-03, 7.7030957e-03, 1.3672781e-01, 4.3022037e-03,\n",
       "         1.9221682e-02, 3.6995957e-04]], dtype=float32),\n",
       " array([[3.6647916e-04, 2.3349524e-03, 0.0000000e+00, 1.7881393e-07,\n",
       "         3.6513805e-04, 2.6792288e-04, 8.2147121e-04, 6.2920970e-01,\n",
       "         3.1046951e-02, 1.1368629e-06]], dtype=float32),\n",
       " array([[0.01196828, 0.8382837 , 0.00130141, 0.00084868, 0.06284195,\n",
       "         0.01320982, 0.5123326 , 0.49395514, 0.00737572, 0.07633814]],\n",
       "       dtype=float32),\n",
       " array([[0.09295097, 0.6634842 , 0.02684426, 0.04182869, 0.4207203 ,\n",
       "         0.01882294, 0.41250008, 0.02629739, 0.02963988, 0.25974247]],\n",
       "       dtype=float32),\n",
       " array([[6.5857470e-03, 1.5867212e-01, 1.7414975e-01, 1.7380714e-04,\n",
       "         9.5396471e-01, 3.3662319e-03, 3.3119786e-01, 1.2381047e-02,\n",
       "         1.0620552e-02, 2.4877418e-02]], dtype=float32),\n",
       " array([[6.8656236e-02, 1.9914508e-03, 7.4345350e-02, 1.4036894e-04,\n",
       "         2.2385025e-01, 4.2036176e-04, 5.4920316e-03, 6.0310125e-02,\n",
       "         5.8694551e-04, 1.5744003e-02]], dtype=float32),\n",
       " array([[0.10087276, 0.31962898, 0.12829965, 0.02965125, 0.4581654 ,\n",
       "         0.07998309, 0.44339234, 0.44280264, 0.11009055, 0.25384715]],\n",
       "       dtype=float32),\n",
       " array([[0.01377955, 0.08189294, 0.0009608 , 0.00060323, 0.20637468,\n",
       "         0.02057508, 0.32135707, 0.15890914, 0.24661426, 0.01729849]],\n",
       "       dtype=float32),\n",
       " array([[0.06062123, 0.44662833, 0.09896001, 0.32353157, 0.40391362,\n",
       "         0.17372376, 0.6656992 , 0.29419956, 0.20570555, 0.4751162 ]],\n",
       "       dtype=float32),\n",
       " array([[2.5421381e-05, 8.3110631e-02, 1.3246536e-03, 6.1041635e-01,\n",
       "         5.0985992e-02, 2.2297674e-01, 1.1770943e-01, 9.7133017e-01,\n",
       "         7.9533599e-02, 5.4565747e-03]], dtype=float32),\n",
       " array([[6.3392520e-04, 6.0983002e-03, 6.3312650e-03, 1.2514156e-01,\n",
       "         8.2855189e-01, 5.2294731e-03, 3.9161685e-01, 4.9561387e-01,\n",
       "         4.3987520e-02, 5.8316165e-01]], dtype=float32),\n",
       " array([[1.7940998e-05, 6.6722363e-01, 1.9583106e-04, 1.7897040e-02,\n",
       "         1.9248337e-02, 9.5714629e-03, 3.8481051e-01, 4.8661429e-01,\n",
       "         4.5052458e-02, 1.1440060e-01]], dtype=float32),\n",
       " array([[0.00156435, 0.27933758, 0.34672168, 0.01235616, 0.6933554 ,\n",
       "         0.01058787, 0.14407676, 0.17403924, 0.03697636, 0.06118678]],\n",
       "       dtype=float32),\n",
       " array([[1.4886260e-03, 1.8190333e-01, 2.3231983e-02, 1.5297532e-04,\n",
       "         2.7471966e-01, 6.0994923e-03, 9.5781147e-02, 8.4213197e-02,\n",
       "         1.6639858e-02, 6.5137446e-02]], dtype=float32),\n",
       " array([[0.00078246, 0.1168721 , 0.01592422, 0.00267017, 0.0316149 ,\n",
       "         0.00492781, 0.14372972, 0.48902762, 0.02383508, 0.00661635]],\n",
       "       dtype=float32),\n",
       " array([[6.4253807e-05, 9.9804950e-01, 2.9956996e-03, 6.2584877e-07,\n",
       "         7.1309203e-01, 1.5199184e-06, 4.6088523e-01, 8.3355194e-01,\n",
       "         1.0554031e-07, 2.3335256e-03]], dtype=float32),\n",
       " array([[3.2782555e-07, 3.2830238e-04, 1.2137383e-01, 1.5797615e-03,\n",
       "         6.0529256e-01, 4.8588872e-02, 6.9760084e-03, 9.1010094e-01,\n",
       "         1.1957354e-01, 3.4577057e-03]], dtype=float32),\n",
       " array([[6.5640211e-03, 6.5602124e-02, 2.8116107e-03, 4.8213303e-03,\n",
       "         9.5040470e-02, 1.1857003e-02, 6.2588143e-01, 9.8032826e-01,\n",
       "         9.6096657e-04, 2.4464815e-03]], dtype=float32),\n",
       " array([[6.5857470e-03, 1.5867212e-01, 1.7414975e-01, 1.7380714e-04,\n",
       "         9.5396471e-01, 3.3662319e-03, 3.3119786e-01, 1.2381047e-02,\n",
       "         1.0620552e-02, 2.4877418e-02]], dtype=float32),\n",
       " array([[2.8518975e-02, 1.9661546e-02, 1.6447574e-02, 4.8517883e-03,\n",
       "         9.8459691e-01, 1.1974573e-04, 6.5532923e-03, 8.7548792e-03,\n",
       "         6.5134270e-03, 3.2180946e-03]], dtype=float32),\n",
       " array([[1.33514404e-05, 1.47112608e-02, 1.26818389e-01, 3.22625041e-03,\n",
       "         2.13759124e-01, 2.30106711e-03, 3.79168987e-03, 9.84831214e-01,\n",
       "         1.51570365e-02, 7.03308906e-05]], dtype=float32),\n",
       " array([[2.8518975e-02, 1.9661546e-02, 1.6447574e-02, 4.8517883e-03,\n",
       "         9.8459691e-01, 1.1974573e-04, 6.5532923e-03, 8.7548792e-03,\n",
       "         6.5134270e-03, 3.2180946e-03]], dtype=float32),\n",
       " array([[0.01291892, 0.31689078, 0.18430242, 0.00102261, 0.1948655 ,\n",
       "         0.02576867, 0.04296327, 0.8419087 , 0.00821682, 0.05912579]],\n",
       "       dtype=float32),\n",
       " array([[1.6108155e-04, 2.5046057e-01, 7.6937675e-04, 3.7232041e-04,\n",
       "         1.3326344e-01, 1.3512075e-03, 2.5188684e-02, 4.5799822e-02,\n",
       "         2.6675768e-02, 1.6885599e-03]], dtype=float32),\n",
       " array([[1.33514404e-05, 1.47112608e-02, 1.26818389e-01, 3.22625041e-03,\n",
       "         2.13759124e-01, 2.30106711e-03, 3.79168987e-03, 9.84831214e-01,\n",
       "         1.51570365e-02, 7.03308906e-05]], dtype=float32),\n",
       " array([[1.9329786e-04, 5.6222957e-01, 9.0644360e-03, 2.0213425e-03,\n",
       "         6.2336671e-01, 4.2006761e-02, 2.4890208e-01, 9.3951732e-02,\n",
       "         7.8835979e-02, 2.2752909e-02]], dtype=float32),\n",
       " array([[0.05260968, 0.5340427 , 0.02380913, 0.10749155, 0.5913991 ,\n",
       "         0.04729334, 0.7400423 , 0.48884854, 0.0614189 , 0.5212594 ]],\n",
       "       dtype=float32),\n",
       " array([[1.1026859e-04, 3.3949018e-03, 2.0656079e-02, 7.2330236e-05,\n",
       "         9.3664527e-03, 4.1273716e-01, 2.7379692e-03, 9.7610867e-01,\n",
       "         5.0615147e-02, 1.0040791e-04]], dtype=float32),\n",
       " array([[0.07520103, 0.51470757, 0.04154858, 0.32295558, 0.4485917 ,\n",
       "         0.04823571, 0.8378301 , 0.0318673 , 0.06394041, 0.8235087 ]],\n",
       "       dtype=float32),\n",
       " array([[1.1026859e-04, 3.3949018e-03, 2.0656079e-02, 7.2330236e-05,\n",
       "         9.3664527e-03, 4.1273716e-01, 2.7379692e-03, 9.7610867e-01,\n",
       "         5.0615147e-02, 1.0040791e-04]], dtype=float32),\n",
       " array([[0.60887825, 0.26193702, 0.19721812, 0.0323346 , 0.40847677,\n",
       "         0.09485817, 0.59770495, 0.4248598 , 0.1031099 , 0.3106065 ]],\n",
       "       dtype=float32),\n",
       " array([[0.10657784, 0.7092415 , 0.22033507, 0.30093533, 0.74805534,\n",
       "         0.02817571, 0.59068763, 0.19006836, 0.00819801, 0.5517468 ]],\n",
       "       dtype=float32),\n",
       " array([[0.00215772, 0.1504665 , 0.06311518, 0.0031755 , 0.37821728,\n",
       "         0.02919066, 0.25682607, 0.9126915 , 0.01085406, 0.06205827]],\n",
       "       dtype=float32),\n",
       " array([[2.7626157e-03, 9.4307572e-02, 3.3575296e-04, 1.1086464e-05,\n",
       "         1.2762010e-01, 1.1682510e-05, 5.3106314e-01, 3.7094676e-01,\n",
       "         5.7771336e-04, 1.9852672e-04]], dtype=float32),\n",
       " array([[0.01904315, 0.07946494, 0.11120752, 0.05332404, 0.31275424,\n",
       "         0.308905  , 0.23862761, 0.31654406, 0.09854762, 0.1459727 ]],\n",
       "       dtype=float32),\n",
       " array([[0.00131279, 0.8005318 , 0.17609549, 0.0552671 , 0.5807309 ,\n",
       "         0.11531118, 0.37558678, 0.81147766, 0.16299248, 0.639795  ]],\n",
       "       dtype=float32),\n",
       " array([[0.00187472, 0.52828   , 0.00527745, 0.04922822, 0.09373835,\n",
       "         0.00393006, 0.36147028, 0.25234598, 0.00385621, 0.04552038]],\n",
       "       dtype=float32),\n",
       " array([[0.10663718, 0.31294763, 0.03374222, 0.1473147 , 0.4394846 ,\n",
       "         0.2549048 , 0.54385865, 0.73477095, 0.18079235, 0.7733684 ]],\n",
       "       dtype=float32),\n",
       " array([[0.0154874 , 0.25885192, 0.02428022, 0.00342077, 0.28156415,\n",
       "         0.0025312 , 0.24499193, 0.18271992, 0.01684297, 0.37956032]],\n",
       "       dtype=float32),\n",
       " array([[2.4137795e-03, 2.2410336e-01, 2.2727907e-02, 4.9114227e-05,\n",
       "         1.5733987e-02, 1.3782465e-01, 4.0847808e-02, 9.4883442e-01,\n",
       "         2.6561790e-03, 7.3044181e-02]], dtype=float32),\n",
       " array([[4.7212839e-03, 4.0118900e-01, 1.2338459e-03, 2.0554662e-04,\n",
       "         2.3659632e-01, 1.0573268e-03, 1.1355230e-01, 2.7554899e-02,\n",
       "         4.9461410e-03, 4.7752727e-02]], dtype=float32),\n",
       " array([[8.8751316e-05, 1.4892820e-01, 4.0410942e-01, 8.7407738e-02,\n",
       "         9.3495536e-01, 4.5878798e-02, 4.7038114e-01, 9.4387913e-01,\n",
       "         9.8478228e-01, 1.4085507e-01]], dtype=float32),\n",
       " array([[6.4253807e-05, 9.9804950e-01, 2.9956996e-03, 6.2584877e-07,\n",
       "         7.1309203e-01, 1.5199184e-06, 4.6088523e-01, 8.3355194e-01,\n",
       "         1.0554031e-07, 2.3335256e-03]], dtype=float32),\n",
       " array([[1.9329786e-04, 5.6222957e-01, 9.0644360e-03, 2.0213425e-03,\n",
       "         6.2336671e-01, 4.2006761e-02, 2.4890208e-01, 9.3951732e-02,\n",
       "         7.8835979e-02, 2.2752909e-02]], dtype=float32),\n",
       " array([[1.0865629e-03, 1.2811738e-01, 1.8179417e-06, 0.0000000e+00,\n",
       "         5.8880746e-03, 7.6830387e-05, 1.4528632e-04, 1.5232861e-03,\n",
       "         4.0831282e-03, 3.3921927e-07]], dtype=float32),\n",
       " array([[3.6647916e-04, 2.3349524e-03, 0.0000000e+00, 1.7881393e-07,\n",
       "         3.6513805e-04, 2.6792288e-04, 8.2147121e-04, 6.2920970e-01,\n",
       "         3.1046951e-02, 1.1368629e-06]], dtype=float32),\n",
       " array([[0.00098246, 0.05535975, 0.01668185, 0.04047808, 0.08288959,\n",
       "         0.0186975 , 0.18760774, 0.78648806, 0.0230524 , 0.09169061]],\n",
       "       dtype=float32),\n",
       " array([[0.00078246, 0.1168721 , 0.01592422, 0.00267017, 0.0316149 ,\n",
       "         0.00492781, 0.14372972, 0.48902762, 0.02383508, 0.00661635]],\n",
       "       dtype=float32),\n",
       " array([[4.4323206e-03, 1.6839504e-02, 4.0329099e-03, 7.1227551e-06,\n",
       "         8.8747680e-02, 5.0812364e-03, 2.2229165e-02, 3.1644303e-01,\n",
       "         7.4834742e-02, 7.1155795e-05]], dtype=float32),\n",
       " array([[0.01432344, 0.41600227, 0.00057757, 0.00073022, 0.00644937,\n",
       "         0.00177011, 0.04438019, 0.0793409 , 0.18369642, 0.13125823]],\n",
       "       dtype=float32),\n",
       " array([[6.6554797e-01, 2.1072137e-01, 6.9112808e-02, 5.7074428e-04,\n",
       "         5.0772727e-01, 2.9962569e-02, 3.0703372e-01, 1.8227065e-01,\n",
       "         1.8327732e-01, 1.7096032e-01]], dtype=float32),\n",
       " array([[3.41147184e-04, 5.20124078e-01, 2.27943063e-03, 1.62500143e-03,\n",
       "         2.07607448e-01, 1.03915334e-02, 2.13159472e-01, 5.61053753e-02,\n",
       "         7.46753160e-03, 1.01710215e-01]], dtype=float32)]"
      ]
     },
     "execution_count": 57,
     "metadata": {},
     "output_type": "execute_result"
    }
   ],
   "source": [
    "y_ml_r"
   ]
  },
  {
   "cell_type": "code",
   "execution_count": 58,
   "metadata": {},
   "outputs": [
    {
     "data": {
      "text/plain": [
       "array(['Add', 'Cut', 'Mix', 'Open', 'Peel', 'Pour', 'Put', 'Take', 'Wash',\n",
       "       'other'], dtype=object)"
      ]
     },
     "execution_count": 58,
     "metadata": {},
     "output_type": "execute_result"
    }
   ],
   "source": [
    "mlb.classes_"
   ]
  },
  {
   "cell_type": "code",
   "execution_count": 59,
   "metadata": {},
   "outputs": [
    {
     "data": {
      "text/plain": [
       "['sandwich',\n",
       " 'fruitsalad',\n",
       " 'fruitsalad',\n",
       " 'cereal',\n",
       " 'fruitsalad',\n",
       " 'fruitsalad',\n",
       " 'sandwich',\n",
       " 'fruitsalad',\n",
       " 'sandwich',\n",
       " 'fruitsalad',\n",
       " 'fruitsalad',\n",
       " 'sandwich',\n",
       " 'fruitsalad',\n",
       " 'fruitsalad',\n",
       " 'fruitsalad',\n",
       " 'sandwich',\n",
       " 'fruitsalad',\n",
       " 'cereal',\n",
       " 'cereal',\n",
       " 'fruitsalad',\n",
       " 'fruitsalad',\n",
       " 'fruitsalad',\n",
       " 'sandwich',\n",
       " 'fruitsalad',\n",
       " 'fruitsalad',\n",
       " 'sandwich',\n",
       " 'fruitsalad',\n",
       " 'sandwich',\n",
       " 'fruitsalad',\n",
       " 'fruitsalad',\n",
       " 'sandwich',\n",
       " 'sandwich',\n",
       " 'fruitsalad',\n",
       " 'sandwich',\n",
       " 'sandwich',\n",
       " 'sandwich',\n",
       " 'fruitsalad',\n",
       " 'cereal',\n",
       " 'sandwich',\n",
       " 'sandwich',\n",
       " 'sandwich',\n",
       " 'sandwich',\n",
       " 'sandwich',\n",
       " 'cereal',\n",
       " 'sandwich',\n",
       " 'sandwich',\n",
       " 'sandwich',\n",
       " 'sandwich',\n",
       " 'cereal',\n",
       " 'sandwich',\n",
       " 'fruitsalad',\n",
       " 'fruitsalad',\n",
       " 'cereal',\n",
       " 'cereal',\n",
       " 'fruitsalad',\n",
       " 'cereal',\n",
       " 'fruitsalad',\n",
       " 'fruitsalad',\n",
       " 'sandwich',\n",
       " 'cereal',\n",
       " 'fruitsalad',\n",
       " 'fruitsalad',\n",
       " 'fruitsalad',\n",
       " 'cereal',\n",
       " 'fruitsalad',\n",
       " 'fruitsalad',\n",
       " 'cereal',\n",
       " 'fruitsalad',\n",
       " 'fruitsalad',\n",
       " 'cereal',\n",
       " 'cereal',\n",
       " 'fruitsalad',\n",
       " 'fruitsalad',\n",
       " 'fruitsalad',\n",
       " 'fruitsalad',\n",
       " 'fruitsalad',\n",
       " 'sandwich',\n",
       " 'fruitsalad',\n",
       " 'fruitsalad',\n",
       " 'sandwich',\n",
       " 'cereal',\n",
       " 'fruitsalad',\n",
       " 'cereal',\n",
       " 'sandwich',\n",
       " 'fruitsalad',\n",
       " 'sandwich',\n",
       " 'fruitsalad',\n",
       " 'fruitsalad',\n",
       " 'fruitsalad',\n",
       " 'fruitsalad',\n",
       " 'cereal',\n",
       " 'sandwich',\n",
       " 'sandwich',\n",
       " 'sandwich',\n",
       " 'sandwich',\n",
       " 'fruitsalad',\n",
       " 'fruitsalad',\n",
       " 'sandwich',\n",
       " 'fruitsalad',\n",
       " 'cereal',\n",
       " 'cereal',\n",
       " 'sandwich',\n",
       " 'sandwich',\n",
       " 'cereal',\n",
       " 'sandwich',\n",
       " 'sandwich',\n",
       " 'cereal',\n",
       " 'sandwich',\n",
       " 'fruitsalad',\n",
       " 'fruitsalad',\n",
       " 'fruitsalad',\n",
       " 'fruitsalad',\n",
       " 'fruitsalad',\n",
       " 'sandwich',\n",
       " 'sandwich',\n",
       " 'sandwich',\n",
       " 'fruitsalad',\n",
       " 'sandwich',\n",
       " 'sandwich',\n",
       " 'sandwich',\n",
       " 'cereal',\n",
       " 'sandwich',\n",
       " 'sandwich',\n",
       " 'fruitsalad',\n",
       " 'sandwich',\n",
       " 'fruitsalad',\n",
       " 'fruitsalad',\n",
       " 'fruitsalad',\n",
       " 'fruitsalad',\n",
       " 'fruitsalad',\n",
       " 'fruitsalad',\n",
       " 'sandwich',\n",
       " 'sandwich',\n",
       " 'sandwich',\n",
       " 'sandwich',\n",
       " 'fruitsalad',\n",
       " 'fruitsalad',\n",
       " 'sandwich',\n",
       " 'sandwich',\n",
       " 'fruitsalad',\n",
       " 'fruitsalad',\n",
       " 'sandwich',\n",
       " 'sandwich',\n",
       " 'sandwich',\n",
       " 'sandwich',\n",
       " 'fruitsalad',\n",
       " 'sandwich',\n",
       " 'sandwich',\n",
       " 'sandwich',\n",
       " 'sandwich',\n",
       " 'fruitsalad',\n",
       " 'fruitsalad',\n",
       " 'sandwich',\n",
       " 'sandwich',\n",
       " 'fruitsalad',\n",
       " 'fruitsalad',\n",
       " 'sandwich',\n",
       " 'fruitsalad',\n",
       " 'fruitsalad',\n",
       " 'sandwich',\n",
       " 'fruitsalad',\n",
       " 'sandwich',\n",
       " 'sandwich',\n",
       " 'fruitsalad',\n",
       " 'sandwich',\n",
       " 'fruitsalad',\n",
       " 'fruitsalad',\n",
       " 'sandwich',\n",
       " 'fruitsalad',\n",
       " 'fruitsalad',\n",
       " 'sandwich',\n",
       " 'sandwich',\n",
       " 'fruitsalad',\n",
       " 'fruitsalad',\n",
       " 'sandwich',\n",
       " 'sandwich',\n",
       " 'fruitsalad',\n",
       " 'fruitsalad',\n",
       " 'cereal',\n",
       " 'sandwich']"
      ]
     },
     "execution_count": 59,
     "metadata": {},
     "output_type": "execute_result"
    }
   ],
   "source": [
    "y_gen"
   ]
  },
  {
   "cell_type": "code",
   "execution_count": 72,
   "metadata": {},
   "outputs": [
    {
     "data": {
      "text/plain": [
       "['Take,Wash,',\n",
       " 'Take,Wash,',\n",
       " 'Peel,Put,Take,Wash,',\n",
       " 'Add,Cut,Peel,Put,Take,other,',\n",
       " 'Cut,Peel,Put,Take,',\n",
       " 'Cut,Peel,',\n",
       " 'Cut,Peel,',\n",
       " 'Peel,Take,',\n",
       " 'Mix,Take,',\n",
       " 'Put,Take,',\n",
       " 'Take,Wash,',\n",
       " 'Cut,Peel,Put,',\n",
       " 'Cut,Take,',\n",
       " 'Peel,Put,Take,Wash,',\n",
       " 'Cut,Put,Take,',\n",
       " 'Cut,other,',\n",
       " 'Cut,Put,Take,other,',\n",
       " 'Cut,Mix,Peel,Put,other,',\n",
       " 'Cut,Peel,Put,Wash,',\n",
       " 'Cut,Peel,Put,Take,other,',\n",
       " 'Peel,Take,',\n",
       " 'Peel,Take,',\n",
       " 'Take,Wash,',\n",
       " 'Peel,Take,',\n",
       " 'Peel,Take,',\n",
       " 'Cut,Open,Peel,Put,other,',\n",
       " 'Cut,Peel,',\n",
       " 'Cut,Take,other,',\n",
       " 'Cut,Mix,Peel,',\n",
       " 'Peel,Take,Wash,',\n",
       " 'Cut,Put,Take,other,',\n",
       " 'Open,Take,',\n",
       " 'Cut,Peel,Put,other,',\n",
       " 'Cut,Peel,Put,Take,Wash,other,',\n",
       " 'Cut,Open,Peel,Put,Take,other,',\n",
       " 'Cut,other,',\n",
       " 'Peel,Take,',\n",
       " 'Cut,Take,other,',\n",
       " 'Cut,Peel,',\n",
       " 'Put,Take,',\n",
       " 'Cut,Peel,Put,Take,Wash,other,',\n",
       " 'Put,Take,',\n",
       " 'Cut,Peel,',\n",
       " 'Take,Wash,',\n",
       " 'Open,Peel,',\n",
       " 'Mix,Peel,',\n",
       " 'Take,Wash,',\n",
       " 'Open,Peel,',\n",
       " 'Cut,Put,other,',\n",
       " 'Take,Wash,',\n",
       " 'Cut,Put,Take,other,',\n",
       " 'Mix,Peel,Put,Take,Wash,',\n",
       " 'Cut,Peel,Put,Take,other,',\n",
       " 'Cut,Put,other,',\n",
       " 'Cut,Put,',\n",
       " 'Cut,Peel,Put,Wash,',\n",
       " 'Peel,Put,other,',\n",
       " 'Cut,Open,Peel,Put,Take,other,',\n",
       " 'Pour,Take,Wash,',\n",
       " 'Cut,Mix,Peel,Put,other,',\n",
       " 'Cut,Put,Take,',\n",
       " 'Open,Peel,Put,Take,other,',\n",
       " 'Peel,Take,',\n",
       " 'Add,Cut,Peel,Put,Take,other,',\n",
       " 'Take,Wash,',\n",
       " 'Cut,Peel,Take,',\n",
       " 'Cut,Mix,Open,Peel,Put,Take,other,',\n",
       " 'Peel,Take,',\n",
       " 'Take,Wash,',\n",
       " 'Cut,Peel,Put,other,',\n",
       " 'Add,Cut,',\n",
       " 'Cut,Peel,Put,other,',\n",
       " 'Cut,Peel,',\n",
       " 'Cut,other,',\n",
       " 'Put,Wash,',\n",
       " 'Peel,Put,Take,Wash,',\n",
       " 'Peel,Take,',\n",
       " 'Cut,Peel,Put,Take,other,',\n",
       " 'Peel,Put,Take,',\n",
       " 'Peel,Pour,Take,',\n",
       " 'Cut,Peel,Put,other,',\n",
       " 'Cut,Take,',\n",
       " 'Cut,Peel,Put,Take,other,',\n",
       " 'Cut,other,',\n",
       " 'Take,Wash,',\n",
       " 'Mix,Take,',\n",
       " 'Peel,Put,other,',\n",
       " 'Cut,Wash,',\n",
       " 'Open,Put,Take,Wash,',\n",
       " 'Peel,Put,Take,Wash,',\n",
       " 'Add,Cut,',\n",
       " 'Cut,Peel,',\n",
       " 'Cut,Peel,Put,',\n",
       " 'Cut,Put,',\n",
       " 'Peel,Take,Wash,',\n",
       " 'Peel,Take,',\n",
       " 'Add,Peel,Put,Take,other,',\n",
       " 'Cut,Take,other,',\n",
       " 'Take,Wash,',\n",
       " 'Cut,Mix,Peel,Put,Take,',\n",
       " 'Take,Wash,',\n",
       " 'Peel,Take,Wash,',\n",
       " 'Peel,Take,',\n",
       " 'Cut,Mix,Peel,Put,Take,',\n",
       " 'Cut,Peel,Put,Take,',\n",
       " 'Peel,Take,',\n",
       " 'Cut,Mix,Open,Peel,Put,Take,other,',\n",
       " 'Cut,Peel,',\n",
       " 'Peel,Put,Take,',\n",
       " 'Add,Mix,Peel,Put,other,',\n",
       " 'Put,Take,',\n",
       " 'Take,Wash,',\n",
       " 'Cut,Peel,Take,',\n",
       " 'Peel,Take,',\n",
       " 'Peel,Put,Take,other,',\n",
       " 'Cut,Put,',\n",
       " 'Cut,other,',\n",
       " 'Cut,Open,Peel,Put,Take,other,',\n",
       " 'Cut,Peel,Put,',\n",
       " 'Cut,Put,',\n",
       " 'Cut,Take,other,',\n",
       " 'Cut,Open,Peel,Put,other,',\n",
       " 'Cut,Put,',\n",
       " 'Cut,Peel,',\n",
       " 'Cut,Peel,',\n",
       " 'Cut,Peel,',\n",
       " 'Peel,Take,Wash,',\n",
       " 'Open,Put,Take,Wash,',\n",
       " 'Cut,Put,',\n",
       " 'Take,Wash,',\n",
       " 'Cut,Put,Take,',\n",
       " 'Cut,Peel,Put,',\n",
       " 'Peel,Put,',\n",
       " 'Mix,Peel,',\n",
       " 'Cut,Peel,Put,Take,',\n",
       " 'Put,Wash,',\n",
       " 'Cut,Open,Peel,Put,Take,other,',\n",
       " 'Open,Take,',\n",
       " 'Peel,Put,Take,other,',\n",
       " 'Cut,Put,Take,',\n",
       " 'Cut,Mix,Peel,',\n",
       " 'Cut,Peel,',\n",
       " 'Put,Take,',\n",
       " 'Cut,Peel,Put,Take,',\n",
       " 'Peel,Take,',\n",
       " 'Put,Take,',\n",
       " 'Peel,Put,',\n",
       " 'Add,Peel,',\n",
       " 'Peel,Take,',\n",
       " 'Add,Peel,',\n",
       " 'Cut,Take,',\n",
       " 'Cut,Peel,',\n",
       " 'Peel,Take,',\n",
       " 'Cut,Peel,',\n",
       " 'Cut,Peel,Put,Take,other,',\n",
       " 'Pour,Take,',\n",
       " 'Cut,Open,Peel,Put,other,',\n",
       " 'Pour,Take,',\n",
       " 'Add,Peel,Put,Take,other,',\n",
       " 'Cut,Open,Peel,Put,other,',\n",
       " 'Peel,Take,',\n",
       " 'Put,Take,',\n",
       " 'Peel,Pour,Take,',\n",
       " 'Cut,Peel,Put,Take,other,',\n",
       " 'Cut,Put,',\n",
       " 'Cut,Peel,Put,Take,other,',\n",
       " 'Peel,other,',\n",
       " 'Cut,Take,',\n",
       " 'Cut,Peel,',\n",
       " 'Mix,Peel,Put,Take,Wash,',\n",
       " 'Cut,Peel,Put,Take,',\n",
       " 'Cut,Peel,',\n",
       " 'Cut,Peel,',\n",
       " 'Take,Wash,',\n",
       " 'Put,Take,',\n",
       " 'Put,Take,',\n",
       " 'Peel,Take,',\n",
       " 'Cut,Wash,',\n",
       " 'Add,Peel,Put,',\n",
       " 'Cut,Put,']"
      ]
     },
     "execution_count": 72,
     "metadata": {},
     "output_type": "execute_result"
    }
   ],
   "source": [
    "y_ml_gen"
   ]
  },
  {
   "cell_type": "code",
   "execution_count": 70,
   "metadata": {},
   "outputs": [],
   "source": [
    "file_ids = [f.split(os.sep)[-1].split('.')[0] for f in files]"
   ]
  },
  {
   "cell_type": "code",
   "execution_count": 71,
   "metadata": {},
   "outputs": [
    {
     "data": {
      "text/plain": [
       "['subject4_file_1',\n",
       " 'subject4_file_100',\n",
       " 'subject4_file_104',\n",
       " 'subject4_file_106',\n",
       " 'subject4_file_112',\n",
       " 'subject4_file_115',\n",
       " 'subject4_file_117',\n",
       " 'subject4_file_118',\n",
       " 'subject4_file_12',\n",
       " 'subject4_file_121',\n",
       " 'subject4_file_125',\n",
       " 'subject4_file_129',\n",
       " 'subject4_file_154',\n",
       " 'subject4_file_156',\n",
       " 'subject4_file_161',\n",
       " 'subject4_file_164',\n",
       " 'subject4_file_165',\n",
       " 'subject4_file_166',\n",
       " 'subject4_file_17',\n",
       " 'subject4_file_171',\n",
       " 'subject4_file_173',\n",
       " 'subject4_file_174',\n",
       " 'subject4_file_176',\n",
       " 'subject4_file_18',\n",
       " 'subject4_file_180',\n",
       " 'subject4_file_182',\n",
       " 'subject4_file_183',\n",
       " 'subject4_file_186',\n",
       " 'subject4_file_190',\n",
       " 'subject4_file_198',\n",
       " 'subject4_file_209',\n",
       " 'subject4_file_219',\n",
       " 'subject4_file_22',\n",
       " 'subject4_file_223',\n",
       " 'subject4_file_225',\n",
       " 'subject4_file_226',\n",
       " 'subject4_file_23',\n",
       " 'subject4_file_231',\n",
       " 'subject4_file_235',\n",
       " 'subject4_file_237',\n",
       " 'subject4_file_253',\n",
       " 'subject4_file_256',\n",
       " 'subject4_file_258',\n",
       " 'subject4_file_26',\n",
       " 'subject4_file_262',\n",
       " 'subject4_file_267',\n",
       " 'subject4_file_274',\n",
       " 'subject4_file_276',\n",
       " 'subject4_file_278',\n",
       " 'subject4_file_282',\n",
       " 'subject4_file_284',\n",
       " 'subject4_file_285',\n",
       " 'subject4_file_286',\n",
       " 'subject4_file_288',\n",
       " 'subject4_file_295',\n",
       " 'subject4_file_3',\n",
       " 'subject4_file_302',\n",
       " 'subject4_file_307',\n",
       " 'subject4_file_313',\n",
       " 'subject4_file_317',\n",
       " 'subject4_file_321',\n",
       " 'subject4_file_324',\n",
       " 'subject4_file_325',\n",
       " 'subject4_file_327',\n",
       " 'subject4_file_335',\n",
       " 'subject4_file_336',\n",
       " 'subject4_file_358',\n",
       " 'subject4_file_360',\n",
       " 'subject4_file_363',\n",
       " 'subject4_file_366',\n",
       " 'subject4_file_369',\n",
       " 'subject4_file_38',\n",
       " 'subject4_file_387',\n",
       " 'subject4_file_392',\n",
       " 'subject4_file_396',\n",
       " 'subject4_file_398',\n",
       " 'subject4_file_402',\n",
       " 'subject4_file_41',\n",
       " 'subject4_file_414',\n",
       " 'subject4_file_418',\n",
       " 'subject4_file_419',\n",
       " 'subject4_file_439',\n",
       " 'subject4_file_443',\n",
       " 'subject4_file_451',\n",
       " 'subject4_file_456',\n",
       " 'subject4_file_457',\n",
       " 'subject4_file_458',\n",
       " 'subject4_file_470',\n",
       " 'subject4_file_495',\n",
       " 'subject4_file_505',\n",
       " 'subject4_file_521',\n",
       " 'subject4_file_529',\n",
       " 'subject4_file_537',\n",
       " 'subject4_file_538',\n",
       " 'subject4_file_539',\n",
       " 'subject4_file_544',\n",
       " 'subject4_file_553',\n",
       " 'subject4_file_563',\n",
       " 'subject4_file_571',\n",
       " 'subject4_file_578',\n",
       " 'subject4_file_58',\n",
       " 'subject4_file_592',\n",
       " 'subject4_file_6',\n",
       " 'subject4_file_602',\n",
       " 'subject4_file_61',\n",
       " 'subject4_file_613',\n",
       " 'subject4_file_62',\n",
       " 'subject4_file_623',\n",
       " 'subject4_file_624',\n",
       " 'subject4_file_63',\n",
       " 'subject4_file_630',\n",
       " 'subject4_file_632',\n",
       " 'subject4_file_633',\n",
       " 'subject4_file_634',\n",
       " 'subject4_file_646',\n",
       " 'subject4_file_650',\n",
       " 'subject4_file_651',\n",
       " 'subject4_file_652',\n",
       " 'subject4_file_668',\n",
       " 'subject4_file_675',\n",
       " 'subject4_file_676',\n",
       " 'subject4_file_68',\n",
       " 'subject4_file_693',\n",
       " 'subject4_file_7',\n",
       " 'subject4_file_704',\n",
       " 'subject4_file_706',\n",
       " 'subject4_file_711',\n",
       " 'subject4_file_714',\n",
       " 'subject4_file_718',\n",
       " 'subject4_file_727',\n",
       " 'subject4_file_736',\n",
       " 'subject4_file_737',\n",
       " 'subject4_file_739',\n",
       " 'subject4_file_746',\n",
       " 'subject4_file_761',\n",
       " 'subject4_file_774',\n",
       " 'subject4_file_776',\n",
       " 'subject4_file_777',\n",
       " 'subject4_file_779',\n",
       " 'subject4_file_783',\n",
       " 'subject4_file_806',\n",
       " 'subject4_file_812',\n",
       " 'subject4_file_817',\n",
       " 'subject4_file_821',\n",
       " 'subject4_file_822',\n",
       " 'subject4_file_826',\n",
       " 'subject4_file_829',\n",
       " 'subject4_file_834',\n",
       " 'subject4_file_835',\n",
       " 'subject4_file_838',\n",
       " 'subject4_file_842',\n",
       " 'subject4_file_843',\n",
       " 'subject4_file_852',\n",
       " 'subject4_file_854',\n",
       " 'subject4_file_856',\n",
       " 'subject4_file_860',\n",
       " 'subject4_file_869',\n",
       " 'subject4_file_871',\n",
       " 'subject4_file_877',\n",
       " 'subject4_file_918',\n",
       " 'subject4_file_921',\n",
       " 'subject4_file_936',\n",
       " 'subject4_file_942',\n",
       " 'subject4_file_947',\n",
       " 'subject4_file_957',\n",
       " 'subject4_file_960',\n",
       " 'subject4_file_961',\n",
       " 'subject4_file_962',\n",
       " 'subject4_file_966',\n",
       " 'subject4_file_968',\n",
       " 'subject4_file_969',\n",
       " 'subject4_file_97',\n",
       " 'subject4_file_975',\n",
       " 'subject4_file_978',\n",
       " 'subject4_file_980',\n",
       " 'subject4_file_984',\n",
       " 'subject4_file_985',\n",
       " 'subject4_file_986',\n",
       " 'subject4_file_993',\n",
       " 'subject4_file_995']"
      ]
     },
     "execution_count": 71,
     "metadata": {},
     "output_type": "execute_result"
    }
   ],
   "source": [
    "file_ids"
   ]
  },
  {
   "cell_type": "code",
   "execution_count": 73,
   "metadata": {},
   "outputs": [],
   "source": [
    "dict_data = {'file_id': file_ids, 'macro': y_gen, 'micro': y_ml_gen}\n",
    "out_csv = pd.DataFrame(dict_data)"
   ]
  },
  {
   "cell_type": "code",
   "execution_count": 74,
   "metadata": {},
   "outputs": [],
   "source": [
    "out_csv.to_csv('cc_PseudoEmpirical_submission2.csv', index = False, header = False, sep = ';')"
   ]
  },
  {
   "cell_type": "code",
   "execution_count": null,
   "metadata": {},
   "outputs": [],
   "source": []
  }
 ],
 "metadata": {
  "kernelspec": {
   "display_name": "Python 3",
   "language": "python",
   "name": "python3"
  },
  "language_info": {
   "codemirror_mode": {
    "name": "ipython",
    "version": 3
   },
   "file_extension": ".py",
   "mimetype": "text/x-python",
   "name": "python",
   "nbconvert_exporter": "python",
   "pygments_lexer": "ipython3",
   "version": "3.7.4"
  }
 },
 "nbformat": 4,
 "nbformat_minor": 4
}
