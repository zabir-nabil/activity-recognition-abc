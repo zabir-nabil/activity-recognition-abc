{
 "cells": [
  {
   "cell_type": "code",
   "execution_count": 2,
   "metadata": {},
   "outputs": [
    {
     "name": "stdout",
     "output_type": "stream",
     "text": [
      "C:\\Projects\\activity-recognition-abc\n",
      "C:\\Projects\\activity-recognition-abc\\train\\train\n"
     ]
    }
   ],
   "source": [
    "import pandas as pd\n",
    "import glob\n",
    "import numpy as np\n",
    "%matplotlib inline\n",
    "\n",
    "import os\n",
    "os.environ['TF_CPP_MIN_LOG_LEVEL'] = '3' \n",
    "\n",
    "import logging\n",
    "\n",
    "cdir = os.getcwd()\n",
    "print(cdir)\n",
    "os.chdir(cdir + '/train/train')\n",
    "print(os.getcwd())"
   ]
  },
  {
   "cell_type": "code",
   "execution_count": 5,
   "metadata": {},
   "outputs": [],
   "source": [
    "from tqdm import tqdm_notebook"
   ]
  },
  {
   "cell_type": "code",
   "execution_count": 4,
   "metadata": {},
   "outputs": [
    {
     "name": "stdout",
     "output_type": "stream",
     "text": [
      "1 Physical GPUs, 1 Logical GPUs\n"
     ]
    },
    {
     "name": "stderr",
     "output_type": "stream",
     "text": [
      "TensorFlow version 2.0.0 has been patched using tfdeterminism version 0.3.0\n"
     ]
    }
   ],
   "source": [
    "import tensorflow as tf\n",
    "tf.get_logger().setLevel(logging.ERROR)\n",
    "from tfdeterminism import patch\n",
    "patch()\n",
    "gpu_devices = tf.config.experimental.list_physical_devices('GPU')\n",
    "for device in gpu_devices:\n",
    "    tf.config.experimental.set_memory_growth(device, True)\n",
    "import random\n",
    "import numpy as np\n",
    "os.environ['PYTHONHASHSEED']=str(1997)\n",
    "\n",
    "random.seed(1997)\n",
    "np.random.seed(1997)\n",
    "tf.random.set_seed(1997)\n",
    "\n",
    "gpus = tf.config.experimental.list_physical_devices('GPU')\n",
    "if gpus:\n",
    "    try:\n",
    "        # Restrict TensorFlow to only use the fourth GPU\n",
    "        tf.config.experimental.set_visible_devices(gpus[0], 'GPU')\n",
    "\n",
    "        # Currently, memory growth needs to be the same across GPUs\n",
    "        for gpu in gpus:\n",
    "            tf.config.experimental.set_memory_growth(gpu, True)\n",
    "        logical_gpus = tf.config.experimental.list_logical_devices('GPU')\n",
    "        print(len(gpus), \"Physical GPUs,\", len(logical_gpus), \"Logical GPUs\")\n",
    "    except RuntimeError as e:\n",
    "        # Memory growth must be set before GPUs have been initialized\n",
    "        print(e)"
   ]
  },
  {
   "cell_type": "code",
   "execution_count": 6,
   "metadata": {},
   "outputs": [],
   "source": [
    "def process(sensordata, timestamps):\n",
    "    # process\n",
    "    \n",
    "    return sensordata"
   ]
  },
  {
   "cell_type": "code",
   "execution_count": 7,
   "metadata": {},
   "outputs": [
    {
     "data": {
      "text/plain": [
       "'\\\\'"
      ]
     },
     "execution_count": 7,
     "metadata": {},
     "output_type": "execute_result"
    }
   ],
   "source": [
    "import os\n",
    "os.sep"
   ]
  },
  {
   "cell_type": "code",
   "execution_count": 8,
   "metadata": {},
   "outputs": [],
   "source": [
    "# turning tensorflow warnings off"
   ]
  },
  {
   "cell_type": "code",
   "execution_count": 9,
   "metadata": {},
   "outputs": [
    {
     "name": "stdout",
     "output_type": "stream",
     "text": [
      "['right_arm/*.csv', 'right_wrist/*.csv', 'left_hip/*.csv', 'left_wrist/*.csv']\n",
      "                                           0\n",
      "0           subject2_file_457,sandwich,Take,\n",
      "1      subject2_file_679,sandwich,Wash,Take,\n",
      "2        subject2_file_95,sandwich,Cut,Wash,\n",
      "3  subject2_file_899,sandwich,other,Cut,Put,\n",
      "4            subject2_file_368,sandwich,Put,\n",
      "                             file_id     macro           micro\n",
      "file_id                                                       \n",
      "subject2_file_457  subject2_file_457  sandwich           Take,\n",
      "subject2_file_679  subject2_file_679  sandwich      Wash,Take,\n",
      "subject2_file_95    subject2_file_95  sandwich       Cut,Wash,\n",
      "subject2_file_899  subject2_file_899  sandwich  other,Cut,Put,\n",
      "subject2_file_368  subject2_file_368  sandwich            Put,\n"
     ]
    }
   ],
   "source": [
    "# there are 3 subjects\n",
    "subject1 = {}\n",
    "subject2 = {}\n",
    "subject3 = {}\n",
    "\n",
    "# we will load every single right arm data, separate based on subject id, do feature extraction, run t-SNE\n",
    "\n",
    "all_sensors = ['right_arm', 'right_wrist', 'left_hip', 'left_wrist'] #, 'mocap']\n",
    "\n",
    "data_folder = [f'{sensor}/*.csv' for sensor in all_sensors]\n",
    "\n",
    "print(data_folder)\n",
    "\n",
    "files = glob.glob(data_folder[0])\n",
    "\n",
    "# processing will be done as numpy array\n",
    "\n",
    "subject1['data'] = []\n",
    "subject2['data'] = []\n",
    "subject3['data'] = []\n",
    " \n",
    "# data format : data -> id, process(timeseries, timestamps) : right_arm as numpy array (missing data will be imputed)\n",
    "\n",
    "\n",
    "# id is generated by concatenating INT(subject+trial)\n",
    "\n",
    "for f in files:\n",
    "    #print(f)\n",
    "    c_sub = {} # current subject\n",
    "    if f.split(os.sep)[1].split('_')[0] == 'subject1':\n",
    "        \n",
    "        c_sub['id'] = int(f.split(os.sep)[1].split('_')[0][-1] + f.split(os.sep)[1].split('_')[2].split('.')[0])\n",
    "        #print(ra['id'])\n",
    "        \n",
    "        for sensor in all_sensors:\n",
    "            #print(sensor)\n",
    "            ra = pd.read_csv(sensor + os.sep + f.split(os.sep)[1])\n",
    "            #print(ra)\n",
    "            ra.sort_values(by=['timestamp'], inplace = True)\n",
    "            c_sub[sensor] = {}\n",
    "            if sensor == 'mocap':\n",
    "                for axis in mocap_axis:\n",
    "                    c_sub[sensor][axis] = process(ra[axis], ra['timestamp'])\n",
    "            else:\n",
    "                for axis in ['X', 'Y', 'Z']:\n",
    "                    c_sub[sensor][axis] = process(ra[axis], ra['timestamp'])\n",
    "                \n",
    "        subject1['data'].append(c_sub)\n",
    "\n",
    "            \n",
    "    elif f.split(os.sep)[1].split('_')[0] == 'subject2':\n",
    "        \n",
    "        c_sub['id'] = int(f.split(os.sep)[1].split('_')[0][-1] + f.split(os.sep)[1].split('_')[2].split('.')[0])\n",
    "        #print(ra['id'])\n",
    "        \n",
    "        for sensor in all_sensors:\n",
    "            ra = pd.read_csv(sensor + os.sep + f.split(os.sep)[1])\n",
    "            #print(ra)\n",
    "            ra.sort_values(by=['timestamp'], inplace = True)\n",
    "            c_sub[sensor] = {}\n",
    "            if sensor == 'mocap':\n",
    "                for axis in mocap_axis:\n",
    "                    c_sub[sensor][axis] = process(ra[axis], ra['timestamp'])\n",
    "            else:\n",
    "                for axis in ['X', 'Y', 'Z']:\n",
    "                    c_sub[sensor][axis] = process(ra[axis], ra['timestamp'])\n",
    "                \n",
    "        subject2['data'].append(c_sub)\n",
    "            \n",
    "    elif f.split(os.sep)[1].split('_')[0] == 'subject3':\n",
    "        \n",
    "        c_sub['id'] = int(f.split(os.sep)[1].split('_')[0][-1] + f.split(os.sep)[1].split('_')[2].split('.')[0])\n",
    "        #print(ra['id'])\n",
    "        \n",
    "        for sensor in all_sensors:\n",
    "            ra = pd.read_csv(sensor + os.sep + f.split(os.sep)[1])\n",
    "            #print(ra)\n",
    "            ra.sort_values(by=['timestamp'], inplace = True)\n",
    "            c_sub[sensor] = {}\n",
    "            if sensor == 'mocap':\n",
    "                for axis in mocap_axis:\n",
    "                    try:\n",
    "                        c_sub[sensor][axis] = process(ra[axis], ra['timestamp'])\n",
    "                    except:\n",
    "                        c_sub[sensor][axis] = [0]\n",
    "            else:\n",
    "                for axis in ['X', 'Y', 'Z']:\n",
    "                    c_sub[sensor][axis] = process(ra[axis], ra['timestamp'])\n",
    "        \n",
    "        subject3['data'].append(c_sub)\n",
    "    else:\n",
    "        print('either new subject or a bug')\n",
    "        \n",
    "        \n",
    "labels = pd.read_csv(\"labels.txt\", sep=' ', header=None)\n",
    "print(labels.head())\n",
    "labels = labels[0].str.split(\",\", n=2, expand=True)\n",
    "labels.columns = ['file_id', 'macro', 'micro'] #give names to the columns\n",
    "labels.index = labels['file_id'] #use the file id as index to make it searchable by file_id\n",
    "print(labels.head())\n",
    "\n",
    "# label generation\n",
    "subject1['label_mac'] = {}\n",
    "subject2['label_mac'] = {}\n",
    "subject3['label_mac'] = {}\n",
    "\n",
    "subject1['label_mic'] = {}\n",
    "subject2['label_mic'] = {}\n",
    "subject3['label_mic'] = {}\n",
    "\n",
    "for i in range(len(labels)):\n",
    "    #print(labels.iloc[i]['file_id'])\n",
    "    #print(labels.iloc[i]['file_id'].split('_')[0][-1])\n",
    "    tid = int(labels.iloc[i]['file_id'].split('_')[0][-1] + labels.iloc[i]['file_id'].split('_')[-1])\n",
    "    #print(tid)\n",
    "    label = labels.iloc[i]['macro']\n",
    "    label_mic = labels.iloc[i]['micro'].split(',')[:-1]\n",
    "    #print(label)\n",
    "    if labels.iloc[i]['file_id'].split('_')[0][-1] == '1':\n",
    "        subject1['label_mac'][tid] = label\n",
    "        subject1['label_mic'][tid] = label_mic\n",
    "    elif labels.iloc[i]['file_id'].split('_')[0][-1] == '2':\n",
    "        subject2['label_mac'][tid] = label\n",
    "        subject2['label_mic'][tid] = label_mic\n",
    "    elif labels.iloc[i]['file_id'].split('_')[0][-1] == '3':\n",
    "        subject3['label_mac'][tid] = label\n",
    "        subject3['label_mic'][tid] = label_mic\n",
    "    else:\n",
    "        print('some bug')\n",
    "        \n",
    "        \n",
    "# re-formatting dataset for training\n",
    "\n",
    "X = []\n",
    "y = []\n",
    "y_ml = []  # multi-label\n",
    "\n",
    "for i in range(len(subject1['data'])):\n",
    "    tid = subject1['data'][i]['id']\n",
    "    y.append(subject1['label_mac'][tid])\n",
    "    y_ml.append(subject1['label_mic'][tid])\n",
    "    # X shape -> [ip1, ip2, ip3, ip4] ip1 = (80, len, channel) -> 4, 80, len\n",
    "\n",
    "for sensor in all_sensors:\n",
    "    cs_data = []\n",
    "    for i in range(len(subject1['data'])):\n",
    "        sub_data = []\n",
    "        if sensor == 'mocap':\n",
    "            for sig in mocap_axis:\n",
    "                sub_data.append(np.array(subject1['data'][i][sensor][sig]))\n",
    "        else:\n",
    "            for sig in ['X', 'Y', 'Z']:\n",
    "                sub_data.append(np.array(subject1['data'][i][sensor][sig]))\n",
    "        sub_data = np.array(sub_data)\n",
    "        # print(sub_data.shape)\n",
    "        sub_data = np.swapaxes(sub_data, 0, 1)\n",
    "        cs_data.append(sub_data)\n",
    "    X.append(cs_data)\n",
    "    \n",
    "    \n",
    "from tensorflow.keras.utils import to_categorical\n",
    "from sklearn.preprocessing import LabelEncoder\n",
    "import numpy as np\n",
    "\n",
    "label_encoder = LabelEncoder()\n",
    "vec = label_encoder.fit_transform(y)\n",
    "\n",
    "y_ohe = to_categorical(vec,len(set(vec)))\n",
    "\n",
    "from sklearn.preprocessing import MultiLabelBinarizer\n",
    "\n",
    "mlb = MultiLabelBinarizer()\n",
    "y_ml_ohe = mlb.fit_transform(y_ml)\n",
    "\n",
    "# validatin on subject2, 3\n",
    "\n",
    "# re-formatting dataset for training\n",
    "\n",
    "X2 = []\n",
    "y2 = []\n",
    "y_ml2 = []\n",
    "\n",
    "for i in range(len(subject2['data'])):\n",
    "    tid = subject2['data'][i]['id']\n",
    "    y2.append(subject2['label_mac'][tid])\n",
    "    y_ml2.append(subject2['label_mic'][tid])\n",
    "    # X shape -> [ip1, ip2, ip3, ip4] ip1 = (80, len, channel) -> 4, 80, len\n",
    "\n",
    "for sensor in all_sensors:\n",
    "    cs_data = []\n",
    "    for i in range(len(subject2['data'])):\n",
    "        sub_data = []\n",
    "        if sensor == 'mocap':\n",
    "            for sig in mocap_axis:\n",
    "                sub_data.append(np.array(subject2['data'][i][sensor][sig]))\n",
    "        else:\n",
    "            for sig in ['X', 'Y', 'Z']:\n",
    "                sub_data.append(np.array(subject2['data'][i][sensor][sig]))\n",
    "        sub_data = np.array(sub_data)\n",
    "        # print(sub_data.shape)\n",
    "        sub_data = np.swapaxes(sub_data, 0, 1)\n",
    "        cs_data.append(sub_data)\n",
    "    X2.append(cs_data)\n",
    "    \n",
    "label_encoder = LabelEncoder()\n",
    "vec = label_encoder.fit_transform(y2)\n",
    "\n",
    "y2_ohe = to_categorical(vec,len(set(vec)))\n",
    "\n",
    "mlb = MultiLabelBinarizer()\n",
    "y_ml2_ohe = mlb.fit_transform(y_ml2)\n",
    "\n",
    "# validatin on subject2, 3\n",
    "\n",
    "# re-formatting dataset for training\n",
    "\n",
    "X3 = []\n",
    "y3 = []\n",
    "y_ml3 = []\n",
    "\n",
    "for i in range(len(subject3['data'])):\n",
    "    tid = subject3['data'][i]['id']\n",
    "    y3.append(subject3['label_mac'][tid])\n",
    "    y_ml3.append(subject3['label_mic'][tid])\n",
    "    # X shape -> [ip1, ip2, ip3, ip4] ip1 = (80, len, channel) -> 4, 80, len\n",
    "\n",
    "for sensor in all_sensors:\n",
    "    cs_data = []\n",
    "    for i in range(len(subject3['data'])):\n",
    "        sub_data = []\n",
    "        if sensor == 'mocap':\n",
    "            for sig in mocap_axis:\n",
    "                sub_data.append(np.array(subject3['data'][i][sensor][sig]))\n",
    "        else:\n",
    "            for sig in ['X', 'Y', 'Z']:\n",
    "                sub_data.append(np.array(subject3['data'][i][sensor][sig]))\n",
    "        sub_data = np.array(sub_data)\n",
    "        # print(sub_data.shape)\n",
    "        sub_data = np.swapaxes(sub_data, 0, 1)\n",
    "        cs_data.append(sub_data)\n",
    "    X3.append(cs_data)\n",
    "    \n",
    "\n",
    "label_encoder = LabelEncoder()\n",
    "vec = label_encoder.fit_transform(y3)\n",
    "\n",
    "y3_ohe = to_categorical(vec,len(set(vec)))\n",
    "\n",
    "mlb = MultiLabelBinarizer()\n",
    "y_ml3_ohe = mlb.fit_transform(y_ml3)"
   ]
  },
  {
   "cell_type": "code",
   "execution_count": 10,
   "metadata": {},
   "outputs": [],
   "source": [
    "import tensorflow as tf\n",
    "from tensorflow.keras.layers import subtract, Conv1D, Dense, LSTM, Bidirectional, Input, GlobalMaxPooling1D, Concatenate, BatchNormalization\n",
    "from tensorflow.keras.optimizers import Adam\n",
    "from tensorflow.keras.models import Model\n",
    "from tensorflow.keras.layers import LeakyReLU"
   ]
  },
  {
   "cell_type": "code",
   "execution_count": 11,
   "metadata": {},
   "outputs": [],
   "source": [
    "# CNN-head\n",
    "import tensorflow.keras as keras\n",
    "def create_model():\n",
    "\n",
    "    n_sensors = 4\n",
    "    n_filters = [3, 3, 3, 3] # X, Y, Z\n",
    "\n",
    "\n",
    "    # make the input layers\n",
    "    ips = []\n",
    "\n",
    "    n_f = 0\n",
    "    for sensor in all_sensors:\n",
    "        ips.append(Input(shape = (None, n_filters[n_f]), name = sensor + '_ipX'))\n",
    "        n_f += 1\n",
    "\n",
    "    print(f'Input tensors: {ips}')\n",
    "    \n",
    "    # kernel size = 1 == embedding layer\n",
    "\n",
    "    convs = []\n",
    "    for ip in ips:\n",
    "        conv = Conv1D(filters = 32, kernel_size = 1, padding = 'same', activation = None, name = ip.name.split(':')[0] + '_conv')(ip)\n",
    "        convs.append(conv)\n",
    "        \n",
    "    # batch-normalization\n",
    "    bns = []\n",
    "    for conv in convs:\n",
    "        bn = BatchNormalization()(conv)\n",
    "        bns.append(bn)\n",
    "\n",
    "    convs2 = []\n",
    "    for bn in bns:\n",
    "        conv2 = Conv1D(filters = 16, kernel_size = 3, dilation_rate = 2, \n",
    "                       kernel_regularizer = keras.regularizers.l1_l2(l1=0.01, l2=0.002),\n",
    "                       bias_regularizer = keras.regularizers.l1_l2(l1=0.01, l2=0.002), \n",
    "                       padding = 'same', activation = 'relu')(bn)\n",
    "        convs2.append(conv2)\n",
    "        \n",
    "    # batch-normalization\n",
    "    bns2 = []\n",
    "    for conv2 in convs2:\n",
    "        bn2 = BatchNormalization()(conv2)\n",
    "        bns2.append(bn2)\n",
    "        \n",
    "    # residual\n",
    "    \n",
    "    res = []\n",
    "    cnt_i = 0\n",
    "    for bn2 in bns2:\n",
    "        rs = bn2 #Add()([bn2, bns[cnt_i]])\n",
    "        rs = LeakyReLU(alpha=0.3)(rs)\n",
    "        cnt_i += 1\n",
    "        res.append(rs)\n",
    "\n",
    "\n",
    "\n",
    "    # concatenation\n",
    "\n",
    "    concat = Concatenate(axis=1, name = 'concat')(res)\n",
    "\n",
    "    concat_conv = Conv1D(filters = 16, kernel_size = 1, padding = 'same', dilation_rate = 2,\n",
    "                        kernel_regularizer = keras.regularizers.l1_l2(l1=0.01, l2=0.002),\n",
    "                        bias_regularizer = keras.regularizers.l1_l2(l1=0.01, l2=0.002),\n",
    "                        activation = 'relu', name = 'concat_conv')(concat)\n",
    "    \n",
    "    bn3 = BatchNormalization()(concat_conv)\n",
    "    con_conv2 = Conv1D(filters = 32, kernel_size = 3, padding = 'same', activation = None, name = 'con_conv2')(bn3)\n",
    "    bn4 = BatchNormalization()(con_conv2)\n",
    "    \n",
    "    #res2 = Add()([bn4, bn3])\n",
    "    res2 = LeakyReLU(alpha=0.3)(bn4)\n",
    "    \n",
    "    gmp = GlobalMaxPooling1D()(res2)\n",
    "\n",
    "    # fully convolutional\n",
    "    simple_conv = Model(ips, gmp)\n",
    "    \n",
    "    return simple_conv"
   ]
  },
  {
   "cell_type": "code",
   "execution_count": 12,
   "metadata": {},
   "outputs": [
    {
     "name": "stdout",
     "output_type": "stream",
     "text": [
      "Input tensors: [<tf.Tensor 'right_arm_ipX:0' shape=(None, None, 3) dtype=float32>, <tf.Tensor 'right_wrist_ipX:0' shape=(None, None, 3) dtype=float32>, <tf.Tensor 'left_hip_ipX:0' shape=(None, None, 3) dtype=float32>, <tf.Tensor 'left_wrist_ipX:0' shape=(None, None, 3) dtype=float32>]\n"
     ]
    }
   ],
   "source": [
    "base_cnn = create_model()"
   ]
  },
  {
   "cell_type": "code",
   "execution_count": 13,
   "metadata": {},
   "outputs": [
    {
     "name": "stdout",
     "output_type": "stream",
     "text": [
      "Model: \"model\"\n",
      "__________________________________________________________________________________________________\n",
      "Layer (type)                    Output Shape         Param #     Connected to                     \n",
      "==================================================================================================\n",
      "right_arm_ipX (InputLayer)      [(None, None, 3)]    0                                            \n",
      "__________________________________________________________________________________________________\n",
      "right_wrist_ipX (InputLayer)    [(None, None, 3)]    0                                            \n",
      "__________________________________________________________________________________________________\n",
      "left_hip_ipX (InputLayer)       [(None, None, 3)]    0                                            \n",
      "__________________________________________________________________________________________________\n",
      "left_wrist_ipX (InputLayer)     [(None, None, 3)]    0                                            \n",
      "__________________________________________________________________________________________________\n",
      "right_arm_ipX_conv (Conv1D)     (None, None, 32)     128         right_arm_ipX[0][0]              \n",
      "__________________________________________________________________________________________________\n",
      "right_wrist_ipX_conv (Conv1D)   (None, None, 32)     128         right_wrist_ipX[0][0]            \n",
      "__________________________________________________________________________________________________\n",
      "left_hip_ipX_conv (Conv1D)      (None, None, 32)     128         left_hip_ipX[0][0]               \n",
      "__________________________________________________________________________________________________\n",
      "left_wrist_ipX_conv (Conv1D)    (None, None, 32)     128         left_wrist_ipX[0][0]             \n",
      "__________________________________________________________________________________________________\n",
      "batch_normalization (BatchNorma (None, None, 32)     128         right_arm_ipX_conv[0][0]         \n",
      "__________________________________________________________________________________________________\n",
      "batch_normalization_1 (BatchNor (None, None, 32)     128         right_wrist_ipX_conv[0][0]       \n",
      "__________________________________________________________________________________________________\n",
      "batch_normalization_2 (BatchNor (None, None, 32)     128         left_hip_ipX_conv[0][0]          \n",
      "__________________________________________________________________________________________________\n",
      "batch_normalization_3 (BatchNor (None, None, 32)     128         left_wrist_ipX_conv[0][0]        \n",
      "__________________________________________________________________________________________________\n",
      "conv1d (Conv1D)                 (None, None, 16)     1552        batch_normalization[0][0]        \n",
      "__________________________________________________________________________________________________\n",
      "conv1d_1 (Conv1D)               (None, None, 16)     1552        batch_normalization_1[0][0]      \n",
      "__________________________________________________________________________________________________\n",
      "conv1d_2 (Conv1D)               (None, None, 16)     1552        batch_normalization_2[0][0]      \n",
      "__________________________________________________________________________________________________\n",
      "conv1d_3 (Conv1D)               (None, None, 16)     1552        batch_normalization_3[0][0]      \n",
      "__________________________________________________________________________________________________\n",
      "batch_normalization_4 (BatchNor (None, None, 16)     64          conv1d[0][0]                     \n",
      "__________________________________________________________________________________________________\n",
      "batch_normalization_5 (BatchNor (None, None, 16)     64          conv1d_1[0][0]                   \n",
      "__________________________________________________________________________________________________\n",
      "batch_normalization_6 (BatchNor (None, None, 16)     64          conv1d_2[0][0]                   \n",
      "__________________________________________________________________________________________________\n",
      "batch_normalization_7 (BatchNor (None, None, 16)     64          conv1d_3[0][0]                   \n",
      "__________________________________________________________________________________________________\n",
      "leaky_re_lu (LeakyReLU)         (None, None, 16)     0           batch_normalization_4[0][0]      \n",
      "__________________________________________________________________________________________________\n",
      "leaky_re_lu_1 (LeakyReLU)       (None, None, 16)     0           batch_normalization_5[0][0]      \n",
      "__________________________________________________________________________________________________\n",
      "leaky_re_lu_2 (LeakyReLU)       (None, None, 16)     0           batch_normalization_6[0][0]      \n",
      "__________________________________________________________________________________________________\n",
      "leaky_re_lu_3 (LeakyReLU)       (None, None, 16)     0           batch_normalization_7[0][0]      \n",
      "__________________________________________________________________________________________________\n",
      "concat (Concatenate)            (None, None, 16)     0           leaky_re_lu[0][0]                \n",
      "                                                                 leaky_re_lu_1[0][0]              \n",
      "                                                                 leaky_re_lu_2[0][0]              \n",
      "                                                                 leaky_re_lu_3[0][0]              \n",
      "__________________________________________________________________________________________________\n",
      "concat_conv (Conv1D)            (None, None, 16)     272         concat[0][0]                     \n",
      "__________________________________________________________________________________________________\n",
      "batch_normalization_8 (BatchNor (None, None, 16)     64          concat_conv[0][0]                \n",
      "__________________________________________________________________________________________________\n",
      "con_conv2 (Conv1D)              (None, None, 32)     1568        batch_normalization_8[0][0]      \n",
      "__________________________________________________________________________________________________\n",
      "batch_normalization_9 (BatchNor (None, None, 32)     128         con_conv2[0][0]                  \n",
      "__________________________________________________________________________________________________\n",
      "leaky_re_lu_4 (LeakyReLU)       (None, None, 32)     0           batch_normalization_9[0][0]      \n",
      "__________________________________________________________________________________________________\n",
      "global_max_pooling1d (GlobalMax (None, 32)           0           leaky_re_lu_4[0][0]              \n",
      "==================================================================================================\n",
      "Total params: 9,520\n",
      "Trainable params: 9,040\n",
      "Non-trainable params: 480\n",
      "__________________________________________________________________________________________________\n"
     ]
    }
   ],
   "source": [
    "base_cnn.summary()"
   ]
  },
  {
   "cell_type": "code",
   "execution_count": 14,
   "metadata": {},
   "outputs": [
    {
     "name": "stdout",
     "output_type": "stream",
     "text": [
      "Model: \"model_1\"\n",
      "__________________________________________________________________________________________________\n",
      "Layer (type)                    Output Shape         Param #     Connected to                     \n",
      "==================================================================================================\n",
      "right_arm_ip_l (InputLayer)     [(None, None, 3)]    0                                            \n",
      "__________________________________________________________________________________________________\n",
      "right_wrist_ip_l (InputLayer)   [(None, None, 3)]    0                                            \n",
      "__________________________________________________________________________________________________\n",
      "left_hip_ip_l (InputLayer)      [(None, None, 3)]    0                                            \n",
      "__________________________________________________________________________________________________\n",
      "left_wrist_ip_l (InputLayer)    [(None, None, 3)]    0                                            \n",
      "__________________________________________________________________________________________________\n",
      "right_arm_ip_r (InputLayer)     [(None, None, 3)]    0                                            \n",
      "__________________________________________________________________________________________________\n",
      "right_wrist_ip_r (InputLayer)   [(None, None, 3)]    0                                            \n",
      "__________________________________________________________________________________________________\n",
      "left_hip_ip_r (InputLayer)      [(None, None, 3)]    0                                            \n",
      "__________________________________________________________________________________________________\n",
      "left_wrist_ip_r (InputLayer)    [(None, None, 3)]    0                                            \n",
      "__________________________________________________________________________________________________\n",
      "model (Model)                   (None, 32)           9520        right_arm_ip_l[0][0]             \n",
      "                                                                 right_wrist_ip_l[0][0]           \n",
      "                                                                 left_hip_ip_l[0][0]              \n",
      "                                                                 left_wrist_ip_l[0][0]            \n",
      "                                                                 right_arm_ip_r[0][0]             \n",
      "                                                                 right_wrist_ip_r[0][0]           \n",
      "                                                                 left_hip_ip_r[0][0]              \n",
      "                                                                 left_wrist_ip_r[0][0]            \n",
      "__________________________________________________________________________________________________\n",
      "subtract (Subtract)             (None, 32)           0           model[1][0]                      \n",
      "                                                                 model[2][0]                      \n",
      "__________________________________________________________________________________________________\n",
      "tf_op_layer_Abs (TensorFlowOpLa [(None, 32)]         0           subtract[0][0]                   \n",
      "__________________________________________________________________________________________________\n",
      "dense (Dense)                   (None, 1)            33          tf_op_layer_Abs[0][0]            \n",
      "==================================================================================================\n",
      "Total params: 9,553\n",
      "Trainable params: 9,073\n",
      "Non-trainable params: 480\n",
      "__________________________________________________________________________________________________\n"
     ]
    }
   ],
   "source": [
    "from tensorflow.keras import backend as K\n",
    "\n",
    "n_sensors = 4\n",
    "n_filters = [3, 3, 3, 3] # X, Y, Z\n",
    "\n",
    "\n",
    "# make the input layers\n",
    "ips_l = []\n",
    "\n",
    "n_f = 0\n",
    "for sensor in all_sensors:\n",
    "    ips_l.append(Input(shape = (None, n_filters[n_f]), name = sensor + '_ip_l'))\n",
    "    n_f += 1\n",
    "    \n",
    "ips_r = []\n",
    "\n",
    "n_f = 0\n",
    "for sensor in all_sensors:\n",
    "    ips_r.append(Input(shape = (None, n_filters[n_f]), name = sensor + '_ip_r'))\n",
    "    n_f += 1\n",
    "\n",
    "# encode each of the two inputs into a vector with the base conv model\n",
    "encoded_l = base_cnn(ips_l)\n",
    "encoded_r = base_cnn(ips_r)\n",
    "# merge two encoded inputs with the l1 distance between them\n",
    "\n",
    "diff = subtract([encoded_l,encoded_r])\n",
    "l1_diff = K.abs(diff)\n",
    "prediction = Dense(1, activation='sigmoid')(l1_diff)\n",
    "\n",
    "siamese_net = Model([ips_l,ips_r], prediction)\n",
    "\n",
    "optimizer = Adam(0.001)\n",
    "\n",
    "siamese_net.compile(loss=\"binary_crossentropy\",optimizer=optimizer)\n",
    "\n",
    "siamese_net.summary()"
   ]
  },
  {
   "cell_type": "code",
   "execution_count": 15,
   "metadata": {},
   "outputs": [
    {
     "data": {
      "text/plain": [
       "[<tf.Tensor 'right_arm_ipX:0' shape=(None, None, 3) dtype=float32>,\n",
       " <tf.Tensor 'right_wrist_ipX:0' shape=(None, None, 3) dtype=float32>,\n",
       " <tf.Tensor 'left_hip_ipX:0' shape=(None, None, 3) dtype=float32>,\n",
       " <tf.Tensor 'left_wrist_ipX:0' shape=(None, None, 3) dtype=float32>]"
      ]
     },
     "execution_count": 15,
     "metadata": {},
     "output_type": "execute_result"
    }
   ],
   "source": [
    "base_cnn.inputs"
   ]
  },
  {
   "cell_type": "code",
   "execution_count": 16,
   "metadata": {},
   "outputs": [
    {
     "data": {
      "text/plain": [
       "[<tf.Tensor 'right_arm_ip_l:0' shape=(None, None, 3) dtype=float32>,\n",
       " <tf.Tensor 'right_wrist_ip_l:0' shape=(None, None, 3) dtype=float32>,\n",
       " <tf.Tensor 'left_hip_ip_l:0' shape=(None, None, 3) dtype=float32>,\n",
       " <tf.Tensor 'left_wrist_ip_l:0' shape=(None, None, 3) dtype=float32>,\n",
       " <tf.Tensor 'right_arm_ip_r:0' shape=(None, None, 3) dtype=float32>,\n",
       " <tf.Tensor 'right_wrist_ip_r:0' shape=(None, None, 3) dtype=float32>,\n",
       " <tf.Tensor 'left_hip_ip_r:0' shape=(None, None, 3) dtype=float32>,\n",
       " <tf.Tensor 'left_wrist_ip_r:0' shape=(None, None, 3) dtype=float32>]"
      ]
     },
     "execution_count": 16,
     "metadata": {},
     "output_type": "execute_result"
    }
   ],
   "source": [
    "siamese_net.inputs"
   ]
  },
  {
   "cell_type": "code",
   "execution_count": 17,
   "metadata": {
    "scrolled": true
   },
   "outputs": [
    {
     "data": {
      "text/plain": [
       "80"
      ]
     },
     "execution_count": 17,
     "metadata": {},
     "output_type": "execute_result"
    }
   ],
   "source": [
    "len(X[0])"
   ]
  },
  {
   "cell_type": "code",
   "execution_count": 18,
   "metadata": {},
   "outputs": [
    {
     "data": {
      "text/plain": [
       "105"
      ]
     },
     "execution_count": 18,
     "metadata": {},
     "output_type": "execute_result"
    }
   ],
   "source": [
    "len(X2[0])"
   ]
  },
  {
   "cell_type": "code",
   "execution_count": 19,
   "metadata": {},
   "outputs": [
    {
     "data": {
      "text/plain": [
       "False"
      ]
     },
     "execution_count": 19,
     "metadata": {},
     "output_type": "execute_result"
    }
   ],
   "source": [
    "np.array_equal(y_ohe[2], y_ohe[1])"
   ]
  },
  {
   "cell_type": "code",
   "execution_count": 20,
   "metadata": {},
   "outputs": [
    {
     "data": {
      "text/plain": [
       "array([1., 2., 3.], dtype=float32)"
      ]
     },
     "execution_count": 20,
     "metadata": {},
     "output_type": "execute_result"
    }
   ],
   "source": [
    "np.array([1,2,3]).astype(np.float32)"
   ]
  },
  {
   "cell_type": "code",
   "execution_count": 21,
   "metadata": {},
   "outputs": [],
   "source": [
    "def triplet_generation(X1, y1, X2, y2): # pair generation\n",
    "    X_m = []\n",
    "    y_m = []\n",
    "    for i in tqdm_notebook(range(len(X1[0]))):\n",
    "        for j in range(len(X2[0])):\n",
    "            x1 = [ X1[0][i], X1[1][i], X1[2][i], X1[3][i] ]\n",
    "            x2 = [ X2[0][j], X2[1][j], X2[2][j], X2[3][j] ]\n",
    "            \n",
    "            left_i = [x1[0].reshape(1,x1[0].shape[0],3).astype(np.float32), \n",
    "              x1[1].reshape(1,x1[1].shape[0],3).astype(np.float32), \n",
    "              x1[2].reshape(1,x1[2].shape[0],3).astype(np.float32), \n",
    "              x1[3].reshape(1,x1[3].shape[0],3).astype(np.float32)]\n",
    "\n",
    "            right_i = [x2[0].reshape(1,x2[0].shape[0],3).astype(np.float32), \n",
    "                      x2[1].reshape(1,x2[1].shape[0],3).astype(np.float32), \n",
    "                      x2[2].reshape(1,x2[2].shape[0],3).astype(np.float32), \n",
    "                      x2[3].reshape(1,x2[3].shape[0],3).astype(np.float32)]\n",
    "            X_m.append(left_i + right_i)\n",
    "            if np.array_equal(y1[i], y2[j]):\n",
    "                y_m.append(1.0)\n",
    "            else:\n",
    "                y_m.append(0.0)\n",
    "    return X_m, y_m"
   ]
  },
  {
   "cell_type": "code",
   "execution_count": 22,
   "metadata": {},
   "outputs": [
    {
     "data": {
      "application/vnd.jupyter.widget-view+json": {
       "model_id": "d3c9951d21a7443595b3328b948b4fef",
       "version_major": 2,
       "version_minor": 0
      },
      "text/plain": [
       "HBox(children=(IntProgress(value=0, max=80), HTML(value='')))"
      ]
     },
     "metadata": {},
     "output_type": "display_data"
    },
    {
     "name": "stdout",
     "output_type": "stream",
     "text": [
      "\n"
     ]
    }
   ],
   "source": [
    "xx, yy = triplet_generation(X, y_ohe, X2, y2_ohe)"
   ]
  },
  {
   "cell_type": "code",
   "execution_count": 23,
   "metadata": {},
   "outputs": [
    {
     "data": {
      "text/plain": [
       "8400"
      ]
     },
     "execution_count": 23,
     "metadata": {},
     "output_type": "execute_result"
    }
   ],
   "source": [
    "len(xx)"
   ]
  },
  {
   "cell_type": "code",
   "execution_count": 24,
   "metadata": {},
   "outputs": [],
   "source": [
    "xx10 = xx[10]"
   ]
  },
  {
   "cell_type": "code",
   "execution_count": 25,
   "metadata": {},
   "outputs": [
    {
     "name": "stdout",
     "output_type": "stream",
     "text": [
      "8\n",
      "1\n",
      "1399\n",
      "3\n"
     ]
    }
   ],
   "source": [
    "# len sanity check\n",
    "print(len(xx10))\n",
    "print(len(xx10[0]))\n",
    "print(len(xx10[0][0]))\n",
    "print(len(xx10[0][0][0]))"
   ]
  },
  {
   "cell_type": "code",
   "execution_count": 26,
   "metadata": {},
   "outputs": [
    {
     "name": "stdout",
     "output_type": "stream",
     "text": [
      "(1, 1399, 3)\n"
     ]
    }
   ],
   "source": [
    "print(xx10[0].shape)"
   ]
  },
  {
   "cell_type": "code",
   "execution_count": 27,
   "metadata": {},
   "outputs": [
    {
     "data": {
      "text/plain": [
       "0.0"
      ]
     },
     "execution_count": 27,
     "metadata": {},
     "output_type": "execute_result"
    }
   ],
   "source": [
    "yy[10]"
   ]
  },
  {
   "cell_type": "code",
   "execution_count": 28,
   "metadata": {},
   "outputs": [
    {
     "name": "stdout",
     "output_type": "stream",
     "text": [
      "[[0.6269838]]\n"
     ]
    }
   ],
   "source": [
    "p = siamese_net.predict(xx10)\n",
    "print(p)"
   ]
  },
  {
   "cell_type": "code",
   "execution_count": 29,
   "metadata": {},
   "outputs": [
    {
     "data": {
      "text/plain": [
       "12.879792"
      ]
     },
     "execution_count": 29,
     "metadata": {},
     "output_type": "execute_result"
    }
   ],
   "source": [
    "siamese_net.train_on_batch(xx10, np.array(yy[10]).reshape(1,1))"
   ]
  },
  {
   "cell_type": "code",
   "execution_count": 30,
   "metadata": {},
   "outputs": [
    {
     "name": "stdout",
     "output_type": "stream",
     "text": [
      "[[0.6269838]]\n"
     ]
    }
   ],
   "source": [
    "print(p)"
   ]
  },
  {
   "cell_type": "code",
   "execution_count": 31,
   "metadata": {},
   "outputs": [],
   "source": [
    "# fixing empty arrays\n",
    "\n",
    "for i in range(len(X)):\n",
    "    for j in range(len(X[0])):\n",
    "        if len(X) == 5 and i == len(X)-1: # assuming mocap always comes in the last index\n",
    "            if len(X[i][j]) == 0:\n",
    "                X[i][j] = np.zeros((1, 87))\n",
    "        else:\n",
    "            if len(X[i][j]) == 0:\n",
    "                X[i][j] = np.array([[0, 0, 0]], dtype = np.float32)\n",
    "                \n",
    "for i in range(len(X2)):\n",
    "    for j in range(len(X2[0])):\n",
    "        if len(X2) == 5 and i == len(X2)-1: # assuming mocap always comes in the last index\n",
    "            if len(X2[i][j]) == 0:\n",
    "                X2[i][j] = np.zeros((1, 87))\n",
    "        else:\n",
    "            if len(X2[i][j]) == 0:\n",
    "                X2[i][j] = np.array([[0, 0, 0]], dtype = np.float32)\n",
    "                \n",
    "                \n",
    "for i in range(len(X3)):\n",
    "    for j in range(len(X3[0])):\n",
    "        if len(X3) == 5 and i == len(X3)-1: # assuming mocap always comes in the last index\n",
    "            if len(X3[i][j]) == 0:\n",
    "                X3[i][j] = np.zeros((1, 87))\n",
    "        else:\n",
    "            if len(X3[i][j]) == 0:\n",
    "                X3[i][j] = np.array([[0, 0, 0]], dtype = np.float32)"
   ]
  },
  {
   "cell_type": "code",
   "execution_count": 32,
   "metadata": {},
   "outputs": [],
   "source": [
    "def train(simple_conv, Xm, ym, EPOCH, train_split=1.0): # train on merged data\n",
    "    # single zero padding for NULL datas\n",
    "\n",
    "    report_acc = 0.0\n",
    "    for epoch in range(EPOCH):\n",
    "        print(f'Training epoch {epoch} ...')\n",
    "        avg_loss = 0.0\n",
    "\n",
    "        for sample_i in tqdm_notebook(range(5)): # replace later with len(Xm)\n",
    "            x = Xm[sample_i]\n",
    "            y_s = np.array(ym[sample_i])\n",
    "\n",
    "            train_loss   =  simple_conv.train_on_batch(x, \n",
    "                                        y_s.reshape(1,1))\n",
    "            avg_loss += train_loss/(len(Xm))\n",
    "\n",
    "        print(f'loss: {avg_loss}')\n",
    "    \n",
    "    return simple_conv"
   ]
  },
  {
   "cell_type": "code",
   "execution_count": 33,
   "metadata": {},
   "outputs": [],
   "source": [
    "aa = [X[0][5], X[1][5], X[2][5], X[3][5]]"
   ]
  },
  {
   "cell_type": "code",
   "execution_count": 34,
   "metadata": {},
   "outputs": [
    {
     "data": {
      "text/plain": [
       "4"
      ]
     },
     "execution_count": 34,
     "metadata": {},
     "output_type": "execute_result"
    }
   ],
   "source": [
    "len(aa)"
   ]
  },
  {
   "cell_type": "code",
   "execution_count": 35,
   "metadata": {},
   "outputs": [
    {
     "data": {
      "text/plain": [
       "1442"
      ]
     },
     "execution_count": 35,
     "metadata": {},
     "output_type": "execute_result"
    }
   ],
   "source": [
    "len(aa[0])"
   ]
  },
  {
   "cell_type": "code",
   "execution_count": 36,
   "metadata": {},
   "outputs": [],
   "source": [
    "ab = aa + aa"
   ]
  },
  {
   "cell_type": "code",
   "execution_count": 37,
   "metadata": {},
   "outputs": [
    {
     "data": {
      "text/plain": [
       "8"
      ]
     },
     "execution_count": 37,
     "metadata": {},
     "output_type": "execute_result"
    }
   ],
   "source": [
    "len(ab)"
   ]
  },
  {
   "cell_type": "code",
   "execution_count": 38,
   "metadata": {},
   "outputs": [
    {
     "data": {
      "text/plain": [
       "1442"
      ]
     },
     "execution_count": 38,
     "metadata": {},
     "output_type": "execute_result"
    }
   ],
   "source": [
    "len(ab[0])"
   ]
  },
  {
   "cell_type": "code",
   "execution_count": 39,
   "metadata": {},
   "outputs": [],
   "source": [
    "def process_x(x1, x2):\n",
    "    return x1 + x2"
   ]
  },
  {
   "cell_type": "code",
   "execution_count": 40,
   "metadata": {},
   "outputs": [
    {
     "data": {
      "text/plain": [
       "1"
      ]
     },
     "execution_count": 40,
     "metadata": {},
     "output_type": "execute_result"
    }
   ],
   "source": [
    "np.argmax([0,1,0])"
   ]
  },
  {
   "cell_type": "code",
   "execution_count": 41,
   "metadata": {},
   "outputs": [
    {
     "data": {
      "text/plain": [
       "1"
      ]
     },
     "execution_count": 41,
     "metadata": {},
     "output_type": "execute_result"
    }
   ],
   "source": [
    "np.argmax([0,1,1])"
   ]
  },
  {
   "cell_type": "code",
   "execution_count": 42,
   "metadata": {},
   "outputs": [],
   "source": [
    "def test(simple_conv, Xt, yt, Xs1, ys1, Xs2, ys2): # considering all samples for majority voting\n",
    "\n",
    "    avg_acc = 0.0\n",
    "    \n",
    "    y_votes = []\n",
    "    \n",
    "    for sample_i in tqdm_notebook(range(5)): # len(Xt[0]) # Xt is in format (4,S,..) Xs1 and Xs2 are in same format too\n",
    "        votes = [0, 0, 0] # initially all votes are zero\n",
    "        for j in range(5): # len(Xs1[0])\n",
    "            x1 = [Xt[0][sample_i], Xt[1][sample_i], Xt[2][sample_i], Xt[3][sample_i]]\n",
    "            x2 = [Xs1[0][j], Xs1[1][j], Xs1[2][j], Xs1[3][j]]\n",
    "            \n",
    "            left_i = [x1[0].reshape(1,x1[0].shape[0],3).astype(np.float32), \n",
    "              x1[1].reshape(1,x1[1].shape[0],3).astype(np.float32), \n",
    "              x1[2].reshape(1,x1[2].shape[0],3).astype(np.float32), \n",
    "              x1[3].reshape(1,x1[3].shape[0],3).astype(np.float32)]\n",
    "\n",
    "            right_i = [x2[0].reshape(1,x2[0].shape[0],3).astype(np.float32), \n",
    "                      x2[1].reshape(1,x2[1].shape[0],3).astype(np.float32), \n",
    "                      x2[2].reshape(1,x2[2].shape[0],3).astype(np.float32), \n",
    "                      x2[3].reshape(1,x2[3].shape[0],3).astype(np.float32)]\n",
    "            \n",
    "            xf = left_i + right_i\n",
    "            p = simple_conv.predict(xf)[0][0]\n",
    "            \n",
    "            if p > 0.7: # only samples taken where I'm confident\n",
    "                votes[ np.argmax(ys1[j]) ] += 1\n",
    "            \n",
    "            if p < 0.3: # I'm confident this is negative\n",
    "                votes[ np.argmax(ys1[j]) ] -= 1\n",
    "                \n",
    "                \n",
    "        for j in range(5): # len(Xs1[0])\n",
    "            x1 = [Xt[0][sample_i], Xt[1][sample_i], Xt[2][sample_i], Xt[3][sample_i]]\n",
    "            x2 = [Xs2[0][j], Xs2[1][j], Xs2[2][j], Xs2[3][j]]\n",
    "            \n",
    "            left_i = [x1[0].reshape(1,x1[0].shape[0],3).astype(np.float32), \n",
    "              x1[1].reshape(1,x1[1].shape[0],3).astype(np.float32), \n",
    "              x1[2].reshape(1,x1[2].shape[0],3).astype(np.float32), \n",
    "              x1[3].reshape(1,x1[3].shape[0],3).astype(np.float32)]\n",
    "\n",
    "            right_i = [x2[0].reshape(1,x2[0].shape[0],3).astype(np.float32), \n",
    "                      x2[1].reshape(1,x2[1].shape[0],3).astype(np.float32), \n",
    "                      x2[2].reshape(1,x2[2].shape[0],3).astype(np.float32), \n",
    "                      x2[3].reshape(1,x2[3].shape[0],3).astype(np.float32)]\n",
    "            \n",
    "            xf = left_i + right_i\n",
    "\n",
    "            p = simple_conv.predict(xf)[0][0]\n",
    "            \n",
    "            if p > 0.7: # only samples taken where I'm confident\n",
    "                votes[ np.argmax(ys2[j]) ] += 1\n",
    "            \n",
    "            if p < 0.3: # I'm confident this is negative\n",
    "                votes[ np.argmax(ys2[j]) ] -= 1\n",
    "                \n",
    "        y_votes.append(votes)\n",
    "                \n",
    "        y_p = np.array([0., 0., 0.])\n",
    "        y_p[ np.argmax(votes) ] = 1.\n",
    "        \n",
    "        if np.array_equal(y_p, yt[sample_i]):\n",
    "            avg_acc += 1./(len(Xt[0]))\n",
    "                \n",
    "    print(f'test acc: {avg_acc}')\n",
    "    return avg_acc, y_votes"
   ]
  },
  {
   "cell_type": "code",
   "execution_count": null,
   "metadata": {},
   "outputs": [],
   "source": []
  },
  {
   "cell_type": "code",
   "execution_count": 43,
   "metadata": {},
   "outputs": [
    {
     "data": {
      "application/vnd.jupyter.widget-view+json": {
       "model_id": "5261c50f2d504b91860d334e6c9c8d8b",
       "version_major": 2,
       "version_minor": 0
      },
      "text/plain": [
       "HBox(children=(IntProgress(value=0, max=105), HTML(value='')))"
      ]
     },
     "metadata": {},
     "output_type": "display_data"
    },
    {
     "name": "stdout",
     "output_type": "stream",
     "text": [
      "\n"
     ]
    },
    {
     "data": {
      "application/vnd.jupyter.widget-view+json": {
       "model_id": "2520cf12454e491cbac5009d3c65ed99",
       "version_major": 2,
       "version_minor": 0
      },
      "text/plain": [
       "HBox(children=(IntProgress(value=0, max=105), HTML(value='')))"
      ]
     },
     "metadata": {},
     "output_type": "display_data"
    },
    {
     "name": "stdout",
     "output_type": "stream",
     "text": [
      "\n"
     ]
    },
    {
     "data": {
      "application/vnd.jupyter.widget-view+json": {
       "model_id": "551dffd24a114487b8abb2d32164fc1c",
       "version_major": 2,
       "version_minor": 0
      },
      "text/plain": [
       "HBox(children=(IntProgress(value=0, max=103), HTML(value='')))"
      ]
     },
     "metadata": {},
     "output_type": "display_data"
    },
    {
     "name": "stdout",
     "output_type": "stream",
     "text": [
      "\n",
      "Training epoch 0 ...\n"
     ]
    },
    {
     "data": {
      "application/vnd.jupyter.widget-view+json": {
       "model_id": "84b7bfde08484460941184770bcff213",
       "version_major": 2,
       "version_minor": 0
      },
      "text/plain": [
       "HBox(children=(IntProgress(value=0, max=5), HTML(value='')))"
      ]
     },
     "metadata": {},
     "output_type": "display_data"
    },
    {
     "name": "stdout",
     "output_type": "stream",
     "text": [
      "\n",
      "loss: 0.0041796948366345935\n",
      "Training epoch 0 ...\n"
     ]
    },
    {
     "data": {
      "application/vnd.jupyter.widget-view+json": {
       "model_id": "47d6e3f20acb43fd9cd4420577b87c95",
       "version_major": 2,
       "version_minor": 0
      },
      "text/plain": [
       "HBox(children=(IntProgress(value=0, max=5), HTML(value='')))"
      ]
     },
     "metadata": {},
     "output_type": "display_data"
    },
    {
     "name": "stdout",
     "output_type": "stream",
     "text": [
      "\n",
      "loss: 0.00405494365562387\n",
      "Training epoch 0 ...\n"
     ]
    },
    {
     "data": {
      "application/vnd.jupyter.widget-view+json": {
       "model_id": "e473dc782dd04a11983041e59eded930",
       "version_major": 2,
       "version_minor": 0
      },
      "text/plain": [
       "HBox(children=(IntProgress(value=0, max=5), HTML(value='')))"
      ]
     },
     "metadata": {},
     "output_type": "display_data"
    },
    {
     "name": "stdout",
     "output_type": "stream",
     "text": [
      "\n",
      "loss: 0.0041912032832231005\n",
      "Training epoch 0 ...\n"
     ]
    },
    {
     "data": {
      "application/vnd.jupyter.widget-view+json": {
       "model_id": "4faa3b52acc64d22ae90d617a7e7b882",
       "version_major": 2,
       "version_minor": 0
      },
      "text/plain": [
       "HBox(children=(IntProgress(value=0, max=5), HTML(value='')))"
      ]
     },
     "metadata": {},
     "output_type": "display_data"
    },
    {
     "name": "stdout",
     "output_type": "stream",
     "text": [
      "\n",
      "loss: 0.0032898702281964247\n",
      "Training epoch 0 ...\n"
     ]
    },
    {
     "data": {
      "application/vnd.jupyter.widget-view+json": {
       "model_id": "5a19d8f8bca644d18fc49513ebd61883",
       "version_major": 2,
       "version_minor": 0
      },
      "text/plain": [
       "HBox(children=(IntProgress(value=0, max=5), HTML(value='')))"
      ]
     },
     "metadata": {},
     "output_type": "display_data"
    },
    {
     "name": "stdout",
     "output_type": "stream",
     "text": [
      "\n",
      "loss: 0.003524375880926915\n",
      "Training epoch 0 ...\n"
     ]
    },
    {
     "data": {
      "application/vnd.jupyter.widget-view+json": {
       "model_id": "9fe102cb0a1740d5a832de2e43a5d28c",
       "version_major": 2,
       "version_minor": 0
      },
      "text/plain": [
       "HBox(children=(IntProgress(value=0, max=5), HTML(value='')))"
      ]
     },
     "metadata": {},
     "output_type": "display_data"
    },
    {
     "name": "stdout",
     "output_type": "stream",
     "text": [
      "\n",
      "loss: 0.0035527151371893577\n",
      "Training epoch 0 ...\n"
     ]
    },
    {
     "data": {
      "application/vnd.jupyter.widget-view+json": {
       "model_id": "8f274463e4534e6e9b18a5ab849e6c2a",
       "version_major": 2,
       "version_minor": 0
      },
      "text/plain": [
       "HBox(children=(IntProgress(value=0, max=5), HTML(value='')))"
      ]
     },
     "metadata": {},
     "output_type": "display_data"
    },
    {
     "name": "stdout",
     "output_type": "stream",
     "text": [
      "\n",
      "loss: 0.0032047392536080437\n",
      "Training epoch 0 ...\n"
     ]
    },
    {
     "data": {
      "application/vnd.jupyter.widget-view+json": {
       "model_id": "3de313cf697643be81f69d33a0c4a0df",
       "version_major": 2,
       "version_minor": 0
      },
      "text/plain": [
       "HBox(children=(IntProgress(value=0, max=5), HTML(value='')))"
      ]
     },
     "metadata": {},
     "output_type": "display_data"
    },
    {
     "name": "stdout",
     "output_type": "stream",
     "text": [
      "\n",
      "loss: 0.0033022183355560647\n",
      "Training epoch 0 ...\n"
     ]
    },
    {
     "data": {
      "application/vnd.jupyter.widget-view+json": {
       "model_id": "616bcf54406b43b595d4f3b0fb3ad1ed",
       "version_major": 2,
       "version_minor": 0
      },
      "text/plain": [
       "HBox(children=(IntProgress(value=0, max=5), HTML(value='')))"
      ]
     },
     "metadata": {},
     "output_type": "display_data"
    },
    {
     "name": "stdout",
     "output_type": "stream",
     "text": [
      "\n",
      "loss: 0.0034583478095742935\n",
      "-------------------------------------------------\n",
      "Test phase\n",
      "Testing X1\n"
     ]
    },
    {
     "data": {
      "application/vnd.jupyter.widget-view+json": {
       "model_id": "862643ee54e84c0897802e54f99790c4",
       "version_major": 2,
       "version_minor": 0
      },
      "text/plain": [
       "HBox(children=(IntProgress(value=0, max=5), HTML(value='')))"
      ]
     },
     "metadata": {},
     "output_type": "display_data"
    },
    {
     "name": "stdout",
     "output_type": "stream",
     "text": [
      "\n",
      "test acc: 0.025\n",
      "[[0, 2, 0], [3, 3, 4], [1, 2, 3], [3, 2, 3], [0, 0, 0]]\n"
     ]
    },
    {
     "data": {
      "application/vnd.jupyter.widget-view+json": {
       "model_id": "1495ad48f7af4bc680415663f98bbe78",
       "version_major": 2,
       "version_minor": 0
      },
      "text/plain": [
       "HBox(children=(IntProgress(value=0, max=80), HTML(value='')))"
      ]
     },
     "metadata": {},
     "output_type": "display_data"
    },
    {
     "name": "stdout",
     "output_type": "stream",
     "text": [
      "\n"
     ]
    },
    {
     "data": {
      "application/vnd.jupyter.widget-view+json": {
       "model_id": "f654155c5fe34081b242b6cd044eaf10",
       "version_major": 2,
       "version_minor": 0
      },
      "text/plain": [
       "HBox(children=(IntProgress(value=0, max=80), HTML(value='')))"
      ]
     },
     "metadata": {},
     "output_type": "display_data"
    },
    {
     "name": "stdout",
     "output_type": "stream",
     "text": [
      "\n"
     ]
    },
    {
     "data": {
      "application/vnd.jupyter.widget-view+json": {
       "model_id": "fb5a0a2ebefa40c6b308f139e73cfe49",
       "version_major": 2,
       "version_minor": 0
      },
      "text/plain": [
       "HBox(children=(IntProgress(value=0, max=103), HTML(value='')))"
      ]
     },
     "metadata": {},
     "output_type": "display_data"
    },
    {
     "name": "stdout",
     "output_type": "stream",
     "text": [
      "\n",
      "Training epoch 0 ...\n"
     ]
    },
    {
     "data": {
      "application/vnd.jupyter.widget-view+json": {
       "model_id": "6fec4da4aeec4d8f9ce7c1a7a2587752",
       "version_major": 2,
       "version_minor": 0
      },
      "text/plain": [
       "HBox(children=(IntProgress(value=0, max=5), HTML(value='')))"
      ]
     },
     "metadata": {},
     "output_type": "display_data"
    },
    {
     "name": "stdout",
     "output_type": "stream",
     "text": [
      "\n",
      "loss: 0.004314128056313228\n",
      "Training epoch 0 ...\n"
     ]
    },
    {
     "data": {
      "application/vnd.jupyter.widget-view+json": {
       "model_id": "442adcce8ad24e30a45cc0d5d451087f",
       "version_major": 2,
       "version_minor": 0
      },
      "text/plain": [
       "HBox(children=(IntProgress(value=0, max=5), HTML(value='')))"
      ]
     },
     "metadata": {},
     "output_type": "display_data"
    },
    {
     "name": "stdout",
     "output_type": "stream",
     "text": [
      "\n",
      "loss: 0.005633082687854768\n",
      "Training epoch 0 ...\n"
     ]
    },
    {
     "data": {
      "application/vnd.jupyter.widget-view+json": {
       "model_id": "63728631f3f64b5abc03cfd83bbb7966",
       "version_major": 2,
       "version_minor": 0
      },
      "text/plain": [
       "HBox(children=(IntProgress(value=0, max=5), HTML(value='')))"
      ]
     },
     "metadata": {},
     "output_type": "display_data"
    },
    {
     "name": "stdout",
     "output_type": "stream",
     "text": [
      "\n",
      "loss: 0.0035006730964826766\n",
      "Training epoch 0 ...\n"
     ]
    },
    {
     "data": {
      "application/vnd.jupyter.widget-view+json": {
       "model_id": "b93f2db19c88421fa437552df167e85f",
       "version_major": 2,
       "version_minor": 0
      },
      "text/plain": [
       "HBox(children=(IntProgress(value=0, max=5), HTML(value='')))"
      ]
     },
     "metadata": {},
     "output_type": "display_data"
    },
    {
     "name": "stdout",
     "output_type": "stream",
     "text": [
      "\n",
      "loss: 0.003952222773172323\n",
      "Training epoch 0 ...\n"
     ]
    },
    {
     "data": {
      "application/vnd.jupyter.widget-view+json": {
       "model_id": "f3b884d4120c4899a4a77e27d7bc81d1",
       "version_major": 2,
       "version_minor": 0
      },
      "text/plain": [
       "HBox(children=(IntProgress(value=0, max=5), HTML(value='')))"
      ]
     },
     "metadata": {},
     "output_type": "display_data"
    },
    {
     "name": "stdout",
     "output_type": "stream",
     "text": [
      "\n",
      "loss: 0.005125303491950034\n",
      "Training epoch 0 ...\n"
     ]
    },
    {
     "data": {
      "application/vnd.jupyter.widget-view+json": {
       "model_id": "8608ffb0292342fd809968341d17020d",
       "version_major": 2,
       "version_minor": 0
      },
      "text/plain": [
       "HBox(children=(IntProgress(value=0, max=5), HTML(value='')))"
      ]
     },
     "metadata": {},
     "output_type": "display_data"
    },
    {
     "name": "stdout",
     "output_type": "stream",
     "text": [
      "\n",
      "loss: 0.0031339588483504247\n",
      "Training epoch 0 ...\n"
     ]
    },
    {
     "data": {
      "application/vnd.jupyter.widget-view+json": {
       "model_id": "f89592c9fe4b4ca7b7fa965fe66155d3",
       "version_major": 2,
       "version_minor": 0
      },
      "text/plain": [
       "HBox(children=(IntProgress(value=0, max=5), HTML(value='')))"
      ]
     },
     "metadata": {},
     "output_type": "display_data"
    },
    {
     "name": "stdout",
     "output_type": "stream",
     "text": [
      "\n",
      "loss: 0.0038251869308138352\n",
      "Training epoch 0 ...\n"
     ]
    },
    {
     "data": {
      "application/vnd.jupyter.widget-view+json": {
       "model_id": "568b9e7fe118462f99dd26b46833e53e",
       "version_major": 2,
       "version_minor": 0
      },
      "text/plain": [
       "HBox(children=(IntProgress(value=0, max=5), HTML(value='')))"
      ]
     },
     "metadata": {},
     "output_type": "display_data"
    },
    {
     "name": "stdout",
     "output_type": "stream",
     "text": [
      "\n",
      "loss: 0.004997353851795196\n",
      "Training epoch 0 ...\n"
     ]
    },
    {
     "data": {
      "application/vnd.jupyter.widget-view+json": {
       "model_id": "060a85f3fea14304bbafeda930f8c94c",
       "version_major": 2,
       "version_minor": 0
      },
      "text/plain": [
       "HBox(children=(IntProgress(value=0, max=5), HTML(value='')))"
      ]
     },
     "metadata": {},
     "output_type": "display_data"
    },
    {
     "name": "stdout",
     "output_type": "stream",
     "text": [
      "\n",
      "loss: 0.0030465047381265592\n",
      "-------------------------------------------------\n",
      "Test phase\n",
      "Testing X2\n"
     ]
    },
    {
     "data": {
      "application/vnd.jupyter.widget-view+json": {
       "model_id": "4f1abf3ab7504726902984ebdae2df5b",
       "version_major": 2,
       "version_minor": 0
      },
      "text/plain": [
       "HBox(children=(IntProgress(value=0, max=5), HTML(value='')))"
      ]
     },
     "metadata": {},
     "output_type": "display_data"
    },
    {
     "name": "stdout",
     "output_type": "stream",
     "text": [
      "\n",
      "test acc: 0.009523809523809525\n",
      "[[3, 2, 2], [3, 2, 2], [3, 3, 3], [3, 3, 3], [3, 3, 2]]\n"
     ]
    },
    {
     "data": {
      "application/vnd.jupyter.widget-view+json": {
       "model_id": "7327ab79524540c5b807601da72fa95c",
       "version_major": 2,
       "version_minor": 0
      },
      "text/plain": [
       "HBox(children=(IntProgress(value=0, max=80), HTML(value='')))"
      ]
     },
     "metadata": {},
     "output_type": "display_data"
    },
    {
     "name": "stdout",
     "output_type": "stream",
     "text": [
      "\n"
     ]
    },
    {
     "data": {
      "application/vnd.jupyter.widget-view+json": {
       "model_id": "4a9ac927e33548fdb2b34ed382d37f9a",
       "version_major": 2,
       "version_minor": 0
      },
      "text/plain": [
       "HBox(children=(IntProgress(value=0, max=80), HTML(value='')))"
      ]
     },
     "metadata": {},
     "output_type": "display_data"
    },
    {
     "name": "stdout",
     "output_type": "stream",
     "text": [
      "\n"
     ]
    },
    {
     "data": {
      "application/vnd.jupyter.widget-view+json": {
       "model_id": "c2b1492d16484a87b54a65d24f9fd9a9",
       "version_major": 2,
       "version_minor": 0
      },
      "text/plain": [
       "HBox(children=(IntProgress(value=0, max=105), HTML(value='')))"
      ]
     },
     "metadata": {},
     "output_type": "display_data"
    },
    {
     "name": "stdout",
     "output_type": "stream",
     "text": [
      "\n",
      "Training epoch 0 ...\n"
     ]
    },
    {
     "data": {
      "application/vnd.jupyter.widget-view+json": {
       "model_id": "8701576ecca749459fb5698913ae5bb4",
       "version_major": 2,
       "version_minor": 0
      },
      "text/plain": [
       "HBox(children=(IntProgress(value=0, max=5), HTML(value='')))"
      ]
     },
     "metadata": {},
     "output_type": "display_data"
    },
    {
     "name": "stdout",
     "output_type": "stream",
     "text": [
      "\n",
      "loss: 0.004854561658132644\n",
      "Training epoch 0 ...\n"
     ]
    },
    {
     "data": {
      "application/vnd.jupyter.widget-view+json": {
       "model_id": "e961425d62d6484095c77ea0eca87695",
       "version_major": 2,
       "version_minor": 0
      },
      "text/plain": [
       "HBox(children=(IntProgress(value=0, max=5), HTML(value='')))"
      ]
     },
     "metadata": {},
     "output_type": "display_data"
    },
    {
     "name": "stdout",
     "output_type": "stream",
     "text": [
      "\n",
      "loss: 0.005851569622755051\n",
      "Training epoch 0 ...\n"
     ]
    },
    {
     "data": {
      "application/vnd.jupyter.widget-view+json": {
       "model_id": "8a4b3ac1f37545a6bc2c0238b9c40e29",
       "version_major": 2,
       "version_minor": 0
      },
      "text/plain": [
       "HBox(children=(IntProgress(value=0, max=5), HTML(value='')))"
      ]
     },
     "metadata": {},
     "output_type": "display_data"
    },
    {
     "name": "stdout",
     "output_type": "stream",
     "text": [
      "\n",
      "loss: 0.0033749120197598898\n",
      "Training epoch 0 ...\n"
     ]
    },
    {
     "data": {
      "application/vnd.jupyter.widget-view+json": {
       "model_id": "17a98acb88c64951a1117f0e3cb6d324",
       "version_major": 2,
       "version_minor": 0
      },
      "text/plain": [
       "HBox(children=(IntProgress(value=0, max=5), HTML(value='')))"
      ]
     },
     "metadata": {},
     "output_type": "display_data"
    },
    {
     "name": "stdout",
     "output_type": "stream",
     "text": [
      "\n",
      "loss: 0.0039654091993967695\n",
      "Training epoch 0 ...\n"
     ]
    },
    {
     "data": {
      "application/vnd.jupyter.widget-view+json": {
       "model_id": "81a878eb40d146f9bf6baecd83d3fcc9",
       "version_major": 2,
       "version_minor": 0
      },
      "text/plain": [
       "HBox(children=(IntProgress(value=0, max=5), HTML(value='')))"
      ]
     },
     "metadata": {},
     "output_type": "display_data"
    },
    {
     "name": "stdout",
     "output_type": "stream",
     "text": [
      "\n",
      "loss: 0.004812555760145188\n",
      "Training epoch 0 ...\n"
     ]
    },
    {
     "data": {
      "application/vnd.jupyter.widget-view+json": {
       "model_id": "355f070c4ae34b2f8e9abb6907c379fd",
       "version_major": 2,
       "version_minor": 0
      },
      "text/plain": [
       "HBox(children=(IntProgress(value=0, max=5), HTML(value='')))"
      ]
     },
     "metadata": {},
     "output_type": "display_data"
    },
    {
     "name": "stdout",
     "output_type": "stream",
     "text": [
      "\n",
      "loss: 0.002953353284978542\n",
      "Training epoch 0 ...\n"
     ]
    },
    {
     "data": {
      "application/vnd.jupyter.widget-view+json": {
       "model_id": "fd49e2b4005b43fe9d0890aa57095188",
       "version_major": 2,
       "version_minor": 0
      },
      "text/plain": [
       "HBox(children=(IntProgress(value=0, max=5), HTML(value='')))"
      ]
     },
     "metadata": {},
     "output_type": "display_data"
    },
    {
     "name": "stdout",
     "output_type": "stream",
     "text": [
      "\n",
      "loss: 0.00360567535672869\n",
      "Training epoch 0 ...\n"
     ]
    },
    {
     "data": {
      "application/vnd.jupyter.widget-view+json": {
       "model_id": "a8f4f46168e74fb4a4beee8d8ae89891",
       "version_major": 2,
       "version_minor": 0
      },
      "text/plain": [
       "HBox(children=(IntProgress(value=0, max=5), HTML(value='')))"
      ]
     },
     "metadata": {},
     "output_type": "display_data"
    },
    {
     "name": "stdout",
     "output_type": "stream",
     "text": [
      "\n",
      "loss: 0.004673578888177872\n",
      "Training epoch 0 ...\n"
     ]
    },
    {
     "data": {
      "application/vnd.jupyter.widget-view+json": {
       "model_id": "59fc6744a53841d5992e696bfde933dc",
       "version_major": 2,
       "version_minor": 0
      },
      "text/plain": [
       "HBox(children=(IntProgress(value=0, max=5), HTML(value='')))"
      ]
     },
     "metadata": {},
     "output_type": "display_data"
    },
    {
     "name": "stdout",
     "output_type": "stream",
     "text": [
      "\n",
      "loss: 0.0028412786038284127\n",
      "-------------------------------------------------\n",
      "Test phase\n",
      "Testing X3\n"
     ]
    },
    {
     "data": {
      "application/vnd.jupyter.widget-view+json": {
       "model_id": "9981405f9fe449cdac4bde373d09f4c7",
       "version_major": 2,
       "version_minor": 0
      },
      "text/plain": [
       "HBox(children=(IntProgress(value=0, max=5), HTML(value='')))"
      ]
     },
     "metadata": {},
     "output_type": "display_data"
    },
    {
     "name": "stdout",
     "output_type": "stream",
     "text": [
      "\n",
      "test acc: 0.009708737864077669\n",
      "[[3, 1, 5], [3, 2, 5], [3, 0, 4], [3, 2, 5], [3, 2, 4]]\n",
      "--------------------report----------------------\n",
      "TS: X1 test_acc: 0.025\n",
      "TS: X2 test_acc: 0.009523809523809525\n",
      "TS: X3 test_acc: 0.009708737864077669\n"
     ]
    }
   ],
   "source": [
    "# train on subject1\n",
    "# validate on subject2, 3\n",
    "\n",
    "from tqdm import tqdm\n",
    "from tensorflow.keras.optimizers import RMSprop\n",
    "\n",
    "report = []\n",
    "\n",
    "for xytst in [(X, y_ohe, 'X1'), (X2, y2_ohe, 'X2'), (X3, y3_ohe, 'X3')]:\n",
    "    \n",
    "    xytr = [a for a in [(X, y_ohe, 'X1'), (X2, y2_ohe, 'X2'), (X3, y3_ohe, 'X3')] if a!=xytst]\n",
    "\n",
    "    EPOCH = 3\n",
    "    train_split = 1.0\n",
    "    lr = 0.001\n",
    "    \n",
    "    Xm, ym = triplet_generation(xytr[0][0], xytr[0][1], xytr[1][0], xytr[1][1])\n",
    "    Xm2, ym2 = triplet_generation(xytr[0][0], xytr[0][1], xytr[0][0], xytr[0][1])\n",
    "    Xm3, ym3 = triplet_generation(xytr[1][0], xytr[1][1], xytr[1][0], xytr[1][1])\n",
    "\n",
    "    for e in range(EPOCH):\n",
    "        siamese_net.compile(loss='binary_crossentropy', optimizer=Adam(learning_rate=lr))\n",
    "        siamese_net = train(siamese_net, Xm, ym, 1, train_split)\n",
    "        lr /= 1.2\n",
    "        siamese_net.compile(loss='binary_crossentropy', optimizer=Adam(learning_rate=lr))\n",
    "        siamese_net = train(siamese_net, Xm2, ym2, 1, train_split)\n",
    "        lr /= 1.4\n",
    "        siamese_net.compile(loss='binary_crossentropy', optimizer=Adam(learning_rate=lr))\n",
    "        siamese_net = train(siamese_net, Xm3, ym3, 1, train_split)\n",
    "        lr /= 1.5\n",
    "    \n",
    "\n",
    "    print('-------------------------------------------------')\n",
    "    print('Test phase')\n",
    "    print(f'Testing {xytst[2]}')\n",
    "\n",
    "    t_acc, y_v = test(siamese_net, xytst[0], xytst[1], xytr[0][0], xytr[0][1], xytr[1][0], xytr[1][1])\n",
    "    report.append(f'TS: {xytst[2]} test_acc: {t_acc}')\n",
    "    print(y_v[:5])\n",
    "\n",
    "print('--------------------report----------------------')\n",
    "for ta in report:\n",
    "    print(ta)"
   ]
  },
  {
   "cell_type": "code",
   "execution_count": 44,
   "metadata": {},
   "outputs": [
    {
     "data": {
      "text/plain": [
       "0.03125"
      ]
     },
     "execution_count": 44,
     "metadata": {},
     "output_type": "execute_result"
    }
   ],
   "source": [
    "5/80*0.5"
   ]
  },
  {
   "cell_type": "code",
   "execution_count": null,
   "metadata": {},
   "outputs": [],
   "source": []
  }
 ],
 "metadata": {
  "kernelspec": {
   "display_name": "Python 3",
   "language": "python",
   "name": "python3"
  },
  "language_info": {
   "codemirror_mode": {
    "name": "ipython",
    "version": 3
   },
   "file_extension": ".py",
   "mimetype": "text/x-python",
   "name": "python",
   "nbconvert_exporter": "python",
   "pygments_lexer": "ipython3",
   "version": "3.7.4"
  }
 },
 "nbformat": 4,
 "nbformat_minor": 4
}
