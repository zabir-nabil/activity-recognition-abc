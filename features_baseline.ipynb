{
 "cells": [
  {
   "cell_type": "code",
   "execution_count": 1,
   "metadata": {},
   "outputs": [
    {
     "name": "stdout",
     "output_type": "stream",
     "text": [
      "C:\\Projects\\activity-recognition-abc\n",
      "C:\\Projects\\activity-recognition-abc\\train\\train\n"
     ]
    }
   ],
   "source": [
    "import pandas as pd\n",
    "import glob\n",
    "import numpy as np\n",
    "%matplotlib inline\n",
    "\n",
    "import os\n",
    "cdir = os.getcwd()\n",
    "print(cdir)\n",
    "os.chdir(cdir + '/train/train')\n",
    "print(os.getcwd())"
   ]
  },
  {
   "cell_type": "code",
   "execution_count": 2,
   "metadata": {},
   "outputs": [],
   "source": [
    "# Multi-head CNN–RNN for multi-time series anomaly detection: An industrial case study"
   ]
  },
  {
   "cell_type": "code",
   "execution_count": 3,
   "metadata": {},
   "outputs": [],
   "source": [
    "def diff(x, y):\n",
    "    return np.abs(x-y) > 10\n",
    "\n",
    "def segment(ary, tm):\n",
    "    a = np.split(ary, np.argwhere(diff(tm[1:], tm[:-1])).T[0] + 1)\n",
    "    return a"
   ]
  },
  {
   "cell_type": "code",
   "execution_count": 4,
   "metadata": {},
   "outputs": [
    {
     "data": {
      "text/plain": [
       "[array([ 1,  0,  1,  1,  2, 21]), array([20, 19,  5, 12, 51, 40])]"
      ]
     },
     "execution_count": 4,
     "metadata": {},
     "output_type": "execute_result"
    }
   ],
   "source": [
    "segment(np.array([1,0,1,1,2,21,20,19,5,12,51,40]), np.array([1,7,16,16,22,21,2,4,5,2,2,2]))"
   ]
  },
  {
   "cell_type": "code",
   "execution_count": 5,
   "metadata": {},
   "outputs": [],
   "source": [
    "from tqdm import tqdm_notebook"
   ]
  },
  {
   "cell_type": "code",
   "execution_count": 6,
   "metadata": {},
   "outputs": [],
   "source": [
    "import pandas as pd\n",
    "from numpy.linalg import LinAlgError\n",
    "from scipy import io, signal\n",
    "#1\n",
    "def AE(x): # Absolute Energy\n",
    "    x = np.asarray(x)\n",
    "    return sum(x * x)\n",
    "\n",
    "#2\n",
    "def SM2(y):\n",
    "    #t1 = time.time()\n",
    "    f, Pxx_den = signal.welch(y)\n",
    "    sm2 = 0\n",
    "    n = len(f)\n",
    "    for i in range(0,n):\n",
    "        sm2 += Pxx_den[i]*(f[i]**2)\n",
    "    \n",
    "    #t2 = time.time()\n",
    "    #print('time: ', t2-t2)\n",
    "    return sm2\n",
    "\n",
    "\n",
    "#3\n",
    "def LOG(y):\n",
    "    n = len(y)\n",
    "    return np.exp(np.sum(np.log(np.abs(y)))/n)\n",
    "\n",
    "#4\n",
    "def WL(x): # WL in primary manuscript\n",
    "    return np.sum(abs(np.diff(x)))\n",
    "\n",
    "\n",
    "\n",
    "#6\n",
    "def AC(x, lag=5): # autocorrelation\n",
    "\n",
    "    \"\"\"\n",
    "     [1] https://en.wikipedia.org/wiki/Autocorrelation#Estimation\n",
    "\n",
    "    \"\"\"\n",
    "    # This is important: If a series is passed, the product below is calculated\n",
    "    # based on the index, which corresponds to squaring the series.\n",
    "    if type(x) is pd.Series:\n",
    "        x = x.values\n",
    "    if len(x) < lag:\n",
    "        return np.nan\n",
    "    # Slice the relevant subseries based on the lag\n",
    "    y1 = x[:(len(x)-lag)]\n",
    "    y2 = x[lag:]\n",
    "    # Subtract the mean of the whole series x\n",
    "    x_mean = np.mean(x)\n",
    "    # The result is sometimes referred to as \"covariation\"\n",
    "    sum_product = np.sum((y1-x_mean)*(y2-x_mean))\n",
    "    # Return the normalized unbiased covariance\n",
    "    return sum_product / ((len(x) - lag) * np.var(x))\n",
    "\n",
    "#7\n",
    "def BE(x, max_bins=30): # binned entropy\n",
    "    hist, bin_edges = np.histogram(x, bins=max_bins)\n",
    "    probs = hist / len(x)\n",
    "    return - np.sum(p * np.math.log(p) for p in probs if p != 0)\n",
    "\n",
    "#8\n",
    "def C3(x, lag = 5): # c3 feature\n",
    "    n = len(x)\n",
    "    x = np.asarray(x)\n",
    "    if 2 * lag >= n:\n",
    "        return 0\n",
    "    else:\n",
    "        return np.mean((np.roll(x, 2 * -lag) * np.roll(x, -lag) * x)[0:(n - 2 * lag)])\n",
    "    \n",
    "    \n",
    "\n",
    "\n",
    "\n",
    "\n",
    "\n",
    "#12\n",
    "def AAC(x): #AAC in primary manuscript\n",
    "    return np.mean(abs(np.diff(x)))\n",
    "\n",
    "#13\n",
    "def MSDC(x): # mean second derivative central\n",
    "    diff = (np.roll(x, 1) - 2 * np.array(x) + np.roll(x, -1)) / 2.0\n",
    "    return np.mean(diff[1:-1])\n",
    "\n",
    "#14\n",
    "def ZC(x, m = 0): # zero/mean crossing\n",
    "    # m = np.mean(x)\n",
    "    x = np.asarray(x)\n",
    "    x = x[x != m]\n",
    "    return sum(np.abs(np.diff(np.sign(x - m))))/2\n",
    "\n",
    "\n",
    "#15\n",
    "def SE(x): # sample entropy\n",
    "    \"\"\"\n",
    "    [1] http://en.wikipedia.org/wiki/Sample_Entropy\n",
    "    [2] https://www.ncbi.nlm.nih.gov/pubmed/10843903?dopt=Abstract\n",
    "    \"\"\"\n",
    "    x = np.array(x)\n",
    "\n",
    "    sample_length = 1 # number of sequential points of the time series\n",
    "    tolerance = 0.2 * np.std(x) # 0.2 is a common value for r - why?\n",
    "\n",
    "    n = len(x)\n",
    "    prev = np.zeros(n)\n",
    "    curr = np.zeros(n)\n",
    "    A = np.zeros((1, 1))  # number of matches for m = [1,...,template_length - 1]\n",
    "    B = np.zeros((1, 1))  # number of matches for m = [1,...,template_length]\n",
    "\n",
    "    for i in range(n - 1):\n",
    "        nj = n - i - 1\n",
    "        ts1 = x[i]\n",
    "        for jj in range(nj):\n",
    "            j = jj + i + 1\n",
    "            if abs(x[j] - ts1) < tolerance:  # distance between two vectors\n",
    "                curr[jj] = prev[jj] + 1\n",
    "                temp_ts_length = min(sample_length, curr[jj])\n",
    "                for m in range(int(temp_ts_length)):\n",
    "                    A[m] += 1\n",
    "                    if j < n - 1:\n",
    "                        B[m] += 1\n",
    "            else:\n",
    "                curr[jj] = 0\n",
    "        for j in range(nj):\n",
    "            prev[j] = curr[j]\n",
    "\n",
    "    N = n * (n - 1) / 2\n",
    "    B = np.vstack(([N], B[0]))\n",
    "\n",
    "    # sample entropy = -1 * (log (A/B))\n",
    "    similarity_ratio = A / B\n",
    "    se = -1 * np.log(similarity_ratio)\n",
    "    se = np.reshape(se, -1)\n",
    "    return se[0]\n",
    "\n",
    "#16\n",
    "def TRAS(x, lag=5):\n",
    "    # time reversal asymmetry statistic\n",
    "    \"\"\"\n",
    "    |  [1] Fulcher, B.D., Jones, N.S. (2014).\n",
    "    |  Highly comparative feature-based time-series classification.\n",
    "    |  Knowledge and Data Engineering, IEEE Transactions on 26, 3026–3037.\n",
    "    \"\"\"\n",
    "    n = len(x)\n",
    "    x = np.asarray(x)\n",
    "    if 2 * lag >= n:\n",
    "        return 0\n",
    "    else:\n",
    "        return np.mean((np.roll(x, 2 * -lag) * np.roll(x, 2 * -lag) * np.roll(x, -lag) -\n",
    "                        np.roll(x, -lag) * x * x)[0:(n - 2 * lag)])\n",
    "    \n",
    "    \n",
    "#17    \n",
    "def VAR(x): # variance \n",
    "    return np.var(x)"
   ]
  },
  {
   "cell_type": "code",
   "execution_count": 7,
   "metadata": {},
   "outputs": [
    {
     "name": "stdout",
     "output_type": "stream",
     "text": [
      "AE: 0.0009922981262207031\n",
      "SM2: 0.03689932823181152\n",
      "LOG: 0.0009982585906982422\n",
      "WL: 0.0\n",
      "AC: 0.0019941329956054688\n"
     ]
    },
    {
     "name": "stderr",
     "output_type": "stream",
     "text": [
      "C:\\ProgramData\\Anaconda3\\lib\\site-packages\\ipykernel_launcher.py:61: DeprecationWarning: Calling np.sum(generator) is deprecated, and in the future will give a different result. Use np.sum(np.fromiter(generator)) or the python sum builtin instead.\n"
     ]
    },
    {
     "name": "stdout",
     "output_type": "stream",
     "text": [
      "BE: 0.0029909610748291016\n",
      "C3: 0.0009984970092773438\n",
      "AAC: 0.0\n",
      "MSDC: 0.001995563507080078\n",
      "ZC: 0.0009989738464355469\n",
      "TRAS: 0.0009930133819580078\n",
      "VAR: 0.0009958744049072266\n"
     ]
    }
   ],
   "source": [
    "# time - profiling\n",
    "sd = [1,2,3,1,3,1]*1000\n",
    "import time\n",
    "t1 = time.time()\n",
    "AE(sd)\n",
    "t2 = time.time()\n",
    "print(f'AE: {t2-t1}')\n",
    "t1 = time.time()\n",
    "SM2(sd)\n",
    "t2 = time.time()\n",
    "print(f'SM2: {t2-t1}')\n",
    "t1 = time.time()\n",
    "LOG(sd)\n",
    "t2 = time.time()\n",
    "print(f'LOG: {t2-t1}')\n",
    "t1 = time.time()\n",
    "WL(sd)\n",
    "t2 = time.time()\n",
    "print(f'WL: {t2-t1}')\n",
    "t1 = time.time()\n",
    "AC(sd)\n",
    "t2 = time.time()\n",
    "print(f'AC: {t2-t1}')\n",
    "t1 = time.time()\n",
    "BE(sd)\n",
    "t2 = time.time()\n",
    "print(f'BE: {t2-t1}')\n",
    "t1 = time.time()\n",
    "C3(sd)\n",
    "t2 = time.time()\n",
    "print(f'C3: {t2-t1}')\n",
    "t1 = time.time()\n",
    "AAC(sd)\n",
    "t2 = time.time()\n",
    "print(f'AAC: {t2-t1}')\n",
    "t1 = time.time()\n",
    "MSDC(sd)\n",
    "t2 = time.time()\n",
    "print(f'MSDC: {t2-t1}')\n",
    "t1 = time.time()\n",
    "ZC(sd)\n",
    "t2 = time.time()\n",
    "print(f'ZC: {t2-t1}')\n",
    "#t1 = time.time()\n",
    "#SE(sd)\n",
    "#t2 = time.time()\n",
    "#print(f'SE: {t2-t1}')\n",
    "t1 = time.time()\n",
    "TRAS(sd)\n",
    "t2 = time.time()\n",
    "print(f'TRAS: {t2-t1}')\n",
    "t1 = time.time()\n",
    "VAR(sd)\n",
    "t2 = time.time()\n",
    "print(f'VAR: {t2-t1}')"
   ]
  },
  {
   "cell_type": "code",
   "execution_count": 94,
   "metadata": {},
   "outputs": [],
   "source": [
    "def process(sensordata, timestamps):\n",
    "    # process\n",
    "    # feature calculation\n",
    "    sd = sensordata\n",
    "    if len(sd) == 0:\n",
    "        features = np.zeros((12))\n",
    "    else:\n",
    "        sds = segment(sensordata, timestamps)\n",
    "        features = np.zeros((12))\n",
    "        #features = np.array([AE(sd), SM2(sd), LOG(sd), WL(sd), AC(sd), BE(sd), C3(sd), AAC(sd), MSDC(sd), ZC(sd), TRAS(sd), VAR(sd)])\n",
    "                \n",
    "        wgt = 0.\n",
    "        for sd in sds:\n",
    "            if len(sd) > 5:\n",
    "                features += len(sd)*np.array([AE(sd), SM2(sd), LOG(sd), WL(sd), AC(sd), BE(sd), C3(sd), AAC(sd), MSDC(sd), ZC(sd), TRAS(sd), VAR(sd)])\n",
    "                wgt += len(sd)\n",
    "        if wgt == 0.:\n",
    "            wgt = 1\n",
    "        features = np.nan_to_num(features)/wgt\n",
    "        \n",
    "        \n",
    "    return np.nan_to_num(features)"
   ]
  },
  {
   "cell_type": "code",
   "execution_count": 14,
   "metadata": {},
   "outputs": [
    {
     "name": "stderr",
     "output_type": "stream",
     "text": [
      "TensorFlow version 2.0.0 has been patched using tfdeterminism version 0.3.0\n"
     ]
    }
   ],
   "source": [
    "import tensorflow as tf\n",
    "from tfdeterminism import patch\n",
    "patch()\n",
    "gpu_devices = tf.config.experimental.list_physical_devices('GPU')\n",
    "for device in gpu_devices:\n",
    "    tf.config.experimental.set_memory_growth(device, True)\n",
    "import random\n",
    "import numpy as np\n",
    "os.environ['PYTHONHASHSEED']=str(1997)\n",
    "\n",
    "random.seed(1997)\n",
    "np.random.seed(1997)\n",
    "tf.random.set_seed(1997)"
   ]
  },
  {
   "cell_type": "code",
   "execution_count": 15,
   "metadata": {},
   "outputs": [
    {
     "data": {
      "text/plain": [
       "True"
      ]
     },
     "execution_count": 15,
     "metadata": {},
     "output_type": "execute_result"
    }
   ],
   "source": [
    "tf.test.is_gpu_available()"
   ]
  },
  {
   "cell_type": "code",
   "execution_count": 95,
   "metadata": {},
   "outputs": [
    {
     "name": "stdout",
     "output_type": "stream",
     "text": [
      "['right_arm/*.csv', 'right_wrist/*.csv', 'left_hip/*.csv', 'left_wrist/*.csv']\n"
     ]
    },
    {
     "data": {
      "application/vnd.jupyter.widget-view+json": {
       "model_id": "88078687701947d3ba4818f21202fe8a",
       "version_major": 2,
       "version_minor": 0
      },
      "text/plain": [
       "HBox(children=(IntProgress(value=0, max=288), HTML(value='')))"
      ]
     },
     "metadata": {},
     "output_type": "display_data"
    },
    {
     "name": "stderr",
     "output_type": "stream",
     "text": [
      "C:\\ProgramData\\Anaconda3\\lib\\site-packages\\numpy\\core\\fromnumeric.py:56: FutureWarning: Series.nonzero() is deprecated and will be removed in a future version.Use Series.to_numpy().nonzero() instead\n",
      "  return getattr(obj, method)(*args, **kwds)\n",
      "C:\\ProgramData\\Anaconda3\\lib\\site-packages\\pandas\\core\\series.py:853: RuntimeWarning: divide by zero encountered in log\n",
      "  result = getattr(ufunc, method)(*inputs, **kwargs)\n",
      "C:\\ProgramData\\Anaconda3\\lib\\site-packages\\ipykernel_launcher.py:61: DeprecationWarning: Calling np.sum(generator) is deprecated, and in the future will give a different result. Use np.sum(np.fromiter(generator)) or the python sum builtin instead.\n",
      "C:\\ProgramData\\Anaconda3\\lib\\site-packages\\scipy\\signal\\spectral.py:1969: UserWarning: nperseg = 256 is greater than input length  = 150, using nperseg = 150\n",
      "  .format(nperseg, input_length))\n",
      "C:\\ProgramData\\Anaconda3\\lib\\site-packages\\scipy\\signal\\spectral.py:1969: UserWarning: nperseg = 256 is greater than input length  = 147, using nperseg = 147\n",
      "  .format(nperseg, input_length))\n",
      "C:\\ProgramData\\Anaconda3\\lib\\site-packages\\scipy\\signal\\spectral.py:1969: UserWarning: nperseg = 256 is greater than input length  = 148, using nperseg = 148\n",
      "  .format(nperseg, input_length))\n",
      "C:\\ProgramData\\Anaconda3\\lib\\site-packages\\scipy\\signal\\spectral.py:1969: UserWarning: nperseg = 256 is greater than input length  = 32, using nperseg = 32\n",
      "  .format(nperseg, input_length))\n",
      "C:\\ProgramData\\Anaconda3\\lib\\site-packages\\scipy\\signal\\spectral.py:1969: UserWarning: nperseg = 256 is greater than input length  = 143, using nperseg = 143\n",
      "  .format(nperseg, input_length))\n",
      "C:\\ProgramData\\Anaconda3\\lib\\site-packages\\scipy\\signal\\spectral.py:1969: UserWarning: nperseg = 256 is greater than input length  = 151, using nperseg = 151\n",
      "  .format(nperseg, input_length))\n",
      "C:\\ProgramData\\Anaconda3\\lib\\site-packages\\scipy\\signal\\spectral.py:1969: UserWarning: nperseg = 256 is greater than input length  = 140, using nperseg = 140\n",
      "  .format(nperseg, input_length))\n",
      "C:\\ProgramData\\Anaconda3\\lib\\site-packages\\scipy\\signal\\spectral.py:1969: UserWarning: nperseg = 256 is greater than input length  = 139, using nperseg = 139\n",
      "  .format(nperseg, input_length))\n",
      "C:\\ProgramData\\Anaconda3\\lib\\site-packages\\scipy\\signal\\spectral.py:1969: UserWarning: nperseg = 256 is greater than input length  = 149, using nperseg = 149\n",
      "  .format(nperseg, input_length))\n",
      "C:\\ProgramData\\Anaconda3\\lib\\site-packages\\scipy\\signal\\spectral.py:1969: UserWarning: nperseg = 256 is greater than input length  = 87, using nperseg = 87\n",
      "  .format(nperseg, input_length))\n",
      "C:\\ProgramData\\Anaconda3\\lib\\site-packages\\scipy\\signal\\spectral.py:1969: UserWarning: nperseg = 256 is greater than input length  = 144, using nperseg = 144\n",
      "  .format(nperseg, input_length))\n",
      "C:\\ProgramData\\Anaconda3\\lib\\site-packages\\scipy\\signal\\spectral.py:1969: UserWarning: nperseg = 256 is greater than input length  = 125, using nperseg = 125\n",
      "  .format(nperseg, input_length))\n",
      "C:\\ProgramData\\Anaconda3\\lib\\site-packages\\scipy\\signal\\spectral.py:1969: UserWarning: nperseg = 256 is greater than input length  = 137, using nperseg = 137\n",
      "  .format(nperseg, input_length))\n",
      "C:\\ProgramData\\Anaconda3\\lib\\site-packages\\scipy\\signal\\spectral.py:1969: UserWarning: nperseg = 256 is greater than input length  = 159, using nperseg = 159\n",
      "  .format(nperseg, input_length))\n",
      "C:\\ProgramData\\Anaconda3\\lib\\site-packages\\scipy\\signal\\spectral.py:1969: UserWarning: nperseg = 256 is greater than input length  = 8, using nperseg = 8\n",
      "  .format(nperseg, input_length))\n",
      "C:\\ProgramData\\Anaconda3\\lib\\site-packages\\scipy\\signal\\spectral.py:1969: UserWarning: nperseg = 256 is greater than input length  = 102, using nperseg = 102\n",
      "  .format(nperseg, input_length))\n",
      "C:\\ProgramData\\Anaconda3\\lib\\site-packages\\scipy\\signal\\spectral.py:1969: UserWarning: nperseg = 256 is greater than input length  = 62, using nperseg = 62\n",
      "  .format(nperseg, input_length))\n",
      "C:\\ProgramData\\Anaconda3\\lib\\site-packages\\scipy\\signal\\spectral.py:1969: UserWarning: nperseg = 256 is greater than input length  = 7, using nperseg = 7\n",
      "  .format(nperseg, input_length))\n",
      "C:\\ProgramData\\Anaconda3\\lib\\site-packages\\scipy\\signal\\spectral.py:1969: UserWarning: nperseg = 256 is greater than input length  = 44, using nperseg = 44\n",
      "  .format(nperseg, input_length))\n",
      "C:\\ProgramData\\Anaconda3\\lib\\site-packages\\scipy\\signal\\spectral.py:1969: UserWarning: nperseg = 256 is greater than input length  = 112, using nperseg = 112\n",
      "  .format(nperseg, input_length))\n",
      "C:\\ProgramData\\Anaconda3\\lib\\site-packages\\scipy\\signal\\spectral.py:1969: UserWarning: nperseg = 256 is greater than input length  = 145, using nperseg = 145\n",
      "  .format(nperseg, input_length))\n",
      "C:\\ProgramData\\Anaconda3\\lib\\site-packages\\scipy\\signal\\spectral.py:1969: UserWarning: nperseg = 256 is greater than input length  = 146, using nperseg = 146\n",
      "  .format(nperseg, input_length))\n",
      "C:\\ProgramData\\Anaconda3\\lib\\site-packages\\scipy\\signal\\spectral.py:1969: UserWarning: nperseg = 256 is greater than input length  = 132, using nperseg = 132\n",
      "  .format(nperseg, input_length))\n",
      "C:\\ProgramData\\Anaconda3\\lib\\site-packages\\scipy\\signal\\spectral.py:1969: UserWarning: nperseg = 256 is greater than input length  = 142, using nperseg = 142\n",
      "  .format(nperseg, input_length))\n",
      "C:\\ProgramData\\Anaconda3\\lib\\site-packages\\scipy\\signal\\spectral.py:1969: UserWarning: nperseg = 256 is greater than input length  = 118, using nperseg = 118\n",
      "  .format(nperseg, input_length))\n",
      "C:\\ProgramData\\Anaconda3\\lib\\site-packages\\scipy\\signal\\spectral.py:1969: UserWarning: nperseg = 256 is greater than input length  = 133, using nperseg = 133\n",
      "  .format(nperseg, input_length))\n",
      "C:\\ProgramData\\Anaconda3\\lib\\site-packages\\scipy\\signal\\spectral.py:1969: UserWarning: nperseg = 256 is greater than input length  = 136, using nperseg = 136\n",
      "  .format(nperseg, input_length))\n",
      "C:\\ProgramData\\Anaconda3\\lib\\site-packages\\scipy\\signal\\spectral.py:1969: UserWarning: nperseg = 256 is greater than input length  = 27, using nperseg = 27\n",
      "  .format(nperseg, input_length))\n",
      "C:\\ProgramData\\Anaconda3\\lib\\site-packages\\scipy\\signal\\spectral.py:1969: UserWarning: nperseg = 256 is greater than input length  = 111, using nperseg = 111\n",
      "  .format(nperseg, input_length))\n",
      "C:\\ProgramData\\Anaconda3\\lib\\site-packages\\scipy\\signal\\spectral.py:1969: UserWarning: nperseg = 256 is greater than input length  = 178, using nperseg = 178\n",
      "  .format(nperseg, input_length))\n",
      "C:\\ProgramData\\Anaconda3\\lib\\site-packages\\scipy\\signal\\spectral.py:1969: UserWarning: nperseg = 256 is greater than input length  = 38, using nperseg = 38\n",
      "  .format(nperseg, input_length))\n",
      "C:\\ProgramData\\Anaconda3\\lib\\site-packages\\scipy\\signal\\spectral.py:1969: UserWarning: nperseg = 256 is greater than input length  = 130, using nperseg = 130\n",
      "  .format(nperseg, input_length))\n",
      "C:\\ProgramData\\Anaconda3\\lib\\site-packages\\scipy\\signal\\spectral.py:1969: UserWarning: nperseg = 256 is greater than input length  = 6, using nperseg = 6\n",
      "  .format(nperseg, input_length))\n",
      "C:\\ProgramData\\Anaconda3\\lib\\site-packages\\scipy\\signal\\spectral.py:1969: UserWarning: nperseg = 256 is greater than input length  = 124, using nperseg = 124\n",
      "  .format(nperseg, input_length))\n",
      "C:\\ProgramData\\Anaconda3\\lib\\site-packages\\scipy\\signal\\spectral.py:1969: UserWarning: nperseg = 256 is greater than input length  = 117, using nperseg = 117\n",
      "  .format(nperseg, input_length))\n",
      "C:\\ProgramData\\Anaconda3\\lib\\site-packages\\scipy\\signal\\spectral.py:1969: UserWarning: nperseg = 256 is greater than input length  = 152, using nperseg = 152\n",
      "  .format(nperseg, input_length))\n",
      "C:\\ProgramData\\Anaconda3\\lib\\site-packages\\scipy\\signal\\spectral.py:1969: UserWarning: nperseg = 256 is greater than input length  = 153, using nperseg = 153\n",
      "  .format(nperseg, input_length))\n",
      "C:\\ProgramData\\Anaconda3\\lib\\site-packages\\scipy\\signal\\spectral.py:1969: UserWarning: nperseg = 256 is greater than input length  = 9, using nperseg = 9\n",
      "  .format(nperseg, input_length))\n",
      "C:\\ProgramData\\Anaconda3\\lib\\site-packages\\scipy\\signal\\spectral.py:1969: UserWarning: nperseg = 256 is greater than input length  = 128, using nperseg = 128\n",
      "  .format(nperseg, input_length))\n",
      "C:\\ProgramData\\Anaconda3\\lib\\site-packages\\scipy\\signal\\spectral.py:1969: UserWarning: nperseg = 256 is greater than input length  = 43, using nperseg = 43\n",
      "  .format(nperseg, input_length))\n"
     ]
    },
    {
     "name": "stderr",
     "output_type": "stream",
     "text": [
      "C:\\ProgramData\\Anaconda3\\lib\\site-packages\\scipy\\signal\\spectral.py:1969: UserWarning: nperseg = 256 is greater than input length  = 42, using nperseg = 42\n",
      "  .format(nperseg, input_length))\n",
      "C:\\ProgramData\\Anaconda3\\lib\\site-packages\\scipy\\signal\\spectral.py:1969: UserWarning: nperseg = 256 is greater than input length  = 131, using nperseg = 131\n",
      "  .format(nperseg, input_length))\n",
      "C:\\ProgramData\\Anaconda3\\lib\\site-packages\\scipy\\signal\\spectral.py:1969: UserWarning: nperseg = 256 is greater than input length  = 12, using nperseg = 12\n",
      "  .format(nperseg, input_length))\n",
      "C:\\ProgramData\\Anaconda3\\lib\\site-packages\\scipy\\signal\\spectral.py:1969: UserWarning: nperseg = 256 is greater than input length  = 119, using nperseg = 119\n",
      "  .format(nperseg, input_length))\n",
      "C:\\ProgramData\\Anaconda3\\lib\\site-packages\\scipy\\signal\\spectral.py:1969: UserWarning: nperseg = 256 is greater than input length  = 160, using nperseg = 160\n",
      "  .format(nperseg, input_length))\n",
      "C:\\ProgramData\\Anaconda3\\lib\\site-packages\\scipy\\signal\\spectral.py:1969: UserWarning: nperseg = 256 is greater than input length  = 93, using nperseg = 93\n",
      "  .format(nperseg, input_length))\n",
      "C:\\ProgramData\\Anaconda3\\lib\\site-packages\\scipy\\signal\\spectral.py:1969: UserWarning: nperseg = 256 is greater than input length  = 141, using nperseg = 141\n",
      "  .format(nperseg, input_length))\n",
      "C:\\ProgramData\\Anaconda3\\lib\\site-packages\\scipy\\signal\\spectral.py:1969: UserWarning: nperseg = 256 is greater than input length  = 161, using nperseg = 161\n",
      "  .format(nperseg, input_length))\n",
      "C:\\ProgramData\\Anaconda3\\lib\\site-packages\\scipy\\signal\\spectral.py:1969: UserWarning: nperseg = 256 is greater than input length  = 251, using nperseg = 251\n",
      "  .format(nperseg, input_length))\n",
      "C:\\ProgramData\\Anaconda3\\lib\\site-packages\\scipy\\signal\\spectral.py:1969: UserWarning: nperseg = 256 is greater than input length  = 242, using nperseg = 242\n",
      "  .format(nperseg, input_length))\n",
      "C:\\ProgramData\\Anaconda3\\lib\\site-packages\\scipy\\signal\\spectral.py:1969: UserWarning: nperseg = 256 is greater than input length  = 48, using nperseg = 48\n",
      "  .format(nperseg, input_length))\n",
      "C:\\ProgramData\\Anaconda3\\lib\\site-packages\\scipy\\signal\\spectral.py:1969: UserWarning: nperseg = 256 is greater than input length  = 123, using nperseg = 123\n",
      "  .format(nperseg, input_length))\n",
      "C:\\ProgramData\\Anaconda3\\lib\\site-packages\\scipy\\signal\\spectral.py:1969: UserWarning: nperseg = 256 is greater than input length  = 84, using nperseg = 84\n",
      "  .format(nperseg, input_length))\n",
      "C:\\ProgramData\\Anaconda3\\lib\\site-packages\\scipy\\signal\\spectral.py:1969: UserWarning: nperseg = 256 is greater than input length  = 216, using nperseg = 216\n",
      "  .format(nperseg, input_length))\n",
      "C:\\ProgramData\\Anaconda3\\lib\\site-packages\\scipy\\signal\\spectral.py:1969: UserWarning: nperseg = 256 is greater than input length  = 80, using nperseg = 80\n",
      "  .format(nperseg, input_length))\n",
      "C:\\ProgramData\\Anaconda3\\lib\\site-packages\\scipy\\signal\\spectral.py:1969: UserWarning: nperseg = 256 is greater than input length  = 30, using nperseg = 30\n",
      "  .format(nperseg, input_length))\n",
      "C:\\ProgramData\\Anaconda3\\lib\\site-packages\\scipy\\signal\\spectral.py:1969: UserWarning: nperseg = 256 is greater than input length  = 166, using nperseg = 166\n",
      "  .format(nperseg, input_length))\n",
      "C:\\ProgramData\\Anaconda3\\lib\\site-packages\\scipy\\signal\\spectral.py:1969: UserWarning: nperseg = 256 is greater than input length  = 157, using nperseg = 157\n",
      "  .format(nperseg, input_length))\n",
      "C:\\ProgramData\\Anaconda3\\lib\\site-packages\\scipy\\signal\\spectral.py:1969: UserWarning: nperseg = 256 is greater than input length  = 184, using nperseg = 184\n",
      "  .format(nperseg, input_length))\n",
      "C:\\ProgramData\\Anaconda3\\lib\\site-packages\\scipy\\signal\\spectral.py:1969: UserWarning: nperseg = 256 is greater than input length  = 72, using nperseg = 72\n",
      "  .format(nperseg, input_length))\n",
      "C:\\ProgramData\\Anaconda3\\lib\\site-packages\\scipy\\signal\\spectral.py:1969: UserWarning: nperseg = 256 is greater than input length  = 230, using nperseg = 230\n",
      "  .format(nperseg, input_length))\n",
      "C:\\ProgramData\\Anaconda3\\lib\\site-packages\\scipy\\signal\\spectral.py:1969: UserWarning: nperseg = 256 is greater than input length  = 89, using nperseg = 89\n",
      "  .format(nperseg, input_length))\n",
      "C:\\ProgramData\\Anaconda3\\lib\\site-packages\\scipy\\signal\\spectral.py:1969: UserWarning: nperseg = 256 is greater than input length  = 113, using nperseg = 113\n",
      "  .format(nperseg, input_length))\n",
      "C:\\ProgramData\\Anaconda3\\lib\\site-packages\\scipy\\signal\\spectral.py:1969: UserWarning: nperseg = 256 is greater than input length  = 212, using nperseg = 212\n",
      "  .format(nperseg, input_length))\n",
      "C:\\ProgramData\\Anaconda3\\lib\\site-packages\\scipy\\signal\\spectral.py:1969: UserWarning: nperseg = 256 is greater than input length  = 85, using nperseg = 85\n",
      "  .format(nperseg, input_length))\n",
      "C:\\ProgramData\\Anaconda3\\lib\\site-packages\\scipy\\signal\\spectral.py:1969: UserWarning: nperseg = 256 is greater than input length  = 121, using nperseg = 121\n",
      "  .format(nperseg, input_length))\n",
      "C:\\ProgramData\\Anaconda3\\lib\\site-packages\\scipy\\signal\\spectral.py:1969: UserWarning: nperseg = 256 is greater than input length  = 23, using nperseg = 23\n",
      "  .format(nperseg, input_length))\n",
      "C:\\ProgramData\\Anaconda3\\lib\\site-packages\\scipy\\signal\\spectral.py:1969: UserWarning: nperseg = 256 is greater than input length  = 92, using nperseg = 92\n",
      "  .format(nperseg, input_length))\n",
      "C:\\ProgramData\\Anaconda3\\lib\\site-packages\\scipy\\signal\\spectral.py:1969: UserWarning: nperseg = 256 is greater than input length  = 21, using nperseg = 21\n",
      "  .format(nperseg, input_length))\n",
      "C:\\ProgramData\\Anaconda3\\lib\\site-packages\\scipy\\signal\\spectral.py:1969: UserWarning: nperseg = 256 is greater than input length  = 10, using nperseg = 10\n",
      "  .format(nperseg, input_length))\n",
      "C:\\ProgramData\\Anaconda3\\lib\\site-packages\\scipy\\signal\\spectral.py:1969: UserWarning: nperseg = 256 is greater than input length  = 240, using nperseg = 240\n",
      "  .format(nperseg, input_length))\n",
      "C:\\ProgramData\\Anaconda3\\lib\\site-packages\\scipy\\signal\\spectral.py:1969: UserWarning: nperseg = 256 is greater than input length  = 163, using nperseg = 163\n",
      "  .format(nperseg, input_length))\n",
      "C:\\ProgramData\\Anaconda3\\lib\\site-packages\\scipy\\signal\\spectral.py:1969: UserWarning: nperseg = 256 is greater than input length  = 208, using nperseg = 208\n",
      "  .format(nperseg, input_length))\n",
      "C:\\ProgramData\\Anaconda3\\lib\\site-packages\\scipy\\signal\\spectral.py:1969: UserWarning: nperseg = 256 is greater than input length  = 56, using nperseg = 56\n",
      "  .format(nperseg, input_length))\n",
      "C:\\ProgramData\\Anaconda3\\lib\\site-packages\\ipykernel_launcher.py:55: RuntimeWarning: invalid value encountered in double_scalars\n",
      "C:\\ProgramData\\Anaconda3\\lib\\site-packages\\scipy\\signal\\spectral.py:1969: UserWarning: nperseg = 256 is greater than input length  = 162, using nperseg = 162\n",
      "  .format(nperseg, input_length))\n",
      "C:\\ProgramData\\Anaconda3\\lib\\site-packages\\scipy\\signal\\spectral.py:1969: UserWarning: nperseg = 256 is greater than input length  = 194, using nperseg = 194\n",
      "  .format(nperseg, input_length))\n",
      "C:\\ProgramData\\Anaconda3\\lib\\site-packages\\scipy\\signal\\spectral.py:1969: UserWarning: nperseg = 256 is greater than input length  = 217, using nperseg = 217\n",
      "  .format(nperseg, input_length))\n",
      "C:\\ProgramData\\Anaconda3\\lib\\site-packages\\scipy\\signal\\spectral.py:1969: UserWarning: nperseg = 256 is greater than input length  = 126, using nperseg = 126\n",
      "  .format(nperseg, input_length))\n",
      "C:\\ProgramData\\Anaconda3\\lib\\site-packages\\scipy\\signal\\spectral.py:1969: UserWarning: nperseg = 256 is greater than input length  = 120, using nperseg = 120\n",
      "  .format(nperseg, input_length))\n",
      "C:\\ProgramData\\Anaconda3\\lib\\site-packages\\scipy\\signal\\spectral.py:1969: UserWarning: nperseg = 256 is greater than input length  = 164, using nperseg = 164\n",
      "  .format(nperseg, input_length))\n",
      "C:\\ProgramData\\Anaconda3\\lib\\site-packages\\scipy\\signal\\spectral.py:1969: UserWarning: nperseg = 256 is greater than input length  = 64, using nperseg = 64\n",
      "  .format(nperseg, input_length))\n",
      "C:\\ProgramData\\Anaconda3\\lib\\site-packages\\scipy\\signal\\spectral.py:1969: UserWarning: nperseg = 256 is greater than input length  = 95, using nperseg = 95\n",
      "  .format(nperseg, input_length))\n",
      "C:\\ProgramData\\Anaconda3\\lib\\site-packages\\scipy\\signal\\spectral.py:1969: UserWarning: nperseg = 256 is greater than input length  = 90, using nperseg = 90\n",
      "  .format(nperseg, input_length))\n"
     ]
    },
    {
     "name": "stderr",
     "output_type": "stream",
     "text": [
      "C:\\ProgramData\\Anaconda3\\lib\\site-packages\\scipy\\signal\\spectral.py:1969: UserWarning: nperseg = 256 is greater than input length  = 179, using nperseg = 179\n",
      "  .format(nperseg, input_length))\n",
      "C:\\ProgramData\\Anaconda3\\lib\\site-packages\\scipy\\signal\\spectral.py:1969: UserWarning: nperseg = 256 is greater than input length  = 74, using nperseg = 74\n",
      "  .format(nperseg, input_length))\n",
      "C:\\ProgramData\\Anaconda3\\lib\\site-packages\\scipy\\signal\\spectral.py:1969: UserWarning: nperseg = 256 is greater than input length  = 165, using nperseg = 165\n",
      "  .format(nperseg, input_length))\n",
      "C:\\ProgramData\\Anaconda3\\lib\\site-packages\\scipy\\signal\\spectral.py:1969: UserWarning: nperseg = 256 is greater than input length  = 182, using nperseg = 182\n",
      "  .format(nperseg, input_length))\n"
     ]
    },
    {
     "name": "stdout",
     "output_type": "stream",
     "text": [
      "\n",
      "                                           0\n",
      "0           subject2_file_457,sandwich,Take,\n",
      "1      subject2_file_679,sandwich,Wash,Take,\n",
      "2        subject2_file_95,sandwich,Cut,Wash,\n",
      "3  subject2_file_899,sandwich,other,Cut,Put,\n",
      "4            subject2_file_368,sandwich,Put,\n",
      "                             file_id     macro           micro\n",
      "file_id                                                       \n",
      "subject2_file_457  subject2_file_457  sandwich           Take,\n",
      "subject2_file_679  subject2_file_679  sandwich      Wash,Take,\n",
      "subject2_file_95    subject2_file_95  sandwich       Cut,Wash,\n",
      "subject2_file_899  subject2_file_899  sandwich  other,Cut,Put,\n",
      "subject2_file_368  subject2_file_368  sandwich            Put,\n"
     ]
    }
   ],
   "source": [
    "# there are 3 subjects\n",
    "subject1 = {}\n",
    "subject2 = {}\n",
    "subject3 = {}\n",
    "\n",
    "# we will load every single right arm data, separate based on subject id, do feature extraction, run t-SNE\n",
    "\n",
    "all_sensors = ['right_arm', 'right_wrist', 'left_hip', 'left_wrist'] #, 'mocap']\n",
    "\n",
    "data_folder = [f'{sensor}/*.csv' for sensor in all_sensors]\n",
    "\n",
    "print(data_folder)\n",
    "\n",
    "files = glob.glob(data_folder[0])\n",
    "\n",
    "# processing will be done as numpy array\n",
    "\n",
    "subject1['data'] = []\n",
    "subject2['data'] = []\n",
    "subject3['data'] = []\n",
    " \n",
    "# data format : data -> id, process(timeseries, timestamps) : right_arm as numpy array (missing data will be imputed)\n",
    "\n",
    "\n",
    "# id is generated by concatenating INT(subject+trial)\n",
    "\n",
    "for f in tqdm_notebook(files):\n",
    "    #print(f)\n",
    "    c_sub = {} # current subject\n",
    "    if f.split(os.sep)[1].split('_')[0] == 'subject1':\n",
    "        \n",
    "        c_sub['id'] = int(f.split(os.sep)[1].split('_')[0][-1] + f.split(os.sep)[1].split('_')[2].split('.')[0])\n",
    "        #print(ra['id'])\n",
    "        \n",
    "        for sensor in all_sensors:\n",
    "            #print(sensor)\n",
    "            ra = pd.read_csv(sensor + os.sep + f.split(os.sep)[1])\n",
    "            #print(ra)\n",
    "            ra.sort_values(by=['timestamp'], inplace = True)\n",
    "            c_sub[sensor] = {}\n",
    "            if sensor == 'mocap':\n",
    "                for axis in mocap_axis:\n",
    "                    c_sub[sensor][axis] = process(ra[axis], ra['timestamp'])\n",
    "            else:\n",
    "                for axis in ['X', 'Y', 'Z']:\n",
    "                    c_sub[sensor][axis] = process(ra[axis], ra['timestamp'])\n",
    "                \n",
    "        subject1['data'].append(c_sub)\n",
    "\n",
    "            \n",
    "    elif f.split(os.sep)[1].split('_')[0] == 'subject2':\n",
    "        \n",
    "        c_sub['id'] = int(f.split(os.sep)[1].split('_')[0][-1] + f.split(os.sep)[1].split('_')[2].split('.')[0])\n",
    "        #print(ra['id'])\n",
    "        \n",
    "        for sensor in all_sensors:\n",
    "            ra = pd.read_csv(sensor + os.sep + f.split(os.sep)[1])\n",
    "            #print(ra)\n",
    "            ra.sort_values(by=['timestamp'], inplace = True)\n",
    "            c_sub[sensor] = {}\n",
    "            if sensor == 'mocap':\n",
    "                for axis in mocap_axis:\n",
    "                    c_sub[sensor][axis] = process(ra[axis], ra['timestamp'])\n",
    "            else:\n",
    "                for axis in ['X', 'Y', 'Z']:\n",
    "                    c_sub[sensor][axis] = process(ra[axis], ra['timestamp'])\n",
    "                \n",
    "        subject2['data'].append(c_sub)\n",
    "            \n",
    "    elif f.split(os.sep)[1].split('_')[0] == 'subject3':\n",
    "        \n",
    "        c_sub['id'] = int(f.split(os.sep)[1].split('_')[0][-1] + f.split(os.sep)[1].split('_')[2].split('.')[0])\n",
    "        #print(ra['id'])\n",
    "        \n",
    "        for sensor in all_sensors:\n",
    "            ra = pd.read_csv(sensor + os.sep + f.split(os.sep)[1])\n",
    "            #print(ra)\n",
    "            ra.sort_values(by=['timestamp'], inplace = True)\n",
    "            c_sub[sensor] = {}\n",
    "            if sensor == 'mocap':\n",
    "                for axis in mocap_axis:\n",
    "                    try:\n",
    "                        c_sub[sensor][axis] = process(ra[axis], ra['timestamp'])\n",
    "                    except:\n",
    "                        c_sub[sensor][axis] = [0]\n",
    "            else:\n",
    "                for axis in ['X', 'Y', 'Z']:\n",
    "                    c_sub[sensor][axis] = process(ra[axis], ra['timestamp'])\n",
    "        \n",
    "        subject3['data'].append(c_sub)\n",
    "    else:\n",
    "        print('either new subject or a bug')\n",
    "        \n",
    "        \n",
    "labels = pd.read_csv(\"labels.txt\", sep=' ', header=None)\n",
    "print(labels.head())\n",
    "labels = labels[0].str.split(\",\", n=2, expand=True)\n",
    "labels.columns = ['file_id', 'macro', 'micro'] #give names to the columns\n",
    "labels.index = labels['file_id'] #use the file id as index to make it searchable by file_id\n",
    "print(labels.head())\n",
    "\n",
    "# label generation\n",
    "subject1['label_mac'] = {}\n",
    "subject2['label_mac'] = {}\n",
    "subject3['label_mac'] = {}\n",
    "\n",
    "subject1['label_mic'] = {}\n",
    "subject2['label_mic'] = {}\n",
    "subject3['label_mic'] = {}\n",
    "\n",
    "for i in range(len(labels)):\n",
    "    #print(labels.iloc[i]['file_id'])\n",
    "    #print(labels.iloc[i]['file_id'].split('_')[0][-1])\n",
    "    tid = int(labels.iloc[i]['file_id'].split('_')[0][-1] + labels.iloc[i]['file_id'].split('_')[-1])\n",
    "    #print(tid)\n",
    "    label = labels.iloc[i]['macro']\n",
    "    label_mic = labels.iloc[i]['micro'].split(',')[:-1]\n",
    "    #print(label)\n",
    "    if labels.iloc[i]['file_id'].split('_')[0][-1] == '1':\n",
    "        subject1['label_mac'][tid] = label\n",
    "        subject1['label_mic'][tid] = label_mic\n",
    "    elif labels.iloc[i]['file_id'].split('_')[0][-1] == '2':\n",
    "        subject2['label_mac'][tid] = label\n",
    "        subject2['label_mic'][tid] = label_mic\n",
    "    elif labels.iloc[i]['file_id'].split('_')[0][-1] == '3':\n",
    "        subject3['label_mac'][tid] = label\n",
    "        subject3['label_mic'][tid] = label_mic\n",
    "    else:\n",
    "        print('some bug')\n",
    "        \n",
    "        \n",
    "# re-formatting dataset for training\n",
    "\n",
    "X = []\n",
    "y = []\n",
    "y_ml = []  # multi-label\n",
    "\n",
    "for i in range(len(subject1['data'])):\n",
    "    tid = subject1['data'][i]['id']\n",
    "    y.append(subject1['label_mac'][tid])\n",
    "    y_ml.append(subject1['label_mic'][tid])\n",
    "    # X shape -> [ip1, ip2, ip3, ip4] ip1 = (80, len, channel) -> 4, 80, len\n",
    "\n",
    "for i in range(len(subject1['data'])):\n",
    "    cs_data = []\n",
    "    for sensor in all_sensors:\n",
    "        sub_data = []\n",
    "        if sensor == 'mocap':\n",
    "            for sig in mocap_axis:\n",
    "                sub_data.append(np.array(subject1['data'][i][sensor][sig]))\n",
    "        else:\n",
    "            for sig in ['X', 'Y', 'Z']:\n",
    "                sub_data.append(np.array(subject1['data'][i][sensor][sig]))\n",
    "        sub_data = np.array(sub_data)\n",
    "        # print(sub_data.shape)\n",
    "        sub_data = np.swapaxes(sub_data, 0, 1)\n",
    "        cs_data.append(sub_data)\n",
    "    X.append(cs_data)\n",
    "    \n",
    "    \n",
    "from tensorflow.keras.utils import to_categorical\n",
    "from sklearn.preprocessing import LabelEncoder\n",
    "import numpy as np\n",
    "\n",
    "label_encoder = LabelEncoder()\n",
    "vec = label_encoder.fit_transform(y)\n",
    "\n",
    "y_ohe = vec # to_categorical(vec,len(set(vec)))\n",
    "\n",
    "from sklearn.preprocessing import MultiLabelBinarizer\n",
    "\n",
    "mlb = MultiLabelBinarizer()\n",
    "y_ml_ohe = mlb.fit_transform(y_ml)\n",
    "\n",
    "# validatin on subject2, 3\n",
    "\n",
    "# re-formatting dataset for training\n",
    "\n",
    "X2 = []\n",
    "y2 = []\n",
    "y_ml2 = []\n",
    "\n",
    "for i in range(len(subject2['data'])):\n",
    "    tid = subject2['data'][i]['id']\n",
    "    y2.append(subject2['label_mac'][tid])\n",
    "    y_ml2.append(subject2['label_mic'][tid])\n",
    "    # X shape -> [ip1, ip2, ip3, ip4] ip1 = (80, len, channel) -> 4, 80, len\n",
    "\n",
    "    \n",
    "for i in range(len(subject2['data'])):\n",
    "    cs_data = []\n",
    "    for sensor in all_sensors:\n",
    "        sub_data = []\n",
    "        if sensor == 'mocap':\n",
    "            for sig in mocap_axis:\n",
    "                sub_data.append(np.array(subject2['data'][i][sensor][sig]))\n",
    "        else:\n",
    "            for sig in ['X', 'Y', 'Z']:\n",
    "                sub_data.append(np.array(subject2['data'][i][sensor][sig]))\n",
    "        sub_data = np.array(sub_data)\n",
    "        # print(sub_data.shape)\n",
    "        sub_data = np.swapaxes(sub_data, 0, 1)\n",
    "        cs_data.append(sub_data)\n",
    "    X2.append(cs_data)\n",
    "    \n",
    "label_encoder = LabelEncoder()\n",
    "vec = label_encoder.fit_transform(y2)\n",
    "\n",
    "y2_ohe = vec # to_categorical(vec,len(set(vec)))\n",
    "\n",
    "mlb = MultiLabelBinarizer()\n",
    "y_ml2_ohe = mlb.fit_transform(y_ml2)\n",
    "\n",
    "# validatin on subject2, 3\n",
    "\n",
    "# re-formatting dataset for training\n",
    "\n",
    "X3 = []\n",
    "y3 = []\n",
    "y_ml3 = []\n",
    "\n",
    "for i in range(len(subject3['data'])):\n",
    "    tid = subject3['data'][i]['id']\n",
    "    y3.append(subject3['label_mac'][tid])\n",
    "    y_ml3.append(subject3['label_mic'][tid])\n",
    "    # X shape -> [ip1, ip2, ip3, ip4] ip1 = (80, len, channel) -> 4, 80, len\n",
    "\n",
    "for i in range(len(subject3['data'])):\n",
    "    cs_data = []\n",
    "    for sensor in all_sensors:\n",
    "        sub_data = []\n",
    "        if sensor == 'mocap':\n",
    "            for sig in mocap_axis:\n",
    "                sub_data.append(np.array(subject3['data'][i][sensor][sig]))\n",
    "        else:\n",
    "            for sig in ['X', 'Y', 'Z']:\n",
    "                sub_data.append(np.array(subject3['data'][i][sensor][sig]))\n",
    "        sub_data = np.array(sub_data)\n",
    "        # print(sub_data.shape)\n",
    "        sub_data = np.swapaxes(sub_data, 0, 1)\n",
    "        cs_data.append(sub_data)\n",
    "    X3.append(cs_data)\n",
    "    \n",
    "\n",
    "label_encoder = LabelEncoder()\n",
    "vec = label_encoder.fit_transform(y3)\n",
    "\n",
    "y3_ohe = vec # to_categorical(vec,len(set(vec)))\n",
    "\n",
    "mlb = MultiLabelBinarizer()\n",
    "y_ml3_ohe = mlb.fit_transform(y_ml3)"
   ]
  },
  {
   "cell_type": "code",
   "execution_count": 43,
   "metadata": {},
   "outputs": [
    {
     "data": {
      "text/plain": [
       "[[array([[ 2.05306808e+02,  9.13120531e+01,  1.39215012e+02],\n",
       "         [ 4.01258786e-01,  1.68697914e-01,  2.08663717e-01],\n",
       "         [ 0.00000000e+00,  0.00000000e+00,  1.17442550e-01],\n",
       "         [ 2.17954994e+02,  1.41165496e+02,  1.57070997e+02],\n",
       "         [ 2.04243623e-02,  5.73460215e-02,  5.08444896e-01],\n",
       "         [ 2.43789398e+00,  2.51665912e+00,  2.41412431e+00],\n",
       "         [ 3.27067257e-04, -5.22671460e-03, -1.75843692e-02],\n",
       "         [ 1.55904860e-01,  1.00976750e-01,  1.12354075e-01],\n",
       "         [ 5.65855297e-05, -4.80672835e-05, -3.58983536e-05],\n",
       "         [ 2.66000000e+02,  3.18000000e+02,  2.95000000e+02],\n",
       "         [-4.12309097e-03,  5.36966516e-03, -3.03464732e-03],\n",
       "         [ 1.46612888e-01,  6.52332291e-02,  9.88169752e-02]]),\n",
       "  array([[ 3.91586281e+03,  5.04237856e+03,  5.52307014e+03],\n",
       "         [ 3.26533957e-01,  9.17798464e-01,  5.98819075e-01],\n",
       "         [ 4.72085954e-01,  4.20896512e-01,  4.46460736e-01],\n",
       "         [ 4.42831864e+02,  9.01984051e+02,  6.92956575e+02],\n",
       "         [ 8.63096497e-01,  4.67894561e-01,  7.27368485e-01],\n",
       "         [ 2.18034600e+00,  2.24528537e+00,  2.48917434e+00],\n",
       "         [-1.57709405e-01,  5.76837583e-01, -7.00476717e-01],\n",
       "         [ 7.75809152e-02,  1.58021032e-01,  1.21400942e-01],\n",
       "         [-9.31783424e-06, -2.86620326e-05, -3.37955301e-05],\n",
       "         [ 1.52000000e+02,  3.94000000e+02,  3.26000000e+02],\n",
       "         [-5.46604792e-02, -8.17496285e-02, -8.78949212e-02],\n",
       "         [ 6.85882790e-01,  6.99585005e-01,  8.82549908e-01]]),\n",
       "  array([[ 7.99884053e+00,  4.38864798e+00,  1.74209382e+01],\n",
       "         [ 5.53062230e-01,  2.98683090e-01,  4.35733970e-01],\n",
       "         [ 4.56869396e-02,  1.74338159e-02,  3.37252749e-02],\n",
       "         [ 2.58325535e+01,  1.35518819e+01,  1.90495828e+01],\n",
       "         [ 9.72373531e-02,  1.24165383e-02, -1.97602123e-01],\n",
       "         [ 2.04838638e+00,  1.54830680e+00,  1.98405421e+00],\n",
       "         [-2.56577914e-04, -9.92249623e-05, -4.76617449e-04],\n",
       "         [ 1.73372843e-01,  9.09522274e-02,  1.27849549e-01],\n",
       "         [-1.72702966e-03, -5.68837736e-04,  2.85943659e-03],\n",
       "         [ 8.20000000e+01,  8.90000000e+01,  5.70000000e+01],\n",
       "         [ 2.69430614e-03,  9.07796193e-04, -2.00071858e-02],\n",
       "         [ 5.32500031e-02,  2.88722404e-02,  1.12095532e-01]]),\n",
       "  array([[ 3.14843363e+03,  1.54021022e+04,  7.15838924e+03],\n",
       "         [ 7.58517303e-01,  2.90892662e+00,  1.32342583e+00],\n",
       "         [ 2.72906414e-01,  1.12962329e+00,  5.51856225e-01],\n",
       "         [ 6.99475773e+02,  1.44345012e+03,  9.03373151e+02],\n",
       "         [ 7.30140910e-01,  3.82908846e-01,  7.27523303e-01],\n",
       "         [ 2.20129130e+00,  2.26816798e+00,  2.29385821e+00],\n",
       "         [-1.80017559e-01,  3.97879232e+00, -1.00514117e+00],\n",
       "         [ 1.40372421e-01,  2.89674919e-01,  1.81291020e-01],\n",
       "         [-6.94394340e-05, -5.78590486e-05,  4.44593697e-05],\n",
       "         [ 4.70000000e+02,  2.23000000e+02,  2.87000000e+02],\n",
       "         [-1.96673415e-03, -5.43042103e-02,  2.68310079e-02],\n",
       "         [ 6.30818363e-01,  1.42352027e+00,  1.20035452e+00]])],\n",
       " [array([[ 1.49728639e+03,  1.71488578e+03,  1.02232793e+03],\n",
       "         [ 1.01349676e+00,  1.75891399e+00,  8.01286110e-01],\n",
       "         [ 4.81263366e-01,  4.80116775e-01,  0.00000000e+00],\n",
       "         [ 3.76921591e+02,  4.26689387e+02,  3.04128392e+02],\n",
       "         [ 3.65676019e-01,  2.09468969e-01,  4.86940263e-01],\n",
       "         [ 2.83033471e+00,  2.70334036e+00,  2.68650856e+00],\n",
       "         [-1.71163572e-01, -1.76351219e-02, -2.14818628e-01],\n",
       "         [ 2.69614872e-01,  3.05214154e-01,  2.17545345e-01],\n",
       "         [-2.02934717e-05,  3.01539001e-04, -1.26950598e-04],\n",
       "         [ 1.50000000e+02,  1.54000000e+02,  1.49000000e+02],\n",
       "         [ 4.11428817e-02,  5.46466044e-01, -3.68838633e-02],\n",
       "         [ 1.06885794e+00,  1.21860349e+00,  6.97951956e-01]]),\n",
       "  array([[ 9.81039695e+03,  1.18197978e+04,  8.63333736e+03],\n",
       "         [ 5.58742731e-01,  1.46380538e+00,  7.54037266e-01],\n",
       "         [ 6.64068999e-01,  6.27476553e-01,  5.25506197e-01],\n",
       "         [ 6.20934971e+02,  9.72381311e+02,  7.43469271e+02],\n",
       "         [ 8.87755512e-01,  7.60577420e-01,  8.07141324e-01],\n",
       "         [ 2.64708732e+00,  2.39566687e+00,  2.21116904e+00],\n",
       "         [-7.48537054e-01,  2.39731341e+00, -1.55737856e+00],\n",
       "         [ 1.16717100e-01,  1.82778442e-01,  1.39749863e-01],\n",
       "         [-5.16830880e-05,  3.74082741e-05,  4.58996992e-07],\n",
       "         [ 1.62000000e+02,  2.68000000e+02,  2.86000000e+02],\n",
       "         [ 1.34655830e-02,  3.15005612e-01,  4.80339886e-02],\n",
       "         [ 1.83977503e+00,  2.04820693e+00,  1.58117712e+00]]),\n",
       "  array([[ 1.25323358e+02,  7.10130666e+01,  7.37775332e+01],\n",
       "         [ 7.67019284e+00,  7.03553375e+00,  4.50831200e+00],\n",
       "         [ 3.40843869e-01,  1.94410400e-01,  2.81783275e-01],\n",
       "         [ 1.07223304e+02,  9.36675625e+01,  8.57283858e+01],\n",
       "         [-5.95396434e-02, -1.33137124e-01,  9.64768025e-03],\n",
       "         [ 2.72757236e+00,  2.51686728e+00,  2.81950394e+00],\n",
       "         [-5.00233344e-03,  4.73590845e-03, -1.32893625e-02],\n",
       "         [ 7.34406192e-01,  6.41558647e-01,  5.87180725e-01],\n",
       "         [-4.17449966e-04,  6.76220690e-05,  5.18267300e-03],\n",
       "         [ 6.10000000e+01,  7.00000000e+01,  5.20000000e+01],\n",
       "         [-1.27806708e-01, -4.74804791e-02,  7.57527945e-02],\n",
       "         [ 8.52537329e-01,  4.81423188e-01,  4.59880208e-01]]),\n",
       "  array([[ 1.01338544e+04,  1.47775109e+04,  1.00785514e+04],\n",
       "         [ 8.03998615e-01,  1.30659335e+00,  1.57382158e+00],\n",
       "         [ 5.76681238e-01,  7.20364687e-01,  5.46679101e-01],\n",
       "         [ 7.61835374e+02,  1.02671850e+03,  8.85302885e+02],\n",
       "         [ 8.57559124e-01,  8.07006208e-01,  7.30434115e-01],\n",
       "         [ 2.60494539e+00,  2.72167221e+00,  2.14724071e+00],\n",
       "         [-1.41915569e+00, -3.51657607e-01, -1.19889828e+00],\n",
       "         [ 1.27227016e-01,  1.71462675e-01,  1.47846173e-01],\n",
       "         [-9.96734384e-20,  2.08618825e-20,  5.09957127e-20],\n",
       "         [ 2.51000000e+02,  2.99000000e+02,  3.02000000e+02],\n",
       "         [-6.12649997e-02,  2.65914947e-02, -1.08160761e-01],\n",
       "         [ 1.63017453e+00,  2.45935157e+00,  1.58340394e+00]])],\n",
       " [array([[ 1.26897705e+03,  1.19284329e+03,  7.08252729e+02],\n",
       "         [ 8.93009312e-01,  1.87533691e+00,  6.08581685e-01],\n",
       "         [ 0.00000000e+00,  0.00000000e+00,  2.79686416e-01],\n",
       "         [ 3.51870091e+02,  4.04046090e+02,  2.55979393e+02],\n",
       "         [ 3.80765863e-01, -7.89006443e-02,  5.47380731e-01],\n",
       "         [ 2.79949611e+00,  2.36820256e+00,  2.54814394e+00],\n",
       "         [ 5.58734950e-02, -1.40831495e-01, -1.52899554e-01],\n",
       "         [ 2.43508713e-01,  2.79616671e-01,  1.77148369e-01],\n",
       "         [ 4.12396122e-05,  3.44183033e-05, -1.02493064e-04],\n",
       "         [ 1.55000000e+02,  2.00000000e+02,  1.74000000e+02],\n",
       "         [-1.66366894e-02,  5.86675470e-01, -3.33402775e-02],\n",
       "         [ 8.76202654e-01,  8.16038562e-01,  4.65446862e-01]]),\n",
       "  array([[ 1.27612496e+04,  5.15681515e+04,  3.58523743e+04],\n",
       "         [ 5.38206320e-01,  9.99674890e-01,  7.54401747e-01],\n",
       "         [ 7.58096933e-01,  2.21967060e+00,  1.69523596e+00],\n",
       "         [ 6.46022706e+02,  8.63281433e+02,  6.71482407e+02],\n",
       "         [ 8.81881594e-01,  8.55017970e-01,  8.49928098e-01],\n",
       "         [ 2.71935399e+00,  2.73336052e+00,  2.48993161e+00],\n",
       "         [-4.24631598e+00, -2.81348574e+01, -1.87188528e+01],\n",
       "         [ 1.08831318e-01,  1.45431508e-01,  1.13120352e-01],\n",
       "         [ 3.28263218e-05, -1.06952991e-06, -8.30941955e-06],\n",
       "         [ 1.53000000e+02,  4.10000000e+01,  4.00000000e+01],\n",
       "         [-9.90471281e-03, -3.94474875e-02, -1.07980621e-01],\n",
       "         [ 1.43511773e+00,  2.21304332e+00,  1.71022430e+00]]),\n",
       "  array([[ 9.51325608e+01,  5.49071164e+01,  8.89361482e+01],\n",
       "         [ 8.55013123e+00,  6.53184112e+00,  6.52863382e+00],\n",
       "         [ 3.24772928e-01,  1.44256744e-01,  2.78122962e-01],\n",
       "         [ 9.48326508e+01,  8.21187525e+01,  9.04311037e+01],\n",
       "         [-1.64570296e-01, -4.56821824e-02, -6.10163147e-02],\n",
       "         [ 2.62725071e+00,  2.20617549e+00,  2.73702457e+00],\n",
       "         [-7.35297572e-02, -6.78276418e-03,  5.69674632e-03],\n",
       "         [ 6.45120073e-01,  5.58630970e-01,  6.15177576e-01],\n",
       "         [-7.00344442e-03,  3.06458342e-03, -1.24987349e-03],\n",
       "         [ 4.70000000e+01,  7.40000000e+01,  4.70000000e+01],\n",
       "         [ 1.69053869e-01, -8.99902596e-02,  1.39617110e-01],\n",
       "         [ 6.41535639e-01,  3.67546661e-01,  5.61410105e-01]]),\n",
       "  array([[ 5.73663551e+01,  5.30486649e+01,  6.52527819e+01],\n",
       "         [ 1.91782154e-02,  1.50506988e-01,  5.54594516e-02],\n",
       "         [ 1.27970029e+00,  8.38723053e-01,  1.23394985e+00],\n",
       "         [ 1.84765626e+00,  6.51074221e+00,  3.90429689e+00],\n",
       "         [ 4.86445950e-01,  4.50280930e-01,  2.31619378e-01],\n",
       "         [ 2.59930193e+00,  2.51265853e+00,  2.51265853e+00],\n",
       "         [-2.13230401e+00,  3.47058382e-01,  1.51386589e+00],\n",
       "         [ 5.96018148e-02,  2.10023942e-01,  1.25945061e-01],\n",
       "         [-1.85037171e-18, -1.85037171e-18,  0.00000000e+00],\n",
       "         [ 0.00000000e+00,  2.00000000e+00,  0.00000000e+00],\n",
       "         [-6.26948430e-01, -1.33345386e+00, -1.12009761e+00],\n",
       "         [ 7.61252203e-02,  1.06422956e+00,  2.45766815e-01]])],\n",
       " [array([[ 1.83951249e+02,  7.56755452e+01,  8.49282285e+01],\n",
       "         [ 4.61534545e-01,  2.04466481e-01,  2.34546177e-01],\n",
       "         [ 1.63488210e-01,  1.08705647e-01,  1.07129764e-01],\n",
       "         [ 2.18463694e+02,  1.38209597e+02,  1.48851597e+02],\n",
       "         [-8.68665927e-04,  5.96308433e-02,  2.96357977e-01],\n",
       "         [ 2.79477391e+00,  2.61734780e+00,  2.53881028e+00],\n",
       "         [ 1.87209269e-03, -1.15746979e-03, -4.39976320e-03],\n",
       "         [ 1.66766179e-01,  1.05503509e-01,  1.13627173e-01],\n",
       "         [ 4.30099312e-05, -2.30710428e-05,  2.99083231e-05],\n",
       "         [ 2.62000000e+02,  2.65000000e+02,  3.13000000e+02],\n",
       "         [ 1.78582689e-03, -6.32692480e-04, -2.44927477e-04],\n",
       "         [ 1.39844679e-01,  5.73841479e-02,  6.41388187e-02]]),\n",
       "  array([[ 6.15197743e+03,  4.64427895e+04,  4.12093733e+03],\n",
       "         [ 2.09508075e-01,  9.55964162e-01,  4.57172921e-01],\n",
       "         [ 5.65428983e-01,  2.12492264e+00,  3.15315039e-01],\n",
       "         [ 5.72010428e+02,  1.34978131e+03,  9.55284657e+02],\n",
       "         [ 8.40072569e-01,  5.83697962e-01,  7.45871247e-01],\n",
       "         [ 2.32433462e+00,  2.39426444e+00,  2.29336662e+00],\n",
       "         [-7.55299392e-01, -1.27273750e+01, -9.24505454e-02],\n",
       "         [ 6.70901276e-02,  1.58313548e-01,  1.12043708e-01],\n",
       "         [-9.62243402e-06,  8.46545091e-05,  2.28604405e-05],\n",
       "         [ 1.62000000e+02,  2.60000000e+01,  6.83000000e+02],\n",
       "         [ 1.73987311e-02,  1.66901248e-02, -4.84717015e-03],\n",
       "         [ 2.62580560e-01,  4.55754301e-01,  4.62742347e-01]]),\n",
       "  array([[ 3.41615454e+00,  1.70405035e+00,  2.80630775e+00],\n",
       "         [ 4.32795967e-01,  4.40135045e-01,  1.34868444e-01],\n",
       "         [ 3.05258706e-02,  1.00050317e-02,  1.89248576e-02],\n",
       "         [ 1.49523428e+01,  8.05380158e+00,  8.77137388e+00],\n",
       "         [-7.79295193e-03, -2.00303821e-03, -6.36846704e-02],\n",
       "         [ 1.91495278e+00,  1.08139855e+00,  1.64648301e+00],\n",
       "         [-3.51594470e-06,  2.54621666e-06,  1.52834688e-05],\n",
       "         [ 1.05298189e-01,  5.67169125e-02,  6.17702386e-02],\n",
       "         [-1.53432518e-04, -4.70783688e-05, -7.23374468e-05],\n",
       "         [ 7.40000000e+01,  8.50000000e+01,  6.50000000e+01],\n",
       "         [-1.39958204e-03,  2.04580137e-04, -2.19455533e-03],\n",
       "         [ 2.38857333e-02,  1.18419945e-02,  1.92296696e-02]]),\n",
       "  array([[ 2.52413431e+03,  2.54345715e+03,  2.99351529e+03],\n",
       "         [ 5.16805892e-01,  1.24899400e+00,  6.77910479e-01],\n",
       "         [ 3.36987127e-01,  3.20875269e-01,  3.01436937e-01],\n",
       "         [ 5.08343446e+02,  8.96292149e+02,  6.51727821e+02],\n",
       "         [ 8.97068819e-01,  5.47402345e-01,  8.35005812e-01],\n",
       "         [ 2.48210872e+00,  2.41959773e+00,  2.31782329e+00],\n",
       "         [-1.49687170e-01,  2.11583680e-01, -7.04096669e-02],\n",
       "         [ 1.22669751e-01,  2.16286716e-01,  1.57270227e-01],\n",
       "         [ 6.48213010e-06,  1.74428252e-05,  3.18802993e-05],\n",
       "         [ 2.83000000e+02,  5.36000000e+02,  4.37000000e+02],\n",
       "         [ 2.77255734e-03,  9.02112300e-02, -8.31763605e-04],\n",
       "         [ 6.05260250e-01,  5.88675871e-01,  7.22193553e-01]])],\n",
       " [array([[ 1.56416729e+03,  1.49579785e+03,  1.02626687e+03],\n",
       "         [ 1.01702618e+00,  1.66056413e+00,  5.45560513e-01],\n",
       "         [ 0.00000000e+00,  4.00391388e-01,  3.34371593e-01],\n",
       "         [ 3.89014790e+02,  4.66019387e+02,  2.72638892e+02],\n",
       "         [ 4.46387048e-01,  1.05551584e-02,  6.46951584e-01],\n",
       "         [ 2.89507295e+00,  2.63987626e+00,  2.65519373e+00],\n",
       "         [-5.70002397e-02, -1.04235280e-01, -4.32403280e-01],\n",
       "         [ 2.68286062e-01,  3.21392681e-01,  1.88026822e-01],\n",
       "         [ 8.50931608e-05, -6.65631435e-05,  5.24499724e-05],\n",
       "         [ 1.45000000e+02,  1.94000000e+02,  1.78000000e+02],\n",
       "         [ 1.19791456e-01,  9.15595969e-01, -9.11436850e-03],\n",
       "         [ 1.07573020e+00,  1.00561454e+00,  6.53911412e-01]]),\n",
       "  array([[ 1.58373082e+04,  2.18599643e+04,  3.87580367e+04],\n",
       "         [ 4.50782740e-01,  9.28869956e-01,  8.91113413e-01],\n",
       "         [ 7.35904421e-01,  8.64420675e-01,  1.04825070e+00],\n",
       "         [ 5.84264750e+02,  8.45559128e+02,  6.98385905e+02],\n",
       "         [ 9.37042573e-01,  8.78520594e-01,  9.51902794e-01],\n",
       "         [ 2.96083125e+00,  2.88396364e+00,  2.87625687e+00],\n",
       "         [-5.37455408e+00,  1.01556690e+01, -1.77788567e+01],\n",
       "         [ 9.80309983e-02,  1.41872337e-01,  1.17178843e-01],\n",
       "         [ 5.65386894e-06, -2.94984477e-06,  7.04685182e-06],\n",
       "         [ 1.63000000e+02,  2.02000000e+02,  1.53000000e+02],\n",
       "         [-2.19990602e-02,  3.77213861e-03, -2.27438948e-01],\n",
       "         [ 2.43525974e+00,  2.81231444e+00,  6.12614512e+00]]),\n",
       "  array([[ 1.01789843e+02,  6.93085537e+01,  8.72170999e+01],\n",
       "         [ 7.62113512e+00,  1.18793938e+01,  5.18477068e+00],\n",
       "         [ 2.99154458e-01,  1.43095808e-01,  2.61163979e-01],\n",
       "         [ 9.76306704e+01,  9.58949165e+01,  8.38744009e+01],\n",
       "         [-2.03500081e-01, -1.53760194e-01, -1.01672744e-01],\n",
       "         [ 2.60672278e+00,  2.37374416e+00,  2.80578620e+00],\n",
       "         [ 6.28970837e-02, -1.92565284e-02, -1.79234274e-02],\n",
       "         [ 6.50871136e-01,  6.39299443e-01,  5.59162672e-01],\n",
       "         [ 3.42928007e-03,  3.95749228e-04, -7.36239289e-03],\n",
       "         [ 5.10000000e+01,  7.00000000e+01,  4.20000000e+01],\n",
       "         [ 1.96723272e-01, -2.01397369e-01,  1.53529220e-01],\n",
       "         [ 6.63293381e-01,  4.51849034e-01,  4.88053854e-01]]),\n",
       "  array([[0., 0., 0.],\n",
       "         [0., 0., 0.],\n",
       "         [0., 0., 0.],\n",
       "         [0., 0., 0.],\n",
       "         [0., 0., 0.],\n",
       "         [0., 0., 0.],\n",
       "         [0., 0., 0.],\n",
       "         [0., 0., 0.],\n",
       "         [0., 0., 0.],\n",
       "         [0., 0., 0.],\n",
       "         [0., 0., 0.],\n",
       "         [0., 0., 0.]])]]"
      ]
     },
     "execution_count": 43,
     "metadata": {},
     "output_type": "execute_result"
    }
   ],
   "source": [
    "X[:5]"
   ]
  },
  {
   "cell_type": "code",
   "execution_count": 15,
   "metadata": {},
   "outputs": [
    {
     "data": {
      "text/plain": [
       "80"
      ]
     },
     "execution_count": 15,
     "metadata": {},
     "output_type": "execute_result"
    }
   ],
   "source": [
    "len(X)"
   ]
  },
  {
   "cell_type": "code",
   "execution_count": 16,
   "metadata": {},
   "outputs": [
    {
     "data": {
      "text/plain": [
       "4"
      ]
     },
     "execution_count": 16,
     "metadata": {},
     "output_type": "execute_result"
    }
   ],
   "source": [
    "len(X[0])"
   ]
  },
  {
   "cell_type": "code",
   "execution_count": 17,
   "metadata": {},
   "outputs": [
    {
     "data": {
      "text/plain": [
       "12"
      ]
     },
     "execution_count": 17,
     "metadata": {},
     "output_type": "execute_result"
    }
   ],
   "source": [
    "len(X[0][0])"
   ]
  },
  {
   "cell_type": "code",
   "execution_count": 18,
   "metadata": {},
   "outputs": [
    {
     "data": {
      "text/plain": [
       "3"
      ]
     },
     "execution_count": 18,
     "metadata": {},
     "output_type": "execute_result"
    }
   ],
   "source": [
    "len(X[0][0][0])"
   ]
  },
  {
   "cell_type": "code",
   "execution_count": 44,
   "metadata": {},
   "outputs": [],
   "source": [
    "def flatten(lists,n):\n",
    "    if n == 0:\n",
    "        return lists\n",
    "    if n == 1:\n",
    "        return [x for xs in lists for x in xs]   \n",
    "    else:\n",
    "        return [flatten(xs,n-1) for xs in lists]\n",
    "    \n",
    "def flatten_agg(x, v):\n",
    "    # channel aggregation\n",
    "    a = 0.33\n",
    "    b = 0.33\n",
    "    c = 0.33\n",
    "    x0  =  x[:,0]\n",
    "    x1  =  x[:,1]\n",
    "    x2  =  x[:,2]\n",
    "    xf = a*x0 + b*x1 + c*x2\n",
    "    return xf"
   ]
  },
  {
   "cell_type": "code",
   "execution_count": 45,
   "metadata": {},
   "outputs": [],
   "source": [
    "def feature_agg(x):\n",
    "    x0 = np.array(flatten_agg(x[0],1))\n",
    "    x1 = np.array(flatten_agg(x[1],1))\n",
    "    x2 = np.array(flatten_agg(x[2],1))\n",
    "    x3 = np.array(flatten_agg(x[3],1))\n",
    "    # tunable parameters\n",
    "    a = 0.25\n",
    "    b = 0.25\n",
    "    c = 0.25\n",
    "    d = 0.25\n",
    "    x_o = a*x0 + b*x1 + c*x2 + d*x3\n",
    "    return x_o"
   ]
  },
  {
   "cell_type": "code",
   "execution_count": 46,
   "metadata": {},
   "outputs": [],
   "source": [
    "zzz = feature_agg(X[0])"
   ]
  },
  {
   "cell_type": "code",
   "execution_count": 47,
   "metadata": {},
   "outputs": [
    {
     "data": {
      "text/plain": [
       "(12,)"
      ]
     },
     "execution_count": 47,
     "metadata": {},
     "output_type": "execute_result"
    }
   ],
   "source": [
    "zzz.shape"
   ]
  },
  {
   "cell_type": "code",
   "execution_count": 96,
   "metadata": {},
   "outputs": [],
   "source": [
    "# feature reshaping from arrays\n",
    "\n",
    "X = [feature_agg(x) for x in X]\n",
    "X2 = [feature_agg(x) for x in X2]\n",
    "X3 = [feature_agg(x) for x in X3]"
   ]
  },
  {
   "cell_type": "code",
   "execution_count": 49,
   "metadata": {},
   "outputs": [
    {
     "data": {
      "text/plain": [
       "array(['cereal', 'fruitsalad', 'sandwich'], dtype='<U10')"
      ]
     },
     "execution_count": 49,
     "metadata": {},
     "output_type": "execute_result"
    }
   ],
   "source": [
    "label_encoder.classes_"
   ]
  },
  {
   "cell_type": "code",
   "execution_count": 50,
   "metadata": {},
   "outputs": [
    {
     "data": {
      "text/plain": [
       "array(['Add', 'Cut', 'Mix', 'Open', 'Peel', 'Pour', 'Put', 'Take', 'Wash',\n",
       "       'other'], dtype=object)"
      ]
     },
     "execution_count": 50,
     "metadata": {},
     "output_type": "execute_result"
    }
   ],
   "source": [
    "mlb.classes_"
   ]
  },
  {
   "cell_type": "code",
   "execution_count": 51,
   "metadata": {},
   "outputs": [],
   "source": [
    "# 4, 80, len, 3"
   ]
  },
  {
   "cell_type": "code",
   "execution_count": 52,
   "metadata": {},
   "outputs": [
    {
     "data": {
      "text/plain": [
       "['right_arm', 'right_wrist', 'left_hip', 'left_wrist']"
      ]
     },
     "execution_count": 52,
     "metadata": {},
     "output_type": "execute_result"
    }
   ],
   "source": [
    "all_sensors"
   ]
  },
  {
   "cell_type": "code",
   "execution_count": 53,
   "metadata": {},
   "outputs": [],
   "source": [
    "# generating labels for test set"
   ]
  },
  {
   "cell_type": "code",
   "execution_count": 54,
   "metadata": {},
   "outputs": [
    {
     "data": {
      "text/plain": [
       "array(['Add', 'Cut', 'Mix', 'Open', 'Peel', 'Pour', 'Put', 'Take', 'Wash',\n",
       "       'other'], dtype=object)"
      ]
     },
     "execution_count": 54,
     "metadata": {},
     "output_type": "execute_result"
    }
   ],
   "source": [
    "mlb.classes_"
   ]
  },
  {
   "cell_type": "code",
   "execution_count": 55,
   "metadata": {},
   "outputs": [
    {
     "data": {
      "text/plain": [
       "['sandwich', 'sandwich', 'cereal', 'fruitsalad', 'cereal']"
      ]
     },
     "execution_count": 55,
     "metadata": {},
     "output_type": "execute_result"
    }
   ],
   "source": [
    "y[:5]"
   ]
  },
  {
   "cell_type": "code",
   "execution_count": 56,
   "metadata": {},
   "outputs": [
    {
     "data": {
      "text/plain": [
       "array([2, 2, 0, 1, 0], dtype=int64)"
      ]
     },
     "execution_count": 56,
     "metadata": {},
     "output_type": "execute_result"
    }
   ],
   "source": [
    "y_ohe[:5]"
   ]
  },
  {
   "cell_type": "code",
   "execution_count": 57,
   "metadata": {},
   "outputs": [
    {
     "data": {
      "text/plain": [
       "[['other', 'Put'], ['Take'], ['Take'], ['Cut', 'Peel', 'Put'], ['Take']]"
      ]
     },
     "execution_count": 57,
     "metadata": {},
     "output_type": "execute_result"
    }
   ],
   "source": [
    "y_ml[:5]"
   ]
  },
  {
   "cell_type": "code",
   "execution_count": 58,
   "metadata": {},
   "outputs": [
    {
     "data": {
      "text/plain": [
       "array([2, 2, 0, 1, 0, 2, 2, 2, 2, 1, 2, 2, 1, 0, 0, 0, 2, 2, 2, 0, 0, 0,\n",
       "       1, 2, 0, 2, 0, 0, 2, 0, 0, 0, 2, 1, 1, 2, 1, 0, 1, 1, 0, 2, 2, 2,\n",
       "       2, 2, 0, 0, 1, 0, 1, 0, 1, 0, 2, 2, 2, 2, 2, 2, 2, 2, 1, 2, 0, 2,\n",
       "       1, 1, 2, 2, 2, 1, 2, 2, 0, 0, 0, 2, 2, 2], dtype=int64)"
      ]
     },
     "execution_count": 58,
     "metadata": {},
     "output_type": "execute_result"
    }
   ],
   "source": [
    "y_ohe"
   ]
  },
  {
   "cell_type": "code",
   "execution_count": 59,
   "metadata": {},
   "outputs": [
    {
     "data": {
      "text/plain": [
       "numpy.ndarray"
      ]
     },
     "execution_count": 59,
     "metadata": {},
     "output_type": "execute_result"
    }
   ],
   "source": [
    "type(y_ohe)"
   ]
  },
  {
   "cell_type": "code",
   "execution_count": 60,
   "metadata": {},
   "outputs": [],
   "source": [
    "from sklearn.ensemble import RandomForestClassifier\n",
    "from sklearn.metrics import accuracy_score\n",
    "from sklearn.svm import SVC\n",
    "import sklearn\n",
    "\n",
    "def sub_cv(clf, importance = False):\n",
    "    clf = sklearn.base.clone(clf)\n",
    "    Xm = X + X2\n",
    "    ym = list(y_ohe) + list(y2_ohe)\n",
    "    clf.fit(Xm, ym)\n",
    "    if importance:\n",
    "        fi1 = clf.feature_importances_\n",
    "    a1 = accuracy_score(clf.predict(X3), y3_ohe)\n",
    "    \n",
    "    clf = sklearn.base.clone(clf)\n",
    "    Xm = X + X3\n",
    "    ym = list(y_ohe) + list(y3_ohe)\n",
    "    clf.fit(Xm, ym)\n",
    "    if importance:\n",
    "        fi2 = clf.feature_importances_\n",
    "    a2 = accuracy_score(clf.predict(X2), y2_ohe)\n",
    "    \n",
    "    clf = sklearn.base.clone(clf)\n",
    "    Xm = X3 + X2\n",
    "    ym = list(y3_ohe) + list(y2_ohe)\n",
    "    clf.fit(Xm, ym)\n",
    "    if importance:\n",
    "        fi3 = clf.feature_importances_\n",
    "    a3 = accuracy_score(clf.predict(X), y_ohe)\n",
    "    \n",
    "    if importance:\n",
    "        un_f = []\n",
    "\n",
    "        for i in range(len(X[0])):\n",
    "            if fi1[i] <= 0.0005 and fi2[i] <= 0.0005 and fi3[i] <= 0.0005:\n",
    "                un_f.append(i)\n",
    "\n",
    "        print(f'un. features: {un_f}')\n",
    "    \n",
    "    print(f'a1: {a1}  a2: {a2}  a3: {a3}  av: {(a1+a2+a3)/3.}')"
   ]
  },
  {
   "cell_type": "code",
   "execution_count": null,
   "metadata": {},
   "outputs": [],
   "source": []
  },
  {
   "cell_type": "code",
   "execution_count": 79,
   "metadata": {
    "scrolled": true
   },
   "outputs": [
    {
     "name": "stdout",
     "output_type": "stream",
     "text": [
      "un. features: []\n",
      "a1: 0.3106796116504854  a2: 0.3523809523809524  a3: 0.3125  av: 0.3251868546771459\n",
      "a1: 0.34951456310679613  a2: 0.3619047619047619  a3: 0.2  av: 0.30380644167051934\n"
     ]
    }
   ],
   "source": [
    "# simple feature reduction technique for finding the best set of features\n",
    "# if removing a feature increases performance, remove it\n",
    "clf = RandomForestClassifier(n_estimators = 50, max_depth=1, random_state=0)\n",
    "sub_cv(clf, True)\n",
    "\n",
    "clf = SVC(gamma='auto')\n",
    "sub_cv(clf)"
   ]
  },
  {
   "cell_type": "code",
   "execution_count": 98,
   "metadata": {},
   "outputs": [
    {
     "name": "stdout",
     "output_type": "stream",
     "text": [
      "un. features: []\n",
      "a1: 0.3106796116504854  a2: 0.3523809523809524  a3: 0.3125  av: 0.3251868546771459\n",
      "a1: 0.34951456310679613  a2: 0.3619047619047619  a3: 0.2  av: 0.30380644167051934\n"
     ]
    }
   ],
   "source": [
    "# simple feature reduction technique for finding the best set of features\n",
    "# if removing a feature increases performance, remove it\n",
    "\n",
    "# with segmentation on, the result is almost same\n",
    "clf = RandomForestClassifier(n_estimators = 50, max_depth=1, random_state=0)\n",
    "sub_cv(clf, True)\n",
    "\n",
    "clf = SVC(gamma='auto')\n",
    "sub_cv(clf)"
   ]
  },
  {
   "cell_type": "code",
   "execution_count": 47,
   "metadata": {},
   "outputs": [],
   "source": [
    "dict_data = {'file_id': file_ids, 'macro': y_gen, 'micro': y_ml_gen}\n",
    "out_csv = pd.DataFrame(dict_data)"
   ]
  },
  {
   "cell_type": "code",
   "execution_count": 49,
   "metadata": {},
   "outputs": [],
   "source": [
    "out_csv.to_csv('cc_PseudoEmpirical_submission1.csv', index = False, header = False, sep = ';')"
   ]
  },
  {
   "cell_type": "code",
   "execution_count": null,
   "metadata": {},
   "outputs": [],
   "source": []
  }
 ],
 "metadata": {
  "kernelspec": {
   "display_name": "Python 3",
   "language": "python",
   "name": "python3"
  },
  "language_info": {
   "codemirror_mode": {
    "name": "ipython",
    "version": 3
   },
   "file_extension": ".py",
   "mimetype": "text/x-python",
   "name": "python",
   "nbconvert_exporter": "python",
   "pygments_lexer": "ipython3",
   "version": "3.7.4"
  }
 },
 "nbformat": 4,
 "nbformat_minor": 4
}
